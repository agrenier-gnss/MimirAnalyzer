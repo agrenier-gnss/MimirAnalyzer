{
 "cells": [
  {
   "cell_type": "code",
   "execution_count": 1,
   "metadata": {},
   "outputs": [],
   "source": [
    "import misc\n",
    "\n",
    "import os\n",
    "import sys\n",
    "module_path = os.path.abspath(os.path.join('..'))\n",
    "if module_path not in sys.path:\n",
    "    sys.path.append(module_path)\n",
    "from logparser import LogReader, PosReader"
   ]
  },
  {
   "cell_type": "markdown",
   "metadata": {},
   "source": [
    "# Prepare the data"
   ]
  },
  {
   "cell_type": "code",
   "execution_count": null,
   "metadata": {},
   "outputs": [],
   "source": [
    "# Load log files\n",
    "logs = []\n",
    "\n",
    "logs.append(misc.getLogDictionnary(\n",
    "    \"Google Pixel 7\",\n",
    "    \"../.data/static/gnss_log_GooglePixel7_2023_02_17_09_55_01.txt\"\n",
    "))\n",
    "\n",
    "logs.append(misc.getLogDictionnary(\n",
    "    \"OnePlus Nord 2\",\n",
    "    \"../.data/static/gnss_log_OnePlusNord2_2023_03_03_10_55_04.txt\"\n",
    "))\n",
    "\n",
    "logs.append(misc.getLogDictionnary(\n",
    "    \"Samsung A52\",\n",
    "    \"../.data/static/gnss_log_SamsungA52_2023_03_17_14_12_30.txt\"\n",
    "))\n",
    "\n",
    "logs.append(misc.getLogDictionnary(\n",
    "    \"Xiaomi 11T\",\n",
    "    \"../.data/static/gnss_log_Xiaomi11T_2023_03_03_09_56_06.txt\"\n",
    "))\n",
    "\n",
    "# Parse log - This might take a while...\n",
    "for log in logs:\n",
    "    log['content'] = LogReader(log['filepath'], ['Raw', 'Fix'])"
   ]
  },
  {
   "cell_type": "code",
   "execution_count": null,
   "metadata": {},
   "outputs": [],
   "source": [
    "# Set reference position\n",
    "filepath = \"../example_data/NMND17420010S_2023-08-01_08-24-35.pos\"\n",
    "ref = PosReader(filepath)"
   ]
  },
  {
   "cell_type": "code",
   "execution_count": null,
   "metadata": {},
   "outputs": [],
   "source": [
    "# Compute ENU errors\n",
    "ref_enu = [61.449219, 23.856267, 166.0]\n",
    "for log in logs:\n",
    "    log['content'].fix[[\"east\", \"north\", \"up\"]] = log['content'].fix.apply(\n",
    "        lambda row: misc.convert2ENU(row['latitude'], row['longitude'], row['altitude'], ref_enu), \n",
    "        axis='columns', result_type='expand')\n",
    "    \n",
    "    log['content'].fix[[\"2D_error\"]] = log['content'].fix.apply(\n",
    "        lambda row: misc.getHorizontalError(row['east'], row['north']), \n",
    "        axis='columns', result_type='expand')\n",
    "    \n",
    "    log['content'].fix[[\"3D_error\"]] = log['content'].fix.apply(\n",
    "        lambda row: misc.get3DError(row['east'], row['north'], row['up']), \n",
    "        axis='columns', result_type='expand')"
   ]
  },
  {
   "cell_type": "markdown",
   "metadata": {},
   "source": [
    "# Results"
   ]
  },
  {
   "cell_type": "code",
   "execution_count": null,
   "metadata": {},
   "outputs": [],
   "source": [
    "center = [61.449219, 23.856267]\n",
    "#extent = [center[1] - 0.02, center[1] + 0.005, center[0] - 0.005, center[0] + 0.005]\n",
    "extent = [center[1] - 0.001, center[1] + 0.006, center[0] - 0.001, center[0] + 0.002]\n",
    "\n",
    "plotMap(locations=locations, extent=extent, scale=17)"
   ]
  }
 ],
 "metadata": {
  "kernelspec": {
   "display_name": ".conda",
   "language": "python",
   "name": "python3"
  },
  "language_info": {
   "codemirror_mode": {
    "name": "ipython",
    "version": 3
   },
   "file_extension": ".py",
   "mimetype": "text/x-python",
   "name": "python",
   "nbconvert_exporter": "python",
   "pygments_lexer": "ipython3",
   "version": "3.11.4"
  },
  "orig_nbformat": 4
 },
 "nbformat": 4,
 "nbformat_minor": 2
}
