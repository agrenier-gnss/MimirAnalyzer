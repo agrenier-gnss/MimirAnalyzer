{
 "cells": [
  {
   "cell_type": "markdown",
   "metadata": {},
   "source": [
    "# GNSS Review"
   ]
  },
  {
   "cell_type": "code",
   "execution_count": 1,
   "metadata": {},
   "outputs": [
    {
     "data": {
      "text/html": [
       "<style>\n",
       "        .bk-notebook-logo {\n",
       "            display: block;\n",
       "            width: 20px;\n",
       "            height: 20px;\n",
       "            background-image: url(data:image/png;base64,iVBORw0KGgoAAAANSUhEUgAAABQAAAAUCAYAAACNiR0NAAAABHNCSVQICAgIfAhkiAAAAAlwSFlzAAALEgAACxIB0t1+/AAAABx0RVh0U29mdHdhcmUAQWRvYmUgRmlyZXdvcmtzIENTNui8sowAAAOkSURBVDiNjZRtaJVlGMd/1/08zzln5zjP1LWcU9N0NkN8m2CYjpgQYQXqSs0I84OLIC0hkEKoPtiH3gmKoiJDU7QpLgoLjLIQCpEsNJ1vqUOdO7ppbuec5+V+rj4ctwzd8IIbbi6u+8f1539dt3A78eXC7QizUF7gyV1fD1Yqg4JWz84yffhm0qkFqBogB9rM8tZdtwVsPUhWhGcFJngGeWrPzHm5oaMmkfEg1usvLFyc8jLRqDOMru7AyC8saQr7GG7f5fvDeH7Ej8CM66nIF+8yngt6HWaKh7k49Soy9nXurCi1o3qUbS3zWfrYeQDTB/Qj6kX6Ybhw4B+bOYoLKCC9H3Nu/leUTZ1JdRWkkn2ldcCamzrcf47KKXdAJllSlxAOkRgyHsGC/zRday5Qld9DyoM4/q/rUoy/CXh3jzOu3bHUVZeU+DEn8FInkPBFlu3+nW3Nw0mk6vCDiWg8CeJaxEwuHS3+z5RgY+YBR6V1Z1nxSOfoaPa4LASWxxdNp+VWTk7+4vzaou8v8PN+xo+KY2xsw6une2frhw05CTYOmQvsEhjhWjn0bmXPjpE1+kplmmkP3suftwTubK9Vq22qKmrBhpY4jvd5afdRA3wGjFAgcnTK2s4hY0/GPNIb0nErGMCRxWOOX64Z8RAC4oCXdklmEvcL8o0BfkNK4lUg9HTl+oPlQxdNo3Mg4Nv175e/1LDGzZen30MEjRUtmXSfiTVu1kK8W4txyV6BMKlbgk3lMwYCiusNy9fVfvvwMxv8Ynl6vxoByANLTWplvuj/nF9m2+PDtt1eiHPBr1oIfhCChQMBw6Aw0UulqTKZdfVvfG7VcfIqLG9bcldL/+pdWTLxLUy8Qq38heUIjh4XlzZxzQm19lLFlr8vdQ97rjZVOLf8nclzckbcD4wxXMidpX30sFd37Fv/GtwwhzhxGVAprjbg0gCAEeIgwCZyTV2Z1REEW8O4py0wsjeloKoMr6iCY6dP92H6Vw/oTyICIthibxjm/DfN9lVz8IqtqKYLUXfoKVMVQVVJOElGjrnnUt9T9wbgp8AyYKaGlqingHZU/uG2NTZSVqwHQTWkx9hxjkpWDaCg6Ckj5qebgBVbT3V3NNXMSiWSDdGV3hrtzla7J+duwPOToIg42ChPQOQjspnSlp1V+Gjdged7+8UN5CRAV7a5EdFNwCjEaBR27b3W890TE7g24NAP/mMDXRWrGoFPQI9ls/MWO2dWFAar/xcOIImbbpA3zgAAAABJRU5ErkJggg==);\n",
       "        }\n",
       "    </style>\n",
       "    <div>\n",
       "        <a href=\"https://bokeh.org\" target=\"_blank\" class=\"bk-notebook-logo\"></a>\n",
       "        <span id=\"e3ab412d-a0d6-4832-b20b-3efb7a08e921\">Loading BokehJS ...</span>\n",
       "    </div>\n"
      ]
     },
     "metadata": {},
     "output_type": "display_data"
    },
    {
     "data": {
      "application/javascript": "(function(root) {\n  function now() {\n    return new Date();\n  }\n\n  const force = true;\n\n  if (typeof root._bokeh_onload_callbacks === \"undefined\" || force === true) {\n    root._bokeh_onload_callbacks = [];\n    root._bokeh_is_loading = undefined;\n  }\n\nconst JS_MIME_TYPE = 'application/javascript';\n  const HTML_MIME_TYPE = 'text/html';\n  const EXEC_MIME_TYPE = 'application/vnd.bokehjs_exec.v0+json';\n  const CLASS_NAME = 'output_bokeh rendered_html';\n\n  /**\n   * Render data to the DOM node\n   */\n  function render(props, node) {\n    const script = document.createElement(\"script\");\n    node.appendChild(script);\n  }\n\n  /**\n   * Handle when an output is cleared or removed\n   */\n  function handleClearOutput(event, handle) {\n    const cell = handle.cell;\n\n    const id = cell.output_area._bokeh_element_id;\n    const server_id = cell.output_area._bokeh_server_id;\n    // Clean up Bokeh references\n    if (id != null && id in Bokeh.index) {\n      Bokeh.index[id].model.document.clear();\n      delete Bokeh.index[id];\n    }\n\n    if (server_id !== undefined) {\n      // Clean up Bokeh references\n      const cmd_clean = \"from bokeh.io.state import curstate; print(curstate().uuid_to_server['\" + server_id + \"'].get_sessions()[0].document.roots[0]._id)\";\n      cell.notebook.kernel.execute(cmd_clean, {\n        iopub: {\n          output: function(msg) {\n            const id = msg.content.text.trim();\n            if (id in Bokeh.index) {\n              Bokeh.index[id].model.document.clear();\n              delete Bokeh.index[id];\n            }\n          }\n        }\n      });\n      // Destroy server and session\n      const cmd_destroy = \"import bokeh.io.notebook as ion; ion.destroy_server('\" + server_id + \"')\";\n      cell.notebook.kernel.execute(cmd_destroy);\n    }\n  }\n\n  /**\n   * Handle when a new output is added\n   */\n  function handleAddOutput(event, handle) {\n    const output_area = handle.output_area;\n    const output = handle.output;\n\n    // limit handleAddOutput to display_data with EXEC_MIME_TYPE content only\n    if ((output.output_type != \"display_data\") || (!Object.prototype.hasOwnProperty.call(output.data, EXEC_MIME_TYPE))) {\n      return\n    }\n\n    const toinsert = output_area.element.find(\".\" + CLASS_NAME.split(' ')[0]);\n\n    if (output.metadata[EXEC_MIME_TYPE][\"id\"] !== undefined) {\n      toinsert[toinsert.length - 1].firstChild.textContent = output.data[JS_MIME_TYPE];\n      // store reference to embed id on output_area\n      output_area._bokeh_element_id = output.metadata[EXEC_MIME_TYPE][\"id\"];\n    }\n    if (output.metadata[EXEC_MIME_TYPE][\"server_id\"] !== undefined) {\n      const bk_div = document.createElement(\"div\");\n      bk_div.innerHTML = output.data[HTML_MIME_TYPE];\n      const script_attrs = bk_div.children[0].attributes;\n      for (let i = 0; i < script_attrs.length; i++) {\n        toinsert[toinsert.length - 1].firstChild.setAttribute(script_attrs[i].name, script_attrs[i].value);\n        toinsert[toinsert.length - 1].firstChild.textContent = bk_div.children[0].textContent\n      }\n      // store reference to server id on output_area\n      output_area._bokeh_server_id = output.metadata[EXEC_MIME_TYPE][\"server_id\"];\n    }\n  }\n\n  function register_renderer(events, OutputArea) {\n\n    function append_mime(data, metadata, element) {\n      // create a DOM node to render to\n      const toinsert = this.create_output_subarea(\n        metadata,\n        CLASS_NAME,\n        EXEC_MIME_TYPE\n      );\n      this.keyboard_manager.register_events(toinsert);\n      // Render to node\n      const props = {data: data, metadata: metadata[EXEC_MIME_TYPE]};\n      render(props, toinsert[toinsert.length - 1]);\n      element.append(toinsert);\n      return toinsert\n    }\n\n    /* Handle when an output is cleared or removed */\n    events.on('clear_output.CodeCell', handleClearOutput);\n    events.on('delete.Cell', handleClearOutput);\n\n    /* Handle when a new output is added */\n    events.on('output_added.OutputArea', handleAddOutput);\n\n    /**\n     * Register the mime type and append_mime function with output_area\n     */\n    OutputArea.prototype.register_mime_type(EXEC_MIME_TYPE, append_mime, {\n      /* Is output safe? */\n      safe: true,\n      /* Index of renderer in `output_area.display_order` */\n      index: 0\n    });\n  }\n\n  // register the mime type if in Jupyter Notebook environment and previously unregistered\n  if (root.Jupyter !== undefined) {\n    const events = require('base/js/events');\n    const OutputArea = require('notebook/js/outputarea').OutputArea;\n\n    if (OutputArea.prototype.mime_types().indexOf(EXEC_MIME_TYPE) == -1) {\n      register_renderer(events, OutputArea);\n    }\n  }\n  if (typeof (root._bokeh_timeout) === \"undefined\" || force === true) {\n    root._bokeh_timeout = Date.now() + 5000;\n    root._bokeh_failed_load = false;\n  }\n\n  const NB_LOAD_WARNING = {'data': {'text/html':\n     \"<div style='background-color: #fdd'>\\n\"+\n     \"<p>\\n\"+\n     \"BokehJS does not appear to have successfully loaded. If loading BokehJS from CDN, this \\n\"+\n     \"may be due to a slow or bad network connection. Possible fixes:\\n\"+\n     \"</p>\\n\"+\n     \"<ul>\\n\"+\n     \"<li>re-rerun `output_notebook()` to attempt to load from CDN again, or</li>\\n\"+\n     \"<li>use INLINE resources instead, as so:</li>\\n\"+\n     \"</ul>\\n\"+\n     \"<code>\\n\"+\n     \"from bokeh.resources import INLINE\\n\"+\n     \"output_notebook(resources=INLINE)\\n\"+\n     \"</code>\\n\"+\n     \"</div>\"}};\n\n  function display_loaded() {\n    const el = document.getElementById(\"e3ab412d-a0d6-4832-b20b-3efb7a08e921\");\n    if (el != null) {\n      el.textContent = \"BokehJS is loading...\";\n    }\n    if (root.Bokeh !== undefined) {\n      if (el != null) {\n        el.textContent = \"BokehJS \" + root.Bokeh.version + \" successfully loaded.\";\n      }\n    } else if (Date.now() < root._bokeh_timeout) {\n      setTimeout(display_loaded, 100)\n    }\n  }\n\n  function run_callbacks() {\n    try {\n      root._bokeh_onload_callbacks.forEach(function(callback) {\n        if (callback != null)\n          callback();\n      });\n    } finally {\n      delete root._bokeh_onload_callbacks\n    }\n    console.debug(\"Bokeh: all callbacks have finished\");\n  }\n\n  function load_libs(css_urls, js_urls, callback) {\n    if (css_urls == null) css_urls = [];\n    if (js_urls == null) js_urls = [];\n\n    root._bokeh_onload_callbacks.push(callback);\n    if (root._bokeh_is_loading > 0) {\n      console.debug(\"Bokeh: BokehJS is being loaded, scheduling callback at\", now());\n      return null;\n    }\n    if (js_urls == null || js_urls.length === 0) {\n      run_callbacks();\n      return null;\n    }\n    console.debug(\"Bokeh: BokehJS not loaded, scheduling load and callback at\", now());\n    root._bokeh_is_loading = css_urls.length + js_urls.length;\n\n    function on_load() {\n      root._bokeh_is_loading--;\n      if (root._bokeh_is_loading === 0) {\n        console.debug(\"Bokeh: all BokehJS libraries/stylesheets loaded\");\n        run_callbacks()\n      }\n    }\n\n    function on_error(url) {\n      console.error(\"failed to load \" + url);\n    }\n\n    for (let i = 0; i < css_urls.length; i++) {\n      const url = css_urls[i];\n      const element = document.createElement(\"link\");\n      element.onload = on_load;\n      element.onerror = on_error.bind(null, url);\n      element.rel = \"stylesheet\";\n      element.type = \"text/css\";\n      element.href = url;\n      console.debug(\"Bokeh: injecting link tag for BokehJS stylesheet: \", url);\n      document.body.appendChild(element);\n    }\n\n    for (let i = 0; i < js_urls.length; i++) {\n      const url = js_urls[i];\n      const element = document.createElement('script');\n      element.onload = on_load;\n      element.onerror = on_error.bind(null, url);\n      element.async = false;\n      element.src = url;\n      console.debug(\"Bokeh: injecting script tag for BokehJS library: \", url);\n      document.head.appendChild(element);\n    }\n  };\n\n  function inject_raw_css(css) {\n    const element = document.createElement(\"style\");\n    element.appendChild(document.createTextNode(css));\n    document.body.appendChild(element);\n  }\n\n  const js_urls = [\"https://cdn.bokeh.org/bokeh/release/bokeh-3.1.1.min.js\", \"https://cdn.bokeh.org/bokeh/release/bokeh-gl-3.1.1.min.js\", \"https://cdn.bokeh.org/bokeh/release/bokeh-widgets-3.1.1.min.js\", \"https://cdn.bokeh.org/bokeh/release/bokeh-tables-3.1.1.min.js\", \"https://cdn.bokeh.org/bokeh/release/bokeh-mathjax-3.1.1.min.js\"];\n  const css_urls = [];\n\n  const inline_js = [    function(Bokeh) {\n      Bokeh.set_log_level(\"info\");\n    },\nfunction(Bokeh) {\n    }\n  ];\n\n  function run_inline_js() {\n    if (root.Bokeh !== undefined || force === true) {\n          for (let i = 0; i < inline_js.length; i++) {\n      inline_js[i].call(root, root.Bokeh);\n    }\nif (force === true) {\n        display_loaded();\n      }} else if (Date.now() < root._bokeh_timeout) {\n      setTimeout(run_inline_js, 100);\n    } else if (!root._bokeh_failed_load) {\n      console.log(\"Bokeh: BokehJS failed to load within specified timeout.\");\n      root._bokeh_failed_load = true;\n    } else if (force !== true) {\n      const cell = $(document.getElementById(\"e3ab412d-a0d6-4832-b20b-3efb7a08e921\")).parents('.cell').data().cell;\n      cell.output_area.append_execute_result(NB_LOAD_WARNING)\n    }\n  }\n\n  if (root._bokeh_is_loading === 0) {\n    console.debug(\"Bokeh: BokehJS loaded, going straight to plotting\");\n    run_inline_js();\n  } else {\n    load_libs(css_urls, js_urls, function() {\n      console.debug(\"Bokeh: BokehJS plotting callback run at\", now());\n      run_inline_js();\n    });\n  }\n}(window));",
      "application/vnd.bokehjs_load.v0+json": ""
     },
     "metadata": {},
     "output_type": "display_data"
    }
   ],
   "source": [
    "from logparser import LogReader\n",
    "from bokeh.layouts import column\n",
    "from bokeh.models import ColumnDataSource, RangeTool, BoxZoomTool\n",
    "from bokeh.plotting import figure, show, save\n",
    "from bokeh.io import output_notebook, export_png\n",
    "import pandas as pd\n",
    "import numpy as np\n",
    "import pymap3d as pm\n",
    "\n",
    "from bokehPlots import plotLineTimeRange, plotHist, plotEN_pyplot, plot_hist_pyplot\n",
    "\n",
    "output_notebook()"
   ]
  },
  {
   "cell_type": "code",
   "execution_count": 2,
   "metadata": {},
   "outputs": [],
   "source": [
    "#filepath = \"./.data/log_mimir_20230715122058.txt\"\n",
    "\n",
    "filepath = \"./.data/gnss_log_2023_04_14_15_23_32.txt\"\n",
    "time_range = ('2023-04-14 12:23:30','2023-04-14 12:30:00')\n",
    "\n",
    "deviceName = \"Google Pixel 7\"\n",
    "filepath = \"./.data/gnss_log_2023_03_03_10_29_45.txt\"\n",
    "time_range = ('2023-03-03 08:29:47.000','2023-03-03 08:33:00.000')\n",
    "\n",
    "deviceName = \"Xiaomi 11\"\n",
    "filepath = \"./.data/gnss_log_2023_03_03_09_56_06.txt\"\n",
    "time_range = ('2023-03-03 07:56:12.000','2023-03-03 08:41:11.000')\n",
    "\n",
    "log = LogReader(filepath, ['Raw', 'Fix'])\n",
    "\n",
    "#log.fix\n"
   ]
  },
  {
   "cell_type": "markdown",
   "metadata": {},
   "source": [
    "## Pseudorange Analysis"
   ]
  },
  {
   "cell_type": "code",
   "execution_count": 3,
   "metadata": {},
   "outputs": [
    {
     "data": {
      "text/html": [
       "\n",
       "  <div id=\"bd5f584d-390d-4575-8f43-25943fa5c40d\" data-root-id=\"p1004\" style=\"display: contents;\"></div>\n"
      ]
     },
     "metadata": {},
     "output_type": "display_data"
    },
    {
     "data": {
      "application/javascript": "(function(root) {\n  function embed_document(root) {\n  const docs_json = {\"d706661e-e96a-424e-84b3-ccb3c47cf03d\":{\"version\":\"3.1.1\",\"title\":\"Bokeh Application\",\"defs\":[],\"roots\":[{\"type\":\"object\",\"name\":\"Figure\",\"id\":\"p1004\",\"attributes\":{\"height\":300,\"x_range\":{\"type\":\"object\",\"name\":\"Range1d\",\"id\":\"p1013\",\"attributes\":{\"end\":100}},\"y_range\":{\"type\":\"object\",\"name\":\"Range1d\",\"id\":\"p1015\",\"attributes\":{\"end\":0.4}},\"x_scale\":{\"type\":\"object\",\"name\":\"LinearScale\",\"id\":\"p1017\"},\"y_scale\":{\"type\":\"object\",\"name\":\"LinearScale\",\"id\":\"p1019\"},\"extra_y_ranges\":{\"type\":\"map\",\"entries\":[[\"cumsum\",{\"type\":\"object\",\"name\":\"Range1d\",\"id\":\"p1063\",\"attributes\":{\"end\":1.1}}]]},\"title\":{\"type\":\"object\",\"name\":\"Title\",\"id\":\"p1010\"},\"renderers\":[{\"type\":\"object\",\"name\":\"GlyphRenderer\",\"id\":\"p1056\",\"attributes\":{\"data_source\":{\"type\":\"object\",\"name\":\"ColumnDataSource\",\"id\":\"p1050\",\"attributes\":{\"selected\":{\"type\":\"object\",\"name\":\"Selection\",\"id\":\"p1052\",\"attributes\":{\"indices\":[],\"line_indices\":[]}},\"selection_policy\":{\"type\":\"object\",\"name\":\"UnionRenderers\",\"id\":\"p1051\"},\"data\":{\"type\":\"map\",\"entries\":[[\"top\",{\"type\":\"ndarray\",\"array\":{\"type\":\"bytes\",\"data\":\"jJzf/bD+7z8AAAAAAAAAAAAAAAAAAAAAAAAAAAAAAAAAAAAAAAAAAAAAAAAAAAAAAAAAAAAAAAAAAAAAAAAAAAAAAAAAAAAAAAAAAAAAAAAAAAAAAAAAAAAAAAAAAAAAAAAAAAAAAAAAAAAAAAAAAAAAAAAAAAAAAAAAAAAAAAAAAAAAAAAAAAAAAAAAAAAAAAAAAAAAAAAAAAAAAAAAAAAAAAAAAAAAAAAAAAAAAAAAAAAAAAAAAAAAAAAAAAAAAAAAAAAAAAAAAAAAAAAAAAAAAAAAAAAAAAAAAAAAAAAAAAAAAAAAAAAAAAAAAAAAAAAAAAAAAAAAAAAAAAAAAAAAAAAAAAAAAAAAAAAAAAAAAAAAAAAAAAAAAAAAAAAAAAAAAAAAAAAAAAAAAAAAAAAAAAAAAAAAAAAAAAAAAAAAAAAAAAAAAAAAAAAAAAAAAAAAAAAAAAAAAAAAAAAAAAAAAAAAAAAAAAAAAAAAAAAAAAAAAAAAAAAAAAAAAAAA9Ek3BiLwJD8=\"},\"shape\":[49],\"dtype\":\"float64\",\"order\":\"little\"}],[\"left\",{\"type\":\"ndarray\",\"array\":{\"type\":\"bytes\",\"data\":\"AAAAAAAAAADWp0oSNebHQNanShI15tdA4P23zafs4UDWp0oSNebnQMxR3VbC3+1A4P23zafs8UDbUgFwbun0QNanShI15vdA0fyTtPvi+kDMUd1Wwt/9QGNTk3xEbgBB4P23zafsAUFeqNweC2sDQdtSAXBu6QRBWf0lwdFnBkHWp0oSNeYHQVNSb2OYZAlB0fyTtPviCkFOp7gFX2EMQcxR3VbC3w1BSfwBqCVeD0FjU5N8RG4QQaKoJSV2LRFB4P23zafsEUEfU0p22asSQV6o3B4LaxNBnf1uxzwqFEHbUgFwbukUQRqokxigqBVBWf0lwdFnFkGXUrhpAycXQdanShI15hdBFf3cumalGEFTUm9jmGQZQZKnAQzKIxpB0fyTtPviGkEPUiZdLaIbQU6nuAVfYRxBjfxKrpAgHUHMUd1Wwt8dQQqnb//znh5BSfwBqCVeH0HEKEqoqw4gQWNTk3xEbiBBAn7cUN3NIEGiqCUldi0hQUHTbvkOjSFB4P23zafsIUE=\"},\"shape\":[49],\"dtype\":\"float64\",\"order\":\"little\"}],[\"right\",{\"type\":\"ndarray\",\"array\":{\"type\":\"bytes\",\"data\":\"1qdKEjXmx0DWp0oSNebXQOD9t82n7OFA1qdKEjXm50DMUd1Wwt/tQOD9t82n7PFA21IBcG7p9EDWp0oSNeb3QNH8k7T74vpAzFHdVsLf/UBjU5N8RG4AQeD9t82n7AFBXqjcHgtrA0HbUgFwbukEQVn9JcHRZwZB1qdKEjXmB0FTUm9jmGQJQdH8k7T74gpBTqe4BV9hDEHMUd1Wwt8NQUn8AaglXg9BY1OTfERuEEGiqCUldi0RQeD9t82n7BFBH1NKdtmrEkFeqNweC2sTQZ39bsc8KhRB21IBcG7pFEEaqJMYoKgVQVn9JcHRZxZBl1K4aQMnF0HWp0oSNeYXQRX93LpmpRhBU1JvY5hkGUGSpwEMyiMaQdH8k7T74hpBD1ImXS2iG0FOp7gFX2EcQY38Sq6QIB1BzFHdVsLfHUEKp2//854eQUn8AaglXh9BxChKqKsOIEFjU5N8RG4gQQJ+3FDdzSBBoqglJXYtIUFB0275Do0hQeD9t82n7CFBgCgBokBMIkE=\"},\"shape\":[49],\"dtype\":\"float64\",\"order\":\"little\"}]]}}},\"view\":{\"type\":\"object\",\"name\":\"CDSView\",\"id\":\"p1057\",\"attributes\":{\"filter\":{\"type\":\"object\",\"name\":\"AllIndices\",\"id\":\"p1058\"}}},\"glyph\":{\"type\":\"object\",\"name\":\"Quad\",\"id\":\"p1053\",\"attributes\":{\"left\":{\"type\":\"field\",\"field\":\"left\"},\"right\":{\"type\":\"field\",\"field\":\"right\"},\"bottom\":{\"type\":\"value\",\"value\":0},\"top\":{\"type\":\"field\",\"field\":\"top\"},\"line_color\":{\"type\":\"value\",\"value\":\"white\"},\"fill_color\":{\"type\":\"value\",\"value\":\"skyblue\"}}},\"nonselection_glyph\":{\"type\":\"object\",\"name\":\"Quad\",\"id\":\"p1054\",\"attributes\":{\"left\":{\"type\":\"field\",\"field\":\"left\"},\"right\":{\"type\":\"field\",\"field\":\"right\"},\"bottom\":{\"type\":\"value\",\"value\":0},\"top\":{\"type\":\"field\",\"field\":\"top\"},\"line_color\":{\"type\":\"value\",\"value\":\"white\"},\"line_alpha\":{\"type\":\"value\",\"value\":0.1},\"fill_color\":{\"type\":\"value\",\"value\":\"skyblue\"},\"fill_alpha\":{\"type\":\"value\",\"value\":0.1},\"hatch_alpha\":{\"type\":\"value\",\"value\":0.1}}},\"muted_glyph\":{\"type\":\"object\",\"name\":\"Quad\",\"id\":\"p1055\",\"attributes\":{\"left\":{\"type\":\"field\",\"field\":\"left\"},\"right\":{\"type\":\"field\",\"field\":\"right\"},\"bottom\":{\"type\":\"value\",\"value\":0},\"top\":{\"type\":\"field\",\"field\":\"top\"},\"line_color\":{\"type\":\"value\",\"value\":\"white\"},\"line_alpha\":{\"type\":\"value\",\"value\":0.2},\"fill_color\":{\"type\":\"value\",\"value\":\"skyblue\"},\"fill_alpha\":{\"type\":\"value\",\"value\":0.2},\"hatch_alpha\":{\"type\":\"value\",\"value\":0.2}}}}},{\"type\":\"object\",\"name\":\"GlyphRenderer\",\"id\":\"p1070\",\"attributes\":{\"y_range_name\":\"cumsum\",\"data_source\":{\"type\":\"object\",\"name\":\"ColumnDataSource\",\"id\":\"p1064\",\"attributes\":{\"selected\":{\"type\":\"object\",\"name\":\"Selection\",\"id\":\"p1066\",\"attributes\":{\"indices\":[],\"line_indices\":[]}},\"selection_policy\":{\"type\":\"object\",\"name\":\"UnionRenderers\",\"id\":\"p1065\"},\"data\":{\"type\":\"map\",\"entries\":[[\"x\",{\"type\":\"ndarray\",\"array\":{\"type\":\"bytes\",\"data\":\"AAAAAAAAAADWp0oSNebHQNanShI15tdA4P23zafs4UDWp0oSNebnQMxR3VbC3+1A4P23zafs8UDbUgFwbun0QNanShI15vdA0fyTtPvi+kDMUd1Wwt/9QGNTk3xEbgBB4P23zafsAUFeqNweC2sDQdtSAXBu6QRBWf0lwdFnBkHWp0oSNeYHQVNSb2OYZAlB0fyTtPviCkFOp7gFX2EMQcxR3VbC3w1BSfwBqCVeD0FjU5N8RG4QQaKoJSV2LRFB4P23zafsEUEfU0p22asSQV6o3B4LaxNBnf1uxzwqFEHbUgFwbukUQRqokxigqBVBWf0lwdFnFkGXUrhpAycXQdanShI15hdBFf3cumalGEFTUm9jmGQZQZKnAQzKIxpB0fyTtPviGkEPUiZdLaIbQU6nuAVfYRxBjfxKrpAgHUHMUd1Wwt8dQQqnb//znh5BSfwBqCVeH0HEKEqoqw4gQWNTk3xEbiBBAn7cUN3NIEGiqCUldi0hQUHTbvkOjSFB4P23zafsIUE=\"},\"shape\":[49],\"dtype\":\"float64\",\"order\":\"little\"}],[\"y\",{\"type\":\"ndarray\",\"array\":{\"type\":\"bytes\",\"data\":\"jJzf/bD+7z+MnN/9sP7vP4yc3/2w/u8/jJzf/bD+7z+MnN/9sP7vP4yc3/2w/u8/jJzf/bD+7z+MnN/9sP7vP4yc3/2w/u8/jJzf/bD+7z+MnN/9sP7vP4yc3/2w/u8/jJzf/bD+7z+MnN/9sP7vP4yc3/2w/u8/jJzf/bD+7z+MnN/9sP7vP4yc3/2w/u8/jJzf/bD+7z+MnN/9sP7vP4yc3/2w/u8/jJzf/bD+7z+MnN/9sP7vP4yc3/2w/u8/jJzf/bD+7z+MnN/9sP7vP4yc3/2w/u8/jJzf/bD+7z+MnN/9sP7vP4yc3/2w/u8/jJzf/bD+7z+MnN/9sP7vP4yc3/2w/u8/jJzf/bD+7z+MnN/9sP7vP4yc3/2w/u8/jJzf/bD+7z+MnN/9sP7vP4yc3/2w/u8/jJzf/bD+7z+MnN/9sP7vP4yc3/2w/u8/jJzf/bD+7z+MnN/9sP7vP4yc3/2w/u8/jJzf/bD+7z+MnN/9sP7vP4yc3/2w/u8/AAAAAAAA8D8=\"},\"shape\":[49],\"dtype\":\"float64\",\"order\":\"little\"}]]}}},\"view\":{\"type\":\"object\",\"name\":\"CDSView\",\"id\":\"p1071\",\"attributes\":{\"filter\":{\"type\":\"object\",\"name\":\"AllIndices\",\"id\":\"p1072\"}}},\"glyph\":{\"type\":\"object\",\"name\":\"Line\",\"id\":\"p1067\",\"attributes\":{\"x\":{\"type\":\"field\",\"field\":\"x\"},\"y\":{\"type\":\"field\",\"field\":\"y\"},\"line_color\":\"navy\"}},\"nonselection_glyph\":{\"type\":\"object\",\"name\":\"Line\",\"id\":\"p1068\",\"attributes\":{\"x\":{\"type\":\"field\",\"field\":\"x\"},\"y\":{\"type\":\"field\",\"field\":\"y\"},\"line_color\":\"navy\",\"line_alpha\":0.1}},\"muted_glyph\":{\"type\":\"object\",\"name\":\"Line\",\"id\":\"p1069\",\"attributes\":{\"x\":{\"type\":\"field\",\"field\":\"x\"},\"y\":{\"type\":\"field\",\"field\":\"y\"},\"line_color\":\"navy\",\"line_alpha\":0.2}}}}],\"toolbar\":{\"type\":\"object\",\"name\":\"Toolbar\",\"id\":\"p1011\",\"attributes\":{\"tools\":[{\"type\":\"object\",\"name\":\"PanTool\",\"id\":\"p1035\"},{\"type\":\"object\",\"name\":\"WheelZoomTool\",\"id\":\"p1036\"},{\"type\":\"object\",\"name\":\"BoxZoomTool\",\"id\":\"p1037\",\"attributes\":{\"overlay\":{\"type\":\"object\",\"name\":\"BoxAnnotation\",\"id\":\"p1038\",\"attributes\":{\"syncable\":false,\"level\":\"overlay\",\"visible\":false,\"left_units\":\"canvas\",\"right_units\":\"canvas\",\"bottom_units\":\"canvas\",\"top_units\":\"canvas\",\"line_color\":\"black\",\"line_alpha\":1.0,\"line_width\":2,\"line_dash\":[4,4],\"fill_color\":\"lightgrey\",\"fill_alpha\":0.5}}}},{\"type\":\"object\",\"name\":\"SaveTool\",\"id\":\"p1039\"},{\"type\":\"object\",\"name\":\"ResetTool\",\"id\":\"p1040\"},{\"type\":\"object\",\"name\":\"HelpTool\",\"id\":\"p1041\"}]}},\"left\":[{\"type\":\"object\",\"name\":\"LinearAxis\",\"id\":\"p1028\",\"attributes\":{\"ticker\":{\"type\":\"object\",\"name\":\"BasicTicker\",\"id\":\"p1030\",\"attributes\":{\"mantissas\":[1,2,5]}},\"formatter\":{\"type\":\"object\",\"name\":\"BasicTickFormatter\",\"id\":\"p1029\"},\"axis_label\":\"PseudorangeAcceleration\",\"major_label_policy\":{\"type\":\"object\",\"name\":\"AllLabels\",\"id\":\"p1031\"}}}],\"right\":[{\"type\":\"object\",\"name\":\"LinearAxis\",\"id\":\"p1073\",\"attributes\":{\"y_range_name\":\"cumsum\",\"ticker\":{\"type\":\"object\",\"name\":\"BasicTicker\",\"id\":\"p1075\",\"attributes\":{\"mantissas\":[1,2,5]}},\"formatter\":{\"type\":\"object\",\"name\":\"BasicTickFormatter\",\"id\":\"p1074\"},\"axis_label\":\"Cumulative probability\",\"major_label_policy\":{\"type\":\"object\",\"name\":\"AllLabels\",\"id\":\"p1076\"}}}],\"below\":[{\"type\":\"object\",\"name\":\"LinearAxis\",\"id\":\"p1021\",\"attributes\":{\"ticker\":{\"type\":\"object\",\"name\":\"BasicTicker\",\"id\":\"p1023\",\"attributes\":{\"mantissas\":[1,2,5]}},\"formatter\":{\"type\":\"object\",\"name\":\"BasicTickFormatter\",\"id\":\"p1022\"},\"major_label_policy\":{\"type\":\"object\",\"name\":\"AllLabels\",\"id\":\"p1024\"}}}],\"center\":[{\"type\":\"object\",\"name\":\"Grid\",\"id\":\"p1027\",\"attributes\":{\"axis\":{\"id\":\"p1021\"}}},{\"type\":\"object\",\"name\":\"Grid\",\"id\":\"p1034\",\"attributes\":{\"dimension\":1,\"axis\":{\"id\":\"p1028\"}}},{\"type\":\"object\",\"name\":\"Span\",\"id\":\"p1059\",\"attributes\":{\"location\":2.0985472053289413,\"dimension\":\"height\",\"line_color\":\"red\"}},{\"type\":\"object\",\"name\":\"Label\",\"id\":\"p1060\",\"attributes\":{\"text\":\"95% - 2.099m\",\"text_color\":\"red\",\"text_font_size\":\"8pt\",\"text_font_style\":\"italic\",\"x\":2.0985472053289413,\"y\":200,\"y_units\":\"screen\"}},{\"type\":\"object\",\"name\":\"Span\",\"id\":\"p1061\",\"attributes\":{\"location\":6.242857589570852,\"dimension\":\"height\",\"line_color\":\"red\"}},{\"type\":\"object\",\"name\":\"Label\",\"id\":\"p1062\",\"attributes\":{\"text\":\"99% - 6.243m\",\"text_color\":\"red\",\"text_font_size\":\"8pt\",\"text_font_style\":\"italic\",\"x\":6.242857589570852,\"y\":250,\"y_units\":\"screen\"}}],\"background_fill_color\":\"#efefef\"}}],\"callbacks\":{\"type\":\"map\"}}};\n  const render_items = [{\"docid\":\"d706661e-e96a-424e-84b3-ccb3c47cf03d\",\"roots\":{\"p1004\":\"bd5f584d-390d-4575-8f43-25943fa5c40d\"},\"root_ids\":[\"p1004\"]}];\n  root.Bokeh.embed.embed_items_notebook(docs_json, render_items);\n  }\n  if (root.Bokeh !== undefined) {\n    embed_document(root);\n  } else {\n    let attempts = 0;\n    const timer = setInterval(function(root) {\n      if (root.Bokeh !== undefined) {\n        clearInterval(timer);\n        embed_document(root);\n      } else {\n        attempts++;\n        if (attempts > 100) {\n          clearInterval(timer);\n          console.log(\"Bokeh: ERROR: Unable to run BokehJS code because BokehJS library is missing\");\n        }\n      }\n    }, 10, root)\n  }\n})(window);",
      "application/vnd.bokehjs_exec.v0+json": ""
     },
     "metadata": {
      "application/vnd.bokehjs_exec.v0+json": {
       "id": "p1004"
      }
     },
     "output_type": "display_data"
    }
   ],
   "source": [
    "# Turn to time serie\n",
    "ts = log.raw.set_index('datetime')\n",
    "\n",
    "data_name = 'PseudorangeAcceleration'\n",
    "\n",
    "sats = list(set(ts[\"prn\"]))\n",
    "sats.sort()\n",
    "sats = [item for item in sats if item.startswith('E')]\n",
    "# sats = ['G02-L1']\n",
    "\n",
    "_ts = ts.loc[ts['prn'].isin(sats), [data_name, 'prn']]\n",
    "\n",
    "# Filter\n",
    "# _ts[data_name] = _ts[data_name].abs()\n",
    "# q = _ts[data_name].quantile(0.99)\n",
    "# _ts = _ts[ts[data_name] < q] \n",
    "\n",
    "p = plotHist(_ts, 'PseudorangeAcceleration')\n",
    "\n",
    "show(p)\n",
    "\n",
    "#save(p, filename=\"pseudo_error_Galileo.html\")\n",
    "\n",
    "#export_png(p, filename=\"pseudo_error_Galileo.png\")\n"
   ]
  },
  {
   "cell_type": "markdown",
   "metadata": {},
   "source": [
    "# Position analysis"
   ]
  },
  {
   "cell_type": "code",
   "execution_count": 4,
   "metadata": {},
   "outputs": [],
   "source": [
    "def convert2ENU(lat, lon, alt, ref):\n",
    "    east, north, up = pm.geodetic2enu(lat, lon, alt, ref[0], ref[1], ref[2])\n",
    "    return {\"east\":east, \"north\":north, \"up\":up}\n",
    "\n",
    "def getHorizontalError(north, east):\n",
    "    error = np.sqrt(north**2 + east**2)\n",
    "    return {\"2D_error\":error}"
   ]
  },
  {
   "cell_type": "code",
   "execution_count": 12,
   "metadata": {},
   "outputs": [
    {
     "data": {
      "text/html": [
       "<div>\n",
       "<style scoped>\n",
       "    .dataframe tbody tr th:only-of-type {\n",
       "        vertical-align: middle;\n",
       "    }\n",
       "\n",
       "    .dataframe tbody tr th {\n",
       "        vertical-align: top;\n",
       "    }\n",
       "\n",
       "    .dataframe thead th {\n",
       "        text-align: right;\n",
       "    }\n",
       "</style>\n",
       "<table border=\"1\" class=\"dataframe\">\n",
       "  <thead>\n",
       "    <tr style=\"text-align: right;\">\n",
       "      <th></th>\n",
       "      <th>latitude</th>\n",
       "      <th>longitude</th>\n",
       "      <th>altitude</th>\n",
       "      <th>east</th>\n",
       "      <th>north</th>\n",
       "      <th>up</th>\n",
       "    </tr>\n",
       "    <tr>\n",
       "      <th>datetime</th>\n",
       "      <th></th>\n",
       "      <th></th>\n",
       "      <th></th>\n",
       "      <th></th>\n",
       "      <th></th>\n",
       "      <th></th>\n",
       "    </tr>\n",
       "  </thead>\n",
       "  <tbody>\n",
       "    <tr>\n",
       "      <th>2023-03-03 07:56:12</th>\n",
       "      <td>61.449192</td>\n",
       "      <td>23.856315</td>\n",
       "      <td>160.3</td>\n",
       "      <td>-0.007247</td>\n",
       "      <td>1.478025</td>\n",
       "      <td>1.392140</td>\n",
       "    </tr>\n",
       "    <tr>\n",
       "      <th>2023-03-03 07:56:14</th>\n",
       "      <td>61.449192</td>\n",
       "      <td>23.856315</td>\n",
       "      <td>160.3</td>\n",
       "      <td>-0.007247</td>\n",
       "      <td>1.478025</td>\n",
       "      <td>1.392140</td>\n",
       "    </tr>\n",
       "    <tr>\n",
       "      <th>2023-03-03 07:56:17</th>\n",
       "      <td>61.449193</td>\n",
       "      <td>23.856328</td>\n",
       "      <td>160.2</td>\n",
       "      <td>0.703992</td>\n",
       "      <td>1.663750</td>\n",
       "      <td>1.292139</td>\n",
       "    </tr>\n",
       "    <tr>\n",
       "      <th>2023-03-03 07:56:18</th>\n",
       "      <td>61.449193</td>\n",
       "      <td>23.856328</td>\n",
       "      <td>160.2</td>\n",
       "      <td>0.703992</td>\n",
       "      <td>1.663750</td>\n",
       "      <td>1.292139</td>\n",
       "    </tr>\n",
       "    <tr>\n",
       "      <th>2023-03-03 07:56:24</th>\n",
       "      <td>61.449185</td>\n",
       "      <td>23.856335</td>\n",
       "      <td>159.6</td>\n",
       "      <td>1.059615</td>\n",
       "      <td>0.735093</td>\n",
       "      <td>0.692140</td>\n",
       "    </tr>\n",
       "    <tr>\n",
       "      <th>...</th>\n",
       "      <td>...</td>\n",
       "      <td>...</td>\n",
       "      <td>...</td>\n",
       "      <td>...</td>\n",
       "      <td>...</td>\n",
       "      <td>...</td>\n",
       "    </tr>\n",
       "    <tr>\n",
       "      <th>2023-03-03 08:41:03</th>\n",
       "      <td>61.449178</td>\n",
       "      <td>23.856315</td>\n",
       "      <td>158.9</td>\n",
       "      <td>-0.007247</td>\n",
       "      <td>-0.007840</td>\n",
       "      <td>-0.007860</td>\n",
       "    </tr>\n",
       "    <tr>\n",
       "      <th>2023-03-03 08:41:07</th>\n",
       "      <td>61.449178</td>\n",
       "      <td>23.856315</td>\n",
       "      <td>158.9</td>\n",
       "      <td>-0.007247</td>\n",
       "      <td>-0.007840</td>\n",
       "      <td>-0.007860</td>\n",
       "    </tr>\n",
       "    <tr>\n",
       "      <th>2023-03-03 08:41:08</th>\n",
       "      <td>61.449178</td>\n",
       "      <td>23.856315</td>\n",
       "      <td>158.9</td>\n",
       "      <td>-0.007247</td>\n",
       "      <td>-0.007840</td>\n",
       "      <td>-0.007860</td>\n",
       "    </tr>\n",
       "    <tr>\n",
       "      <th>2023-03-03 08:41:10</th>\n",
       "      <td>61.449178</td>\n",
       "      <td>23.856315</td>\n",
       "      <td>158.9</td>\n",
       "      <td>-0.007247</td>\n",
       "      <td>-0.007840</td>\n",
       "      <td>-0.007860</td>\n",
       "    </tr>\n",
       "    <tr>\n",
       "      <th>2023-03-03 08:41:11</th>\n",
       "      <td>61.449178</td>\n",
       "      <td>23.856315</td>\n",
       "      <td>158.9</td>\n",
       "      <td>-0.007247</td>\n",
       "      <td>-0.007840</td>\n",
       "      <td>-0.007860</td>\n",
       "    </tr>\n",
       "  </tbody>\n",
       "</table>\n",
       "<p>1374 rows × 6 columns</p>\n",
       "</div>"
      ],
      "text/plain": [
       "                      latitude  longitude  altitude      east     north  \\\n",
       "datetime                                                                  \n",
       "2023-03-03 07:56:12  61.449192  23.856315     160.3 -0.007247  1.478025   \n",
       "2023-03-03 07:56:14  61.449192  23.856315     160.3 -0.007247  1.478025   \n",
       "2023-03-03 07:56:17  61.449193  23.856328     160.2  0.703992  1.663750   \n",
       "2023-03-03 07:56:18  61.449193  23.856328     160.2  0.703992  1.663750   \n",
       "2023-03-03 07:56:24  61.449185  23.856335     159.6  1.059615  0.735093   \n",
       "...                        ...        ...       ...       ...       ...   \n",
       "2023-03-03 08:41:03  61.449178  23.856315     158.9 -0.007247 -0.007840   \n",
       "2023-03-03 08:41:07  61.449178  23.856315     158.9 -0.007247 -0.007840   \n",
       "2023-03-03 08:41:08  61.449178  23.856315     158.9 -0.007247 -0.007840   \n",
       "2023-03-03 08:41:10  61.449178  23.856315     158.9 -0.007247 -0.007840   \n",
       "2023-03-03 08:41:11  61.449178  23.856315     158.9 -0.007247 -0.007840   \n",
       "\n",
       "                           up  \n",
       "datetime                       \n",
       "2023-03-03 07:56:12  1.392140  \n",
       "2023-03-03 07:56:14  1.392140  \n",
       "2023-03-03 07:56:17  1.292139  \n",
       "2023-03-03 07:56:18  1.292139  \n",
       "2023-03-03 07:56:24  0.692140  \n",
       "...                       ...  \n",
       "2023-03-03 08:41:03 -0.007860  \n",
       "2023-03-03 08:41:07 -0.007860  \n",
       "2023-03-03 08:41:08 -0.007860  \n",
       "2023-03-03 08:41:10 -0.007860  \n",
       "2023-03-03 08:41:11 -0.007860  \n",
       "\n",
       "[1374 rows x 6 columns]"
      ]
     },
     "execution_count": 12,
     "metadata": {},
     "output_type": "execute_result"
    }
   ],
   "source": [
    "\n",
    "pos = log.fix.loc[log.fix['provider'].isin(['GPS']), ['datetime', 'latitude', 'longitude', 'altitude']]\n",
    "pos = pos.set_index('datetime')\n",
    "\n",
    "pos = pos.loc[time_range[0]:time_range[1]]\n",
    "\n",
    "ref_enu = [pos['latitude'].mean(), pos['longitude'].mean(), pos['altitude'].mean()]\n",
    "\n",
    "pos[[\"east\", \"north\", \"up\"]] = pos.apply(\n",
    "    lambda row: convert2ENU(row['latitude'], row['longitude'], row['altitude'], ref_enu), \n",
    "    axis='columns', result_type='expand')\n",
    "\n",
    "#plotEN_pyplot(pos, 0.5)\n",
    "\n",
    "pos "
   ]
  },
  {
   "cell_type": "code",
   "execution_count": 6,
   "metadata": {},
   "outputs": [
    {
     "data": {
      "image/png": "[encoded data removed]",
      "text/plain": [
       "<Figure size 800x400 with 2 Axes>"
      ]
     },
     "metadata": {},
     "output_type": "display_data"
    }
   ],
   "source": [
    "#plot_hist_pyplot(pos, 'east', lim=np.max(np.abs(ts[data_name])))\n",
    "\n",
    "pos[[\"2D_error\"]] = pos.apply(\n",
    "    lambda row: getHorizontalError(row['north'], row['east']), \n",
    "    axis='columns', result_type='expand')\n",
    "\n",
    "plot_hist_pyplot(pos, '2D_error', lim=2, title=f'Horizontal error histogram for {deviceName}')"
   ]
  }
 ],
 "metadata": {
  "kernelspec": {
   "display_name": ".conda",
   "language": "python",
   "name": "python3"
  },
  "language_info": {
   "codemirror_mode": {
    "name": "ipython",
    "version": 3
   },
   "file_extension": ".py",
   "mimetype": "text/x-python",
   "name": "python",
   "nbconvert_exporter": "python",
   "pygments_lexer": "ipython3",
   "version": "3.11.4"
  },
  "orig_nbformat": 4
 },
 "nbformat": 4,
 "nbformat_minor": 2
}
