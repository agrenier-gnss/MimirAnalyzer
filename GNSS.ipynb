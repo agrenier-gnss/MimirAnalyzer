{
 "cells": [
  {
   "cell_type": "markdown",
   "metadata": {},
   "source": [
    "# GNSS Review"
   ]
  },
  {
   "cell_type": "code",
   "execution_count": 1,
   "metadata": {},
   "outputs": [
    {
     "data": {
      "text/html": [
       "<style>\n",
       "        .bk-notebook-logo {\n",
       "            display: block;\n",
       "            width: 20px;\n",
       "            height: 20px;\n",
       "            background-image: url(data:image/png;base64,iVBORw0KGgoAAAANSUhEUgAAABQAAAAUCAYAAACNiR0NAAAABHNCSVQICAgIfAhkiAAAAAlwSFlzAAALEgAACxIB0t1+/AAAABx0RVh0U29mdHdhcmUAQWRvYmUgRmlyZXdvcmtzIENTNui8sowAAAOkSURBVDiNjZRtaJVlGMd/1/08zzln5zjP1LWcU9N0NkN8m2CYjpgQYQXqSs0I84OLIC0hkEKoPtiH3gmKoiJDU7QpLgoLjLIQCpEsNJ1vqUOdO7ppbuec5+V+rj4ctwzd8IIbbi6u+8f1539dt3A78eXC7QizUF7gyV1fD1Yqg4JWz84yffhm0qkFqBogB9rM8tZdtwVsPUhWhGcFJngGeWrPzHm5oaMmkfEg1usvLFyc8jLRqDOMru7AyC8saQr7GG7f5fvDeH7Ej8CM66nIF+8yngt6HWaKh7k49Soy9nXurCi1o3qUbS3zWfrYeQDTB/Qj6kX6Ybhw4B+bOYoLKCC9H3Nu/leUTZ1JdRWkkn2ldcCamzrcf47KKXdAJllSlxAOkRgyHsGC/zRday5Qld9DyoM4/q/rUoy/CXh3jzOu3bHUVZeU+DEn8FInkPBFlu3+nW3Nw0mk6vCDiWg8CeJaxEwuHS3+z5RgY+YBR6V1Z1nxSOfoaPa4LASWxxdNp+VWTk7+4vzaou8v8PN+xo+KY2xsw6une2frhw05CTYOmQvsEhjhWjn0bmXPjpE1+kplmmkP3suftwTubK9Vq22qKmrBhpY4jvd5afdRA3wGjFAgcnTK2s4hY0/GPNIb0nErGMCRxWOOX64Z8RAC4oCXdklmEvcL8o0BfkNK4lUg9HTl+oPlQxdNo3Mg4Nv175e/1LDGzZen30MEjRUtmXSfiTVu1kK8W4txyV6BMKlbgk3lMwYCiusNy9fVfvvwMxv8Ynl6vxoByANLTWplvuj/nF9m2+PDtt1eiHPBr1oIfhCChQMBw6Aw0UulqTKZdfVvfG7VcfIqLG9bcldL/+pdWTLxLUy8Qq38heUIjh4XlzZxzQm19lLFlr8vdQ97rjZVOLf8nclzckbcD4wxXMidpX30sFd37Fv/GtwwhzhxGVAprjbg0gCAEeIgwCZyTV2Z1REEW8O4py0wsjeloKoMr6iCY6dP92H6Vw/oTyICIthibxjm/DfN9lVz8IqtqKYLUXfoKVMVQVVJOElGjrnnUt9T9wbgp8AyYKaGlqingHZU/uG2NTZSVqwHQTWkx9hxjkpWDaCg6Ckj5qebgBVbT3V3NNXMSiWSDdGV3hrtzla7J+duwPOToIg42ChPQOQjspnSlp1V+Gjdged7+8UN5CRAV7a5EdFNwCjEaBR27b3W890TE7g24NAP/mMDXRWrGoFPQI9ls/MWO2dWFAar/xcOIImbbpA3zgAAAABJRU5ErkJggg==);\n",
       "        }\n",
       "    </style>\n",
       "    <div>\n",
       "        <a href=\"https://bokeh.org\" target=\"_blank\" class=\"bk-notebook-logo\"></a>\n",
       "        <span id=\"be4870c9-cc6a-4af7-a37e-d9d954c0c4b6\">Loading BokehJS ...</span>\n",
       "    </div>\n"
      ]
     },
     "metadata": {},
     "output_type": "display_data"
    },
    {
     "data": {
      "application/javascript": "(function(root) {\n  function now() {\n    return new Date();\n  }\n\n  const force = true;\n\n  if (typeof root._bokeh_onload_callbacks === \"undefined\" || force === true) {\n    root._bokeh_onload_callbacks = [];\n    root._bokeh_is_loading = undefined;\n  }\n\nconst JS_MIME_TYPE = 'application/javascript';\n  const HTML_MIME_TYPE = 'text/html';\n  const EXEC_MIME_TYPE = 'application/vnd.bokehjs_exec.v0+json';\n  const CLASS_NAME = 'output_bokeh rendered_html';\n\n  /**\n   * Render data to the DOM node\n   */\n  function render(props, node) {\n    const script = document.createElement(\"script\");\n    node.appendChild(script);\n  }\n\n  /**\n   * Handle when an output is cleared or removed\n   */\n  function handleClearOutput(event, handle) {\n    const cell = handle.cell;\n\n    const id = cell.output_area._bokeh_element_id;\n    const server_id = cell.output_area._bokeh_server_id;\n    // Clean up Bokeh references\n    if (id != null && id in Bokeh.index) {\n      Bokeh.index[id].model.document.clear();\n      delete Bokeh.index[id];\n    }\n\n    if (server_id !== undefined) {\n      // Clean up Bokeh references\n      const cmd_clean = \"from bokeh.io.state import curstate; print(curstate().uuid_to_server['\" + server_id + \"'].get_sessions()[0].document.roots[0]._id)\";\n      cell.notebook.kernel.execute(cmd_clean, {\n        iopub: {\n          output: function(msg) {\n            const id = msg.content.text.trim();\n            if (id in Bokeh.index) {\n              Bokeh.index[id].model.document.clear();\n              delete Bokeh.index[id];\n            }\n          }\n        }\n      });\n      // Destroy server and session\n      const cmd_destroy = \"import bokeh.io.notebook as ion; ion.destroy_server('\" + server_id + \"')\";\n      cell.notebook.kernel.execute(cmd_destroy);\n    }\n  }\n\n  /**\n   * Handle when a new output is added\n   */\n  function handleAddOutput(event, handle) {\n    const output_area = handle.output_area;\n    const output = handle.output;\n\n    // limit handleAddOutput to display_data with EXEC_MIME_TYPE content only\n    if ((output.output_type != \"display_data\") || (!Object.prototype.hasOwnProperty.call(output.data, EXEC_MIME_TYPE))) {\n      return\n    }\n\n    const toinsert = output_area.element.find(\".\" + CLASS_NAME.split(' ')[0]);\n\n    if (output.metadata[EXEC_MIME_TYPE][\"id\"] !== undefined) {\n      toinsert[toinsert.length - 1].firstChild.textContent = output.data[JS_MIME_TYPE];\n      // store reference to embed id on output_area\n      output_area._bokeh_element_id = output.metadata[EXEC_MIME_TYPE][\"id\"];\n    }\n    if (output.metadata[EXEC_MIME_TYPE][\"server_id\"] !== undefined) {\n      const bk_div = document.createElement(\"div\");\n      bk_div.innerHTML = output.data[HTML_MIME_TYPE];\n      const script_attrs = bk_div.children[0].attributes;\n      for (let i = 0; i < script_attrs.length; i++) {\n        toinsert[toinsert.length - 1].firstChild.setAttribute(script_attrs[i].name, script_attrs[i].value);\n        toinsert[toinsert.length - 1].firstChild.textContent = bk_div.children[0].textContent\n      }\n      // store reference to server id on output_area\n      output_area._bokeh_server_id = output.metadata[EXEC_MIME_TYPE][\"server_id\"];\n    }\n  }\n\n  function register_renderer(events, OutputArea) {\n\n    function append_mime(data, metadata, element) {\n      // create a DOM node to render to\n      const toinsert = this.create_output_subarea(\n        metadata,\n        CLASS_NAME,\n        EXEC_MIME_TYPE\n      );\n      this.keyboard_manager.register_events(toinsert);\n      // Render to node\n      const props = {data: data, metadata: metadata[EXEC_MIME_TYPE]};\n      render(props, toinsert[toinsert.length - 1]);\n      element.append(toinsert);\n      return toinsert\n    }\n\n    /* Handle when an output is cleared or removed */\n    events.on('clear_output.CodeCell', handleClearOutput);\n    events.on('delete.Cell', handleClearOutput);\n\n    /* Handle when a new output is added */\n    events.on('output_added.OutputArea', handleAddOutput);\n\n    /**\n     * Register the mime type and append_mime function with output_area\n     */\n    OutputArea.prototype.register_mime_type(EXEC_MIME_TYPE, append_mime, {\n      /* Is output safe? */\n      safe: true,\n      /* Index of renderer in `output_area.display_order` */\n      index: 0\n    });\n  }\n\n  // register the mime type if in Jupyter Notebook environment and previously unregistered\n  if (root.Jupyter !== undefined) {\n    const events = require('base/js/events');\n    const OutputArea = require('notebook/js/outputarea').OutputArea;\n\n    if (OutputArea.prototype.mime_types().indexOf(EXEC_MIME_TYPE) == -1) {\n      register_renderer(events, OutputArea);\n    }\n  }\n  if (typeof (root._bokeh_timeout) === \"undefined\" || force === true) {\n    root._bokeh_timeout = Date.now() + 5000;\n    root._bokeh_failed_load = false;\n  }\n\n  const NB_LOAD_WARNING = {'data': {'text/html':\n     \"<div style='background-color: #fdd'>\\n\"+\n     \"<p>\\n\"+\n     \"BokehJS does not appear to have successfully loaded. If loading BokehJS from CDN, this \\n\"+\n     \"may be due to a slow or bad network connection. Possible fixes:\\n\"+\n     \"</p>\\n\"+\n     \"<ul>\\n\"+\n     \"<li>re-rerun `output_notebook()` to attempt to load from CDN again, or</li>\\n\"+\n     \"<li>use INLINE resources instead, as so:</li>\\n\"+\n     \"</ul>\\n\"+\n     \"<code>\\n\"+\n     \"from bokeh.resources import INLINE\\n\"+\n     \"output_notebook(resources=INLINE)\\n\"+\n     \"</code>\\n\"+\n     \"</div>\"}};\n\n  function display_loaded() {\n    const el = document.getElementById(\"be4870c9-cc6a-4af7-a37e-d9d954c0c4b6\");\n    if (el != null) {\n      el.textContent = \"BokehJS is loading...\";\n    }\n    if (root.Bokeh !== undefined) {\n      if (el != null) {\n        el.textContent = \"BokehJS \" + root.Bokeh.version + \" successfully loaded.\";\n      }\n    } else if (Date.now() < root._bokeh_timeout) {\n      setTimeout(display_loaded, 100)\n    }\n  }\n\n  function run_callbacks() {\n    try {\n      root._bokeh_onload_callbacks.forEach(function(callback) {\n        if (callback != null)\n          callback();\n      });\n    } finally {\n      delete root._bokeh_onload_callbacks\n    }\n    console.debug(\"Bokeh: all callbacks have finished\");\n  }\n\n  function load_libs(css_urls, js_urls, callback) {\n    if (css_urls == null) css_urls = [];\n    if (js_urls == null) js_urls = [];\n\n    root._bokeh_onload_callbacks.push(callback);\n    if (root._bokeh_is_loading > 0) {\n      console.debug(\"Bokeh: BokehJS is being loaded, scheduling callback at\", now());\n      return null;\n    }\n    if (js_urls == null || js_urls.length === 0) {\n      run_callbacks();\n      return null;\n    }\n    console.debug(\"Bokeh: BokehJS not loaded, scheduling load and callback at\", now());\n    root._bokeh_is_loading = css_urls.length + js_urls.length;\n\n    function on_load() {\n      root._bokeh_is_loading--;\n      if (root._bokeh_is_loading === 0) {\n        console.debug(\"Bokeh: all BokehJS libraries/stylesheets loaded\");\n        run_callbacks()\n      }\n    }\n\n    function on_error(url) {\n      console.error(\"failed to load \" + url);\n    }\n\n    for (let i = 0; i < css_urls.length; i++) {\n      const url = css_urls[i];\n      const element = document.createElement(\"link\");\n      element.onload = on_load;\n      element.onerror = on_error.bind(null, url);\n      element.rel = \"stylesheet\";\n      element.type = \"text/css\";\n      element.href = url;\n      console.debug(\"Bokeh: injecting link tag for BokehJS stylesheet: \", url);\n      document.body.appendChild(element);\n    }\n\n    for (let i = 0; i < js_urls.length; i++) {\n      const url = js_urls[i];\n      const element = document.createElement('script');\n      element.onload = on_load;\n      element.onerror = on_error.bind(null, url);\n      element.async = false;\n      element.src = url;\n      console.debug(\"Bokeh: injecting script tag for BokehJS library: \", url);\n      document.head.appendChild(element);\n    }\n  };\n\n  function inject_raw_css(css) {\n    const element = document.createElement(\"style\");\n    element.appendChild(document.createTextNode(css));\n    document.body.appendChild(element);\n  }\n\n  const js_urls = [\"https://cdn.bokeh.org/bokeh/release/bokeh-3.1.1.min.js\", \"https://cdn.bokeh.org/bokeh/release/bokeh-gl-3.1.1.min.js\", \"https://cdn.bokeh.org/bokeh/release/bokeh-widgets-3.1.1.min.js\", \"https://cdn.bokeh.org/bokeh/release/bokeh-tables-3.1.1.min.js\", \"https://cdn.bokeh.org/bokeh/release/bokeh-mathjax-3.1.1.min.js\"];\n  const css_urls = [];\n\n  const inline_js = [    function(Bokeh) {\n      Bokeh.set_log_level(\"info\");\n    },\nfunction(Bokeh) {\n    }\n  ];\n\n  function run_inline_js() {\n    if (root.Bokeh !== undefined || force === true) {\n          for (let i = 0; i < inline_js.length; i++) {\n      inline_js[i].call(root, root.Bokeh);\n    }\nif (force === true) {\n        display_loaded();\n      }} else if (Date.now() < root._bokeh_timeout) {\n      setTimeout(run_inline_js, 100);\n    } else if (!root._bokeh_failed_load) {\n      console.log(\"Bokeh: BokehJS failed to load within specified timeout.\");\n      root._bokeh_failed_load = true;\n    } else if (force !== true) {\n      const cell = $(document.getElementById(\"be4870c9-cc6a-4af7-a37e-d9d954c0c4b6\")).parents('.cell').data().cell;\n      cell.output_area.append_execute_result(NB_LOAD_WARNING)\n    }\n  }\n\n  if (root._bokeh_is_loading === 0) {\n    console.debug(\"Bokeh: BokehJS loaded, going straight to plotting\");\n    run_inline_js();\n  } else {\n    load_libs(css_urls, js_urls, function() {\n      console.debug(\"Bokeh: BokehJS plotting callback run at\", now());\n      run_inline_js();\n    });\n  }\n}(window));",
      "application/vnd.bokehjs_load.v0+json": ""
     },
     "metadata": {},
     "output_type": "display_data"
    }
   ],
   "source": [
    "from logparser import LogReader\n",
    "from bokeh.layouts import column\n",
    "from bokeh.models import ColumnDataSource, RangeTool, BoxZoomTool\n",
    "from bokeh.plotting import figure, show\n",
    "from bokeh.io import output_notebook\n",
    "import pandas as pd\n",
    "import numpy as np\n",
    "\n",
    "from bokehPlots import plotLineTimeRange, plotHist\n",
    "\n",
    "output_notebook()"
   ]
  },
  {
   "cell_type": "code",
   "execution_count": 2,
   "metadata": {},
   "outputs": [
    {
     "data": {
      "text/html": [
       "<div>\n",
       "<style scoped>\n",
       "    .dataframe tbody tr th:only-of-type {\n",
       "        vertical-align: middle;\n",
       "    }\n",
       "\n",
       "    .dataframe tbody tr th {\n",
       "        vertical-align: top;\n",
       "    }\n",
       "\n",
       "    .dataframe thead th {\n",
       "        text-align: right;\n",
       "    }\n",
       "</style>\n",
       "<table border=\"1\" class=\"dataframe\">\n",
       "  <thead>\n",
       "    <tr style=\"text-align: right;\">\n",
       "      <th></th>\n",
       "      <th>timestamp</th>\n",
       "      <th>datetime</th>\n",
       "      <th>TimeNanos</th>\n",
       "      <th>LeapSecond</th>\n",
       "      <th>TimeUncertaintyNanos</th>\n",
       "      <th>FullBiasNanos</th>\n",
       "      <th>BiasNanos</th>\n",
       "      <th>BiasUncertaintyNanos</th>\n",
       "      <th>DriftNanosPerSecond</th>\n",
       "      <th>DriftUncertaintyNanosPerSecond</th>\n",
       "      <th>...</th>\n",
       "      <th>AgcDb</th>\n",
       "      <th>FullInterSignalBiasNanos</th>\n",
       "      <th>FullInterSignalBiasUncertaintyNanos</th>\n",
       "      <th>SatelliteInterSignalBiasNanos</th>\n",
       "      <th>SatelliteInterSignalBiasUncertaintyNanos</th>\n",
       "      <th>CodeType</th>\n",
       "      <th>prn</th>\n",
       "      <th>Pseudorange</th>\n",
       "      <th>PseudorangeVelocity</th>\n",
       "      <th>PseudorangeAcceleration</th>\n",
       "    </tr>\n",
       "  </thead>\n",
       "  <tbody>\n",
       "    <tr>\n",
       "      <th>0</th>\n",
       "      <td>1.689413e+09</td>\n",
       "      <td>2023-07-15 09:21:00.804</td>\n",
       "      <td>1.444000e+09</td>\n",
       "      <td>NaN</td>\n",
       "      <td>NaN</td>\n",
       "      <td>-1.373448e+18</td>\n",
       "      <td>0.0</td>\n",
       "      <td>2.200000e+09</td>\n",
       "      <td>NaN</td>\n",
       "      <td>NaN</td>\n",
       "      <td>...</td>\n",
       "      <td>NaN</td>\n",
       "      <td>-1.484295</td>\n",
       "      <td>1.000000</td>\n",
       "      <td>-1.484295</td>\n",
       "      <td>1.0</td>\n",
       "      <td>C</td>\n",
       "      <td>G27-L1</td>\n",
       "      <td>NaN</td>\n",
       "      <td>NaN</td>\n",
       "      <td>NaN</td>\n",
       "    </tr>\n",
       "    <tr>\n",
       "      <th>1</th>\n",
       "      <td>1.689413e+09</td>\n",
       "      <td>2023-07-15 09:21:01.577</td>\n",
       "      <td>2.106000e+09</td>\n",
       "      <td>NaN</td>\n",
       "      <td>NaN</td>\n",
       "      <td>-1.373448e+18</td>\n",
       "      <td>0.0</td>\n",
       "      <td>2.200001e+09</td>\n",
       "      <td>NaN</td>\n",
       "      <td>NaN</td>\n",
       "      <td>...</td>\n",
       "      <td>NaN</td>\n",
       "      <td>-0.582077</td>\n",
       "      <td>1.000000</td>\n",
       "      <td>-0.582077</td>\n",
       "      <td>1.0</td>\n",
       "      <td>C</td>\n",
       "      <td>G10-L1</td>\n",
       "      <td>NaN</td>\n",
       "      <td>NaN</td>\n",
       "      <td>NaN</td>\n",
       "    </tr>\n",
       "    <tr>\n",
       "      <th>2</th>\n",
       "      <td>1.689413e+09</td>\n",
       "      <td>2023-07-15 09:21:01.580</td>\n",
       "      <td>2.106000e+09</td>\n",
       "      <td>NaN</td>\n",
       "      <td>NaN</td>\n",
       "      <td>-1.373448e+18</td>\n",
       "      <td>0.0</td>\n",
       "      <td>2.200001e+09</td>\n",
       "      <td>NaN</td>\n",
       "      <td>NaN</td>\n",
       "      <td>...</td>\n",
       "      <td>NaN</td>\n",
       "      <td>0.000000</td>\n",
       "      <td>1.000000</td>\n",
       "      <td>0.000000</td>\n",
       "      <td>1.0</td>\n",
       "      <td>C</td>\n",
       "      <td>G21-L1</td>\n",
       "      <td>NaN</td>\n",
       "      <td>NaN</td>\n",
       "      <td>NaN</td>\n",
       "    </tr>\n",
       "    <tr>\n",
       "      <th>3</th>\n",
       "      <td>1.689413e+09</td>\n",
       "      <td>2023-07-15 09:21:01.582</td>\n",
       "      <td>2.106000e+09</td>\n",
       "      <td>NaN</td>\n",
       "      <td>NaN</td>\n",
       "      <td>-1.373448e+18</td>\n",
       "      <td>0.0</td>\n",
       "      <td>2.200001e+09</td>\n",
       "      <td>NaN</td>\n",
       "      <td>NaN</td>\n",
       "      <td>...</td>\n",
       "      <td>NaN</td>\n",
       "      <td>41.909516</td>\n",
       "      <td>2.000000</td>\n",
       "      <td>41.909516</td>\n",
       "      <td>2.0</td>\n",
       "      <td>C</td>\n",
       "      <td>R18-L1</td>\n",
       "      <td>NaN</td>\n",
       "      <td>NaN</td>\n",
       "      <td>NaN</td>\n",
       "    </tr>\n",
       "    <tr>\n",
       "      <th>4</th>\n",
       "      <td>1.689413e+09</td>\n",
       "      <td>2023-07-15 09:21:02.372</td>\n",
       "      <td>3.106000e+09</td>\n",
       "      <td>NaN</td>\n",
       "      <td>NaN</td>\n",
       "      <td>-1.373448e+18</td>\n",
       "      <td>0.0</td>\n",
       "      <td>5.000003e+08</td>\n",
       "      <td>NaN</td>\n",
       "      <td>NaN</td>\n",
       "      <td>...</td>\n",
       "      <td>NaN</td>\n",
       "      <td>-1.222361</td>\n",
       "      <td>1.000000</td>\n",
       "      <td>-1.222361</td>\n",
       "      <td>1.0</td>\n",
       "      <td>C</td>\n",
       "      <td>G08-L1</td>\n",
       "      <td>NaN</td>\n",
       "      <td>NaN</td>\n",
       "      <td>NaN</td>\n",
       "    </tr>\n",
       "    <tr>\n",
       "      <th>...</th>\n",
       "      <td>...</td>\n",
       "      <td>...</td>\n",
       "      <td>...</td>\n",
       "      <td>...</td>\n",
       "      <td>...</td>\n",
       "      <td>...</td>\n",
       "      <td>...</td>\n",
       "      <td>...</td>\n",
       "      <td>...</td>\n",
       "      <td>...</td>\n",
       "      <td>...</td>\n",
       "      <td>...</td>\n",
       "      <td>...</td>\n",
       "      <td>...</td>\n",
       "      <td>...</td>\n",
       "      <td>...</td>\n",
       "      <td>...</td>\n",
       "      <td>...</td>\n",
       "      <td>...</td>\n",
       "      <td>...</td>\n",
       "      <td>...</td>\n",
       "    </tr>\n",
       "    <tr>\n",
       "      <th>8981</th>\n",
       "      <td>1.689413e+09</td>\n",
       "      <td>2023-07-15 09:28:49.896</td>\n",
       "      <td>4.704320e+11</td>\n",
       "      <td>NaN</td>\n",
       "      <td>NaN</td>\n",
       "      <td>-1.373448e+18</td>\n",
       "      <td>0.0</td>\n",
       "      <td>9.549475e+00</td>\n",
       "      <td>389.0</td>\n",
       "      <td>1.0</td>\n",
       "      <td>...</td>\n",
       "      <td>NaN</td>\n",
       "      <td>25.320332</td>\n",
       "      <td>4.835641</td>\n",
       "      <td>25.320332</td>\n",
       "      <td>1.5</td>\n",
       "      <td>I</td>\n",
       "      <td>C43-L1</td>\n",
       "      <td>2.191854e+07</td>\n",
       "      <td>324.024112</td>\n",
       "      <td>2.788502</td>\n",
       "    </tr>\n",
       "    <tr>\n",
       "      <th>8982</th>\n",
       "      <td>1.689413e+09</td>\n",
       "      <td>2023-07-15 09:28:49.897</td>\n",
       "      <td>4.704320e+11</td>\n",
       "      <td>NaN</td>\n",
       "      <td>NaN</td>\n",
       "      <td>-1.373448e+18</td>\n",
       "      <td>0.0</td>\n",
       "      <td>9.549475e+00</td>\n",
       "      <td>389.0</td>\n",
       "      <td>1.0</td>\n",
       "      <td>...</td>\n",
       "      <td>NaN</td>\n",
       "      <td>-4.452886</td>\n",
       "      <td>1.500000</td>\n",
       "      <td>-4.452886</td>\n",
       "      <td>1.5</td>\n",
       "      <td>C</td>\n",
       "      <td>E02-L1</td>\n",
       "      <td>2.549299e+07</td>\n",
       "      <td>134.160447</td>\n",
       "      <td>1.184168</td>\n",
       "    </tr>\n",
       "    <tr>\n",
       "      <th>8983</th>\n",
       "      <td>1.689413e+09</td>\n",
       "      <td>2023-07-15 09:28:49.898</td>\n",
       "      <td>4.704320e+11</td>\n",
       "      <td>NaN</td>\n",
       "      <td>NaN</td>\n",
       "      <td>-1.373448e+18</td>\n",
       "      <td>0.0</td>\n",
       "      <td>9.549475e+00</td>\n",
       "      <td>389.0</td>\n",
       "      <td>1.0</td>\n",
       "      <td>...</td>\n",
       "      <td>NaN</td>\n",
       "      <td>-4.452886</td>\n",
       "      <td>1.500000</td>\n",
       "      <td>-4.452886</td>\n",
       "      <td>1.5</td>\n",
       "      <td>C</td>\n",
       "      <td>E10-L1</td>\n",
       "      <td>2.375503e+07</td>\n",
       "      <td>303.190789</td>\n",
       "      <td>3.105215</td>\n",
       "    </tr>\n",
       "    <tr>\n",
       "      <th>8984</th>\n",
       "      <td>1.689413e+09</td>\n",
       "      <td>2023-07-15 09:28:49.899</td>\n",
       "      <td>4.704320e+11</td>\n",
       "      <td>NaN</td>\n",
       "      <td>NaN</td>\n",
       "      <td>-1.373448e+18</td>\n",
       "      <td>0.0</td>\n",
       "      <td>9.549475e+00</td>\n",
       "      <td>389.0</td>\n",
       "      <td>1.0</td>\n",
       "      <td>...</td>\n",
       "      <td>NaN</td>\n",
       "      <td>-4.452886</td>\n",
       "      <td>1.500000</td>\n",
       "      <td>-4.452886</td>\n",
       "      <td>1.5</td>\n",
       "      <td>C</td>\n",
       "      <td>E19-L1</td>\n",
       "      <td>2.618637e+07</td>\n",
       "      <td>-42.848601</td>\n",
       "      <td>-1.665506</td>\n",
       "    </tr>\n",
       "    <tr>\n",
       "      <th>8985</th>\n",
       "      <td>1.689413e+09</td>\n",
       "      <td>2023-07-15 09:28:49.900</td>\n",
       "      <td>4.704320e+11</td>\n",
       "      <td>NaN</td>\n",
       "      <td>NaN</td>\n",
       "      <td>-1.373448e+18</td>\n",
       "      <td>0.0</td>\n",
       "      <td>9.549475e+00</td>\n",
       "      <td>389.0</td>\n",
       "      <td>1.0</td>\n",
       "      <td>...</td>\n",
       "      <td>NaN</td>\n",
       "      <td>-4.452886</td>\n",
       "      <td>1.500000</td>\n",
       "      <td>-4.452886</td>\n",
       "      <td>1.5</td>\n",
       "      <td>C</td>\n",
       "      <td>E30-L1</td>\n",
       "      <td>2.794336e+07</td>\n",
       "      <td>-337.340409</td>\n",
       "      <td>-4.647072</td>\n",
       "    </tr>\n",
       "  </tbody>\n",
       "</table>\n",
       "<p>8986 rows × 39 columns</p>\n",
       "</div>"
      ],
      "text/plain": [
       "         timestamp                datetime     TimeNanos  LeapSecond  \\\n",
       "0     1.689413e+09 2023-07-15 09:21:00.804  1.444000e+09         NaN   \n",
       "1     1.689413e+09 2023-07-15 09:21:01.577  2.106000e+09         NaN   \n",
       "2     1.689413e+09 2023-07-15 09:21:01.580  2.106000e+09         NaN   \n",
       "3     1.689413e+09 2023-07-15 09:21:01.582  2.106000e+09         NaN   \n",
       "4     1.689413e+09 2023-07-15 09:21:02.372  3.106000e+09         NaN   \n",
       "...            ...                     ...           ...         ...   \n",
       "8981  1.689413e+09 2023-07-15 09:28:49.896  4.704320e+11         NaN   \n",
       "8982  1.689413e+09 2023-07-15 09:28:49.897  4.704320e+11         NaN   \n",
       "8983  1.689413e+09 2023-07-15 09:28:49.898  4.704320e+11         NaN   \n",
       "8984  1.689413e+09 2023-07-15 09:28:49.899  4.704320e+11         NaN   \n",
       "8985  1.689413e+09 2023-07-15 09:28:49.900  4.704320e+11         NaN   \n",
       "\n",
       "      TimeUncertaintyNanos  FullBiasNanos  BiasNanos  BiasUncertaintyNanos  \\\n",
       "0                      NaN  -1.373448e+18        0.0          2.200000e+09   \n",
       "1                      NaN  -1.373448e+18        0.0          2.200001e+09   \n",
       "2                      NaN  -1.373448e+18        0.0          2.200001e+09   \n",
       "3                      NaN  -1.373448e+18        0.0          2.200001e+09   \n",
       "4                      NaN  -1.373448e+18        0.0          5.000003e+08   \n",
       "...                    ...            ...        ...                   ...   \n",
       "8981                   NaN  -1.373448e+18        0.0          9.549475e+00   \n",
       "8982                   NaN  -1.373448e+18        0.0          9.549475e+00   \n",
       "8983                   NaN  -1.373448e+18        0.0          9.549475e+00   \n",
       "8984                   NaN  -1.373448e+18        0.0          9.549475e+00   \n",
       "8985                   NaN  -1.373448e+18        0.0          9.549475e+00   \n",
       "\n",
       "      DriftNanosPerSecond  DriftUncertaintyNanosPerSecond  ...  AgcDb  \\\n",
       "0                     NaN                             NaN  ...    NaN   \n",
       "1                     NaN                             NaN  ...    NaN   \n",
       "2                     NaN                             NaN  ...    NaN   \n",
       "3                     NaN                             NaN  ...    NaN   \n",
       "4                     NaN                             NaN  ...    NaN   \n",
       "...                   ...                             ...  ...    ...   \n",
       "8981                389.0                             1.0  ...    NaN   \n",
       "8982                389.0                             1.0  ...    NaN   \n",
       "8983                389.0                             1.0  ...    NaN   \n",
       "8984                389.0                             1.0  ...    NaN   \n",
       "8985                389.0                             1.0  ...    NaN   \n",
       "\n",
       "      FullInterSignalBiasNanos  FullInterSignalBiasUncertaintyNanos  \\\n",
       "0                    -1.484295                             1.000000   \n",
       "1                    -0.582077                             1.000000   \n",
       "2                     0.000000                             1.000000   \n",
       "3                    41.909516                             2.000000   \n",
       "4                    -1.222361                             1.000000   \n",
       "...                        ...                                  ...   \n",
       "8981                 25.320332                             4.835641   \n",
       "8982                 -4.452886                             1.500000   \n",
       "8983                 -4.452886                             1.500000   \n",
       "8984                 -4.452886                             1.500000   \n",
       "8985                 -4.452886                             1.500000   \n",
       "\n",
       "      SatelliteInterSignalBiasNanos  SatelliteInterSignalBiasUncertaintyNanos  \\\n",
       "0                         -1.484295                                       1.0   \n",
       "1                         -0.582077                                       1.0   \n",
       "2                          0.000000                                       1.0   \n",
       "3                         41.909516                                       2.0   \n",
       "4                         -1.222361                                       1.0   \n",
       "...                             ...                                       ...   \n",
       "8981                      25.320332                                       1.5   \n",
       "8982                      -4.452886                                       1.5   \n",
       "8983                      -4.452886                                       1.5   \n",
       "8984                      -4.452886                                       1.5   \n",
       "8985                      -4.452886                                       1.5   \n",
       "\n",
       "      CodeType     prn   Pseudorange  PseudorangeVelocity  \\\n",
       "0            C  G27-L1           NaN                  NaN   \n",
       "1            C  G10-L1           NaN                  NaN   \n",
       "2            C  G21-L1           NaN                  NaN   \n",
       "3            C  R18-L1           NaN                  NaN   \n",
       "4            C  G08-L1           NaN                  NaN   \n",
       "...        ...     ...           ...                  ...   \n",
       "8981         I  C43-L1  2.191854e+07           324.024112   \n",
       "8982         C  E02-L1  2.549299e+07           134.160447   \n",
       "8983         C  E10-L1  2.375503e+07           303.190789   \n",
       "8984         C  E19-L1  2.618637e+07           -42.848601   \n",
       "8985         C  E30-L1  2.794336e+07          -337.340409   \n",
       "\n",
       "      PseudorangeAcceleration  \n",
       "0                         NaN  \n",
       "1                         NaN  \n",
       "2                         NaN  \n",
       "3                         NaN  \n",
       "4                         NaN  \n",
       "...                       ...  \n",
       "8981                 2.788502  \n",
       "8982                 1.184168  \n",
       "8983                 3.105215  \n",
       "8984                -1.665506  \n",
       "8985                -4.647072  \n",
       "\n",
       "[8986 rows x 39 columns]"
      ]
     },
     "execution_count": 2,
     "metadata": {},
     "output_type": "execute_result"
    }
   ],
   "source": [
    "filepath = \"./.data/log_mimir_20230715122058.txt\"\n",
    "\n",
    "log = LogReader(filepath, ['Raw'])\n",
    "\n",
    "log.raw"
   ]
  },
  {
   "cell_type": "markdown",
   "metadata": {},
   "source": [
    "## Pseudorange Analysis"
   ]
  },
  {
   "cell_type": "code",
   "execution_count": 3,
   "metadata": {},
   "outputs": [
    {
     "data": {
      "text/html": [
       "\n",
       "  <div id=\"f4654eb7-8c47-48fe-b56f-01a785ddeda0\" data-root-id=\"p1004\" style=\"display: contents;\"></div>\n"
      ]
     },
     "metadata": {},
     "output_type": "display_data"
    },
    {
     "data": {
      "application/javascript": "(function(root) {\n  function embed_document(root) {\n  const docs_json = {\"68e82d88-64ee-4805-adf8-4b7ce1857b03\":{\"version\":\"3.1.1\",\"title\":\"Bokeh Application\",\"defs\":[],\"roots\":[{\"type\":\"object\",\"name\":\"Figure\",\"id\":\"p1004\",\"attributes\":{\"height\":300,\"x_range\":{\"type\":\"object\",\"name\":\"DataRange1d\",\"id\":\"p1006\"},\"y_range\":{\"type\":\"object\",\"name\":\"Range1d\",\"id\":\"p1015\",\"attributes\":{\"end\":0.4}},\"x_scale\":{\"type\":\"object\",\"name\":\"LinearScale\",\"id\":\"p1017\"},\"y_scale\":{\"type\":\"object\",\"name\":\"LinearScale\",\"id\":\"p1019\"},\"extra_y_ranges\":{\"type\":\"map\",\"entries\":[[\"cumsum\",{\"type\":\"object\",\"name\":\"Range1d\",\"id\":\"p1063\",\"attributes\":{\"end\":1.1}}]]},\"title\":{\"type\":\"object\",\"name\":\"Title\",\"id\":\"p1007\"},\"renderers\":[{\"type\":\"object\",\"name\":\"GlyphRenderer\",\"id\":\"p1056\",\"attributes\":{\"data_source\":{\"type\":\"object\",\"name\":\"ColumnDataSource\",\"id\":\"p1050\",\"attributes\":{\"selected\":{\"type\":\"object\",\"name\":\"Selection\",\"id\":\"p1051\",\"attributes\":{\"indices\":[],\"line_indices\":[]}},\"selection_policy\":{\"type\":\"object\",\"name\":\"UnionRenderers\",\"id\":\"p1052\"},\"data\":{\"type\":\"map\",\"entries\":[[\"top\",{\"type\":\"ndarray\",\"array\":{\"type\":\"bytes\",\"data\":\"68RO7MROzD85sRM7sRO7P4id2Imd2Mk/sRM7sRM7sT+c2Imd2ImtP7ETO7ETO7E/nNiJndiJnT8TO7ETO7GjPxg7sRM7sZM/DjuxEzuxgz8OO7ETO7GDP92JndiJnag/GDuxEzuxkz8OO7ETO7GTPwAAAAAAAAAAGDuxEzuxgz8YO7ETO7GDPxg7sRM7sYM/AzuxEzuxgz8YO7ETO7GDPwAAAAAAAAAAAzuxEzuxgz8AAAAAAAAAAAAAAAAAAAAAAAAAAAAAAAAAAAAAAAAAAAAAAAAAAAAAAAAAAAAAAAAAAAAAAAAAAAM7sRM7sYM/AAAAAAAAAAAAAAAAAAAAAAAAAAAAAAAAAAAAAAAAAAAAAAAAAAAAABg7sRM7sYM/AAAAAAAAAAAAAAAAAAAAAAAAAAAAAAAAAAAAAAAAAAAAAAAAAAAAAAAAAAAAAAAAAAAAAAAAAAAAAAAAAAAAAAAAAAAAAAAAAAAAAAAAAAAAAAAAAAAAAAAAAAAAAAAAGDuxEzuxgz8=\"},\"shape\":[49],\"dtype\":\"float64\",\"order\":\"little\"}],[\"left\",{\"type\":\"ndarray\",\"array\":{\"type\":\"bytes\",\"data\":\"AAAAAAAAAADIHQHVq/oNQMgdAdWr+h1AVtbA3wB8JkDIHQHVq/otQJ2yIGWrvDJAVtbA3wB8NkAP+mBaVjs6QMgdAdWr+j1AwKDQpwDdQECdsiBlq7xCQHrEcCJWnERAVtbA3wB8RkAy6BCdq1tIQA/6YFpWO0pA7AuxFwEbTEDIHQHVq/pNQKQvUZJW2k9AwKDQpwDdUECvqXgG1sxRQJ2yIGWrvFJAi7vIw4CsU0B6xHAiVpxUQGjNGIErjFVAVtbA3wB8VkBE32g+1mtXQDLoEJ2rW1hAIfG4+4BLWUAP+mBaVjtaQP0CCbkrK1tA7AuxFwEbXEDaFFl21gpdQMgdAdWr+l1AtiapM4HqXkCkL1GSVtpfQEmcfPgVZWBAwKDQpwDdYEA4pSRX61RhQK+peAbWzGFAJq7MtcBEYkCdsiBlq7xiQBS3dBSWNGNAi7vIw4CsY0ACwBxzayRkQHrEcCJWnGRA8cjE0UAUZUBozRiBK4xlQN/RbDAWBGZAVtbA3wB8ZkA=\"},\"shape\":[49],\"dtype\":\"float64\",\"order\":\"little\"}],[\"right\",{\"type\":\"ndarray\",\"array\":{\"type\":\"bytes\",\"data\":\"yB0B1av6DUDIHQHVq/odQFbWwN8AfCZAyB0B1av6LUCdsiBlq7wyQFbWwN8AfDZAD/pgWlY7OkDIHQHVq/o9QMCg0KcA3UBAnbIgZau8QkB6xHAiVpxEQFbWwN8AfEZAMugQnatbSEAP+mBaVjtKQOwLsRcBG0xAyB0B1av6TUCkL1GSVtpPQMCg0KcA3VBAr6l4BtbMUUCdsiBlq7xSQIu7yMOArFNAesRwIlacVEBozRiBK4xVQFbWwN8AfFZARN9oPtZrV0Ay6BCdq1tYQCHxuPuAS1lAD/pgWlY7WkD9Agm5KytbQOwLsRcBG1xA2hRZdtYKXUDIHQHVq/pdQLYmqTOB6l5ApC9RklbaX0BJnHz4FWVgQMCg0KcA3WBAOKUkV+tUYUCvqXgG1sxhQCauzLXARGJAnbIgZau8YkAUt3QUljRjQIu7yMOArGNAAsAcc2skZEB6xHAiVpxkQPHIxNFAFGVAaM0YgSuMZUDf0WwwFgRmQFbWwN8AfGZAzdoUj+vzZkA=\"},\"shape\":[49],\"dtype\":\"float64\",\"order\":\"little\"}]]}}},\"view\":{\"type\":\"object\",\"name\":\"CDSView\",\"id\":\"p1057\",\"attributes\":{\"filter\":{\"type\":\"object\",\"name\":\"AllIndices\",\"id\":\"p1058\"}}},\"glyph\":{\"type\":\"object\",\"name\":\"Quad\",\"id\":\"p1053\",\"attributes\":{\"left\":{\"type\":\"field\",\"field\":\"left\"},\"right\":{\"type\":\"field\",\"field\":\"right\"},\"bottom\":{\"type\":\"value\",\"value\":0},\"top\":{\"type\":\"field\",\"field\":\"top\"},\"line_color\":{\"type\":\"value\",\"value\":\"white\"},\"fill_color\":{\"type\":\"value\",\"value\":\"skyblue\"}}},\"nonselection_glyph\":{\"type\":\"object\",\"name\":\"Quad\",\"id\":\"p1054\",\"attributes\":{\"left\":{\"type\":\"field\",\"field\":\"left\"},\"right\":{\"type\":\"field\",\"field\":\"right\"},\"bottom\":{\"type\":\"value\",\"value\":0},\"top\":{\"type\":\"field\",\"field\":\"top\"},\"line_color\":{\"type\":\"value\",\"value\":\"white\"},\"line_alpha\":{\"type\":\"value\",\"value\":0.1},\"fill_color\":{\"type\":\"value\",\"value\":\"skyblue\"},\"fill_alpha\":{\"type\":\"value\",\"value\":0.1},\"hatch_alpha\":{\"type\":\"value\",\"value\":0.1}}},\"muted_glyph\":{\"type\":\"object\",\"name\":\"Quad\",\"id\":\"p1055\",\"attributes\":{\"left\":{\"type\":\"field\",\"field\":\"left\"},\"right\":{\"type\":\"field\",\"field\":\"right\"},\"bottom\":{\"type\":\"value\",\"value\":0},\"top\":{\"type\":\"field\",\"field\":\"top\"},\"line_color\":{\"type\":\"value\",\"value\":\"white\"},\"line_alpha\":{\"type\":\"value\",\"value\":0.2},\"fill_color\":{\"type\":\"value\",\"value\":\"skyblue\"},\"fill_alpha\":{\"type\":\"value\",\"value\":0.2},\"hatch_alpha\":{\"type\":\"value\",\"value\":0.2}}}}},{\"type\":\"object\",\"name\":\"GlyphRenderer\",\"id\":\"p1070\",\"attributes\":{\"y_range_name\":\"cumsum\",\"data_source\":{\"type\":\"object\",\"name\":\"ColumnDataSource\",\"id\":\"p1064\",\"attributes\":{\"selected\":{\"type\":\"object\",\"name\":\"Selection\",\"id\":\"p1065\",\"attributes\":{\"indices\":[],\"line_indices\":[]}},\"selection_policy\":{\"type\":\"object\",\"name\":\"UnionRenderers\",\"id\":\"p1066\"},\"data\":{\"type\":\"map\",\"entries\":[[\"x\",{\"type\":\"ndarray\",\"array\":{\"type\":\"bytes\",\"data\":\"AAAAAAAAAADIHQHVq/oNQMgdAdWr+h1AVtbA3wB8JkDIHQHVq/otQJ2yIGWrvDJAVtbA3wB8NkAP+mBaVjs6QMgdAdWr+j1AwKDQpwDdQECdsiBlq7xCQHrEcCJWnERAVtbA3wB8RkAy6BCdq1tIQA/6YFpWO0pA7AuxFwEbTEDIHQHVq/pNQKQvUZJW2k9AwKDQpwDdUECvqXgG1sxRQJ2yIGWrvFJAi7vIw4CsU0B6xHAiVpxUQGjNGIErjFVAVtbA3wB8VkBE32g+1mtXQDLoEJ2rW1hAIfG4+4BLWUAP+mBaVjtaQP0CCbkrK1tA7AuxFwEbXEDaFFl21gpdQMgdAdWr+l1AtiapM4HqXkCkL1GSVtpfQEmcfPgVZWBAwKDQpwDdYEA4pSRX61RhQK+peAbWzGFAJq7MtcBEYkCdsiBlq7xiQBS3dBSWNGNAi7vIw4CsY0ACwBxzayRkQHrEcCJWnGRA8cjE0UAUZUBozRiBK4xlQN/RbDAWBGZAVtbA3wB8ZkA=\"},\"shape\":[49],\"dtype\":\"float64\",\"order\":\"little\"}],[\"y\",{\"type\":\"ndarray\",\"array\":{\"type\":\"bytes\",\"data\":\"68RO7MROzD/ETuzETuzUP8RO7MRO7OA/OrETO7ET4z/ETuzETuzkPzqxEzuxE+c/////////5z+wEzuxEzvpP4md2Imd2Ok/dWIndmIn6j9hJ3ZiJ3bqP////////+s/2Imd2Imd7D+wEzuxEzvtP7ATO7ETO+0/nNiJndiJ7T+IndiJndjtP3RiJ3ZiJ+4/YCd2Yid27j9M7MRO7MTuP0zsxE7sxO4/OLETO7ET7z84sRM7sRPvPzixEzuxE+8/OLETO7ET7z84sRM7sRPvPzixEzuxE+8/OLETO7ET7z84sRM7sRPvPyR2Yid2Yu8/JHZiJ3Zi7z8kdmIndmLvPyR2Yid2Yu8/JHZiJ3Zi7z8kdmIndmLvPxA7sRM7se8/EDuxEzux7z8QO7ETO7HvPxA7sRM7se8/EDuxEzux7z8QO7ETO7HvPxA7sRM7se8/EDuxEzux7z8QO7ETO7HvPxA7sRM7se8/EDuxEzux7z8QO7ETO7HvPxA7sRM7se8//P//////7z8=\"},\"shape\":[49],\"dtype\":\"float64\",\"order\":\"little\"}]]}}},\"view\":{\"type\":\"object\",\"name\":\"CDSView\",\"id\":\"p1071\",\"attributes\":{\"filter\":{\"type\":\"object\",\"name\":\"AllIndices\",\"id\":\"p1072\"}}},\"glyph\":{\"type\":\"object\",\"name\":\"Line\",\"id\":\"p1067\",\"attributes\":{\"x\":{\"type\":\"field\",\"field\":\"x\"},\"y\":{\"type\":\"field\",\"field\":\"y\"},\"line_color\":\"navy\"}},\"nonselection_glyph\":{\"type\":\"object\",\"name\":\"Line\",\"id\":\"p1068\",\"attributes\":{\"x\":{\"type\":\"field\",\"field\":\"x\"},\"y\":{\"type\":\"field\",\"field\":\"y\"},\"line_color\":\"navy\",\"line_alpha\":0.1}},\"muted_glyph\":{\"type\":\"object\",\"name\":\"Line\",\"id\":\"p1069\",\"attributes\":{\"x\":{\"type\":\"field\",\"field\":\"x\"},\"y\":{\"type\":\"field\",\"field\":\"y\"},\"line_color\":\"navy\",\"line_alpha\":0.2}}}}],\"toolbar\":{\"type\":\"object\",\"name\":\"Toolbar\",\"id\":\"p1010\",\"attributes\":{\"tools\":[{\"type\":\"object\",\"name\":\"PanTool\",\"id\":\"p1035\"},{\"type\":\"object\",\"name\":\"WheelZoomTool\",\"id\":\"p1036\"},{\"type\":\"object\",\"name\":\"BoxZoomTool\",\"id\":\"p1037\",\"attributes\":{\"overlay\":{\"type\":\"object\",\"name\":\"BoxAnnotation\",\"id\":\"p1038\",\"attributes\":{\"syncable\":false,\"level\":\"overlay\",\"visible\":false,\"left_units\":\"canvas\",\"right_units\":\"canvas\",\"bottom_units\":\"canvas\",\"top_units\":\"canvas\",\"line_color\":\"black\",\"line_alpha\":1.0,\"line_width\":2,\"line_dash\":[4,4],\"fill_color\":\"lightgrey\",\"fill_alpha\":0.5}}}},{\"type\":\"object\",\"name\":\"SaveTool\",\"id\":\"p1039\"},{\"type\":\"object\",\"name\":\"ResetTool\",\"id\":\"p1040\"},{\"type\":\"object\",\"name\":\"HelpTool\",\"id\":\"p1041\"}]}},\"left\":[{\"type\":\"object\",\"name\":\"LinearAxis\",\"id\":\"p1028\",\"attributes\":{\"ticker\":{\"type\":\"object\",\"name\":\"BasicTicker\",\"id\":\"p1031\",\"attributes\":{\"mantissas\":[1,2,5]}},\"formatter\":{\"type\":\"object\",\"name\":\"BasicTickFormatter\",\"id\":\"p1029\"},\"axis_label\":\"PseudorangeAcceleration\",\"major_label_policy\":{\"type\":\"object\",\"name\":\"AllLabels\",\"id\":\"p1030\"}}}],\"right\":[{\"type\":\"object\",\"name\":\"LinearAxis\",\"id\":\"p1073\",\"attributes\":{\"y_range_name\":\"cumsum\",\"ticker\":{\"type\":\"object\",\"name\":\"BasicTicker\",\"id\":\"p1076\",\"attributes\":{\"mantissas\":[1,2,5]}},\"formatter\":{\"type\":\"object\",\"name\":\"BasicTickFormatter\",\"id\":\"p1074\"},\"axis_label\":\"Cumulative probability\",\"major_label_policy\":{\"type\":\"object\",\"name\":\"AllLabels\",\"id\":\"p1075\"}}}],\"below\":[{\"type\":\"object\",\"name\":\"LinearAxis\",\"id\":\"p1021\",\"attributes\":{\"ticker\":{\"type\":\"object\",\"name\":\"BasicTicker\",\"id\":\"p1024\",\"attributes\":{\"mantissas\":[1,2,5]}},\"formatter\":{\"type\":\"object\",\"name\":\"BasicTickFormatter\",\"id\":\"p1022\"},\"major_label_policy\":{\"type\":\"object\",\"name\":\"AllLabels\",\"id\":\"p1023\"}}}],\"center\":[{\"type\":\"object\",\"name\":\"Grid\",\"id\":\"p1027\",\"attributes\":{\"axis\":{\"id\":\"p1021\"}}},{\"type\":\"object\",\"name\":\"Grid\",\"id\":\"p1034\",\"attributes\":{\"dimension\":1,\"axis\":{\"id\":\"p1028\"}}},{\"type\":\"object\",\"name\":\"Span\",\"id\":\"p1059\",\"attributes\":{\"location\":47.834396593986,\"dimension\":\"height\",\"line_color\":\"red\"}},{\"type\":\"object\",\"name\":\"Label\",\"id\":\"p1060\",\"attributes\":{\"text\":\"95% - 47.834m\",\"text_color\":\"red\",\"text_font_size\":\"8pt\",\"text_font_style\":\"italic\",\"x\":47.834396593986,\"y\":200,\"y_units\":\"screen\"}},{\"type\":\"object\",\"name\":\"Span\",\"id\":\"p1061\",\"attributes\":{\"location\":108.26597475869775,\"dimension\":\"height\",\"line_color\":\"red\"}},{\"type\":\"object\",\"name\":\"Label\",\"id\":\"p1062\",\"attributes\":{\"text\":\"99% - 108.266m\",\"text_color\":\"red\",\"text_font_size\":\"8pt\",\"text_font_style\":\"italic\",\"x\":108.26597475869775,\"y\":250,\"y_units\":\"screen\"}}],\"background_fill_color\":\"#efefef\"}}],\"callbacks\":{\"type\":\"map\"}}};\n  const render_items = [{\"docid\":\"68e82d88-64ee-4805-adf8-4b7ce1857b03\",\"roots\":{\"p1004\":\"f4654eb7-8c47-48fe-b56f-01a785ddeda0\"},\"root_ids\":[\"p1004\"]}];\n  root.Bokeh.embed.embed_items_notebook(docs_json, render_items);\n  }\n  if (root.Bokeh !== undefined) {\n    embed_document(root);\n  } else {\n    let attempts = 0;\n    const timer = setInterval(function(root) {\n      if (root.Bokeh !== undefined) {\n        clearInterval(timer);\n        embed_document(root);\n      } else {\n        attempts++;\n        if (attempts > 100) {\n          clearInterval(timer);\n          console.log(\"Bokeh: ERROR: Unable to run BokehJS code because BokehJS library is missing\");\n        }\n      }\n    }, 10, root)\n  }\n})(window);",
      "application/vnd.bokehjs_exec.v0+json": ""
     },
     "metadata": {
      "application/vnd.bokehjs_exec.v0+json": {
       "id": "p1004"
      }
     },
     "output_type": "display_data"
    },
    {
     "data": {
      "text/html": [
       "\n",
       "  <div id=\"ab5c4a32-dc56-443f-ad0a-8e5456746e0f\" data-root-id=\"p1220\" style=\"display: contents;\"></div>\n"
      ]
     },
     "metadata": {},
     "output_type": "display_data"
    },
    {
     "data": {
      "application/javascript": "(function(root) {\n  function embed_document(root) {\n  const docs_json = {\"4f700709-984d-4325-9d47-1784f9135ca0\":{\"version\":\"3.1.1\",\"title\":\"Bokeh Application\",\"defs\":[],\"roots\":[{\"type\":\"object\",\"name\":\"Figure\",\"id\":\"p1220\",\"attributes\":{\"height\":300,\"x_range\":{\"type\":\"object\",\"name\":\"DataRange1d\",\"id\":\"p1222\"},\"y_range\":{\"type\":\"object\",\"name\":\"Range1d\",\"id\":\"p1231\",\"attributes\":{\"end\":0.4}},\"x_scale\":{\"type\":\"object\",\"name\":\"LinearScale\",\"id\":\"p1233\"},\"y_scale\":{\"type\":\"object\",\"name\":\"LinearScale\",\"id\":\"p1235\"},\"extra_y_ranges\":{\"type\":\"map\",\"entries\":[[\"cumsum\",{\"type\":\"object\",\"name\":\"Range1d\",\"id\":\"p1279\",\"attributes\":{\"end\":1.1}}]]},\"title\":{\"type\":\"object\",\"name\":\"Title\",\"id\":\"p1223\"},\"renderers\":[{\"type\":\"object\",\"name\":\"GlyphRenderer\",\"id\":\"p1272\",\"attributes\":{\"data_source\":{\"type\":\"object\",\"name\":\"ColumnDataSource\",\"id\":\"p1266\",\"attributes\":{\"selected\":{\"type\":\"object\",\"name\":\"Selection\",\"id\":\"p1267\",\"attributes\":{\"indices\":[],\"line_indices\":[]}},\"selection_policy\":{\"type\":\"object\",\"name\":\"UnionRenderers\",\"id\":\"p1268\"},\"data\":{\"type\":\"map\",\"entries\":[[\"top\",{\"type\":\"ndarray\",\"array\":{\"type\":\"bytes\",\"data\":\"/Knx0k1iwD/a+X5qvHTDP7sehetRuL4/+X5qvHSTuD/5fmq8dJOoP/1+arx0k6g/9X5qvHSTqD/+qfHSTWKgP/6p8dJNYqA/+anx0k1isD9z6SYxCKysP4QUrkfheqQ/+anx0k1ikD8AAAAAAAAAAAOq8dJNYpA/AAAAAAAAAAD5qfHSTWKAPwAAAAAAAAAAAAAAAAAAAAD1fmq8dJOYP/mp8dJNYoA/+anx0k1igD8AAAAAAAAAAPmp8dJNYoA/+anx0k1igD8AAAAAAAAAAPmp8dJNYoA/AAAAAAAAAAAAAAAAAAAAAAAAAAAAAAAAAAAAAAAAAAD5qfHSTWKAPwAAAAAAAAAAAAAAAAAAAAAAAAAAAAAAAA6q8dJNYoA/AAAAAAAAAAD5qfHSTWKAPwAAAAAAAAAAAAAAAAAAAAAAAAAAAAAAAAAAAAAAAAAAAAAAAAAAAAAAAAAAAAAAAAAAAAAAAAAAAAAAAAAAAAAAAAAAAAAAAAAAAAAAAAAA+anx0k1igD8=\"},\"shape\":[49],\"dtype\":\"float64\",\"order\":\"little\"}],[\"left\",{\"type\":\"ndarray\",\"array\":{\"type\":\"bytes\",\"data\":\"AAAAAAAAAAC7V0oTvbToP7tXShO9tPg/zMF3zo2HAkC7V0oTvbQIQKrtHFjs4Q5AzMF3zo2HEkDEDOFwJZ4VQLtXShO9tBhAsqKztVTLG0Cq7RxY7OEeQFEcQ/1B/CBAzMF3zo2HIkBIZ6yf2RIkQMQM4XAlniVAP7IVQnEpJ0C7V0oTvbQoQDf9fuQIQCpAsqKztVTLK0AuSOiGoFYtQKrtHFjs4S5Ak8moFJw2MEBRHEP9QfwwQA5v3eXnwTFAzMF3zo2HMkCKFBK3M00zQEhnrJ/ZEjRABrpGiH/YNEDEDOFwJZ41QIFfe1nLYzZAP7IVQnEpN0D9BLAqF+83QLtXShO9tDhAeark+2J6OUA3/X7kCEA6QPVPGc2uBTtAsqKztVTLO0Bw9U2e+pA8QC5I6IagVj1A7JqCb0YcPkCq7RxY7OE+QGhAt0CSpz9Ak8moFJw2QEDy8vUIb5lAQFEcQ/1B/EBAr0WQ8RRfQUAOb93l58FBQG2YKtq6JEJAzMF3zo2HQkA=\"},\"shape\":[49],\"dtype\":\"float64\",\"order\":\"little\"}],[\"right\",{\"type\":\"ndarray\",\"array\":{\"type\":\"bytes\",\"data\":\"u1dKE7206D+7V0oTvbT4P8zBd86NhwJAu1dKE720CECq7RxY7OEOQMzBd86NhxJAxAzhcCWeFUC7V0oTvbQYQLKis7VUyxtAqu0cWOzhHkBRHEP9QfwgQMzBd86NhyJASGesn9kSJEDEDOFwJZ4lQD+yFUJxKSdAu1dKE720KEA3/X7kCEAqQLKis7VUyytALkjohqBWLUCq7RxY7OEuQJPJqBScNjBAURxD/UH8MEAOb93l58ExQMzBd86NhzJAihQStzNNM0BIZ6yf2RI0QAa6Roh/2DRAxAzhcCWeNUCBX3tZy2M2QD+yFUJxKTdA/QSwKhfvN0C7V0oTvbQ4QHmq5PtiejlAN/1+5AhAOkD1TxnNrgU7QLKis7VUyztAcPVNnvqQPEAuSOiGoFY9QOyagm9GHD5Aqu0cWOzhPkBoQLdAkqc/QJPJqBScNkBA8vL1CG+ZQEBRHEP9QfxAQK9FkPEUX0FADm/d5efBQUBtmCrauiRCQMzBd86Nh0JAK+vEwmDqQkA=\"},\"shape\":[49],\"dtype\":\"float64\",\"order\":\"little\"}]]}}},\"view\":{\"type\":\"object\",\"name\":\"CDSView\",\"id\":\"p1273\",\"attributes\":{\"filter\":{\"type\":\"object\",\"name\":\"AllIndices\",\"id\":\"p1274\"}}},\"glyph\":{\"type\":\"object\",\"name\":\"Quad\",\"id\":\"p1269\",\"attributes\":{\"left\":{\"type\":\"field\",\"field\":\"left\"},\"right\":{\"type\":\"field\",\"field\":\"right\"},\"bottom\":{\"type\":\"value\",\"value\":0},\"top\":{\"type\":\"field\",\"field\":\"top\"},\"line_color\":{\"type\":\"value\",\"value\":\"white\"},\"fill_color\":{\"type\":\"value\",\"value\":\"skyblue\"}}},\"nonselection_glyph\":{\"type\":\"object\",\"name\":\"Quad\",\"id\":\"p1270\",\"attributes\":{\"left\":{\"type\":\"field\",\"field\":\"left\"},\"right\":{\"type\":\"field\",\"field\":\"right\"},\"bottom\":{\"type\":\"value\",\"value\":0},\"top\":{\"type\":\"field\",\"field\":\"top\"},\"line_color\":{\"type\":\"value\",\"value\":\"white\"},\"line_alpha\":{\"type\":\"value\",\"value\":0.1},\"fill_color\":{\"type\":\"value\",\"value\":\"skyblue\"},\"fill_alpha\":{\"type\":\"value\",\"value\":0.1},\"hatch_alpha\":{\"type\":\"value\",\"value\":0.1}}},\"muted_glyph\":{\"type\":\"object\",\"name\":\"Quad\",\"id\":\"p1271\",\"attributes\":{\"left\":{\"type\":\"field\",\"field\":\"left\"},\"right\":{\"type\":\"field\",\"field\":\"right\"},\"bottom\":{\"type\":\"value\",\"value\":0},\"top\":{\"type\":\"field\",\"field\":\"top\"},\"line_color\":{\"type\":\"value\",\"value\":\"white\"},\"line_alpha\":{\"type\":\"value\",\"value\":0.2},\"fill_color\":{\"type\":\"value\",\"value\":\"skyblue\"},\"fill_alpha\":{\"type\":\"value\",\"value\":0.2},\"hatch_alpha\":{\"type\":\"value\",\"value\":0.2}}}}},{\"type\":\"object\",\"name\":\"GlyphRenderer\",\"id\":\"p1286\",\"attributes\":{\"y_range_name\":\"cumsum\",\"data_source\":{\"type\":\"object\",\"name\":\"ColumnDataSource\",\"id\":\"p1280\",\"attributes\":{\"selected\":{\"type\":\"object\",\"name\":\"Selection\",\"id\":\"p1281\",\"attributes\":{\"indices\":[],\"line_indices\":[]}},\"selection_policy\":{\"type\":\"object\",\"name\":\"UnionRenderers\",\"id\":\"p1282\"},\"data\":{\"type\":\"map\",\"entries\":[[\"x\",{\"type\":\"ndarray\",\"array\":{\"type\":\"bytes\",\"data\":\"AAAAAAAAAAC7V0oTvbToP7tXShO9tPg/zMF3zo2HAkC7V0oTvbQIQKrtHFjs4Q5AzMF3zo2HEkDEDOFwJZ4VQLtXShO9tBhAsqKztVTLG0Cq7RxY7OEeQFEcQ/1B/CBAzMF3zo2HIkBIZ6yf2RIkQMQM4XAlniVAP7IVQnEpJ0C7V0oTvbQoQDf9fuQIQCpAsqKztVTLK0AuSOiGoFYtQKrtHFjs4S5Ak8moFJw2MEBRHEP9QfwwQA5v3eXnwTFAzMF3zo2HMkCKFBK3M00zQEhnrJ/ZEjRABrpGiH/YNEDEDOFwJZ41QIFfe1nLYzZAP7IVQnEpN0D9BLAqF+83QLtXShO9tDhAeark+2J6OUA3/X7kCEA6QPVPGc2uBTtAsqKztVTLO0Bw9U2e+pA8QC5I6IagVj1A7JqCb0YcPkCq7RxY7OE+QGhAt0CSpz9Ak8moFJw2QEDy8vUIb5lAQFEcQ/1B/EBAr0WQ8RRfQUAOb93l58FBQG2YKtq6JEJAzMF3zo2HQkA=\"},\"shape\":[49],\"dtype\":\"float64\",\"order\":\"little\"}],[\"y\",{\"type\":\"ndarray\",\"array\":{\"type\":\"bytes\",\"data\":\"/Knx0k1iwD/rUbgehevRP5qZmZmZmdk/WDm0yHa+3z+cxCCwcmjhP4xs5/up8eI/exSuR+F65D8bL90kBoHlP7tJDAIrh+Y/+n5qvHST6D+R7Xw/NV7qP9nO91Pjpes/KVyPwvUo7D8pXI/C9SjsP3npJjEIrOw/eekmMQis7D8hsHJoke3sPyGwcmiR7ew/IbByaJHt7D8ZBFYOLbLtP8HKoUW28+0/aZHtfD817j9pke18PzXuPxFYObTIdu4/uR6F61G47j+5HoXrUbjuP2Hl0CLb+e4/YeXQItv57j9h5dAi2/nuP2Hl0CLb+e4/YeXQItv57j8JrBxaZDvvPwmsHFpkO+8/CawcWmQ77z8JrBxaZDvvP7FyaJHtfO8/sXJoke187z9ZObTIdr7vP1k5tMh2vu8/WTm0yHa+7z9ZObTIdr7vP1k5tMh2vu8/WTm0yHa+7z9ZObTIdr7vP1k5tMh2vu8/WTm0yHa+7z9ZObTIdr7vP1k5tMh2vu8/AAAAAAAA8D8=\"},\"shape\":[49],\"dtype\":\"float64\",\"order\":\"little\"}]]}}},\"view\":{\"type\":\"object\",\"name\":\"CDSView\",\"id\":\"p1287\",\"attributes\":{\"filter\":{\"type\":\"object\",\"name\":\"AllIndices\",\"id\":\"p1288\"}}},\"glyph\":{\"type\":\"object\",\"name\":\"Line\",\"id\":\"p1283\",\"attributes\":{\"x\":{\"type\":\"field\",\"field\":\"x\"},\"y\":{\"type\":\"field\",\"field\":\"y\"},\"line_color\":\"navy\"}},\"nonselection_glyph\":{\"type\":\"object\",\"name\":\"Line\",\"id\":\"p1284\",\"attributes\":{\"x\":{\"type\":\"field\",\"field\":\"x\"},\"y\":{\"type\":\"field\",\"field\":\"y\"},\"line_color\":\"navy\",\"line_alpha\":0.1}},\"muted_glyph\":{\"type\":\"object\",\"name\":\"Line\",\"id\":\"p1285\",\"attributes\":{\"x\":{\"type\":\"field\",\"field\":\"x\"},\"y\":{\"type\":\"field\",\"field\":\"y\"},\"line_color\":\"navy\",\"line_alpha\":0.2}}}}],\"toolbar\":{\"type\":\"object\",\"name\":\"Toolbar\",\"id\":\"p1226\",\"attributes\":{\"tools\":[{\"type\":\"object\",\"name\":\"PanTool\",\"id\":\"p1251\"},{\"type\":\"object\",\"name\":\"WheelZoomTool\",\"id\":\"p1252\"},{\"type\":\"object\",\"name\":\"BoxZoomTool\",\"id\":\"p1253\",\"attributes\":{\"overlay\":{\"type\":\"object\",\"name\":\"BoxAnnotation\",\"id\":\"p1254\",\"attributes\":{\"syncable\":false,\"level\":\"overlay\",\"visible\":false,\"left_units\":\"canvas\",\"right_units\":\"canvas\",\"bottom_units\":\"canvas\",\"top_units\":\"canvas\",\"line_color\":\"black\",\"line_alpha\":1.0,\"line_width\":2,\"line_dash\":[4,4],\"fill_color\":\"lightgrey\",\"fill_alpha\":0.5}}}},{\"type\":\"object\",\"name\":\"SaveTool\",\"id\":\"p1255\"},{\"type\":\"object\",\"name\":\"ResetTool\",\"id\":\"p1256\"},{\"type\":\"object\",\"name\":\"HelpTool\",\"id\":\"p1257\"}]}},\"left\":[{\"type\":\"object\",\"name\":\"LinearAxis\",\"id\":\"p1244\",\"attributes\":{\"ticker\":{\"type\":\"object\",\"name\":\"BasicTicker\",\"id\":\"p1247\",\"attributes\":{\"mantissas\":[1,2,5]}},\"formatter\":{\"type\":\"object\",\"name\":\"BasicTickFormatter\",\"id\":\"p1245\"},\"axis_label\":\"PseudorangeAcceleration\",\"major_label_policy\":{\"type\":\"object\",\"name\":\"AllLabels\",\"id\":\"p1246\"}}}],\"right\":[{\"type\":\"object\",\"name\":\"LinearAxis\",\"id\":\"p1289\",\"attributes\":{\"y_range_name\":\"cumsum\",\"ticker\":{\"type\":\"object\",\"name\":\"BasicTicker\",\"id\":\"p1292\",\"attributes\":{\"mantissas\":[1,2,5]}},\"formatter\":{\"type\":\"object\",\"name\":\"BasicTickFormatter\",\"id\":\"p1290\"},\"axis_label\":\"Cumulative probability\",\"major_label_policy\":{\"type\":\"object\",\"name\":\"AllLabels\",\"id\":\"p1291\"}}}],\"below\":[{\"type\":\"object\",\"name\":\"LinearAxis\",\"id\":\"p1237\",\"attributes\":{\"ticker\":{\"type\":\"object\",\"name\":\"BasicTicker\",\"id\":\"p1240\",\"attributes\":{\"mantissas\":[1,2,5]}},\"formatter\":{\"type\":\"object\",\"name\":\"BasicTickFormatter\",\"id\":\"p1238\"},\"major_label_policy\":{\"type\":\"object\",\"name\":\"AllLabels\",\"id\":\"p1239\"}}}],\"center\":[{\"type\":\"object\",\"name\":\"Grid\",\"id\":\"p1243\",\"attributes\":{\"axis\":{\"id\":\"p1237\"}}},{\"type\":\"object\",\"name\":\"Grid\",\"id\":\"p1250\",\"attributes\":{\"dimension\":1,\"axis\":{\"id\":\"p1244\"}}},{\"type\":\"object\",\"name\":\"Span\",\"id\":\"p1275\",\"attributes\":{\"location\":12.213618355604519,\"dimension\":\"height\",\"line_color\":\"red\"}},{\"type\":\"object\",\"name\":\"Label\",\"id\":\"p1276\",\"attributes\":{\"text\":\"95% - 12.214m\",\"text_color\":\"red\",\"text_font_size\":\"8pt\",\"text_font_style\":\"italic\",\"x\":12.213618355604519,\"y\":200,\"y_units\":\"screen\"}},{\"type\":\"object\",\"name\":\"Span\",\"id\":\"p1277\",\"attributes\":{\"location\":25.80097668058922,\"dimension\":\"height\",\"line_color\":\"red\"}},{\"type\":\"object\",\"name\":\"Label\",\"id\":\"p1278\",\"attributes\":{\"text\":\"99% - 25.801m\",\"text_color\":\"red\",\"text_font_size\":\"8pt\",\"text_font_style\":\"italic\",\"x\":25.80097668058922,\"y\":250,\"y_units\":\"screen\"}}],\"background_fill_color\":\"#efefef\"}}],\"callbacks\":{\"type\":\"map\"}}};\n  const render_items = [{\"docid\":\"4f700709-984d-4325-9d47-1784f9135ca0\",\"roots\":{\"p1220\":\"ab5c4a32-dc56-443f-ad0a-8e5456746e0f\"},\"root_ids\":[\"p1220\"]}];\n  root.Bokeh.embed.embed_items_notebook(docs_json, render_items);\n  }\n  if (root.Bokeh !== undefined) {\n    embed_document(root);\n  } else {\n    let attempts = 0;\n    const timer = setInterval(function(root) {\n      if (root.Bokeh !== undefined) {\n        clearInterval(timer);\n        embed_document(root);\n      } else {\n        attempts++;\n        if (attempts > 100) {\n          clearInterval(timer);\n          console.log(\"Bokeh: ERROR: Unable to run BokehJS code because BokehJS library is missing\");\n        }\n      }\n    }, 10, root)\n  }\n})(window);",
      "application/vnd.bokehjs_exec.v0+json": ""
     },
     "metadata": {
      "application/vnd.bokehjs_exec.v0+json": {
       "id": "p1220"
      }
     },
     "output_type": "display_data"
    },
    {
     "data": {
      "text/html": [
       "\n",
       "  <div id=\"f0469829-c978-4c1d-8ee1-4f826d51678e\" data-root-id=\"p1458\" style=\"display: contents;\"></div>\n"
      ]
     },
     "metadata": {},
     "output_type": "display_data"
    },
    {
     "data": {
      "application/javascript": "(function(root) {\n  function embed_document(root) {\n  const docs_json = {\"6a1b7ffd-5b38-4278-abd8-2a5c032a370a\":{\"version\":\"3.1.1\",\"title\":\"Bokeh Application\",\"defs\":[],\"roots\":[{\"type\":\"object\",\"name\":\"Figure\",\"id\":\"p1458\",\"attributes\":{\"height\":300,\"x_range\":{\"type\":\"object\",\"name\":\"DataRange1d\",\"id\":\"p1460\"},\"y_range\":{\"type\":\"object\",\"name\":\"Range1d\",\"id\":\"p1469\",\"attributes\":{\"end\":0.4}},\"x_scale\":{\"type\":\"object\",\"name\":\"LinearScale\",\"id\":\"p1471\"},\"y_scale\":{\"type\":\"object\",\"name\":\"LinearScale\",\"id\":\"p1473\"},\"extra_y_ranges\":{\"type\":\"map\",\"entries\":[[\"cumsum\",{\"type\":\"object\",\"name\":\"Range1d\",\"id\":\"p1517\",\"attributes\":{\"end\":1.1}}]]},\"title\":{\"type\":\"object\",\"name\":\"Title\",\"id\":\"p1461\"},\"renderers\":[{\"type\":\"object\",\"name\":\"GlyphRenderer\",\"id\":\"p1510\",\"attributes\":{\"data_source\":{\"type\":\"object\",\"name\":\"ColumnDataSource\",\"id\":\"p1504\",\"attributes\":{\"selected\":{\"type\":\"object\",\"name\":\"Selection\",\"id\":\"p1505\",\"attributes\":{\"indices\":[],\"line_indices\":[]}},\"selection_policy\":{\"type\":\"object\",\"name\":\"UnionRenderers\",\"id\":\"p1506\"},\"data\":{\"type\":\"map\",\"entries\":[[\"top\",{\"type\":\"ndarray\",\"array\":{\"type\":\"bytes\",\"data\":\"ZzGdxXQW0z9eQ3kN5TXEPxfTWUxnMb0/KK+hvIbyuj8tr6G8hvKaP24fwX0E96E/bh/BfQT3sT9zH8F9BPeRPy2vobyG8qo/La+hvIbymj9rH8F9BPeBPwAAAAAAAAAAcx/BfQT3gT9rH8F9BPeBPwAAAAAAAAAAcx/BfQT3gT9zH8F9BPeRP3MfwX0E95E/AAAAAAAAAAAAAAAAAAAAAAAAAAAAAAAAAAAAAAAAAABzH8F9BPeBPwAAAAAAAAAAAAAAAAAAAAAAAAAAAAAAAHMfwX0E94E/AAAAAAAAAAAAAAAAAAAAAAAAAAAAAAAAAAAAAAAAAAAAAAAAAAAAAAAAAAAAAAAAAAAAAAAAAAAAAAAAAAAAAAAAAAAAAAAAAAAAAAAAAAAAAAAAAAAAAAAAAAAAAAAAAAAAAAAAAAAAAAAAAAAAAAAAAAAAAAAAAAAAAAAAAAAAAAAAAAAAAAAAAAAAAAAAAAAAAAAAAAAAAAAAAAAAAAAAAAAAAAAAcx/BfQT3gT8=\"},\"shape\":[49],\"dtype\":\"float64\",\"order\":\"little\"}],[\"left\",{\"type\":\"ndarray\",\"array\":{\"type\":\"bytes\",\"data\":\"AAAAAAAAAADCdlUlw4bxP8J2VSXDhgFAIzIAuCRKCkDCdlUlw4YRQHLUqu5z6BVAIzIAuCRKGkDUj1WB1aseQMJ2VSXDhiFAmiUAipu3I0By1Kruc+glQEuDVVNMGShAIzIAuCRKKkD74Koc/XosQNSPVYHVqy5AVh8A81ZuMEDCdlUlw4YxQC7OqlcvnzJAmiUAipu3M0AGfVW8B9A0QHLUqu5z6DVA3ysAIeAAN0BLg1VTTBk4QLfaqoW4MTlAIzIAuCRKOkCPiVXqkGI7QPvgqhz9ejxAZzgAT2mTPUDUj1WB1as+QEDnqrNBxD9AVh8A81ZuQEAMyyoMjfpAQMJ2VSXDhkFAeCKAPvkSQkAuzqpXL59CQOR51XBlK0NAmiUAipu3Q0BQ0Sqj0UNEQAZ9VbwH0ERAvCiA1T1cRUBy1Kruc+hFQCmA1QeqdEZA3ysAIeAAR0CV1yo6Fo1HQEuDVVNMGUhAAS+AbIKlSEC32qqFuDFJQG2G1Z7uvUlAIzIAuCRKSkA=\"},\"shape\":[49],\"dtype\":\"float64\",\"order\":\"little\"}],[\"right\",{\"type\":\"ndarray\",\"array\":{\"type\":\"bytes\",\"data\":\"wnZVJcOG8T/CdlUlw4YBQCMyALgkSgpAwnZVJcOGEUBy1Kruc+gVQCMyALgkShpA1I9VgdWrHkDCdlUlw4YhQJolAIqbtyNActSq7nPoJUBLg1VTTBkoQCMyALgkSipA++CqHP16LEDUj1WB1asuQFYfAPNWbjBAwnZVJcOGMUAuzqpXL58yQJolAIqbtzNABn1VvAfQNEBy1Kruc+g1QN8rACHgADdAS4NVU0wZOEC32qqFuDE5QCMyALgkSjpAj4lV6pBiO0D74Koc/Xo8QGc4AE9pkz1A1I9VgdWrPkBA56qzQcQ/QFYfAPNWbkBADMsqDI36QEDCdlUlw4ZBQHgigD75EkJALs6qVy+fQkDkedVwZStDQJolAIqbt0NAUNEqo9FDREAGfVW8B9BEQLwogNU9XEVActSq7nPoRUApgNUHqnRGQN8rACHgAEdAldcqOhaNR0BLg1VTTBlIQAEvgGyCpUhAt9qqhbgxSUBthtWe7r1JQCMyALgkSkpA2d0q0VrWSkA=\"},\"shape\":[49],\"dtype\":\"float64\",\"order\":\"little\"}]]}}},\"view\":{\"type\":\"object\",\"name\":\"CDSView\",\"id\":\"p1511\",\"attributes\":{\"filter\":{\"type\":\"object\",\"name\":\"AllIndices\",\"id\":\"p1512\"}}},\"glyph\":{\"type\":\"object\",\"name\":\"Quad\",\"id\":\"p1507\",\"attributes\":{\"left\":{\"type\":\"field\",\"field\":\"left\"},\"right\":{\"type\":\"field\",\"field\":\"right\"},\"bottom\":{\"type\":\"value\",\"value\":0},\"top\":{\"type\":\"field\",\"field\":\"top\"},\"line_color\":{\"type\":\"value\",\"value\":\"white\"},\"fill_color\":{\"type\":\"value\",\"value\":\"skyblue\"}}},\"nonselection_glyph\":{\"type\":\"object\",\"name\":\"Quad\",\"id\":\"p1508\",\"attributes\":{\"left\":{\"type\":\"field\",\"field\":\"left\"},\"right\":{\"type\":\"field\",\"field\":\"right\"},\"bottom\":{\"type\":\"value\",\"value\":0},\"top\":{\"type\":\"field\",\"field\":\"top\"},\"line_color\":{\"type\":\"value\",\"value\":\"white\"},\"line_alpha\":{\"type\":\"value\",\"value\":0.1},\"fill_color\":{\"type\":\"value\",\"value\":\"skyblue\"},\"fill_alpha\":{\"type\":\"value\",\"value\":0.1},\"hatch_alpha\":{\"type\":\"value\",\"value\":0.1}}},\"muted_glyph\":{\"type\":\"object\",\"name\":\"Quad\",\"id\":\"p1509\",\"attributes\":{\"left\":{\"type\":\"field\",\"field\":\"left\"},\"right\":{\"type\":\"field\",\"field\":\"right\"},\"bottom\":{\"type\":\"value\",\"value\":0},\"top\":{\"type\":\"field\",\"field\":\"top\"},\"line_color\":{\"type\":\"value\",\"value\":\"white\"},\"line_alpha\":{\"type\":\"value\",\"value\":0.2},\"fill_color\":{\"type\":\"value\",\"value\":\"skyblue\"},\"fill_alpha\":{\"type\":\"value\",\"value\":0.2},\"hatch_alpha\":{\"type\":\"value\",\"value\":0.2}}}}},{\"type\":\"object\",\"name\":\"GlyphRenderer\",\"id\":\"p1524\",\"attributes\":{\"y_range_name\":\"cumsum\",\"data_source\":{\"type\":\"object\",\"name\":\"ColumnDataSource\",\"id\":\"p1518\",\"attributes\":{\"selected\":{\"type\":\"object\",\"name\":\"Selection\",\"id\":\"p1519\",\"attributes\":{\"indices\":[],\"line_indices\":[]}},\"selection_policy\":{\"type\":\"object\",\"name\":\"UnionRenderers\",\"id\":\"p1520\"},\"data\":{\"type\":\"map\",\"entries\":[[\"x\",{\"type\":\"ndarray\",\"array\":{\"type\":\"bytes\",\"data\":\"AAAAAAAAAADCdlUlw4bxP8J2VSXDhgFAIzIAuCRKCkDCdlUlw4YRQHLUqu5z6BVAIzIAuCRKGkDUj1WB1aseQMJ2VSXDhiFAmiUAipu3I0By1Kruc+glQEuDVVNMGShAIzIAuCRKKkD74Koc/XosQNSPVYHVqy5AVh8A81ZuMEDCdlUlw4YxQC7OqlcvnzJAmiUAipu3M0AGfVW8B9A0QHLUqu5z6DVA3ysAIeAAN0BLg1VTTBk4QLfaqoW4MTlAIzIAuCRKOkCPiVXqkGI7QPvgqhz9ejxAZzgAT2mTPUDUj1WB1as+QEDnqrNBxD9AVh8A81ZuQEAMyyoMjfpAQMJ2VSXDhkFAeCKAPvkSQkAuzqpXL59CQOR51XBlK0NAmiUAipu3Q0BQ0Sqj0UNEQAZ9VbwH0ERAvCiA1T1cRUBy1Kruc+hFQCmA1QeqdEZA3ysAIeAAR0CV1yo6Fo1HQEuDVVNMGUhAAS+AbIKlSEC32qqFuDFJQG2G1Z7uvUlAIzIAuCRKSkA=\"},\"shape\":[49],\"dtype\":\"float64\",\"order\":\"little\"}],[\"y\",{\"type\":\"ndarray\",\"array\":{\"type\":\"bytes\",\"data\":\"ZzGdxXQW0z8W01lMZzHdP+4juI/gPuI/01lMZzGd5T9MZzGdxXTmP0N5DeU1lOc/MZ3FdBbT6T8tprOYzmLqPyDBfQT3Eew/mc5iOovp7D8X01lMZzHtPxfTWUxnMe0/lddQXkN57T8T3EdwH8HtPxPcR3Afwe0/keA+gvsI7j+N6Syms5juP4nyGsprKO8/ifIaymso7z+J8hrKayjvP4nyGsprKO8/ifIaymso7z8H9xHcR3DvPwf3EdxHcO8/B/cR3Edw7z8H9xHcR3DvP4X7CO4juO8/hfsI7iO47z+F+wjuI7jvP4X7CO4juO8/hfsI7iO47z+F+wjuI7jvP4X7CO4juO8/hfsI7iO47z+F+wjuI7jvP4X7CO4juO8/hfsI7iO47z+F+wjuI7jvP4X7CO4juO8/hfsI7iO47z+F+wjuI7jvP4X7CO4juO8/hfsI7iO47z+F+wjuI7jvP4X7CO4juO8/hfsI7iO47z+F+wjuI7jvP4X7CO4juO8/AQAAAAAA8D8=\"},\"shape\":[49],\"dtype\":\"float64\",\"order\":\"little\"}]]}}},\"view\":{\"type\":\"object\",\"name\":\"CDSView\",\"id\":\"p1525\",\"attributes\":{\"filter\":{\"type\":\"object\",\"name\":\"AllIndices\",\"id\":\"p1526\"}}},\"glyph\":{\"type\":\"object\",\"name\":\"Line\",\"id\":\"p1521\",\"attributes\":{\"x\":{\"type\":\"field\",\"field\":\"x\"},\"y\":{\"type\":\"field\",\"field\":\"y\"},\"line_color\":\"navy\"}},\"nonselection_glyph\":{\"type\":\"object\",\"name\":\"Line\",\"id\":\"p1522\",\"attributes\":{\"x\":{\"type\":\"field\",\"field\":\"x\"},\"y\":{\"type\":\"field\",\"field\":\"y\"},\"line_color\":\"navy\",\"line_alpha\":0.1}},\"muted_glyph\":{\"type\":\"object\",\"name\":\"Line\",\"id\":\"p1523\",\"attributes\":{\"x\":{\"type\":\"field\",\"field\":\"x\"},\"y\":{\"type\":\"field\",\"field\":\"y\"},\"line_color\":\"navy\",\"line_alpha\":0.2}}}}],\"toolbar\":{\"type\":\"object\",\"name\":\"Toolbar\",\"id\":\"p1464\",\"attributes\":{\"tools\":[{\"type\":\"object\",\"name\":\"PanTool\",\"id\":\"p1489\"},{\"type\":\"object\",\"name\":\"WheelZoomTool\",\"id\":\"p1490\"},{\"type\":\"object\",\"name\":\"BoxZoomTool\",\"id\":\"p1491\",\"attributes\":{\"overlay\":{\"type\":\"object\",\"name\":\"BoxAnnotation\",\"id\":\"p1492\",\"attributes\":{\"syncable\":false,\"level\":\"overlay\",\"visible\":false,\"left_units\":\"canvas\",\"right_units\":\"canvas\",\"bottom_units\":\"canvas\",\"top_units\":\"canvas\",\"line_color\":\"black\",\"line_alpha\":1.0,\"line_width\":2,\"line_dash\":[4,4],\"fill_color\":\"lightgrey\",\"fill_alpha\":0.5}}}},{\"type\":\"object\",\"name\":\"SaveTool\",\"id\":\"p1493\"},{\"type\":\"object\",\"name\":\"ResetTool\",\"id\":\"p1494\"},{\"type\":\"object\",\"name\":\"HelpTool\",\"id\":\"p1495\"}]}},\"left\":[{\"type\":\"object\",\"name\":\"LinearAxis\",\"id\":\"p1482\",\"attributes\":{\"ticker\":{\"type\":\"object\",\"name\":\"BasicTicker\",\"id\":\"p1485\",\"attributes\":{\"mantissas\":[1,2,5]}},\"formatter\":{\"type\":\"object\",\"name\":\"BasicTickFormatter\",\"id\":\"p1483\"},\"axis_label\":\"PseudorangeAcceleration\",\"major_label_policy\":{\"type\":\"object\",\"name\":\"AllLabels\",\"id\":\"p1484\"}}}],\"right\":[{\"type\":\"object\",\"name\":\"LinearAxis\",\"id\":\"p1527\",\"attributes\":{\"y_range_name\":\"cumsum\",\"ticker\":{\"type\":\"object\",\"name\":\"BasicTicker\",\"id\":\"p1530\",\"attributes\":{\"mantissas\":[1,2,5]}},\"formatter\":{\"type\":\"object\",\"name\":\"BasicTickFormatter\",\"id\":\"p1528\"},\"axis_label\":\"Cumulative probability\",\"major_label_policy\":{\"type\":\"object\",\"name\":\"AllLabels\",\"id\":\"p1529\"}}}],\"below\":[{\"type\":\"object\",\"name\":\"LinearAxis\",\"id\":\"p1475\",\"attributes\":{\"ticker\":{\"type\":\"object\",\"name\":\"BasicTicker\",\"id\":\"p1478\",\"attributes\":{\"mantissas\":[1,2,5]}},\"formatter\":{\"type\":\"object\",\"name\":\"BasicTickFormatter\",\"id\":\"p1476\"},\"major_label_policy\":{\"type\":\"object\",\"name\":\"AllLabels\",\"id\":\"p1477\"}}}],\"center\":[{\"type\":\"object\",\"name\":\"Grid\",\"id\":\"p1481\",\"attributes\":{\"axis\":{\"id\":\"p1475\"}}},{\"type\":\"object\",\"name\":\"Grid\",\"id\":\"p1488\",\"attributes\":{\"dimension\":1,\"axis\":{\"id\":\"p1482\"}}},{\"type\":\"object\",\"name\":\"Span\",\"id\":\"p1513\",\"attributes\":{\"location\":10.978245462870838,\"dimension\":\"height\",\"line_color\":\"red\"}},{\"type\":\"object\",\"name\":\"Label\",\"id\":\"p1514\",\"attributes\":{\"text\":\"95% - 10.978m\",\"text_color\":\"red\",\"text_font_size\":\"8pt\",\"text_font_style\":\"italic\",\"x\":10.978245462870838,\"y\":200,\"y_units\":\"screen\"}},{\"type\":\"object\",\"name\":\"Span\",\"id\":\"p1515\",\"attributes\":{\"location\":23.944392388190174,\"dimension\":\"height\",\"line_color\":\"red\"}},{\"type\":\"object\",\"name\":\"Label\",\"id\":\"p1516\",\"attributes\":{\"text\":\"99% - 23.944m\",\"text_color\":\"red\",\"text_font_size\":\"8pt\",\"text_font_style\":\"italic\",\"x\":23.944392388190174,\"y\":250,\"y_units\":\"screen\"}}],\"background_fill_color\":\"#efefef\"}}],\"callbacks\":{\"type\":\"map\"}}};\n  const render_items = [{\"docid\":\"6a1b7ffd-5b38-4278-abd8-2a5c032a370a\",\"roots\":{\"p1458\":\"f0469829-c978-4c1d-8ee1-4f826d51678e\"},\"root_ids\":[\"p1458\"]}];\n  root.Bokeh.embed.embed_items_notebook(docs_json, render_items);\n  }\n  if (root.Bokeh !== undefined) {\n    embed_document(root);\n  } else {\n    let attempts = 0;\n    const timer = setInterval(function(root) {\n      if (root.Bokeh !== undefined) {\n        clearInterval(timer);\n        embed_document(root);\n      } else {\n        attempts++;\n        if (attempts > 100) {\n          clearInterval(timer);\n          console.log(\"Bokeh: ERROR: Unable to run BokehJS code because BokehJS library is missing\");\n        }\n      }\n    }, 10, root)\n  }\n})(window);",
      "application/vnd.bokehjs_exec.v0+json": ""
     },
     "metadata": {
      "application/vnd.bokehjs_exec.v0+json": {
       "id": "p1458"
      }
     },
     "output_type": "display_data"
    },
    {
     "data": {
      "text/html": [
       "\n",
       "  <div id=\"a0dd9feb-7991-446c-8b22-6e6bfd03a6d4\" data-root-id=\"p1718\" style=\"display: contents;\"></div>\n"
      ]
     },
     "metadata": {},
     "output_type": "display_data"
    },
    {
     "data": {
      "application/javascript": "(function(root) {\n  function embed_document(root) {\n  const docs_json = {\"513e1727-c9f0-433b-b768-1e25d2f3620d\":{\"version\":\"3.1.1\",\"title\":\"Bokeh Application\",\"defs\":[],\"roots\":[{\"type\":\"object\",\"name\":\"Figure\",\"id\":\"p1718\",\"attributes\":{\"height\":300,\"x_range\":{\"type\":\"object\",\"name\":\"DataRange1d\",\"id\":\"p1720\"},\"y_range\":{\"type\":\"object\",\"name\":\"Range1d\",\"id\":\"p1729\",\"attributes\":{\"end\":0.4}},\"x_scale\":{\"type\":\"object\",\"name\":\"LinearScale\",\"id\":\"p1731\"},\"y_scale\":{\"type\":\"object\",\"name\":\"LinearScale\",\"id\":\"p1733\"},\"extra_y_ranges\":{\"type\":\"map\",\"entries\":[[\"cumsum\",{\"type\":\"object\",\"name\":\"Range1d\",\"id\":\"p1777\",\"attributes\":{\"end\":1.1}}]]},\"title\":{\"type\":\"object\",\"name\":\"Title\",\"id\":\"p1721\"},\"renderers\":[{\"type\":\"object\",\"name\":\"GlyphRenderer\",\"id\":\"p1770\",\"attributes\":{\"data_source\":{\"type\":\"object\",\"name\":\"ColumnDataSource\",\"id\":\"p1764\",\"attributes\":{\"selected\":{\"type\":\"object\",\"name\":\"Selection\",\"id\":\"p1765\",\"attributes\":{\"indices\":[],\"line_indices\":[]}},\"selection_policy\":{\"type\":\"object\",\"name\":\"UnionRenderers\",\"id\":\"p1766\"},\"data\":{\"type\":\"map\",\"entries\":[[\"top\",{\"type\":\"ndarray\",\"array\":{\"type\":\"bytes\",\"data\":\"AAAAAAAA0T/////////BPwAAAAAAAMA//v//////sz/9//////+PPwIAAAAAAKA//f//////nz/+//////+nP/7//////6c/AAAAAAAAAAAAAAAAAAAAAAUAAAAAAJA/AAAAAAAAAAD+//////+nP/3//////48//f//////nz/9//////+PPwAAAAAAAAAA/f//////jz8AAAAAAAAAAAAAAAAAAAAAAAAAAAAAAAAAAAAAAAAAAAAAAAAAAAAA/f//////nz8AAAAAAAAAAAAAAAAAAAAAAAAAAAAAAAAAAAAAAAAAAAAAAAAAAAAAAAAAAAAAAAAAAAAAAAAAAP3//////48/AAAAAAAAAAAAAAAAAAAAAAAAAAAAAAAAAAAAAAAAAAAAAAAAAAAAAAAAAAAAAAAAAAAAAAAAAAAAAAAAAAAAAAAAAAAAAAAAAAAAAAAAAAAAAAAAAAAAAAAAAAAAAAAAAAAAAAAAAAAAAAAAAAAAAAAAAAAAAAAA/f//////nz8=\"},\"shape\":[49],\"dtype\":\"float64\",\"order\":\"little\"}],[\"left\",{\"type\":\"ndarray\",\"array\":{\"type\":\"bytes\",\"data\":\"AAAAAAAAAAC/9kUFOK8UQL/2RQU4ryRAHvLoB9QGL0C/9kUFOK80QG90lwYG2zlAHvLoB9QGP0DnN50EURlCQL/2RQU4r0RAl7XuBR9FR0BvdJcGBttJQEczQAftcExAHvLoB9QGT0B72EiEXc5QQOc3nQRRGVJAU5fxhERkU0C/9kUFOK9UQCtWmoUr+lVAl7XuBR9FV0ADFUOGEpBYQG90lwYG21lA29PrhvklW0BHM0AH7XBcQLOSlIfgu11AHvLoB9QGX0DFqB7E4yhgQHvYSIRdzmBAMQhzRNdzYUDnN50EURliQJ1nx8TKvmJAU5fxhERkY0AJxxtFvglkQL/2RQU4r2RAdSZwxbFUZUArVpqFK/plQOGFxEWln2ZAl7XuBR9FZ0BN5RjGmOpnQAMVQ4YSkGhAuURtRow1aUBvdJcGBttpQCWkwcZ/gGpA29Prhvkla0CRAxZHc8trQEczQAftcGxA/WJqx2YWbUCzkpSH4LttQGnCvkdaYW5AHvLoB9QGb0A=\"},\"shape\":[49],\"dtype\":\"float64\",\"order\":\"little\"}],[\"right\",{\"type\":\"ndarray\",\"array\":{\"type\":\"bytes\",\"data\":\"v/ZFBTivFEC/9kUFOK8kQB7y6AfUBi9Av/ZFBTivNEBvdJcGBts5QB7y6AfUBj9A5zedBFEZQkC/9kUFOK9EQJe17gUfRUdAb3SXBgbbSUBHM0AH7XBMQB7y6AfUBk9Ae9hIhF3OUEDnN50EURlSQFOX8YREZFNAv/ZFBTivVEArVpqFK/pVQJe17gUfRVdAAxVDhhKQWEBvdJcGBttZQNvT64b5JVtARzNAB+1wXECzkpSH4LtdQB7y6AfUBl9AxagexOMoYEB72EiEXc5gQDEIc0TXc2FA5zedBFEZYkCdZ8fEyr5iQFOX8YREZGNACccbRb4JZEC/9kUFOK9kQHUmcMWxVGVAK1aahSv6ZUDhhcRFpZ9mQJe17gUfRWdATeUYxpjqZ0ADFUOGEpBoQLlEbUaMNWlAb3SXBgbbaUAlpMHGf4BqQNvT64b5JWtAkQMWR3PLa0BHM0AH7XBsQP1iasdmFm1As5KUh+C7bUBpwr5HWmFuQB7y6AfUBm9A1CETyE2sb0A=\"},\"shape\":[49],\"dtype\":\"float64\",\"order\":\"little\"}]]}}},\"view\":{\"type\":\"object\",\"name\":\"CDSView\",\"id\":\"p1771\",\"attributes\":{\"filter\":{\"type\":\"object\",\"name\":\"AllIndices\",\"id\":\"p1772\"}}},\"glyph\":{\"type\":\"object\",\"name\":\"Quad\",\"id\":\"p1767\",\"attributes\":{\"left\":{\"type\":\"field\",\"field\":\"left\"},\"right\":{\"type\":\"field\",\"field\":\"right\"},\"bottom\":{\"type\":\"value\",\"value\":0},\"top\":{\"type\":\"field\",\"field\":\"top\"},\"line_color\":{\"type\":\"value\",\"value\":\"white\"},\"fill_color\":{\"type\":\"value\",\"value\":\"skyblue\"}}},\"nonselection_glyph\":{\"type\":\"object\",\"name\":\"Quad\",\"id\":\"p1768\",\"attributes\":{\"left\":{\"type\":\"field\",\"field\":\"left\"},\"right\":{\"type\":\"field\",\"field\":\"right\"},\"bottom\":{\"type\":\"value\",\"value\":0},\"top\":{\"type\":\"field\",\"field\":\"top\"},\"line_color\":{\"type\":\"value\",\"value\":\"white\"},\"line_alpha\":{\"type\":\"value\",\"value\":0.1},\"fill_color\":{\"type\":\"value\",\"value\":\"skyblue\"},\"fill_alpha\":{\"type\":\"value\",\"value\":0.1},\"hatch_alpha\":{\"type\":\"value\",\"value\":0.1}}},\"muted_glyph\":{\"type\":\"object\",\"name\":\"Quad\",\"id\":\"p1769\",\"attributes\":{\"left\":{\"type\":\"field\",\"field\":\"left\"},\"right\":{\"type\":\"field\",\"field\":\"right\"},\"bottom\":{\"type\":\"value\",\"value\":0},\"top\":{\"type\":\"field\",\"field\":\"top\"},\"line_color\":{\"type\":\"value\",\"value\":\"white\"},\"line_alpha\":{\"type\":\"value\",\"value\":0.2},\"fill_color\":{\"type\":\"value\",\"value\":\"skyblue\"},\"fill_alpha\":{\"type\":\"value\",\"value\":0.2},\"hatch_alpha\":{\"type\":\"value\",\"value\":0.2}}}}},{\"type\":\"object\",\"name\":\"GlyphRenderer\",\"id\":\"p1784\",\"attributes\":{\"y_range_name\":\"cumsum\",\"data_source\":{\"type\":\"object\",\"name\":\"ColumnDataSource\",\"id\":\"p1778\",\"attributes\":{\"selected\":{\"type\":\"object\",\"name\":\"Selection\",\"id\":\"p1779\",\"attributes\":{\"indices\":[],\"line_indices\":[]}},\"selection_policy\":{\"type\":\"object\",\"name\":\"UnionRenderers\",\"id\":\"p1780\"},\"data\":{\"type\":\"map\",\"entries\":[[\"x\",{\"type\":\"ndarray\",\"array\":{\"type\":\"bytes\",\"data\":\"AAAAAAAAAAC/9kUFOK8UQL/2RQU4ryRAHvLoB9QGL0C/9kUFOK80QG90lwYG2zlAHvLoB9QGP0DnN50EURlCQL/2RQU4r0RAl7XuBR9FR0BvdJcGBttJQEczQAftcExAHvLoB9QGT0B72EiEXc5QQOc3nQRRGVJAU5fxhERkU0C/9kUFOK9UQCtWmoUr+lVAl7XuBR9FV0ADFUOGEpBYQG90lwYG21lA29PrhvklW0BHM0AH7XBcQLOSlIfgu11AHvLoB9QGX0DFqB7E4yhgQHvYSIRdzmBAMQhzRNdzYUDnN50EURliQJ1nx8TKvmJAU5fxhERkY0AJxxtFvglkQL/2RQU4r2RAdSZwxbFUZUArVpqFK/plQOGFxEWln2ZAl7XuBR9FZ0BN5RjGmOpnQAMVQ4YSkGhAuURtRow1aUBvdJcGBttpQCWkwcZ/gGpA29Prhvkla0CRAxZHc8trQEczQAftcGxA/WJqx2YWbUCzkpSH4LttQGnCvkdaYW5AHvLoB9QGb0A=\"},\"shape\":[49],\"dtype\":\"float64\",\"order\":\"little\"}],[\"y\",{\"type\":\"ndarray\",\"array\":{\"type\":\"bytes\",\"data\":\"AAAAAAAA0T8AAAAAAADaPwAAAAAAAOE/AAAAAACA4z8AAAAAAADkPwAAAAAAAOU/AAAAAAAA5j8AAAAAAIDnPwAAAAAAAOk/AAAAAAAA6T8AAAAAAADpPwAAAAAAgOk/AAAAAACA6T8AAAAAAADrPwAAAAAAgOs/AAAAAACA7D8AAAAAAADtPwAAAAAAAO0/AAAAAACA7T8AAAAAAIDtPwAAAAAAgO0/AAAAAACA7T8AAAAAAIDtPwAAAAAAgO0/AAAAAACA7j8AAAAAAIDuPwAAAAAAgO4/AAAAAACA7j8AAAAAAIDuPwAAAAAAgO4/AAAAAACA7j8AAAAAAIDuPwAAAAAAAO8/AAAAAAAA7z8AAAAAAADvPwAAAAAAAO8/AAAAAAAA7z8AAAAAAADvPwAAAAAAAO8/AAAAAAAA7z8AAAAAAADvPwAAAAAAAO8/AAAAAAAA7z8AAAAAAADvPwAAAAAAAO8/AAAAAAAA7z8AAAAAAADvPwAAAAAAAO8/AAAAAAAA8D8=\"},\"shape\":[49],\"dtype\":\"float64\",\"order\":\"little\"}]]}}},\"view\":{\"type\":\"object\",\"name\":\"CDSView\",\"id\":\"p1785\",\"attributes\":{\"filter\":{\"type\":\"object\",\"name\":\"AllIndices\",\"id\":\"p1786\"}}},\"glyph\":{\"type\":\"object\",\"name\":\"Line\",\"id\":\"p1781\",\"attributes\":{\"x\":{\"type\":\"field\",\"field\":\"x\"},\"y\":{\"type\":\"field\",\"field\":\"y\"},\"line_color\":\"navy\"}},\"nonselection_glyph\":{\"type\":\"object\",\"name\":\"Line\",\"id\":\"p1782\",\"attributes\":{\"x\":{\"type\":\"field\",\"field\":\"x\"},\"y\":{\"type\":\"field\",\"field\":\"y\"},\"line_color\":\"navy\",\"line_alpha\":0.1}},\"muted_glyph\":{\"type\":\"object\",\"name\":\"Line\",\"id\":\"p1783\",\"attributes\":{\"x\":{\"type\":\"field\",\"field\":\"x\"},\"y\":{\"type\":\"field\",\"field\":\"y\"},\"line_color\":\"navy\",\"line_alpha\":0.2}}}}],\"toolbar\":{\"type\":\"object\",\"name\":\"Toolbar\",\"id\":\"p1724\",\"attributes\":{\"tools\":[{\"type\":\"object\",\"name\":\"PanTool\",\"id\":\"p1749\"},{\"type\":\"object\",\"name\":\"WheelZoomTool\",\"id\":\"p1750\"},{\"type\":\"object\",\"name\":\"BoxZoomTool\",\"id\":\"p1751\",\"attributes\":{\"overlay\":{\"type\":\"object\",\"name\":\"BoxAnnotation\",\"id\":\"p1752\",\"attributes\":{\"syncable\":false,\"level\":\"overlay\",\"visible\":false,\"left_units\":\"canvas\",\"right_units\":\"canvas\",\"bottom_units\":\"canvas\",\"top_units\":\"canvas\",\"line_color\":\"black\",\"line_alpha\":1.0,\"line_width\":2,\"line_dash\":[4,4],\"fill_color\":\"lightgrey\",\"fill_alpha\":0.5}}}},{\"type\":\"object\",\"name\":\"SaveTool\",\"id\":\"p1753\"},{\"type\":\"object\",\"name\":\"ResetTool\",\"id\":\"p1754\"},{\"type\":\"object\",\"name\":\"HelpTool\",\"id\":\"p1755\"}]}},\"left\":[{\"type\":\"object\",\"name\":\"LinearAxis\",\"id\":\"p1742\",\"attributes\":{\"ticker\":{\"type\":\"object\",\"name\":\"BasicTicker\",\"id\":\"p1745\",\"attributes\":{\"mantissas\":[1,2,5]}},\"formatter\":{\"type\":\"object\",\"name\":\"BasicTickFormatter\",\"id\":\"p1743\"},\"axis_label\":\"PseudorangeAcceleration\",\"major_label_policy\":{\"type\":\"object\",\"name\":\"AllLabels\",\"id\":\"p1744\"}}}],\"right\":[{\"type\":\"object\",\"name\":\"LinearAxis\",\"id\":\"p1787\",\"attributes\":{\"y_range_name\":\"cumsum\",\"ticker\":{\"type\":\"object\",\"name\":\"BasicTicker\",\"id\":\"p1790\",\"attributes\":{\"mantissas\":[1,2,5]}},\"formatter\":{\"type\":\"object\",\"name\":\"BasicTickFormatter\",\"id\":\"p1788\"},\"axis_label\":\"Cumulative probability\",\"major_label_policy\":{\"type\":\"object\",\"name\":\"AllLabels\",\"id\":\"p1789\"}}}],\"below\":[{\"type\":\"object\",\"name\":\"LinearAxis\",\"id\":\"p1735\",\"attributes\":{\"ticker\":{\"type\":\"object\",\"name\":\"BasicTicker\",\"id\":\"p1738\",\"attributes\":{\"mantissas\":[1,2,5]}},\"formatter\":{\"type\":\"object\",\"name\":\"BasicTickFormatter\",\"id\":\"p1736\"},\"major_label_policy\":{\"type\":\"object\",\"name\":\"AllLabels\",\"id\":\"p1737\"}}}],\"center\":[{\"type\":\"object\",\"name\":\"Grid\",\"id\":\"p1741\",\"attributes\":{\"axis\":{\"id\":\"p1735\"}}},{\"type\":\"object\",\"name\":\"Grid\",\"id\":\"p1748\",\"attributes\":{\"dimension\":1,\"axis\":{\"id\":\"p1742\"}}},{\"type\":\"object\",\"name\":\"Span\",\"id\":\"p1773\",\"attributes\":{\"location\":84.52010080687388,\"dimension\":\"height\",\"line_color\":\"red\"}},{\"type\":\"object\",\"name\":\"Label\",\"id\":\"p1774\",\"attributes\":{\"text\":\"95% - 84.520m\",\"text_color\":\"red\",\"text_font_size\":\"8pt\",\"text_font_style\":\"italic\",\"x\":84.52010080687388,\"y\":200,\"y_units\":\"screen\"}},{\"type\":\"object\",\"name\":\"Span\",\"id\":\"p1775\",\"attributes\":{\"location\":228.64660353101488,\"dimension\":\"height\",\"line_color\":\"red\"}},{\"type\":\"object\",\"name\":\"Label\",\"id\":\"p1776\",\"attributes\":{\"text\":\"99% - 228.647m\",\"text_color\":\"red\",\"text_font_size\":\"8pt\",\"text_font_style\":\"italic\",\"x\":228.64660353101488,\"y\":250,\"y_units\":\"screen\"}}],\"background_fill_color\":\"#efefef\"}}],\"callbacks\":{\"type\":\"map\"}}};\n  const render_items = [{\"docid\":\"513e1727-c9f0-433b-b768-1e25d2f3620d\",\"roots\":{\"p1718\":\"a0dd9feb-7991-446c-8b22-6e6bfd03a6d4\"},\"root_ids\":[\"p1718\"]}];\n  root.Bokeh.embed.embed_items_notebook(docs_json, render_items);\n  }\n  if (root.Bokeh !== undefined) {\n    embed_document(root);\n  } else {\n    let attempts = 0;\n    const timer = setInterval(function(root) {\n      if (root.Bokeh !== undefined) {\n        clearInterval(timer);\n        embed_document(root);\n      } else {\n        attempts++;\n        if (attempts > 100) {\n          clearInterval(timer);\n          console.log(\"Bokeh: ERROR: Unable to run BokehJS code because BokehJS library is missing\");\n        }\n      }\n    }, 10, root)\n  }\n})(window);",
      "application/vnd.bokehjs_exec.v0+json": ""
     },
     "metadata": {
      "application/vnd.bokehjs_exec.v0+json": {
       "id": "p1718"
      }
     },
     "output_type": "display_data"
    },
    {
     "data": {
      "text/html": [
       "\n",
       "  <div id=\"e28c96a3-f10d-4ea5-900d-720e55dbec63\" data-root-id=\"p2000\" style=\"display: contents;\"></div>\n"
      ]
     },
     "metadata": {},
     "output_type": "display_data"
    },
    {
     "data": {
      "application/javascript": "(function(root) {\n  function embed_document(root) {\n  const docs_json = {\"dd1f77e0-1b9a-4e62-9b7f-9ed4953d87b9\":{\"version\":\"3.1.1\",\"title\":\"Bokeh Application\",\"defs\":[],\"roots\":[{\"type\":\"object\",\"name\":\"Figure\",\"id\":\"p2000\",\"attributes\":{\"height\":300,\"x_range\":{\"type\":\"object\",\"name\":\"DataRange1d\",\"id\":\"p2002\"},\"y_range\":{\"type\":\"object\",\"name\":\"Range1d\",\"id\":\"p2011\",\"attributes\":{\"end\":0.4}},\"x_scale\":{\"type\":\"object\",\"name\":\"LinearScale\",\"id\":\"p2013\"},\"y_scale\":{\"type\":\"object\",\"name\":\"LinearScale\",\"id\":\"p2015\"},\"extra_y_ranges\":{\"type\":\"map\",\"entries\":[[\"cumsum\",{\"type\":\"object\",\"name\":\"Range1d\",\"id\":\"p2059\",\"attributes\":{\"end\":1.1}}]]},\"title\":{\"type\":\"object\",\"name\":\"Title\",\"id\":\"p2003\"},\"renderers\":[{\"type\":\"object\",\"name\":\"GlyphRenderer\",\"id\":\"p2052\",\"attributes\":{\"data_source\":{\"type\":\"object\",\"name\":\"ColumnDataSource\",\"id\":\"p2046\",\"attributes\":{\"selected\":{\"type\":\"object\",\"name\":\"Selection\",\"id\":\"p2047\",\"attributes\":{\"indices\":[],\"line_indices\":[]}},\"selection_policy\":{\"type\":\"object\",\"name\":\"UnionRenderers\",\"id\":\"p2048\"},\"data\":{\"type\":\"map\",\"entries\":[[\"top\",{\"type\":\"ndarray\",\"array\":{\"type\":\"bytes\",\"data\":\"e2phpacW1j+fWljpqYXFPxF4+yGBt78/WHpqYaWnpj82+bJBky+rPzH5skGTL5s/NvmyQZMvmz95+yGBtx+SP1h6amGlp6Y/efshgbcfkj95+yGBtx+CPwAAAAAAAAAAefshgbcfgj8AAAAAAAAAAHn7IYG3H4I/efshgbcfkj8AAAAAAAAAAHn7IYG3H6I/efshgbcfkj8AAAAAAAAAAHn7IYG3H4I/AAAAAAAAAAAAAAAAAAAAAGz7IYG3H4I/AAAAAAAAAAAAAAAAAAAAAAAAAAAAAAAAAAAAAAAAAAAAAAAAAAAAAAAAAAAAAAAAAAAAAAAAAAAAAAAAAAAAAAAAAAAAAAAAAAAAAAAAAAAAAAAAAAAAAAAAAAAAAAAAAAAAAAAAAAAAAAAAAAAAAGz7IYG3H4I/AAAAAAAAAAAAAAAAAAAAAAAAAAAAAAAAAAAAAAAAAAAAAAAAAAAAAAAAAAAAAAAAAAAAAAAAAAAAAAAAAAAAAAAAAAAAAAAAhvshgbcfgj8=\"},\"shape\":[49],\"dtype\":\"float64\",\"order\":\"little\"}],[\"left\",{\"type\":\"ndarray\",\"array\":{\"type\":\"bytes\",\"data\":\"AAAAAAAAAABRUqfCWQsWQFFSp8JZCyZAvX39UYOIMEBRUqfCWQs2QOUmUTMwjjtAvX39UYOIQEAHaFKK7klDQFFSp8JZC0ZAmzz8+sTMSEDlJlEzMI5LQC8RpmubT05AvX39UYOIUEDi8ifuOOlRQAdoUoruSVNALN18JqSqVEBRUqfCWQtWQHbH0V4PbFdAmzz8+sTMWEDAsSaXei1aQOUmUTMwjltACpx7z+XuXEAvEaZrm09eQFSG0AdRsF9AvX39UYOIYEBPuBIg3jhhQOLyJ+446WFAdC09vJOZYkAHaFKK7kljQJmiZ1hJ+mNALN18JqSqZEC+F5L0/lplQFFSp8JZC2ZA5Iy8kLS7ZkB2x9FeD2xnQAkC5yxqHGhAmzz8+sTMaEAudxHJH31pQMCxJpd6LWpAU+w7ZdXdakDlJlEzMI5rQHhhZgGLPmxACpx7z+XubECd1pCdQJ9tQC8RpmubT25Awku7Ofb/bkBUhtAHUbBvQHPg8upVMHBAvX39UYOIcEA=\"},\"shape\":[49],\"dtype\":\"float64\",\"order\":\"little\"}],[\"right\",{\"type\":\"ndarray\",\"array\":{\"type\":\"bytes\",\"data\":\"UVKnwlkLFkBRUqfCWQsmQL19/VGDiDBAUVKnwlkLNkDlJlEzMI47QL19/VGDiEBAB2hSiu5JQ0BRUqfCWQtGQJs8/PrEzEhA5SZRMzCOS0AvEaZrm09OQL19/VGDiFBA4vIn7jjpUUAHaFKK7klTQCzdfCakqlRAUVKnwlkLVkB2x9FeD2xXQJs8/PrEzFhAwLEml3otWkDlJlEzMI5bQAqce8/l7lxALxGma5tPXkBUhtAHUbBfQL19/VGDiGBAT7gSIN44YUDi8ifuOOlhQHQtPbyTmWJAB2hSiu5JY0CZomdYSfpjQCzdfCakqmRAvheS9P5aZUBRUqfCWQtmQOSMvJC0u2ZAdsfRXg9sZ0AJAucsahxoQJs8/PrEzGhALncRyR99aUDAsSaXei1qQFPsO2XV3WpA5SZRMzCOa0B4YWYBiz5sQAqce8/l7mxAndaQnUCfbUAvEaZrm09uQMJLuzn2/25AVIbQB1Gwb0Bz4PLqVTBwQL19/VGDiHBABhsIubDgcEA=\"},\"shape\":[49],\"dtype\":\"float64\",\"order\":\"little\"}]]}}},\"view\":{\"type\":\"object\",\"name\":\"CDSView\",\"id\":\"p2053\",\"attributes\":{\"filter\":{\"type\":\"object\",\"name\":\"AllIndices\",\"id\":\"p2054\"}}},\"glyph\":{\"type\":\"object\",\"name\":\"Quad\",\"id\":\"p2049\",\"attributes\":{\"left\":{\"type\":\"field\",\"field\":\"left\"},\"right\":{\"type\":\"field\",\"field\":\"right\"},\"bottom\":{\"type\":\"value\",\"value\":0},\"top\":{\"type\":\"field\",\"field\":\"top\"},\"line_color\":{\"type\":\"value\",\"value\":\"white\"},\"fill_color\":{\"type\":\"value\",\"value\":\"skyblue\"}}},\"nonselection_glyph\":{\"type\":\"object\",\"name\":\"Quad\",\"id\":\"p2050\",\"attributes\":{\"left\":{\"type\":\"field\",\"field\":\"left\"},\"right\":{\"type\":\"field\",\"field\":\"right\"},\"bottom\":{\"type\":\"value\",\"value\":0},\"top\":{\"type\":\"field\",\"field\":\"top\"},\"line_color\":{\"type\":\"value\",\"value\":\"white\"},\"line_alpha\":{\"type\":\"value\",\"value\":0.1},\"fill_color\":{\"type\":\"value\",\"value\":\"skyblue\"},\"fill_alpha\":{\"type\":\"value\",\"value\":0.1},\"hatch_alpha\":{\"type\":\"value\",\"value\":0.1}}},\"muted_glyph\":{\"type\":\"object\",\"name\":\"Quad\",\"id\":\"p2051\",\"attributes\":{\"left\":{\"type\":\"field\",\"field\":\"left\"},\"right\":{\"type\":\"field\",\"field\":\"right\"},\"bottom\":{\"type\":\"value\",\"value\":0},\"top\":{\"type\":\"field\",\"field\":\"top\"},\"line_color\":{\"type\":\"value\",\"value\":\"white\"},\"line_alpha\":{\"type\":\"value\",\"value\":0.2},\"fill_color\":{\"type\":\"value\",\"value\":\"skyblue\"},\"fill_alpha\":{\"type\":\"value\",\"value\":0.2},\"hatch_alpha\":{\"type\":\"value\",\"value\":0.2}}}}},{\"type\":\"object\",\"name\":\"GlyphRenderer\",\"id\":\"p2066\",\"attributes\":{\"y_range_name\":\"cumsum\",\"data_source\":{\"type\":\"object\",\"name\":\"ColumnDataSource\",\"id\":\"p2060\",\"attributes\":{\"selected\":{\"type\":\"object\",\"name\":\"Selection\",\"id\":\"p2061\",\"attributes\":{\"indices\":[],\"line_indices\":[]}},\"selection_policy\":{\"type\":\"object\",\"name\":\"UnionRenderers\",\"id\":\"p2062\"},\"data\":{\"type\":\"map\",\"entries\":[[\"x\",{\"type\":\"ndarray\",\"array\":{\"type\":\"bytes\",\"data\":\"AAAAAAAAAABRUqfCWQsWQFFSp8JZCyZAvX39UYOIMEBRUqfCWQs2QOUmUTMwjjtAvX39UYOIQEAHaFKK7klDQFFSp8JZC0ZAmzz8+sTMSEDlJlEzMI5LQC8RpmubT05AvX39UYOIUEDi8ifuOOlRQAdoUoruSVNALN18JqSqVEBRUqfCWQtWQHbH0V4PbFdAmzz8+sTMWEDAsSaXei1aQOUmUTMwjltACpx7z+XuXEAvEaZrm09eQFSG0AdRsF9AvX39UYOIYEBPuBIg3jhhQOLyJ+446WFAdC09vJOZYkAHaFKK7kljQJmiZ1hJ+mNALN18JqSqZEC+F5L0/lplQFFSp8JZC2ZA5Iy8kLS7ZkB2x9FeD2xnQAkC5yxqHGhAmzz8+sTMaEAudxHJH31pQMCxJpd6LWpAU+w7ZdXdakDlJlEzMI5rQHhhZgGLPmxACpx7z+XubECd1pCdQJ9tQC8RpmubT25Awku7Ofb/bkBUhtAHUbBvQHPg8upVMHBAvX39UYOIcEA=\"},\"shape\":[49],\"dtype\":\"float64\",\"order\":\"little\"}],[\"y\",{\"type\":\"ndarray\",\"array\":{\"type\":\"bytes\",\"data\":\"e2phpacW1j/lywZNvmzgP+c6RnGuY+Q/jOJcxyjO5T8fEnj7IYHnP+mphZWeWug/s0GTLxs06T+PUZzrGMXpPzT5skGTL+s/EAm8/ZDA6z/+kMDbDwnsP/6QwNsPCew/7BjFuY5R7D/sGMW5jlHsP9qgyZcNmuw/trDSUwsr7T+2sNJTCyvtP27Q5MsGTe4/SuDthwTe7j9K4O2HBN7uPzho8mWDJu8/OGjyZYMm7z84aPJlgybvPybw9kMCb+8/JvD2QwJv7z8m8PZDAm/vPybw9kMCb+8/JvD2QwJv7z8m8PZDAm/vPybw9kMCb+8/JvD2QwJv7z8m8PZDAm/vPybw9kMCb+8/JvD2QwJv7z8m8PZDAm/vPybw9kMCb+8/JvD2QwJv7z8m8PZDAm/vPxR4+yGBt+8/FHj7IYG37z8UePshgbfvPxR4+yGBt+8/FHj7IYG37z8UePshgbfvPxR4+yGBt+8/FHj7IYG37z8UePshgbfvPxR4+yGBt+8/AQAAAAAA8D8=\"},\"shape\":[49],\"dtype\":\"float64\",\"order\":\"little\"}]]}}},\"view\":{\"type\":\"object\",\"name\":\"CDSView\",\"id\":\"p2067\",\"attributes\":{\"filter\":{\"type\":\"object\",\"name\":\"AllIndices\",\"id\":\"p2068\"}}},\"glyph\":{\"type\":\"object\",\"name\":\"Line\",\"id\":\"p2063\",\"attributes\":{\"x\":{\"type\":\"field\",\"field\":\"x\"},\"y\":{\"type\":\"field\",\"field\":\"y\"},\"line_color\":\"navy\"}},\"nonselection_glyph\":{\"type\":\"object\",\"name\":\"Line\",\"id\":\"p2064\",\"attributes\":{\"x\":{\"type\":\"field\",\"field\":\"x\"},\"y\":{\"type\":\"field\",\"field\":\"y\"},\"line_color\":\"navy\",\"line_alpha\":0.1}},\"muted_glyph\":{\"type\":\"object\",\"name\":\"Line\",\"id\":\"p2065\",\"attributes\":{\"x\":{\"type\":\"field\",\"field\":\"x\"},\"y\":{\"type\":\"field\",\"field\":\"y\"},\"line_color\":\"navy\",\"line_alpha\":0.2}}}}],\"toolbar\":{\"type\":\"object\",\"name\":\"Toolbar\",\"id\":\"p2006\",\"attributes\":{\"tools\":[{\"type\":\"object\",\"name\":\"PanTool\",\"id\":\"p2031\"},{\"type\":\"object\",\"name\":\"WheelZoomTool\",\"id\":\"p2032\"},{\"type\":\"object\",\"name\":\"BoxZoomTool\",\"id\":\"p2033\",\"attributes\":{\"overlay\":{\"type\":\"object\",\"name\":\"BoxAnnotation\",\"id\":\"p2034\",\"attributes\":{\"syncable\":false,\"level\":\"overlay\",\"visible\":false,\"left_units\":\"canvas\",\"right_units\":\"canvas\",\"bottom_units\":\"canvas\",\"top_units\":\"canvas\",\"line_color\":\"black\",\"line_alpha\":1.0,\"line_width\":2,\"line_dash\":[4,4],\"fill_color\":\"lightgrey\",\"fill_alpha\":0.5}}}},{\"type\":\"object\",\"name\":\"SaveTool\",\"id\":\"p2035\"},{\"type\":\"object\",\"name\":\"ResetTool\",\"id\":\"p2036\"},{\"type\":\"object\",\"name\":\"HelpTool\",\"id\":\"p2037\"}]}},\"left\":[{\"type\":\"object\",\"name\":\"LinearAxis\",\"id\":\"p2024\",\"attributes\":{\"ticker\":{\"type\":\"object\",\"name\":\"BasicTicker\",\"id\":\"p2027\",\"attributes\":{\"mantissas\":[1,2,5]}},\"formatter\":{\"type\":\"object\",\"name\":\"BasicTickFormatter\",\"id\":\"p2025\"},\"axis_label\":\"PseudorangeAcceleration\",\"major_label_policy\":{\"type\":\"object\",\"name\":\"AllLabels\",\"id\":\"p2026\"}}}],\"right\":[{\"type\":\"object\",\"name\":\"LinearAxis\",\"id\":\"p2069\",\"attributes\":{\"y_range_name\":\"cumsum\",\"ticker\":{\"type\":\"object\",\"name\":\"BasicTicker\",\"id\":\"p2072\",\"attributes\":{\"mantissas\":[1,2,5]}},\"formatter\":{\"type\":\"object\",\"name\":\"BasicTickFormatter\",\"id\":\"p2070\"},\"axis_label\":\"Cumulative probability\",\"major_label_policy\":{\"type\":\"object\",\"name\":\"AllLabels\",\"id\":\"p2071\"}}}],\"below\":[{\"type\":\"object\",\"name\":\"LinearAxis\",\"id\":\"p2017\",\"attributes\":{\"ticker\":{\"type\":\"object\",\"name\":\"BasicTicker\",\"id\":\"p2020\",\"attributes\":{\"mantissas\":[1,2,5]}},\"formatter\":{\"type\":\"object\",\"name\":\"BasicTickFormatter\",\"id\":\"p2018\"},\"major_label_policy\":{\"type\":\"object\",\"name\":\"AllLabels\",\"id\":\"p2019\"}}}],\"center\":[{\"type\":\"object\",\"name\":\"Grid\",\"id\":\"p2023\",\"attributes\":{\"axis\":{\"id\":\"p2017\"}}},{\"type\":\"object\",\"name\":\"Grid\",\"id\":\"p2030\",\"attributes\":{\"dimension\":1,\"axis\":{\"id\":\"p2024\"}}},{\"type\":\"object\",\"name\":\"Span\",\"id\":\"p2055\",\"attributes\":{\"location\":81.51063023135875,\"dimension\":\"height\",\"line_color\":\"red\"}},{\"type\":\"object\",\"name\":\"Label\",\"id\":\"p2056\",\"attributes\":{\"text\":\"95% - 81.511m\",\"text_color\":\"red\",\"text_font_size\":\"8pt\",\"text_font_style\":\"italic\",\"x\":81.51063023135875,\"y\":200,\"y_units\":\"screen\"}},{\"type\":\"object\",\"name\":\"Span\",\"id\":\"p2057\",\"attributes\":{\"location\":123.26386842311099,\"dimension\":\"height\",\"line_color\":\"red\"}},{\"type\":\"object\",\"name\":\"Label\",\"id\":\"p2058\",\"attributes\":{\"text\":\"99% - 123.264m\",\"text_color\":\"red\",\"text_font_size\":\"8pt\",\"text_font_style\":\"italic\",\"x\":123.26386842311099,\"y\":250,\"y_units\":\"screen\"}}],\"background_fill_color\":\"#efefef\"}}],\"callbacks\":{\"type\":\"map\"}}};\n  const render_items = [{\"docid\":\"dd1f77e0-1b9a-4e62-9b7f-9ed4953d87b9\",\"roots\":{\"p2000\":\"e28c96a3-f10d-4ea5-900d-720e55dbec63\"},\"root_ids\":[\"p2000\"]}];\n  root.Bokeh.embed.embed_items_notebook(docs_json, render_items);\n  }\n  if (root.Bokeh !== undefined) {\n    embed_document(root);\n  } else {\n    let attempts = 0;\n    const timer = setInterval(function(root) {\n      if (root.Bokeh !== undefined) {\n        clearInterval(timer);\n        embed_document(root);\n      } else {\n        attempts++;\n        if (attempts > 100) {\n          clearInterval(timer);\n          console.log(\"Bokeh: ERROR: Unable to run BokehJS code because BokehJS library is missing\");\n        }\n      }\n    }, 10, root)\n  }\n})(window);",
      "application/vnd.bokehjs_exec.v0+json": ""
     },
     "metadata": {
      "application/vnd.bokehjs_exec.v0+json": {
       "id": "p2000"
      }
     },
     "output_type": "display_data"
    },
    {
     "data": {
      "text/html": [
       "\n",
       "  <div id=\"a57ea29a-ece7-4bf0-a9b5-d40c1eae476c\" data-root-id=\"p2304\" style=\"display: contents;\"></div>\n"
      ]
     },
     "metadata": {},
     "output_type": "display_data"
    },
    {
     "data": {
      "application/javascript": "(function(root) {\n  function embed_document(root) {\n  const docs_json = {\"4214ca80-4e18-47d7-b07a-c45b5288ab92\":{\"version\":\"3.1.1\",\"title\":\"Bokeh Application\",\"defs\":[],\"roots\":[{\"type\":\"object\",\"name\":\"Figure\",\"id\":\"p2304\",\"attributes\":{\"height\":300,\"x_range\":{\"type\":\"object\",\"name\":\"DataRange1d\",\"id\":\"p2306\"},\"y_range\":{\"type\":\"object\",\"name\":\"Range1d\",\"id\":\"p2315\",\"attributes\":{\"end\":0.4}},\"x_scale\":{\"type\":\"object\",\"name\":\"LinearScale\",\"id\":\"p2317\"},\"y_scale\":{\"type\":\"object\",\"name\":\"LinearScale\",\"id\":\"p2319\"},\"extra_y_ranges\":{\"type\":\"map\",\"entries\":[[\"cumsum\",{\"type\":\"object\",\"name\":\"Range1d\",\"id\":\"p2363\",\"attributes\":{\"end\":1.1}}]]},\"title\":{\"type\":\"object\",\"name\":\"Title\",\"id\":\"p2307\"},\"renderers\":[{\"type\":\"object\",\"name\":\"GlyphRenderer\",\"id\":\"p2356\",\"attributes\":{\"data_source\":{\"type\":\"object\",\"name\":\"ColumnDataSource\",\"id\":\"p2350\",\"attributes\":{\"selected\":{\"type\":\"object\",\"name\":\"Selection\",\"id\":\"p2351\",\"attributes\":{\"indices\":[],\"line_indices\":[]}},\"selection_policy\":{\"type\":\"object\",\"name\":\"UnionRenderers\",\"id\":\"p2352\"},\"data\":{\"type\":\"map\",\"entries\":[[\"top\",{\"type\":\"ndarray\",\"array\":{\"type\":\"bytes\",\"data\":\"QNFWg+cI1D92SeXDuF/HPwlZyEIWssA/HoGirQbPsT/1YdyvSyqvPxmBoq0Gz4E/HoGirQbPoT8egaKtBs+BPxmBoq0Gz6E/bCELWchCpj8AAAAAAAAAAAAAAAAAAAAAI4GirQbPgT+lwXMEiraaPyOBoq0Gz4E/AAAAAAAAAAAZgaKtBs+BPxmBoq0Gz5E/AAAAAAAAAAAjgaKtBs+RPwAAAAAAAAAAAAAAAAAAAAAAAAAAAAAAAAAAAAAAAAAAAAAAAAAAAAAAAAAAAAAAAAAAAAAAAAAAEIGirQbPgT8AAAAAAAAAAAAAAAAAAAAAAAAAAAAAAAAAAAAAAAAAAAAAAAAAAAAAEIGirQbPgT8AAAAAAAAAAAAAAAAAAAAAAAAAAAAAAAAAAAAAAAAAAAAAAAAAAAAAAAAAAAAAAAAAAAAAAAAAAAAAAAAAAAAAAAAAAAAAAAAAAAAAAAAAAAAAAAAAAAAAAAAAAAAAAAAAAAAAAAAAAAAAAAAAAAAAI4GirQbPgT8=\"},\"shape\":[49],\"dtype\":\"float64\",\"order\":\"little\"}],[\"left\",{\"type\":\"ndarray\",\"array\":{\"type\":\"bytes\",\"data\":\"AAAAAAAAAABKIIO5ioQdQEogg7mKhC1AOFgiC2gjNkBKIIO5ioQ9QC708bPWckJAOFgiC2gjRkBBvFJi+dNJQEogg7mKhE1AKsJZCI6aUEAu9PGz1nJSQDMmil8fS1RAOFgiC2gjVkA8irq2sPtXQEG8UmL501lARe7qDUKsW0BKIIO5ioRdQE9SG2XTXF9AKsJZCI6aYEAs2yVesoZhQC708bPWcmJAMQ2+CfteY0AzJopfH0tkQDU/VrVDN2VAOFgiC2gjZkA6ce5gjA9nQDyKuraw+2dAPqOGDNXnaEBBvFJi+dNpQEPVHrgdwGpARe7qDUKsa0BIB7djZphsQEogg7mKhG1ATDlPD69wbkBPUhtl01xvQKi1c917JHBAKsJZCI6acECrzj8zoBBxQCzbJV6yhnFArecLicT8cUAu9PGz1nJyQK8A2N7o6HJAMQ2+Cftec0CyGaQ0DdVzQDMmil8fS3RAtDJwijHBdEA1P1a1Qzd1QLZLPOBVrXVAOFgiC2gjdkA=\"},\"shape\":[49],\"dtype\":\"float64\",\"order\":\"little\"}],[\"right\",{\"type\":\"ndarray\",\"array\":{\"type\":\"bytes\",\"data\":\"SiCDuYqEHUBKIIO5ioQtQDhYIgtoIzZASiCDuYqEPUAu9PGz1nJCQDhYIgtoI0ZAQbxSYvnTSUBKIIO5ioRNQCrCWQiOmlBALvTxs9ZyUkAzJopfH0tUQDhYIgtoI1ZAPIq6trD7V0BBvFJi+dNZQEXu6g1CrFtASiCDuYqEXUBPUhtl01xfQCrCWQiOmmBALNslXrKGYUAu9PGz1nJiQDENvgn7XmNAMyaKXx9LZEA1P1a1QzdlQDhYIgtoI2ZAOnHuYIwPZ0A8irq2sPtnQD6jhgzV52hAQbxSYvnTaUBD1R64HcBqQEXu6g1CrGtASAe3Y2aYbEBKIIO5ioRtQEw5Tw+vcG5AT1IbZdNcb0CotXPdeyRwQCrCWQiOmnBAq84/M6AQcUAs2yVesoZxQK3nC4nE/HFALvTxs9ZyckCvANje6OhyQDENvgn7XnNAshmkNA3Vc0AzJopfH0t0QLQycIoxwXRANT9WtUM3dUC2SzzgVa11QDhYIgtoI3ZAuWQINnqZdkA=\"},\"shape\":[49],\"dtype\":\"float64\",\"order\":\"little\"}]]}}},\"view\":{\"type\":\"object\",\"name\":\"CDSView\",\"id\":\"p2357\",\"attributes\":{\"filter\":{\"type\":\"object\",\"name\":\"AllIndices\",\"id\":\"p2358\"}}},\"glyph\":{\"type\":\"object\",\"name\":\"Quad\",\"id\":\"p2353\",\"attributes\":{\"left\":{\"type\":\"field\",\"field\":\"left\"},\"right\":{\"type\":\"field\",\"field\":\"right\"},\"bottom\":{\"type\":\"value\",\"value\":0},\"top\":{\"type\":\"field\",\"field\":\"top\"},\"line_color\":{\"type\":\"value\",\"value\":\"white\"},\"fill_color\":{\"type\":\"value\",\"value\":\"skyblue\"}}},\"nonselection_glyph\":{\"type\":\"object\",\"name\":\"Quad\",\"id\":\"p2354\",\"attributes\":{\"left\":{\"type\":\"field\",\"field\":\"left\"},\"right\":{\"type\":\"field\",\"field\":\"right\"},\"bottom\":{\"type\":\"value\",\"value\":0},\"top\":{\"type\":\"field\",\"field\":\"top\"},\"line_color\":{\"type\":\"value\",\"value\":\"white\"},\"line_alpha\":{\"type\":\"value\",\"value\":0.1},\"fill_color\":{\"type\":\"value\",\"value\":\"skyblue\"},\"fill_alpha\":{\"type\":\"value\",\"value\":0.1},\"hatch_alpha\":{\"type\":\"value\",\"value\":0.1}}},\"muted_glyph\":{\"type\":\"object\",\"name\":\"Quad\",\"id\":\"p2355\",\"attributes\":{\"left\":{\"type\":\"field\",\"field\":\"left\"},\"right\":{\"type\":\"field\",\"field\":\"right\"},\"bottom\":{\"type\":\"value\",\"value\":0},\"top\":{\"type\":\"field\",\"field\":\"top\"},\"line_color\":{\"type\":\"value\",\"value\":\"white\"},\"line_alpha\":{\"type\":\"value\",\"value\":0.2},\"fill_color\":{\"type\":\"value\",\"value\":\"skyblue\"},\"fill_alpha\":{\"type\":\"value\",\"value\":0.2},\"hatch_alpha\":{\"type\":\"value\",\"value\":0.2}}}}},{\"type\":\"object\",\"name\":\"GlyphRenderer\",\"id\":\"p2370\",\"attributes\":{\"y_range_name\":\"cumsum\",\"data_source\":{\"type\":\"object\",\"name\":\"ColumnDataSource\",\"id\":\"p2364\",\"attributes\":{\"selected\":{\"type\":\"object\",\"name\":\"Selection\",\"id\":\"p2365\",\"attributes\":{\"indices\":[],\"line_indices\":[]}},\"selection_policy\":{\"type\":\"object\",\"name\":\"UnionRenderers\",\"id\":\"p2366\"},\"data\":{\"type\":\"map\",\"entries\":[[\"x\",{\"type\":\"ndarray\",\"array\":{\"type\":\"bytes\",\"data\":\"AAAAAAAAAABKIIO5ioQdQEogg7mKhC1AOFgiC2gjNkBKIIO5ioQ9QC708bPWckJAOFgiC2gjRkBBvFJi+dNJQEogg7mKhE1AKsJZCI6aUEAu9PGz1nJSQDMmil8fS1RAOFgiC2gjVkA8irq2sPtXQEG8UmL501lARe7qDUKsW0BKIIO5ioRdQE9SG2XTXF9AKsJZCI6aYEAs2yVesoZhQC708bPWcmJAMQ2+CfteY0AzJopfH0tkQDU/VrVDN2VAOFgiC2gjZkA6ce5gjA9nQDyKuraw+2dAPqOGDNXnaEBBvFJi+dNpQEPVHrgdwGpARe7qDUKsa0BIB7djZphsQEogg7mKhG1ATDlPD69wbkBPUhtl01xvQKi1c917JHBAKsJZCI6acECrzj8zoBBxQCzbJV6yhnFArecLicT8cUAu9PGz1nJyQK8A2N7o6HJAMQ2+Cftec0CyGaQ0DdVzQDMmil8fS3RAtDJwijHBdEA1P1a1Qzd1QLZLPOBVrXVAOFgiC2gjdkA=\"},\"shape\":[49],\"dtype\":\"float64\",\"order\":\"little\"}],[\"y\",{\"type\":\"ndarray\",\"array\":{\"type\":\"bytes\",\"data\":\"QNFWg+cI1D/7dUnlw7jfP0DRVoPnCOQ/ZCELWchC5j+D5wgUbTXoP4dxvy6pfOg/mZmZmZmZ6T+dI1C01eDpP69LKh/G/eo/xv26pPJh7D/G/bqk8mHsP8b9uqTyYew/y4dxvy6p7D/YJZUP437tP92vSyofxu0/3a9LKh/G7T/hOQJFWw3uP+pNb3rTm+4/6k1vetOb7j/zYdyvSyrvP/Nh3K9LKu8/82Hcr0sq7z/zYdyvSyrvP/Nh3K9LKu8/82Hcr0sq7z/zYdyvSyrvP/Nh3K9LKu8/9+uSyodx7z/365LKh3HvP/frksqHce8/9+uSyodx7z/365LKh3HvP/frksqHce8/+3VJ5cO47z/7dUnlw7jvP/t1SeXDuO8/+3VJ5cO47z/7dUnlw7jvP/t1SeXDuO8/+3VJ5cO47z/7dUnlw7jvP/t1SeXDuO8/+3VJ5cO47z/7dUnlw7jvP/t1SeXDuO8/+3VJ5cO47z/7dUnlw7jvP/t1SeXDuO8/AAAAAAAA8D8=\"},\"shape\":[49],\"dtype\":\"float64\",\"order\":\"little\"}]]}}},\"view\":{\"type\":\"object\",\"name\":\"CDSView\",\"id\":\"p2371\",\"attributes\":{\"filter\":{\"type\":\"object\",\"name\":\"AllIndices\",\"id\":\"p2372\"}}},\"glyph\":{\"type\":\"object\",\"name\":\"Line\",\"id\":\"p2367\",\"attributes\":{\"x\":{\"type\":\"field\",\"field\":\"x\"},\"y\":{\"type\":\"field\",\"field\":\"y\"},\"line_color\":\"navy\"}},\"nonselection_glyph\":{\"type\":\"object\",\"name\":\"Line\",\"id\":\"p2368\",\"attributes\":{\"x\":{\"type\":\"field\",\"field\":\"x\"},\"y\":{\"type\":\"field\",\"field\":\"y\"},\"line_color\":\"navy\",\"line_alpha\":0.1}},\"muted_glyph\":{\"type\":\"object\",\"name\":\"Line\",\"id\":\"p2369\",\"attributes\":{\"x\":{\"type\":\"field\",\"field\":\"x\"},\"y\":{\"type\":\"field\",\"field\":\"y\"},\"line_color\":\"navy\",\"line_alpha\":0.2}}}}],\"toolbar\":{\"type\":\"object\",\"name\":\"Toolbar\",\"id\":\"p2310\",\"attributes\":{\"tools\":[{\"type\":\"object\",\"name\":\"PanTool\",\"id\":\"p2335\"},{\"type\":\"object\",\"name\":\"WheelZoomTool\",\"id\":\"p2336\"},{\"type\":\"object\",\"name\":\"BoxZoomTool\",\"id\":\"p2337\",\"attributes\":{\"overlay\":{\"type\":\"object\",\"name\":\"BoxAnnotation\",\"id\":\"p2338\",\"attributes\":{\"syncable\":false,\"level\":\"overlay\",\"visible\":false,\"left_units\":\"canvas\",\"right_units\":\"canvas\",\"bottom_units\":\"canvas\",\"top_units\":\"canvas\",\"line_color\":\"black\",\"line_alpha\":1.0,\"line_width\":2,\"line_dash\":[4,4],\"fill_color\":\"lightgrey\",\"fill_alpha\":0.5}}}},{\"type\":\"object\",\"name\":\"SaveTool\",\"id\":\"p2339\"},{\"type\":\"object\",\"name\":\"ResetTool\",\"id\":\"p2340\"},{\"type\":\"object\",\"name\":\"HelpTool\",\"id\":\"p2341\"}]}},\"left\":[{\"type\":\"object\",\"name\":\"LinearAxis\",\"id\":\"p2328\",\"attributes\":{\"ticker\":{\"type\":\"object\",\"name\":\"BasicTicker\",\"id\":\"p2331\",\"attributes\":{\"mantissas\":[1,2,5]}},\"formatter\":{\"type\":\"object\",\"name\":\"BasicTickFormatter\",\"id\":\"p2329\"},\"axis_label\":\"PseudorangeAcceleration\",\"major_label_policy\":{\"type\":\"object\",\"name\":\"AllLabels\",\"id\":\"p2330\"}}}],\"right\":[{\"type\":\"object\",\"name\":\"LinearAxis\",\"id\":\"p2373\",\"attributes\":{\"y_range_name\":\"cumsum\",\"ticker\":{\"type\":\"object\",\"name\":\"BasicTicker\",\"id\":\"p2376\",\"attributes\":{\"mantissas\":[1,2,5]}},\"formatter\":{\"type\":\"object\",\"name\":\"BasicTickFormatter\",\"id\":\"p2374\"},\"axis_label\":\"Cumulative probability\",\"major_label_policy\":{\"type\":\"object\",\"name\":\"AllLabels\",\"id\":\"p2375\"}}}],\"below\":[{\"type\":\"object\",\"name\":\"LinearAxis\",\"id\":\"p2321\",\"attributes\":{\"ticker\":{\"type\":\"object\",\"name\":\"BasicTicker\",\"id\":\"p2324\",\"attributes\":{\"mantissas\":[1,2,5]}},\"formatter\":{\"type\":\"object\",\"name\":\"BasicTickFormatter\",\"id\":\"p2322\"},\"major_label_policy\":{\"type\":\"object\",\"name\":\"AllLabels\",\"id\":\"p2323\"}}}],\"center\":[{\"type\":\"object\",\"name\":\"Grid\",\"id\":\"p2327\",\"attributes\":{\"axis\":{\"id\":\"p2321\"}}},{\"type\":\"object\",\"name\":\"Grid\",\"id\":\"p2334\",\"attributes\":{\"dimension\":1,\"axis\":{\"id\":\"p2328\"}}},{\"type\":\"object\",\"name\":\"Span\",\"id\":\"p2359\",\"attributes\":{\"location\":95.53280610346849,\"dimension\":\"height\",\"line_color\":\"red\"}},{\"type\":\"object\",\"name\":\"Label\",\"id\":\"p2360\",\"attributes\":{\"text\":\"95% - 95.533m\",\"text_color\":\"red\",\"text_font_size\":\"8pt\",\"text_font_style\":\"italic\",\"x\":95.53280610346849,\"y\":200,\"y_units\":\"screen\"}},{\"type\":\"object\",\"name\":\"Span\",\"id\":\"p2361\",\"attributes\":{\"location\":186.17376524063792,\"dimension\":\"height\",\"line_color\":\"red\"}},{\"type\":\"object\",\"name\":\"Label\",\"id\":\"p2362\",\"attributes\":{\"text\":\"99% - 186.174m\",\"text_color\":\"red\",\"text_font_size\":\"8pt\",\"text_font_style\":\"italic\",\"x\":186.17376524063792,\"y\":250,\"y_units\":\"screen\"}}],\"background_fill_color\":\"#efefef\"}}],\"callbacks\":{\"type\":\"map\"}}};\n  const render_items = [{\"docid\":\"4214ca80-4e18-47d7-b07a-c45b5288ab92\",\"roots\":{\"p2304\":\"a57ea29a-ece7-4bf0-a9b5-d40c1eae476c\"},\"root_ids\":[\"p2304\"]}];\n  root.Bokeh.embed.embed_items_notebook(docs_json, render_items);\n  }\n  if (root.Bokeh !== undefined) {\n    embed_document(root);\n  } else {\n    let attempts = 0;\n    const timer = setInterval(function(root) {\n      if (root.Bokeh !== undefined) {\n        clearInterval(timer);\n        embed_document(root);\n      } else {\n        attempts++;\n        if (attempts > 100) {\n          clearInterval(timer);\n          console.log(\"Bokeh: ERROR: Unable to run BokehJS code because BokehJS library is missing\");\n        }\n      }\n    }, 10, root)\n  }\n})(window);",
      "application/vnd.bokehjs_exec.v0+json": ""
     },
     "metadata": {
      "application/vnd.bokehjs_exec.v0+json": {
       "id": "p2304"
      }
     },
     "output_type": "display_data"
    },
    {
     "data": {
      "text/html": [
       "\n",
       "  <div id=\"fce9e650-249e-4ff8-bf38-e9a4f7d5a4df\" data-root-id=\"p2630\" style=\"display: contents;\"></div>\n"
      ]
     },
     "metadata": {},
     "output_type": "display_data"
    },
    {
     "data": {
      "application/javascript": "(function(root) {\n  function embed_document(root) {\n  const docs_json = {\"a09fa51d-3cce-4050-ab67-666c1ba29f40\":{\"version\":\"3.1.1\",\"title\":\"Bokeh Application\",\"defs\":[],\"roots\":[{\"type\":\"object\",\"name\":\"Figure\",\"id\":\"p2630\",\"attributes\":{\"height\":300,\"x_range\":{\"type\":\"object\",\"name\":\"DataRange1d\",\"id\":\"p2632\"},\"y_range\":{\"type\":\"object\",\"name\":\"Range1d\",\"id\":\"p2641\",\"attributes\":{\"end\":0.4}},\"x_scale\":{\"type\":\"object\",\"name\":\"LinearScale\",\"id\":\"p2643\"},\"y_scale\":{\"type\":\"object\",\"name\":\"LinearScale\",\"id\":\"p2645\"},\"extra_y_ranges\":{\"type\":\"map\",\"entries\":[[\"cumsum\",{\"type\":\"object\",\"name\":\"Range1d\",\"id\":\"p2689\",\"attributes\":{\"end\":1.1}}]]},\"title\":{\"type\":\"object\",\"name\":\"Title\",\"id\":\"p2633\"},\"renderers\":[{\"type\":\"object\",\"name\":\"GlyphRenderer\",\"id\":\"p2682\",\"attributes\":{\"data_source\":{\"type\":\"object\",\"name\":\"ColumnDataSource\",\"id\":\"p2676\",\"attributes\":{\"selected\":{\"type\":\"object\",\"name\":\"Selection\",\"id\":\"p2677\",\"attributes\":{\"indices\":[],\"line_indices\":[]}},\"selection_policy\":{\"type\":\"object\",\"name\":\"UnionRenderers\",\"id\":\"p2678\"},\"data\":{\"type\":\"map\",\"entries\":[[\"top\",{\"type\":\"ndarray\",\"array\":{\"type\":\"bytes\",\"data\":\"VnpqYaWn1j+fWljpqYXFPy8bNPmyQcM/5jpGca5jtD9YemphpaemPzD5skGTL6s/MPmyQZMvmz8AAAAAAAAAAHr7IYG3H6I/evshgbcfgj9y+yGBtx+SP3r7IYG3H5I/AAAAAAAAAAAAAAAAAAAAAIL7IYG3H4I/AAAAAAAAAAAAAAAAAAAAAIL7IYG3H4I/AAAAAAAAAACC+yGBtx+CPwAAAAAAAAAAcvshgbcfgj8AAAAAAAAAAAAAAAAAAAAAAAAAAAAAAAAAAAAAAAAAAAAAAAAAAAAAAAAAAAAAAAAAAAAAAAAAAAAAAAAAAAAAAAAAAAAAAAAAAAAAAAAAAAAAAAAAAAAAAAAAAAAAAAAAAAAAAAAAAAAAAAAAAAAAAAAAAAAAAAAAAAAAAAAAAAAAAAAAAAAAAAAAAAAAAAAAAAAAAAAAAAAAAAAAAAAAAAAAAAAAAAAAAAAAAAAAAAAAAAAAAAAAAAAAAAAAAAAAAAAAAAAAAAAAAAAAAAAAcvshgbcfgj8=\"},\"shape\":[49],\"dtype\":\"float64\",\"order\":\"little\"}],[\"left\",{\"type\":\"ndarray\",\"array\":{\"type\":\"bytes\",\"data\":\"AAAAAAAAAACaTrtnDksiQJpOu2cOSzJA5/WYm5VwO0CaTrtnDktCQEAiqgHS3UZA5/WYm5VwS0DH5MOarAFQQJpOu2cOS1JAbbiyNHCUVEBAIqoB0t1WQBSMoc4zJ1lA5/WYm5VwW0C6X5Bo97ldQMfkw5qsAWBAsJk/gV0mYUCaTrtnDktiQIQDN06/b2NAbbiyNHCUZEBXbS4bIbllQEAiqgHS3WZAKtcl6IICaEAUjKHOMydpQP1AHbXkS2pA5/WYm5Vwa0DRqhSCRpVsQLpfkGj3uW1ApBQMT6jebkDH5MOarAFwQDy/AQ4FlHBAsJk/gV0mcUAldH30tbhxQJpOu2cOS3JADyn52mbdckCEAzdOv29zQPjddMEXAnRAbbiyNHCUdEDikvCnyCZ1QFdtLhshuXVAzEdsjnlLdkBAIqoB0t12QLX853QqcHdAKtcl6IICeECfsWNb25R4QBSMoc4zJ3lAiWbfQYy5eUD9QB215Et6QHIbWyg93npA5/WYm5Vwe0A=\"},\"shape\":[49],\"dtype\":\"float64\",\"order\":\"little\"}],[\"right\",{\"type\":\"ndarray\",\"array\":{\"type\":\"bytes\",\"data\":\"mk67Zw5LIkCaTrtnDksyQOf1mJuVcDtAmk67Zw5LQkBAIqoB0t1GQOf1mJuVcEtAx+TDmqwBUECaTrtnDktSQG24sjRwlFRAQCKqAdLdVkAUjKHOMydZQOf1mJuVcFtAul+QaPe5XUDH5MOarAFgQLCZP4FdJmFAmk67Zw5LYkCEAzdOv29jQG24sjRwlGRAV20uGyG5ZUBAIqoB0t1mQCrXJeiCAmhAFIyhzjMnaUD9QB215EtqQOf1mJuVcGtA0aoUgkaVbEC6X5Bo97ltQKQUDE+o3m5Ax+TDmqwBcEA8vwEOBZRwQLCZP4FdJnFAJXR99LW4cUCaTrtnDktyQA8p+dpm3XJAhAM3Tr9vc0D43XTBFwJ0QG24sjRwlHRA4pLwp8gmdUBXbS4bIbl1QMxHbI55S3ZAQCKqAdLddkC1/Od0KnB3QCrXJeiCAnhAn7FjW9uUeEAUjKHOMyd5QIlm30GMuXlA/UAdteRLekByG1soPd56QOf1mJuVcHtAXNDWDu4CfEA=\"},\"shape\":[49],\"dtype\":\"float64\",\"order\":\"little\"}]]}}},\"view\":{\"type\":\"object\",\"name\":\"CDSView\",\"id\":\"p2683\",\"attributes\":{\"filter\":{\"type\":\"object\",\"name\":\"AllIndices\",\"id\":\"p2684\"}}},\"glyph\":{\"type\":\"object\",\"name\":\"Quad\",\"id\":\"p2679\",\"attributes\":{\"left\":{\"type\":\"field\",\"field\":\"left\"},\"right\":{\"type\":\"field\",\"field\":\"right\"},\"bottom\":{\"type\":\"value\",\"value\":0},\"top\":{\"type\":\"field\",\"field\":\"top\"},\"line_color\":{\"type\":\"value\",\"value\":\"white\"},\"fill_color\":{\"type\":\"value\",\"value\":\"skyblue\"}}},\"nonselection_glyph\":{\"type\":\"object\",\"name\":\"Quad\",\"id\":\"p2680\",\"attributes\":{\"left\":{\"type\":\"field\",\"field\":\"left\"},\"right\":{\"type\":\"field\",\"field\":\"right\"},\"bottom\":{\"type\":\"value\",\"value\":0},\"top\":{\"type\":\"field\",\"field\":\"top\"},\"line_color\":{\"type\":\"value\",\"value\":\"white\"},\"line_alpha\":{\"type\":\"value\",\"value\":0.1},\"fill_color\":{\"type\":\"value\",\"value\":\"skyblue\"},\"fill_alpha\":{\"type\":\"value\",\"value\":0.1},\"hatch_alpha\":{\"type\":\"value\",\"value\":0.1}}},\"muted_glyph\":{\"type\":\"object\",\"name\":\"Quad\",\"id\":\"p2681\",\"attributes\":{\"left\":{\"type\":\"field\",\"field\":\"left\"},\"right\":{\"type\":\"field\",\"field\":\"right\"},\"bottom\":{\"type\":\"value\",\"value\":0},\"top\":{\"type\":\"field\",\"field\":\"top\"},\"line_color\":{\"type\":\"value\",\"value\":\"white\"},\"line_alpha\":{\"type\":\"value\",\"value\":0.2},\"fill_color\":{\"type\":\"value\",\"value\":\"skyblue\"},\"fill_alpha\":{\"type\":\"value\",\"value\":0.2},\"hatch_alpha\":{\"type\":\"value\",\"value\":0.2}}}}},{\"type\":\"object\",\"name\":\"GlyphRenderer\",\"id\":\"p2696\",\"attributes\":{\"y_range_name\":\"cumsum\",\"data_source\":{\"type\":\"object\",\"name\":\"ColumnDataSource\",\"id\":\"p2690\",\"attributes\":{\"selected\":{\"type\":\"object\",\"name\":\"Selection\",\"id\":\"p2691\",\"attributes\":{\"indices\":[],\"line_indices\":[]}},\"selection_policy\":{\"type\":\"object\",\"name\":\"UnionRenderers\",\"id\":\"p2692\"},\"data\":{\"type\":\"map\",\"entries\":[[\"x\",{\"type\":\"ndarray\",\"array\":{\"type\":\"bytes\",\"data\":\"AAAAAAAAAACaTrtnDksiQJpOu2cOSzJA5/WYm5VwO0CaTrtnDktCQEAiqgHS3UZA5/WYm5VwS0DH5MOarAFQQJpOu2cOS1JAbbiyNHCUVEBAIqoB0t1WQBSMoc4zJ1lA5/WYm5VwW0C6X5Bo97ldQMfkw5qsAWBAsJk/gV0mYUCaTrtnDktiQIQDN06/b2NAbbiyNHCUZEBXbS4bIbllQEAiqgHS3WZAKtcl6IICaEAUjKHOMydpQP1AHbXkS2pA5/WYm5Vwa0DRqhSCRpVsQLpfkGj3uW1ApBQMT6jebkDH5MOarAFwQDy/AQ4FlHBAsJk/gV0mcUAldH30tbhxQJpOu2cOS3JADyn52mbdckCEAzdOv29zQPjddMEXAnRAbbiyNHCUdEDikvCnyCZ1QFdtLhshuXVAzEdsjnlLdkBAIqoB0t12QLX853QqcHdAKtcl6IICeECfsWNb25R4QBSMoc4zJ3lAiWbfQYy5eUD9QB215Et6QHIbWyg93npA5/WYm5Vwe0A=\"},\"shape\":[49],\"dtype\":\"float64\",\"order\":\"little\"}],[\"y\",{\"type\":\"ndarray\",\"array\":{\"type\":\"bytes\",\"data\":\"VnpqYaWn1j/TUwsrPbXgP59aWOmpheU//CGBtx8S6D+iyZcNmnzpPzX5skGTL+s//pDA2w8J7D/+kMDbDwnsP7aw0lMLK+0/pDjXMYpz7T+ASODthwTuP1xY6amFle4/XFjpqYWV7j9cWOmphZXuP0rg7YcE3u4/SuDthwTe7j9K4O2HBN7uPzho8mWDJu8/OGjyZYMm7z8m8PZDAm/vPybw9kMCb+8/FHj7IYG37z8UePshgbfvPxR4+yGBt+8/FHj7IYG37z8UePshgbfvPxR4+yGBt+8/FHj7IYG37z8UePshgbfvPxR4+yGBt+8/FHj7IYG37z8UePshgbfvPxR4+yGBt+8/FHj7IYG37z8UePshgbfvPxR4+yGBt+8/FHj7IYG37z8UePshgbfvPxR4+yGBt+8/FHj7IYG37z8UePshgbfvPxR4+yGBt+8/FHj7IYG37z8UePshgbfvPxR4+yGBt+8/FHj7IYG37z8UePshgbfvPxR4+yGBt+8/AQAAAAAA8D8=\"},\"shape\":[49],\"dtype\":\"float64\",\"order\":\"little\"}]]}}},\"view\":{\"type\":\"object\",\"name\":\"CDSView\",\"id\":\"p2697\",\"attributes\":{\"filter\":{\"type\":\"object\",\"name\":\"AllIndices\",\"id\":\"p2698\"}}},\"glyph\":{\"type\":\"object\",\"name\":\"Line\",\"id\":\"p2693\",\"attributes\":{\"x\":{\"type\":\"field\",\"field\":\"x\"},\"y\":{\"type\":\"field\",\"field\":\"y\"},\"line_color\":\"navy\"}},\"nonselection_glyph\":{\"type\":\"object\",\"name\":\"Line\",\"id\":\"p2694\",\"attributes\":{\"x\":{\"type\":\"field\",\"field\":\"x\"},\"y\":{\"type\":\"field\",\"field\":\"y\"},\"line_color\":\"navy\",\"line_alpha\":0.1}},\"muted_glyph\":{\"type\":\"object\",\"name\":\"Line\",\"id\":\"p2695\",\"attributes\":{\"x\":{\"type\":\"field\",\"field\":\"x\"},\"y\":{\"type\":\"field\",\"field\":\"y\"},\"line_color\":\"navy\",\"line_alpha\":0.2}}}}],\"toolbar\":{\"type\":\"object\",\"name\":\"Toolbar\",\"id\":\"p2636\",\"attributes\":{\"tools\":[{\"type\":\"object\",\"name\":\"PanTool\",\"id\":\"p2661\"},{\"type\":\"object\",\"name\":\"WheelZoomTool\",\"id\":\"p2662\"},{\"type\":\"object\",\"name\":\"BoxZoomTool\",\"id\":\"p2663\",\"attributes\":{\"overlay\":{\"type\":\"object\",\"name\":\"BoxAnnotation\",\"id\":\"p2664\",\"attributes\":{\"syncable\":false,\"level\":\"overlay\",\"visible\":false,\"left_units\":\"canvas\",\"right_units\":\"canvas\",\"bottom_units\":\"canvas\",\"top_units\":\"canvas\",\"line_color\":\"black\",\"line_alpha\":1.0,\"line_width\":2,\"line_dash\":[4,4],\"fill_color\":\"lightgrey\",\"fill_alpha\":0.5}}}},{\"type\":\"object\",\"name\":\"SaveTool\",\"id\":\"p2665\"},{\"type\":\"object\",\"name\":\"ResetTool\",\"id\":\"p2666\"},{\"type\":\"object\",\"name\":\"HelpTool\",\"id\":\"p2667\"}]}},\"left\":[{\"type\":\"object\",\"name\":\"LinearAxis\",\"id\":\"p2654\",\"attributes\":{\"ticker\":{\"type\":\"object\",\"name\":\"BasicTicker\",\"id\":\"p2657\",\"attributes\":{\"mantissas\":[1,2,5]}},\"formatter\":{\"type\":\"object\",\"name\":\"BasicTickFormatter\",\"id\":\"p2655\"},\"axis_label\":\"PseudorangeAcceleration\",\"major_label_policy\":{\"type\":\"object\",\"name\":\"AllLabels\",\"id\":\"p2656\"}}}],\"right\":[{\"type\":\"object\",\"name\":\"LinearAxis\",\"id\":\"p2699\",\"attributes\":{\"y_range_name\":\"cumsum\",\"ticker\":{\"type\":\"object\",\"name\":\"BasicTicker\",\"id\":\"p2702\",\"attributes\":{\"mantissas\":[1,2,5]}},\"formatter\":{\"type\":\"object\",\"name\":\"BasicTickFormatter\",\"id\":\"p2700\"},\"axis_label\":\"Cumulative probability\",\"major_label_policy\":{\"type\":\"object\",\"name\":\"AllLabels\",\"id\":\"p2701\"}}}],\"below\":[{\"type\":\"object\",\"name\":\"LinearAxis\",\"id\":\"p2647\",\"attributes\":{\"ticker\":{\"type\":\"object\",\"name\":\"BasicTicker\",\"id\":\"p2650\",\"attributes\":{\"mantissas\":[1,2,5]}},\"formatter\":{\"type\":\"object\",\"name\":\"BasicTickFormatter\",\"id\":\"p2648\"},\"major_label_policy\":{\"type\":\"object\",\"name\":\"AllLabels\",\"id\":\"p2649\"}}}],\"center\":[{\"type\":\"object\",\"name\":\"Grid\",\"id\":\"p2653\",\"attributes\":{\"axis\":{\"id\":\"p2647\"}}},{\"type\":\"object\",\"name\":\"Grid\",\"id\":\"p2660\",\"attributes\":{\"dimension\":1,\"axis\":{\"id\":\"p2654\"}}},{\"type\":\"object\",\"name\":\"Span\",\"id\":\"p2685\",\"attributes\":{\"location\":79.10277390581075,\"dimension\":\"height\",\"line_color\":\"red\"}},{\"type\":\"object\",\"name\":\"Label\",\"id\":\"p2686\",\"attributes\":{\"text\":\"95% - 79.103m\",\"text_color\":\"red\",\"text_font_size\":\"8pt\",\"text_font_style\":\"italic\",\"x\":79.10277390581075,\"y\":200,\"y_units\":\"screen\"}},{\"type\":\"object\",\"name\":\"Span\",\"id\":\"p2687\",\"attributes\":{\"location\":171.08272101537088,\"dimension\":\"height\",\"line_color\":\"red\"}},{\"type\":\"object\",\"name\":\"Label\",\"id\":\"p2688\",\"attributes\":{\"text\":\"99% - 171.083m\",\"text_color\":\"red\",\"text_font_size\":\"8pt\",\"text_font_style\":\"italic\",\"x\":171.08272101537088,\"y\":250,\"y_units\":\"screen\"}}],\"background_fill_color\":\"#efefef\"}}],\"callbacks\":{\"type\":\"map\"}}};\n  const render_items = [{\"docid\":\"a09fa51d-3cce-4050-ab67-666c1ba29f40\",\"roots\":{\"p2630\":\"fce9e650-249e-4ff8-bf38-e9a4f7d5a4df\"},\"root_ids\":[\"p2630\"]}];\n  root.Bokeh.embed.embed_items_notebook(docs_json, render_items);\n  }\n  if (root.Bokeh !== undefined) {\n    embed_document(root);\n  } else {\n    let attempts = 0;\n    const timer = setInterval(function(root) {\n      if (root.Bokeh !== undefined) {\n        clearInterval(timer);\n        embed_document(root);\n      } else {\n        attempts++;\n        if (attempts > 100) {\n          clearInterval(timer);\n          console.log(\"Bokeh: ERROR: Unable to run BokehJS code because BokehJS library is missing\");\n        }\n      }\n    }, 10, root)\n  }\n})(window);",
      "application/vnd.bokehjs_exec.v0+json": ""
     },
     "metadata": {
      "application/vnd.bokehjs_exec.v0+json": {
       "id": "p2630"
      }
     },
     "output_type": "display_data"
    },
    {
     "data": {
      "text/html": [
       "\n",
       "  <div id=\"b9171305-2517-4597-8f5c-7e1476444fd7\" data-root-id=\"p2978\" style=\"display: contents;\"></div>\n"
      ]
     },
     "metadata": {},
     "output_type": "display_data"
    },
    {
     "data": {
      "application/javascript": "(function(root) {\n  function embed_document(root) {\n  const docs_json = {\"c15b904f-1bd3-45a1-9675-409fe626f6b8\":{\"version\":\"3.1.1\",\"title\":\"Bokeh Application\",\"defs\":[],\"roots\":[{\"type\":\"object\",\"name\":\"Figure\",\"id\":\"p2978\",\"attributes\":{\"height\":300,\"x_range\":{\"type\":\"object\",\"name\":\"DataRange1d\",\"id\":\"p2980\"},\"y_range\":{\"type\":\"object\",\"name\":\"Range1d\",\"id\":\"p2989\",\"attributes\":{\"end\":0.4}},\"x_scale\":{\"type\":\"object\",\"name\":\"LinearScale\",\"id\":\"p2991\"},\"y_scale\":{\"type\":\"object\",\"name\":\"LinearScale\",\"id\":\"p2993\"},\"extra_y_ranges\":{\"type\":\"map\",\"entries\":[[\"cumsum\",{\"type\":\"object\",\"name\":\"Range1d\",\"id\":\"p3037\",\"attributes\":{\"end\":1.1}}]]},\"title\":{\"type\":\"object\",\"name\":\"Title\",\"id\":\"p2981\"},\"renderers\":[{\"type\":\"object\",\"name\":\"GlyphRenderer\",\"id\":\"p3030\",\"attributes\":{\"data_source\":{\"type\":\"object\",\"name\":\"ColumnDataSource\",\"id\":\"p3024\",\"attributes\":{\"selected\":{\"type\":\"object\",\"name\":\"Selection\",\"id\":\"p3025\",\"attributes\":{\"indices\":[],\"line_indices\":[]}},\"selection_policy\":{\"type\":\"object\",\"name\":\"UnionRenderers\",\"id\":\"p3026\"},\"data\":{\"type\":\"map\",\"entries\":[[\"top\",{\"type\":\"ndarray\",\"array\":{\"type\":\"bytes\",\"data\":\"YLmnEZZ7yj/uaYTlnka4PwjLPY2w3MM/lXsaYbmnsT+UexphuaehP5h7GmG5p6E/mHsaYbmnsT+UexphuaehP3oaYbmnEaY/XrmnEZZ7mj9puacRlnuaP5R7GmG5p4E/m3saYbmngT+UexphuaehP5R7GmG5p5E/AAAAAAAAAABeuacRlnuaP5R7GmG5p4E/lHsaYbmnoT+UexphuaeBP6J7GmG5p4E/AAAAAAAAAAAAAAAAAAAAAJR7GmG5p4E/AAAAAAAAAAAAAAAAAAAAAIZ7GmG5p4E/onsaYbmngT8AAAAAAAAAAAAAAAAAAAAAAAAAAAAAAACiexphuaeBPwAAAAAAAAAAAAAAAAAAAAAAAAAAAAAAAAAAAAAAAAAAAAAAAAAAAAAAAAAAAAAAAAAAAAAAAAAAAAAAAAAAAAAAAAAAAAAAAAAAAAAAAAAAhnsaYbmngT8AAAAAAAAAAAAAAAAAAAAAAAAAAAAAAAAAAAAAAAAAAAAAAAAAAAAAhnsaYbmngT8=\"},\"shape\":[49],\"dtype\":\"float64\",\"order\":\"little\"}],[\"left\",{\"type\":\"ndarray\",\"array\":{\"type\":\"bytes\",\"data\":\"AAAAAAAAAAAO5tkW/v4DQA7m2Rb+/hNAFdlGIn3+HUAO5tkW/v4jQJJfkJy9/ihAFdlGIn3+LUBMqf5THn8xQA7m2Rb+/jNA0CK12d1+NkCSX5Ccvf44QFOca1+dfjtAFdlGIn3+PUDrCpFyLj9AQEyp/lMef0FArUdsNQ6/QkAO5tkW/v5DQG+ER/jtPkVA0CK12d1+RkAxwSK7zb5HQJJfkJy9/khA8v39fa0+SkBTnGtfnX5LQLQ62UCNvkxAFdlGIn3+TUB2d7QDbT5PQOsKkXIuP1BAHNpHYybfUEBMqf5THn9RQH14tUQWH1JArUdsNQ6/UkDeFiMmBl9TQA7m2Rb+/lNAPrWQB/aeVEBvhEf47T5VQJ9T/ujl3lVA0CK12d1+VkAA8mvK1R5XQDHBIrvNvldAYZDZq8VeWECSX5Ccvf5YQMIuR421nllA8v39fa0+WkAjzbRupd5aQFOca1+dfltAhGsiUJUeXEC0OtlAjb5cQOUJkDGFXl1AFdlGIn3+XUA=\"},\"shape\":[49],\"dtype\":\"float64\",\"order\":\"little\"}],[\"right\",{\"type\":\"ndarray\",\"array\":{\"type\":\"bytes\",\"data\":\"DubZFv7+A0AO5tkW/v4TQBXZRiJ9/h1ADubZFv7+I0CSX5Ccvf4oQBXZRiJ9/i1ATKn+Ux5/MUAO5tkW/v4zQNAitdndfjZAkl+QnL3+OEBTnGtfnX47QBXZRiJ9/j1A6wqRci4/QEBMqf5THn9BQK1HbDUOv0JADubZFv7+Q0BvhEf47T5FQNAitdndfkZAMcEiu82+R0CSX5Ccvf5IQPL9/X2tPkpAU5xrX51+S0C0OtlAjb5MQBXZRiJ9/k1Adne0A20+T0DrCpFyLj9QQBzaR2Mm31BATKn+Ux5/UUB9eLVEFh9SQK1HbDUOv1JA3hYjJgZfU0AO5tkW/v5TQD61kAf2nlRAb4RH+O0+VUCfU/7o5d5VQNAitdndflZAAPJrytUeV0AxwSK7zb5XQGGQ2avFXlhAkl+QnL3+WEDCLkeNtZ5ZQPL9/X2tPlpAI820bqXeWkBTnGtfnX5bQIRrIlCVHlxAtDrZQI2+XEDlCZAxhV5dQBXZRiJ9/l1ARqj9EnWeXkA=\"},\"shape\":[49],\"dtype\":\"float64\",\"order\":\"little\"}]]}}},\"view\":{\"type\":\"object\",\"name\":\"CDSView\",\"id\":\"p3031\",\"attributes\":{\"filter\":{\"type\":\"object\",\"name\":\"AllIndices\",\"id\":\"p3032\"}}},\"glyph\":{\"type\":\"object\",\"name\":\"Quad\",\"id\":\"p3027\",\"attributes\":{\"left\":{\"type\":\"field\",\"field\":\"left\"},\"right\":{\"type\":\"field\",\"field\":\"right\"},\"bottom\":{\"type\":\"value\",\"value\":0},\"top\":{\"type\":\"field\",\"field\":\"top\"},\"line_color\":{\"type\":\"value\",\"value\":\"white\"},\"fill_color\":{\"type\":\"value\",\"value\":\"skyblue\"}}},\"nonselection_glyph\":{\"type\":\"object\",\"name\":\"Quad\",\"id\":\"p3028\",\"attributes\":{\"left\":{\"type\":\"field\",\"field\":\"left\"},\"right\":{\"type\":\"field\",\"field\":\"right\"},\"bottom\":{\"type\":\"value\",\"value\":0},\"top\":{\"type\":\"field\",\"field\":\"top\"},\"line_color\":{\"type\":\"value\",\"value\":\"white\"},\"line_alpha\":{\"type\":\"value\",\"value\":0.1},\"fill_color\":{\"type\":\"value\",\"value\":\"skyblue\"},\"fill_alpha\":{\"type\":\"value\",\"value\":0.1},\"hatch_alpha\":{\"type\":\"value\",\"value\":0.1}}},\"muted_glyph\":{\"type\":\"object\",\"name\":\"Quad\",\"id\":\"p3029\",\"attributes\":{\"left\":{\"type\":\"field\",\"field\":\"left\"},\"right\":{\"type\":\"field\",\"field\":\"right\"},\"bottom\":{\"type\":\"value\",\"value\":0},\"top\":{\"type\":\"field\",\"field\":\"top\"},\"line_color\":{\"type\":\"value\",\"value\":\"white\"},\"line_alpha\":{\"type\":\"value\",\"value\":0.2},\"fill_color\":{\"type\":\"value\",\"value\":\"skyblue\"},\"fill_alpha\":{\"type\":\"value\",\"value\":0.2},\"hatch_alpha\":{\"type\":\"value\",\"value\":0.2}}}}},{\"type\":\"object\",\"name\":\"GlyphRenderer\",\"id\":\"p3044\",\"attributes\":{\"y_range_name\":\"cumsum\",\"data_source\":{\"type\":\"object\",\"name\":\"ColumnDataSource\",\"id\":\"p3038\",\"attributes\":{\"selected\":{\"type\":\"object\",\"name\":\"Selection\",\"id\":\"p3039\",\"attributes\":{\"indices\":[],\"line_indices\":[]}},\"selection_policy\":{\"type\":\"object\",\"name\":\"UnionRenderers\",\"id\":\"p3040\"},\"data\":{\"type\":\"map\",\"entries\":[[\"x\",{\"type\":\"ndarray\",\"array\":{\"type\":\"bytes\",\"data\":\"AAAAAAAAAAAO5tkW/v4DQA7m2Rb+/hNAFdlGIn3+HUAO5tkW/v4jQJJfkJy9/ihAFdlGIn3+LUBMqf5THn8xQA7m2Rb+/jNA0CK12d1+NkCSX5Ccvf44QFOca1+dfjtAFdlGIn3+PUDrCpFyLj9AQEyp/lMef0FArUdsNQ6/QkAO5tkW/v5DQG+ER/jtPkVA0CK12d1+RkAxwSK7zb5HQJJfkJy9/khA8v39fa0+SkBTnGtfnX5LQLQ62UCNvkxAFdlGIn3+TUB2d7QDbT5PQOsKkXIuP1BAHNpHYybfUEBMqf5THn9RQH14tUQWH1JArUdsNQ6/UkDeFiMmBl9TQA7m2Rb+/lNAPrWQB/aeVEBvhEf47T5VQJ9T/ujl3lVA0CK12d1+VkAA8mvK1R5XQDHBIrvNvldAYZDZq8VeWECSX5Ccvf5YQMIuR421nllA8v39fa0+WkAjzbRupd5aQFOca1+dfltAhGsiUJUeXEC0OtlAjb5cQOUJkDGFXl1AFdlGIn3+XUA=\"},\"shape\":[49],\"dtype\":\"float64\",\"order\":\"little\"}],[\"y\",{\"type\":\"ndarray\",\"array\":{\"type\":\"bytes\",\"data\":\"YLmnEZZ7yj8s9zTCck/TP7Dc0wjLPd0/yz2NsNzT4D+E5Z5GWO7hPz6NsNzTCOM/sdzTCMs95T9qhOWeRljmPxKWexphuec/3dMIyz2N6D+oEZZ7GmHpP5Z7GmG5p+k/hOWeRlju6T89jbDc0wjrPxphuacRlus/GmG5pxGW6z/lnkZY7mnsP9MIyz2NsOw/jLDc0wjL7T96GmG5pxHuP2mE5Z5GWO4/aYTlnkZY7j9phOWeRljuP1fuaYTlnu4/V+5phOWe7j9X7mmE5Z7uP0VY7mmE5e4/NMJyTyMs7z80wnJPIyzvPzTCck8jLO8/NMJyTyMs7z8jLPc0wnLvPyMs9zTCcu8/Iyz3NMJy7z8jLPc0wnLvPyMs9zTCcu8/Iyz3NMJy7z8jLPc0wnLvPyMs9zTCcu8/Iyz3NMJy7z8jLPc0wnLvPyMs9zTCcu8/EZZ7GmG57z8RlnsaYbnvPxGWexphue8/EZZ7GmG57z8RlnsaYbnvPxGWexphue8/////////7z8=\"},\"shape\":[49],\"dtype\":\"float64\",\"order\":\"little\"}]]}}},\"view\":{\"type\":\"object\",\"name\":\"CDSView\",\"id\":\"p3045\",\"attributes\":{\"filter\":{\"type\":\"object\",\"name\":\"AllIndices\",\"id\":\"p3046\"}}},\"glyph\":{\"type\":\"object\",\"name\":\"Line\",\"id\":\"p3041\",\"attributes\":{\"x\":{\"type\":\"field\",\"field\":\"x\"},\"y\":{\"type\":\"field\",\"field\":\"y\"},\"line_color\":\"navy\"}},\"nonselection_glyph\":{\"type\":\"object\",\"name\":\"Line\",\"id\":\"p3042\",\"attributes\":{\"x\":{\"type\":\"field\",\"field\":\"x\"},\"y\":{\"type\":\"field\",\"field\":\"y\"},\"line_color\":\"navy\",\"line_alpha\":0.1}},\"muted_glyph\":{\"type\":\"object\",\"name\":\"Line\",\"id\":\"p3043\",\"attributes\":{\"x\":{\"type\":\"field\",\"field\":\"x\"},\"y\":{\"type\":\"field\",\"field\":\"y\"},\"line_color\":\"navy\",\"line_alpha\":0.2}}}}],\"toolbar\":{\"type\":\"object\",\"name\":\"Toolbar\",\"id\":\"p2984\",\"attributes\":{\"tools\":[{\"type\":\"object\",\"name\":\"PanTool\",\"id\":\"p3009\"},{\"type\":\"object\",\"name\":\"WheelZoomTool\",\"id\":\"p3010\"},{\"type\":\"object\",\"name\":\"BoxZoomTool\",\"id\":\"p3011\",\"attributes\":{\"overlay\":{\"type\":\"object\",\"name\":\"BoxAnnotation\",\"id\":\"p3012\",\"attributes\":{\"syncable\":false,\"level\":\"overlay\",\"visible\":false,\"left_units\":\"canvas\",\"right_units\":\"canvas\",\"bottom_units\":\"canvas\",\"top_units\":\"canvas\",\"line_color\":\"black\",\"line_alpha\":1.0,\"line_width\":2,\"line_dash\":[4,4],\"fill_color\":\"lightgrey\",\"fill_alpha\":0.5}}}},{\"type\":\"object\",\"name\":\"SaveTool\",\"id\":\"p3013\"},{\"type\":\"object\",\"name\":\"ResetTool\",\"id\":\"p3014\"},{\"type\":\"object\",\"name\":\"HelpTool\",\"id\":\"p3015\"}]}},\"left\":[{\"type\":\"object\",\"name\":\"LinearAxis\",\"id\":\"p3002\",\"attributes\":{\"ticker\":{\"type\":\"object\",\"name\":\"BasicTicker\",\"id\":\"p3005\",\"attributes\":{\"mantissas\":[1,2,5]}},\"formatter\":{\"type\":\"object\",\"name\":\"BasicTickFormatter\",\"id\":\"p3003\"},\"axis_label\":\"PseudorangeAcceleration\",\"major_label_policy\":{\"type\":\"object\",\"name\":\"AllLabels\",\"id\":\"p3004\"}}}],\"right\":[{\"type\":\"object\",\"name\":\"LinearAxis\",\"id\":\"p3047\",\"attributes\":{\"y_range_name\":\"cumsum\",\"ticker\":{\"type\":\"object\",\"name\":\"BasicTicker\",\"id\":\"p3050\",\"attributes\":{\"mantissas\":[1,2,5]}},\"formatter\":{\"type\":\"object\",\"name\":\"BasicTickFormatter\",\"id\":\"p3048\"},\"axis_label\":\"Cumulative probability\",\"major_label_policy\":{\"type\":\"object\",\"name\":\"AllLabels\",\"id\":\"p3049\"}}}],\"below\":[{\"type\":\"object\",\"name\":\"LinearAxis\",\"id\":\"p2995\",\"attributes\":{\"ticker\":{\"type\":\"object\",\"name\":\"BasicTicker\",\"id\":\"p2998\",\"attributes\":{\"mantissas\":[1,2,5]}},\"formatter\":{\"type\":\"object\",\"name\":\"BasicTickFormatter\",\"id\":\"p2996\"},\"major_label_policy\":{\"type\":\"object\",\"name\":\"AllLabels\",\"id\":\"p2997\"}}}],\"center\":[{\"type\":\"object\",\"name\":\"Grid\",\"id\":\"p3001\",\"attributes\":{\"axis\":{\"id\":\"p2995\"}}},{\"type\":\"object\",\"name\":\"Grid\",\"id\":\"p3008\",\"attributes\":{\"dimension\":1,\"axis\":{\"id\":\"p3002\"}}},{\"type\":\"object\",\"name\":\"Span\",\"id\":\"p3033\",\"attributes\":{\"location\":44.32549185054527,\"dimension\":\"height\",\"line_color\":\"red\"}},{\"type\":\"object\",\"name\":\"Label\",\"id\":\"p3034\",\"attributes\":{\"text\":\"95% - 44.325m\",\"text_color\":\"red\",\"text_font_size\":\"8pt\",\"text_font_style\":\"italic\",\"x\":44.32549185054527,\"y\":200,\"y_units\":\"screen\"}},{\"type\":\"object\",\"name\":\"Span\",\"id\":\"p3035\",\"attributes\":{\"location\":76.66699970328577,\"dimension\":\"height\",\"line_color\":\"red\"}},{\"type\":\"object\",\"name\":\"Label\",\"id\":\"p3036\",\"attributes\":{\"text\":\"99% - 76.667m\",\"text_color\":\"red\",\"text_font_size\":\"8pt\",\"text_font_style\":\"italic\",\"x\":76.66699970328577,\"y\":250,\"y_units\":\"screen\"}}],\"background_fill_color\":\"#efefef\"}}],\"callbacks\":{\"type\":\"map\"}}};\n  const render_items = [{\"docid\":\"c15b904f-1bd3-45a1-9675-409fe626f6b8\",\"roots\":{\"p2978\":\"b9171305-2517-4597-8f5c-7e1476444fd7\"},\"root_ids\":[\"p2978\"]}];\n  root.Bokeh.embed.embed_items_notebook(docs_json, render_items);\n  }\n  if (root.Bokeh !== undefined) {\n    embed_document(root);\n  } else {\n    let attempts = 0;\n    const timer = setInterval(function(root) {\n      if (root.Bokeh !== undefined) {\n        clearInterval(timer);\n        embed_document(root);\n      } else {\n        attempts++;\n        if (attempts > 100) {\n          clearInterval(timer);\n          console.log(\"Bokeh: ERROR: Unable to run BokehJS code because BokehJS library is missing\");\n        }\n      }\n    }, 10, root)\n  }\n})(window);",
      "application/vnd.bokehjs_exec.v0+json": ""
     },
     "metadata": {
      "application/vnd.bokehjs_exec.v0+json": {
       "id": "p2978"
      }
     },
     "output_type": "display_data"
    },
    {
     "data": {
      "text/html": [
       "\n",
       "  <div id=\"e7e5d61c-c36e-4dbb-a68e-1907e23ffc5f\" data-root-id=\"p3348\" style=\"display: contents;\"></div>\n"
      ]
     },
     "metadata": {},
     "output_type": "display_data"
    },
    {
     "data": {
      "application/javascript": "(function(root) {\n  function embed_document(root) {\n  const docs_json = {\"96ac4cfa-51cd-4b94-bb4e-91827b54e0ea\":{\"version\":\"3.1.1\",\"title\":\"Bokeh Application\",\"defs\":[],\"roots\":[{\"type\":\"object\",\"name\":\"Figure\",\"id\":\"p3348\",\"attributes\":{\"height\":300,\"x_range\":{\"type\":\"object\",\"name\":\"DataRange1d\",\"id\":\"p3350\"},\"y_range\":{\"type\":\"object\",\"name\":\"Range1d\",\"id\":\"p3359\",\"attributes\":{\"end\":0.4}},\"x_scale\":{\"type\":\"object\",\"name\":\"LinearScale\",\"id\":\"p3361\"},\"y_scale\":{\"type\":\"object\",\"name\":\"LinearScale\",\"id\":\"p3363\"},\"extra_y_ranges\":{\"type\":\"map\",\"entries\":[[\"cumsum\",{\"type\":\"object\",\"name\":\"Range1d\",\"id\":\"p3407\",\"attributes\":{\"end\":1.1}}]]},\"title\":{\"type\":\"object\",\"name\":\"Title\",\"id\":\"p3351\"},\"renderers\":[{\"type\":\"object\",\"name\":\"GlyphRenderer\",\"id\":\"p3400\",\"attributes\":{\"data_source\":{\"type\":\"object\",\"name\":\"ColumnDataSource\",\"id\":\"p3394\",\"attributes\":{\"selected\":{\"type\":\"object\",\"name\":\"Selection\",\"id\":\"p3395\",\"attributes\":{\"indices\":[],\"line_indices\":[]}},\"selection_policy\":{\"type\":\"object\",\"name\":\"UnionRenderers\",\"id\":\"p3396\"},\"data\":{\"type\":\"map\",\"entries\":[[\"top\",{\"type\":\"ndarray\",\"array\":{\"type\":\"bytes\",\"data\":\"3tMIyz2N0D+oEZZ7GmHJP+1phOWeRsg/SVjuaYTlrj8Hyz2NsNyzP2K5pxGWe5o/YrmnEZZ7mj+YexphuaeRP5N7GmG5p5E/mHsaYbmnkT+YexphuaeBP5h7GmG5p5E/mHsaYbmnkT+YexphuaeBPwAAAAAAAAAAAAAAAAAAAAAAAAAAAAAAAAAAAAAAAAAAmHsaYbmngT8AAAAAAAAAAAAAAAAAAAAAmHsaYbmngT+YexphuaeRPwAAAAAAAAAAAAAAAAAAAACYexphuaeRPwAAAAAAAAAAAAAAAAAAAAAAAAAAAAAAAAAAAAAAAAAAAAAAAAAAAAAAAAAAAAAAAAAAAAAAAAAAAAAAAAAAAAAAAAAAAAAAAAAAAAAAAAAAAAAAAAAAAAAAAAAAAAAAAAAAAAAAAAAAAAAAAAAAAAAAAAAAAAAAAAAAAAAAAAAAAAAAAAAAAAAAAAAAAAAAAAAAAAAAAAAAAAAAAAAAAAAAAAAAAAAAAAAAAAAAAAAAqXsaYbmngT8=\"},\"shape\":[49],\"dtype\":\"float64\",\"order\":\"little\"}],[\"left\",{\"type\":\"ndarray\",\"array\":{\"type\":\"bytes\",\"data\":\"AAAAAAAAAACh7XLNrVwPQKHtcs2tXB9AOTIWWoKFJ0Ch7XLNrVwvQIXUZ6DsmTNAOTIWWoKFN0Dtj8QTGHE7QKHtcs2tXD9Aq6WQwyGkQUCF1Geg7JlDQF8DP323j0VAOTIWWoKFR0ATYe02TXtJQO2PxBMYcUtAx76b8OJmTUCh7XLNrVxPQD4OJVU8qVBAq6WQwyGkUUAYPfwxB59SQIXUZ6DsmVNA8mvTDtKUVEBfAz99t49VQMyaquucilZAOTIWWoKFV0CmyYHIZ4BYQBNh7TZNe1lAgPhYpTJ2WkDtj8QTGHFbQFonMIL9a1xAx76b8OJmXUA0VgdfyGFeQKHtcs2tXF9Ah0LvnckrYEA+DiVVPKlgQPTZWgyvJmFAq6WQwyGkYUBhccZ6lCFiQBg9/DEHn2JAzggy6XkcY0CF1Geg7JljQDugnVdfF2RA8mvTDtKUZECoNwnGRBJlQF8DP323j2VAFc90NCoNZkDMmqrrnIpmQIJm4KIPCGdAOTIWWoKFZ0A=\"},\"shape\":[49],\"dtype\":\"float64\",\"order\":\"little\"}],[\"right\",{\"type\":\"ndarray\",\"array\":{\"type\":\"bytes\",\"data\":\"oe1yza1cD0Ch7XLNrVwfQDkyFlqChSdAoe1yza1cL0CF1Geg7JkzQDkyFlqChTdA7Y/EExhxO0Ch7XLNrVw/QKulkMMhpEFAhdRnoOyZQ0BfAz99t49FQDkyFlqChUdAE2HtNk17SUDtj8QTGHFLQMe+m/DiZk1Aoe1yza1cT0A+DiVVPKlQQKulkMMhpFFAGD38MQefUkCF1Geg7JlTQPJr0w7SlFRAXwM/fbePVUDMmqrrnIpWQDkyFlqChVdApsmByGeAWEATYe02TXtZQID4WKUydlpA7Y/EExhxW0BaJzCC/WtcQMe+m/DiZl1ANFYHX8hhXkCh7XLNrVxfQIdC753JK2BAPg4lVTypYED02VoMryZhQKulkMMhpGFAYXHGepQhYkAYPfwxB59iQM4IMul5HGNAhdRnoOyZY0A7oJ1XXxdkQPJr0w7SlGRAqDcJxkQSZUBfAz99t49lQBXPdDQqDWZAzJqq65yKZkCCZuCiDwhnQDkyFlqChWdA7/1LEfUCaEA=\"},\"shape\":[49],\"dtype\":\"float64\",\"order\":\"little\"}]]}}},\"view\":{\"type\":\"object\",\"name\":\"CDSView\",\"id\":\"p3401\",\"attributes\":{\"filter\":{\"type\":\"object\",\"name\":\"AllIndices\",\"id\":\"p3402\"}}},\"glyph\":{\"type\":\"object\",\"name\":\"Quad\",\"id\":\"p3397\",\"attributes\":{\"left\":{\"type\":\"field\",\"field\":\"left\"},\"right\":{\"type\":\"field\",\"field\":\"right\"},\"bottom\":{\"type\":\"value\",\"value\":0},\"top\":{\"type\":\"field\",\"field\":\"top\"},\"line_color\":{\"type\":\"value\",\"value\":\"white\"},\"fill_color\":{\"type\":\"value\",\"value\":\"skyblue\"}}},\"nonselection_glyph\":{\"type\":\"object\",\"name\":\"Quad\",\"id\":\"p3398\",\"attributes\":{\"left\":{\"type\":\"field\",\"field\":\"left\"},\"right\":{\"type\":\"field\",\"field\":\"right\"},\"bottom\":{\"type\":\"value\",\"value\":0},\"top\":{\"type\":\"field\",\"field\":\"top\"},\"line_color\":{\"type\":\"value\",\"value\":\"white\"},\"line_alpha\":{\"type\":\"value\",\"value\":0.1},\"fill_color\":{\"type\":\"value\",\"value\":\"skyblue\"},\"fill_alpha\":{\"type\":\"value\",\"value\":0.1},\"hatch_alpha\":{\"type\":\"value\",\"value\":0.1}}},\"muted_glyph\":{\"type\":\"object\",\"name\":\"Quad\",\"id\":\"p3399\",\"attributes\":{\"left\":{\"type\":\"field\",\"field\":\"left\"},\"right\":{\"type\":\"field\",\"field\":\"right\"},\"bottom\":{\"type\":\"value\",\"value\":0},\"top\":{\"type\":\"field\",\"field\":\"top\"},\"line_color\":{\"type\":\"value\",\"value\":\"white\"},\"line_alpha\":{\"type\":\"value\",\"value\":0.2},\"fill_color\":{\"type\":\"value\",\"value\":\"skyblue\"},\"fill_alpha\":{\"type\":\"value\",\"value\":0.2},\"hatch_alpha\":{\"type\":\"value\",\"value\":0.2}}}}},{\"type\":\"object\",\"name\":\"GlyphRenderer\",\"id\":\"p3414\",\"attributes\":{\"y_range_name\":\"cumsum\",\"data_source\":{\"type\":\"object\",\"name\":\"ColumnDataSource\",\"id\":\"p3408\",\"attributes\":{\"selected\":{\"type\":\"object\",\"name\":\"Selection\",\"id\":\"p3409\",\"attributes\":{\"indices\":[],\"line_indices\":[]}},\"selection_policy\":{\"type\":\"object\",\"name\":\"UnionRenderers\",\"id\":\"p3410\"},\"data\":{\"type\":\"map\",\"entries\":[[\"x\",{\"type\":\"ndarray\",\"array\":{\"type\":\"bytes\",\"data\":\"AAAAAAAAAACh7XLNrVwPQKHtcs2tXB9AOTIWWoKFJ0Ch7XLNrVwvQIXUZ6DsmTNAOTIWWoKFN0Dtj8QTGHE7QKHtcs2tXD9Aq6WQwyGkQUCF1Geg7JlDQF8DP323j0VAOTIWWoKFR0ATYe02TXtJQO2PxBMYcUtAx76b8OJmTUCh7XLNrVxPQD4OJVU8qVBAq6WQwyGkUUAYPfwxB59SQIXUZ6DsmVNA8mvTDtKUVEBfAz99t49VQMyaquucilZAOTIWWoKFV0CmyYHIZ4BYQBNh7TZNe1lAgPhYpTJ2WkDtj8QTGHFbQFonMIL9a1xAx76b8OJmXUA0VgdfyGFeQKHtcs2tXF9Ah0LvnckrYEA+DiVVPKlgQPTZWgyvJmFAq6WQwyGkYUBhccZ6lCFiQBg9/DEHn2JAzggy6XkcY0CF1Geg7JljQDugnVdfF2RA8mvTDtKUZECoNwnGRBJlQF8DP323j2VAFc90NCoNZkDMmqrrnIpmQIJm4KIPCGdAOTIWWoKFZ0A=\"},\"shape\":[49],\"dtype\":\"float64\",\"order\":\"little\"}],[\"y\",{\"type\":\"ndarray\",\"array\":{\"type\":\"bytes\",\"data\":\"3tMIyz2N0D+y3NMIyz3dP9QIyz2NsOQ/We5phOWe5j+6pxGWexrpP4XlnkZY7uk/UCMs9zTC6j8t9zTCck/rPwrLPY2w3Os/555GWO5p7D/VCMs9jbDsP7Lc0wjLPe0/j7Dc0wjL7T99GmG5pxHuP30aYbmnEe4/fRphuacR7j99GmG5pxHuP30aYbmnEe4/a4TlnkZY7j9rhOWeRljuP2uE5Z5GWO4/We5phOWe7j82wnJPIyzvPzbCck8jLO8/NsJyTyMs7z8TlnsaYbnvPxOWexphue8/E5Z7GmG57z8TlnsaYbnvPxOWexphue8/E5Z7GmG57z8TlnsaYbnvPxOWexphue8/E5Z7GmG57z8TlnsaYbnvPxOWexphue8/E5Z7GmG57z8TlnsaYbnvPxOWexphue8/E5Z7GmG57z8TlnsaYbnvPxOWexphue8/E5Z7GmG57z8TlnsaYbnvPxOWexphue8/E5Z7GmG57z8TlnsaYbnvPxOWexphue8/AQAAAAAA8D8=\"},\"shape\":[49],\"dtype\":\"float64\",\"order\":\"little\"}]]}}},\"view\":{\"type\":\"object\",\"name\":\"CDSView\",\"id\":\"p3415\",\"attributes\":{\"filter\":{\"type\":\"object\",\"name\":\"AllIndices\",\"id\":\"p3416\"}}},\"glyph\":{\"type\":\"object\",\"name\":\"Line\",\"id\":\"p3411\",\"attributes\":{\"x\":{\"type\":\"field\",\"field\":\"x\"},\"y\":{\"type\":\"field\",\"field\":\"y\"},\"line_color\":\"navy\"}},\"nonselection_glyph\":{\"type\":\"object\",\"name\":\"Line\",\"id\":\"p3412\",\"attributes\":{\"x\":{\"type\":\"field\",\"field\":\"x\"},\"y\":{\"type\":\"field\",\"field\":\"y\"},\"line_color\":\"navy\",\"line_alpha\":0.1}},\"muted_glyph\":{\"type\":\"object\",\"name\":\"Line\",\"id\":\"p3413\",\"attributes\":{\"x\":{\"type\":\"field\",\"field\":\"x\"},\"y\":{\"type\":\"field\",\"field\":\"y\"},\"line_color\":\"navy\",\"line_alpha\":0.2}}}}],\"toolbar\":{\"type\":\"object\",\"name\":\"Toolbar\",\"id\":\"p3354\",\"attributes\":{\"tools\":[{\"type\":\"object\",\"name\":\"PanTool\",\"id\":\"p3379\"},{\"type\":\"object\",\"name\":\"WheelZoomTool\",\"id\":\"p3380\"},{\"type\":\"object\",\"name\":\"BoxZoomTool\",\"id\":\"p3381\",\"attributes\":{\"overlay\":{\"type\":\"object\",\"name\":\"BoxAnnotation\",\"id\":\"p3382\",\"attributes\":{\"syncable\":false,\"level\":\"overlay\",\"visible\":false,\"left_units\":\"canvas\",\"right_units\":\"canvas\",\"bottom_units\":\"canvas\",\"top_units\":\"canvas\",\"line_color\":\"black\",\"line_alpha\":1.0,\"line_width\":2,\"line_dash\":[4,4],\"fill_color\":\"lightgrey\",\"fill_alpha\":0.5}}}},{\"type\":\"object\",\"name\":\"SaveTool\",\"id\":\"p3383\"},{\"type\":\"object\",\"name\":\"ResetTool\",\"id\":\"p3384\"},{\"type\":\"object\",\"name\":\"HelpTool\",\"id\":\"p3385\"}]}},\"left\":[{\"type\":\"object\",\"name\":\"LinearAxis\",\"id\":\"p3372\",\"attributes\":{\"ticker\":{\"type\":\"object\",\"name\":\"BasicTicker\",\"id\":\"p3375\",\"attributes\":{\"mantissas\":[1,2,5]}},\"formatter\":{\"type\":\"object\",\"name\":\"BasicTickFormatter\",\"id\":\"p3373\"},\"axis_label\":\"PseudorangeAcceleration\",\"major_label_policy\":{\"type\":\"object\",\"name\":\"AllLabels\",\"id\":\"p3374\"}}}],\"right\":[{\"type\":\"object\",\"name\":\"LinearAxis\",\"id\":\"p3417\",\"attributes\":{\"y_range_name\":\"cumsum\",\"ticker\":{\"type\":\"object\",\"name\":\"BasicTicker\",\"id\":\"p3420\",\"attributes\":{\"mantissas\":[1,2,5]}},\"formatter\":{\"type\":\"object\",\"name\":\"BasicTickFormatter\",\"id\":\"p3418\"},\"axis_label\":\"Cumulative probability\",\"major_label_policy\":{\"type\":\"object\",\"name\":\"AllLabels\",\"id\":\"p3419\"}}}],\"below\":[{\"type\":\"object\",\"name\":\"LinearAxis\",\"id\":\"p3365\",\"attributes\":{\"ticker\":{\"type\":\"object\",\"name\":\"BasicTicker\",\"id\":\"p3368\",\"attributes\":{\"mantissas\":[1,2,5]}},\"formatter\":{\"type\":\"object\",\"name\":\"BasicTickFormatter\",\"id\":\"p3366\"},\"major_label_policy\":{\"type\":\"object\",\"name\":\"AllLabels\",\"id\":\"p3367\"}}}],\"center\":[{\"type\":\"object\",\"name\":\"Grid\",\"id\":\"p3371\",\"attributes\":{\"axis\":{\"id\":\"p3365\"}}},{\"type\":\"object\",\"name\":\"Grid\",\"id\":\"p3378\",\"attributes\":{\"dimension\":1,\"axis\":{\"id\":\"p3372\"}}},{\"type\":\"object\",\"name\":\"Span\",\"id\":\"p3403\",\"attributes\":{\"location\":43.97264694006954,\"dimension\":\"height\",\"line_color\":\"red\"}},{\"type\":\"object\",\"name\":\"Label\",\"id\":\"p3404\",\"attributes\":{\"text\":\"95% - 43.973m\",\"text_color\":\"red\",\"text_font_size\":\"8pt\",\"text_font_style\":\"italic\",\"x\":43.97264694006954,\"y\":200,\"y_units\":\"screen\"}},{\"type\":\"object\",\"name\":\"Span\",\"id\":\"p3405\",\"attributes\":{\"location\":97.51657309199727,\"dimension\":\"height\",\"line_color\":\"red\"}},{\"type\":\"object\",\"name\":\"Label\",\"id\":\"p3406\",\"attributes\":{\"text\":\"99% - 97.517m\",\"text_color\":\"red\",\"text_font_size\":\"8pt\",\"text_font_style\":\"italic\",\"x\":97.51657309199727,\"y\":250,\"y_units\":\"screen\"}}],\"background_fill_color\":\"#efefef\"}}],\"callbacks\":{\"type\":\"map\"}}};\n  const render_items = [{\"docid\":\"96ac4cfa-51cd-4b94-bb4e-91827b54e0ea\",\"roots\":{\"p3348\":\"e7e5d61c-c36e-4dbb-a68e-1907e23ffc5f\"},\"root_ids\":[\"p3348\"]}];\n  root.Bokeh.embed.embed_items_notebook(docs_json, render_items);\n  }\n  if (root.Bokeh !== undefined) {\n    embed_document(root);\n  } else {\n    let attempts = 0;\n    const timer = setInterval(function(root) {\n      if (root.Bokeh !== undefined) {\n        clearInterval(timer);\n        embed_document(root);\n      } else {\n        attempts++;\n        if (attempts > 100) {\n          clearInterval(timer);\n          console.log(\"Bokeh: ERROR: Unable to run BokehJS code because BokehJS library is missing\");\n        }\n      }\n    }, 10, root)\n  }\n})(window);",
      "application/vnd.bokehjs_exec.v0+json": ""
     },
     "metadata": {
      "application/vnd.bokehjs_exec.v0+json": {
       "id": "p3348"
      }
     },
     "output_type": "display_data"
    },
    {
     "data": {
      "text/html": [
       "\n",
       "  <div id=\"f4c07eca-fc76-42ae-9403-588b2feeab2f\" data-root-id=\"p3740\" style=\"display: contents;\"></div>\n"
      ]
     },
     "metadata": {},
     "output_type": "display_data"
    },
    {
     "data": {
      "application/javascript": "(function(root) {\n  function embed_document(root) {\n  const docs_json = {\"3a353ff0-f275-4943-9190-1321b91124a7\":{\"version\":\"3.1.1\",\"title\":\"Bokeh Application\",\"defs\":[],\"roots\":[{\"type\":\"object\",\"name\":\"Figure\",\"id\":\"p3740\",\"attributes\":{\"height\":300,\"x_range\":{\"type\":\"object\",\"name\":\"DataRange1d\",\"id\":\"p3742\"},\"y_range\":{\"type\":\"object\",\"name\":\"Range1d\",\"id\":\"p3751\",\"attributes\":{\"end\":0.4}},\"x_scale\":{\"type\":\"object\",\"name\":\"LinearScale\",\"id\":\"p3753\"},\"y_scale\":{\"type\":\"object\",\"name\":\"LinearScale\",\"id\":\"p3755\"},\"extra_y_ranges\":{\"type\":\"map\",\"entries\":[[\"cumsum\",{\"type\":\"object\",\"name\":\"Range1d\",\"id\":\"p3799\",\"attributes\":{\"end\":1.1}}]]},\"title\":{\"type\":\"object\",\"name\":\"Title\",\"id\":\"p3743\"},\"renderers\":[{\"type\":\"object\",\"name\":\"GlyphRenderer\",\"id\":\"p3792\",\"attributes\":{\"data_source\":{\"type\":\"object\",\"name\":\"ColumnDataSource\",\"id\":\"p3786\",\"attributes\":{\"selected\":{\"type\":\"object\",\"name\":\"Selection\",\"id\":\"p3787\",\"attributes\":{\"indices\":[],\"line_indices\":[]}},\"selection_policy\":{\"type\":\"object\",\"name\":\"UnionRenderers\",\"id\":\"p3788\"},\"data\":{\"type\":\"map\",\"entries\":[[\"top\",{\"type\":\"ndarray\",\"array\":{\"type\":\"bytes\",\"data\":\"Lql8GPfr0j91SeXDuF/HPz/RVoPnCMQ/q8FzBIq2qj8agaKtBs+xPx2Boq0Gz5E/ZCELWchCpj8AAAAAAAAAAKvBcwSKtpo/GIGirQbPkT+1wXMEiraaPxiBoq0Gz5E/IoGirQbPkT8AAAAAAAAAACKBoq0Gz4E/GIGirQbPkT8AAAAAAAAAAAAAAAAAAAAAGIGirQbPkT8YgaKtBs+BPwAAAAAAAAAAAAAAAAAAAAAAAAAAAAAAAAAAAAAAAAAAAAAAAAAAAAAAAAAAAAAAAAAAAAAAAAAAGIGirQbPgT8AAAAAAAAAAAAAAAAAAAAAAAAAAAAAAAAYgaKtBs+BPwAAAAAAAAAAAAAAAAAAAAAAAAAAAAAAAAAAAAAAAAAAAAAAAAAAAAAAAAAAAAAAAAAAAAAAAAAAAAAAAAAAAAAAAAAAAAAAAAAAAAAAAAAAAAAAAAAAAAAAAAAAAAAAAAAAAAAAAAAAAAAAAAAAAAAAAAAAAAAAAAAAAAAAAAAALYGirQbPgT8=\"},\"shape\":[49],\"dtype\":\"float64\",\"order\":\"little\"}],[\"left\",{\"type\":\"ndarray\",\"array\":{\"type\":\"bytes\",\"data\":\"AAAAAAAAAADZKYDYqqAJQNkpgNiqoBlAYx9gIoA4I0DZKYDYqqApQCgaUMdqBDBAYx9gIoA4M0CeJHB9lWw2QNkpgNiqoDlAFC+QM8DUPEAoGlDHagRAQMUc2HR1nkFAYx9gIoA4Q0AAIujPitJEQJ4kcH2VbEZAOyf4KqAGSEDZKYDYqqBJQHcsCIa1OktAFC+QM8DUTECyMRjhym5OQCgaUMdqBFBAdhsUHnDRUEDFHNh0dZ5RQBQenMt6a1JAYx9gIoA4U0CyICR5hQVUQAAi6M+K0lRATyOsJpCfVUCeJHB9lWxWQO0lNNSaOVdAOyf4KqAGWECKKLyBpdNYQNkpgNiqoFlAKCtEL7BtWkB3LAiGtTpbQMUtzNy6B1xAFC+QM8DUXEBjMFSKxaFdQLIxGOHKbl5AADPcN9A7X0AoGlDHagRgQM8asnLtamBAdhsUHnDRYEAeHHbJ8jdhQMUc2HR1nmFAbR06IPgEYkAUHpzLemtiQLse/nb90WJAYx9gIoA4Y0A=\"},\"shape\":[49],\"dtype\":\"float64\",\"order\":\"little\"}],[\"right\",{\"type\":\"ndarray\",\"array\":{\"type\":\"bytes\",\"data\":\"2SmA2KqgCUDZKYDYqqAZQGMfYCKAOCNA2SmA2KqgKUAoGlDHagQwQGMfYCKAODNAniRwfZVsNkDZKYDYqqA5QBQvkDPA1DxAKBpQx2oEQEDFHNh0dZ5BQGMfYCKAOENAACLoz4rSRECeJHB9lWxGQDsn+CqgBkhA2SmA2KqgSUB3LAiGtTpLQBQvkDPA1ExAsjEY4cpuTkAoGlDHagRQQHYbFB5w0VBAxRzYdHWeUUAUHpzLemtSQGMfYCKAOFNAsiAkeYUFVEAAIujPitJUQE8jrCaQn1VAniRwfZVsVkDtJTTUmjlXQDsn+CqgBlhAiii8gaXTWEDZKYDYqqBZQCgrRC+wbVpAdywIhrU6W0DFLczcugdcQBQvkDPA1FxAYzBUisWhXUCyMRjhym5eQAAz3DfQO19AKBpQx2oEYEDPGrJy7WpgQHYbFB5w0WBAHhx2yfI3YUDFHNh0dZ5hQG0dOiD4BGJAFB6cy3prYkC7Hv52/dFiQGMfYCKAOGNACiDCzQKfY0A=\"},\"shape\":[49],\"dtype\":\"float64\",\"order\":\"little\"}]]}}},\"view\":{\"type\":\"object\",\"name\":\"CDSView\",\"id\":\"p3793\",\"attributes\":{\"filter\":{\"type\":\"object\",\"name\":\"AllIndices\",\"id\":\"p3794\"}}},\"glyph\":{\"type\":\"object\",\"name\":\"Quad\",\"id\":\"p3789\",\"attributes\":{\"left\":{\"type\":\"field\",\"field\":\"left\"},\"right\":{\"type\":\"field\",\"field\":\"right\"},\"bottom\":{\"type\":\"value\",\"value\":0},\"top\":{\"type\":\"field\",\"field\":\"top\"},\"line_color\":{\"type\":\"value\",\"value\":\"white\"},\"fill_color\":{\"type\":\"value\",\"value\":\"skyblue\"}}},\"nonselection_glyph\":{\"type\":\"object\",\"name\":\"Quad\",\"id\":\"p3790\",\"attributes\":{\"left\":{\"type\":\"field\",\"field\":\"left\"},\"right\":{\"type\":\"field\",\"field\":\"right\"},\"bottom\":{\"type\":\"value\",\"value\":0},\"top\":{\"type\":\"field\",\"field\":\"top\"},\"line_color\":{\"type\":\"value\",\"value\":\"white\"},\"line_alpha\":{\"type\":\"value\",\"value\":0.1},\"fill_color\":{\"type\":\"value\",\"value\":\"skyblue\"},\"fill_alpha\":{\"type\":\"value\",\"value\":0.1},\"hatch_alpha\":{\"type\":\"value\",\"value\":0.1}}},\"muted_glyph\":{\"type\":\"object\",\"name\":\"Quad\",\"id\":\"p3791\",\"attributes\":{\"left\":{\"type\":\"field\",\"field\":\"left\"},\"right\":{\"type\":\"field\",\"field\":\"right\"},\"bottom\":{\"type\":\"value\",\"value\":0},\"top\":{\"type\":\"field\",\"field\":\"top\"},\"line_color\":{\"type\":\"value\",\"value\":\"white\"},\"line_alpha\":{\"type\":\"value\",\"value\":0.2},\"fill_color\":{\"type\":\"value\",\"value\":\"skyblue\"},\"fill_alpha\":{\"type\":\"value\",\"value\":0.2},\"hatch_alpha\":{\"type\":\"value\",\"value\":0.2}}}}},{\"type\":\"object\",\"name\":\"GlyphRenderer\",\"id\":\"p3806\",\"attributes\":{\"y_range_name\":\"cumsum\",\"data_source\":{\"type\":\"object\",\"name\":\"ColumnDataSource\",\"id\":\"p3800\",\"attributes\":{\"selected\":{\"type\":\"object\",\"name\":\"Selection\",\"id\":\"p3801\",\"attributes\":{\"indices\":[],\"line_indices\":[]}},\"selection_policy\":{\"type\":\"object\",\"name\":\"UnionRenderers\",\"id\":\"p3802\"},\"data\":{\"type\":\"map\",\"entries\":[[\"x\",{\"type\":\"ndarray\",\"array\":{\"type\":\"bytes\",\"data\":\"AAAAAAAAAADZKYDYqqAJQNkpgNiqoBlAYx9gIoA4I0DZKYDYqqApQCgaUMdqBDBAYx9gIoA4M0CeJHB9lWw2QNkpgNiqoDlAFC+QM8DUPEAoGlDHagRAQMUc2HR1nkFAYx9gIoA4Q0AAIujPitJEQJ4kcH2VbEZAOyf4KqAGSEDZKYDYqqBJQHcsCIa1OktAFC+QM8DUTECyMRjhym5OQCgaUMdqBFBAdhsUHnDRUEDFHNh0dZ5RQBQenMt6a1JAYx9gIoA4U0CyICR5hQVUQAAi6M+K0lRATyOsJpCfVUCeJHB9lWxWQO0lNNSaOVdAOyf4KqAGWECKKLyBpdNYQNkpgNiqoFlAKCtEL7BtWkB3LAiGtTpbQMUtzNy6B1xAFC+QM8DUXEBjMFSKxaFdQLIxGOHKbl5AADPcN9A7X0AoGlDHagRgQM8asnLtamBAdhsUHnDRYEAeHHbJ8jdhQMUc2HR1nmFAbR06IPgEYkAUHpzLemtiQLse/nb90WJAYx9gIoA4Y0A=\"},\"shape\":[49],\"dtype\":\"float64\",\"order\":\"little\"}],[\"y\",{\"type\":\"ndarray\",\"array\":{\"type\":\"bytes\",\"data\":\"Lql8GPfr0j/oTW9605veP0RbDZ4jUOQ/X5dUPoz75T+C5wgUbTXoP4v7dUnlw+g/oa0GzxEo6j+hrQbPESjqP65LKh/G/eo/t1+XVD6M6z/F/bqk8mHsP84RKNpq8Ow/1yWVD+N+7T/XJZUP437tP9yvSyofxu0/5cO4X5dU7j/lw7hfl1TuP+XDuF+XVO4/7tcllQ/j7j/yYdyvSyrvP/Jh3K9LKu8/8mHcr0sq7z/yYdyvSyrvP/Jh3K9LKu8/8mHcr0sq7z/yYdyvSyrvP/Jh3K9LKu8/9uuSyodx7z/265LKh3HvP/brksqHce8/9uuSyodx7z/6dUnlw7jvP/p1SeXDuO8/+nVJ5cO47z/6dUnlw7jvP/p1SeXDuO8/+nVJ5cO47z/6dUnlw7jvP/p1SeXDuO8/+nVJ5cO47z/6dUnlw7jvP/p1SeXDuO8/+nVJ5cO47z/6dUnlw7jvP/p1SeXDuO8/+nVJ5cO47z/6dUnlw7jvP/p1SeXDuO8/////////7z8=\"},\"shape\":[49],\"dtype\":\"float64\",\"order\":\"little\"}]]}}},\"view\":{\"type\":\"object\",\"name\":\"CDSView\",\"id\":\"p3807\",\"attributes\":{\"filter\":{\"type\":\"object\",\"name\":\"AllIndices\",\"id\":\"p3808\"}}},\"glyph\":{\"type\":\"object\",\"name\":\"Line\",\"id\":\"p3803\",\"attributes\":{\"x\":{\"type\":\"field\",\"field\":\"x\"},\"y\":{\"type\":\"field\",\"field\":\"y\"},\"line_color\":\"navy\"}},\"nonselection_glyph\":{\"type\":\"object\",\"name\":\"Line\",\"id\":\"p3804\",\"attributes\":{\"x\":{\"type\":\"field\",\"field\":\"x\"},\"y\":{\"type\":\"field\",\"field\":\"y\"},\"line_color\":\"navy\",\"line_alpha\":0.1}},\"muted_glyph\":{\"type\":\"object\",\"name\":\"Line\",\"id\":\"p3805\",\"attributes\":{\"x\":{\"type\":\"field\",\"field\":\"x\"},\"y\":{\"type\":\"field\",\"field\":\"y\"},\"line_color\":\"navy\",\"line_alpha\":0.2}}}}],\"toolbar\":{\"type\":\"object\",\"name\":\"Toolbar\",\"id\":\"p3746\",\"attributes\":{\"tools\":[{\"type\":\"object\",\"name\":\"PanTool\",\"id\":\"p3771\"},{\"type\":\"object\",\"name\":\"WheelZoomTool\",\"id\":\"p3772\"},{\"type\":\"object\",\"name\":\"BoxZoomTool\",\"id\":\"p3773\",\"attributes\":{\"overlay\":{\"type\":\"object\",\"name\":\"BoxAnnotation\",\"id\":\"p3774\",\"attributes\":{\"syncable\":false,\"level\":\"overlay\",\"visible\":false,\"left_units\":\"canvas\",\"right_units\":\"canvas\",\"bottom_units\":\"canvas\",\"top_units\":\"canvas\",\"line_color\":\"black\",\"line_alpha\":1.0,\"line_width\":2,\"line_dash\":[4,4],\"fill_color\":\"lightgrey\",\"fill_alpha\":0.5}}}},{\"type\":\"object\",\"name\":\"SaveTool\",\"id\":\"p3775\"},{\"type\":\"object\",\"name\":\"ResetTool\",\"id\":\"p3776\"},{\"type\":\"object\",\"name\":\"HelpTool\",\"id\":\"p3777\"}]}},\"left\":[{\"type\":\"object\",\"name\":\"LinearAxis\",\"id\":\"p3764\",\"attributes\":{\"ticker\":{\"type\":\"object\",\"name\":\"BasicTicker\",\"id\":\"p3767\",\"attributes\":{\"mantissas\":[1,2,5]}},\"formatter\":{\"type\":\"object\",\"name\":\"BasicTickFormatter\",\"id\":\"p3765\"},\"axis_label\":\"PseudorangeAcceleration\",\"major_label_policy\":{\"type\":\"object\",\"name\":\"AllLabels\",\"id\":\"p3766\"}}}],\"right\":[{\"type\":\"object\",\"name\":\"LinearAxis\",\"id\":\"p3809\",\"attributes\":{\"y_range_name\":\"cumsum\",\"ticker\":{\"type\":\"object\",\"name\":\"BasicTicker\",\"id\":\"p3812\",\"attributes\":{\"mantissas\":[1,2,5]}},\"formatter\":{\"type\":\"object\",\"name\":\"BasicTickFormatter\",\"id\":\"p3810\"},\"axis_label\":\"Cumulative probability\",\"major_label_policy\":{\"type\":\"object\",\"name\":\"AllLabels\",\"id\":\"p3811\"}}}],\"below\":[{\"type\":\"object\",\"name\":\"LinearAxis\",\"id\":\"p3757\",\"attributes\":{\"ticker\":{\"type\":\"object\",\"name\":\"BasicTicker\",\"id\":\"p3760\",\"attributes\":{\"mantissas\":[1,2,5]}},\"formatter\":{\"type\":\"object\",\"name\":\"BasicTickFormatter\",\"id\":\"p3758\"},\"major_label_policy\":{\"type\":\"object\",\"name\":\"AllLabels\",\"id\":\"p3759\"}}}],\"center\":[{\"type\":\"object\",\"name\":\"Grid\",\"id\":\"p3763\",\"attributes\":{\"axis\":{\"id\":\"p3757\"}}},{\"type\":\"object\",\"name\":\"Grid\",\"id\":\"p3770\",\"attributes\":{\"dimension\":1,\"axis\":{\"id\":\"p3764\"}}},{\"type\":\"object\",\"name\":\"Span\",\"id\":\"p3795\",\"attributes\":{\"location\":36.030325541070766,\"dimension\":\"height\",\"line_color\":\"red\"}},{\"type\":\"object\",\"name\":\"Label\",\"id\":\"p3796\",\"attributes\":{\"text\":\"95% - 36.030m\",\"text_color\":\"red\",\"text_font_size\":\"8pt\",\"text_font_style\":\"italic\",\"x\":36.030325541070766,\"y\":200,\"y_units\":\"screen\"}},{\"type\":\"object\",\"name\":\"Span\",\"id\":\"p3797\",\"attributes\":{\"location\":81.8486030300139,\"dimension\":\"height\",\"line_color\":\"red\"}},{\"type\":\"object\",\"name\":\"Label\",\"id\":\"p3798\",\"attributes\":{\"text\":\"99% - 81.849m\",\"text_color\":\"red\",\"text_font_size\":\"8pt\",\"text_font_style\":\"italic\",\"x\":81.8486030300139,\"y\":250,\"y_units\":\"screen\"}}],\"background_fill_color\":\"#efefef\"}}],\"callbacks\":{\"type\":\"map\"}}};\n  const render_items = [{\"docid\":\"3a353ff0-f275-4943-9190-1321b91124a7\",\"roots\":{\"p3740\":\"f4c07eca-fc76-42ae-9403-588b2feeab2f\"},\"root_ids\":[\"p3740\"]}];\n  root.Bokeh.embed.embed_items_notebook(docs_json, render_items);\n  }\n  if (root.Bokeh !== undefined) {\n    embed_document(root);\n  } else {\n    let attempts = 0;\n    const timer = setInterval(function(root) {\n      if (root.Bokeh !== undefined) {\n        clearInterval(timer);\n        embed_document(root);\n      } else {\n        attempts++;\n        if (attempts > 100) {\n          clearInterval(timer);\n          console.log(\"Bokeh: ERROR: Unable to run BokehJS code because BokehJS library is missing\");\n        }\n      }\n    }, 10, root)\n  }\n})(window);",
      "application/vnd.bokehjs_exec.v0+json": ""
     },
     "metadata": {
      "application/vnd.bokehjs_exec.v0+json": {
       "id": "p3740"
      }
     },
     "output_type": "display_data"
    }
   ],
   "source": [
    "# Turn to time serie\n",
    "ts = log.raw.set_index('datetime')\n",
    "\n",
    "data_name = 'PseudorangeAcceleration'\n",
    "\n",
    "sats = list(set(ts[\"prn\"]))\n",
    "sats.sort()\n",
    "sats = [item for item in sats if item.startswith('G')]\n",
    "#sats = ['G02-L1']\n",
    "for sat in sats:\n",
    "    _ts = ts.loc[ts['prn'].isin([sat]), [data_name, 'prn']]\n",
    "\n",
    "    # Filter\n",
    "    # _ts[data_name] = _ts[data_name].abs()\n",
    "    # q = _ts[data_name].quantile(0.99)\n",
    "    # _ts = _ts[ts[data_name] < q] \n",
    "\n",
    "    p = plotHist(_ts, 'PseudorangeAcceleration')\n",
    "\n",
    "    show(p)\n"
   ]
  }
 ],
 "metadata": {
  "kernelspec": {
   "display_name": ".conda",
   "language": "python",
   "name": "python3"
  },
  "language_info": {
   "codemirror_mode": {
    "name": "ipython",
    "version": 3
   },
   "file_extension": ".py",
   "mimetype": "text/x-python",
   "name": "python",
   "nbconvert_exporter": "python",
   "pygments_lexer": "ipython3",
   "version": "3.11.4"
  },
  "orig_nbformat": 4
 },
 "nbformat": 4,
 "nbformat_minor": 2
}
