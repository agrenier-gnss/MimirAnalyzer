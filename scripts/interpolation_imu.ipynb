{
 "cells": [
  {
   "cell_type": "code",
   "execution_count": 2,
   "metadata": {},
   "outputs": [],
   "source": [
    "# Author: Antoine Grenier (TAU)\n",
    "\n",
    "%load_ext autoreload\n",
    "%autoreload 2\n",
    "\n",
    "import os\n",
    "import sys\n",
    "import numpy as np\n",
    "import scipy as sp\n",
    "import gps_time\n",
    "from datetime import datetime\n",
    "import pandas as pd\n",
    "from tqdm import tqdm\n",
    "import warnings\n",
    "\n",
    "pd.set_option('float_format', '{:f}'.format)\n",
    " \n",
    "sys.path.append(os.path.abspath(os.path.join('..')))\n",
    "from logparser import LogReader"
   ]
  },
  {
   "cell_type": "code",
   "execution_count": 4,
   "metadata": {},
   "outputs": [
    {
     "ename": "FileNotFoundError",
     "evalue": "[Errno 2] No such file or directory: '/mnt/c/Users/vmangr/Documents/Datasets/AndroidDevices/dataset_GEOLOC_20240319/dataset/S1/A1/GPW'",
     "output_type": "error",
     "traceback": [
      "\u001b[0;31m---------------------------------------------------------------------------\u001b[0m",
      "\u001b[0;31mFileNotFoundError\u001b[0m                         Traceback (most recent call last)",
      "Cell \u001b[0;32mIn[4], line 4\u001b[0m\n\u001b[1;32m      2\u001b[0m folder \u001b[38;5;241m=\u001b[39m \u001b[38;5;124m\"\u001b[39m\u001b[38;5;124m/mnt/c/Users/vmangr/Documents/Datasets/AndroidDevices/dataset_GEOLOC_20240319/dataset/S1/A1\u001b[39m\u001b[38;5;124m\"\u001b[39m\n\u001b[1;32m      3\u001b[0m device \u001b[38;5;241m=\u001b[39m \u001b[38;5;124m'\u001b[39m\u001b[38;5;124mGPW\u001b[39m\u001b[38;5;124m'\u001b[39m\n\u001b[0;32m----> 4\u001b[0m file \u001b[38;5;241m=\u001b[39m [file \u001b[38;5;28;01mfor\u001b[39;00m file \u001b[38;5;129;01min\u001b[39;00m os\u001b[38;5;241m.\u001b[39mlistdir(\u001b[38;5;124mf\u001b[39m\u001b[38;5;124m\"\u001b[39m\u001b[38;5;132;01m{\u001b[39;00mfolder\u001b[38;5;132;01m}\u001b[39;00m\u001b[38;5;124m/\u001b[39m\u001b[38;5;132;01m{\u001b[39;00mdevice\u001b[38;5;132;01m}\u001b[39;00m\u001b[38;5;124m\"\u001b[39m) \u001b[38;5;28;01mif\u001b[39;00m \u001b[38;5;124m\"\u001b[39m\u001b[38;5;124mlog_mimir\u001b[39m\u001b[38;5;124m\"\u001b[39m \u001b[38;5;129;01min\u001b[39;00m file][\u001b[38;5;241m0\u001b[39m]\n\u001b[1;32m      6\u001b[0m tags \u001b[38;5;241m=\u001b[39m [\u001b[38;5;124m'\u001b[39m\u001b[38;5;124mFix\u001b[39m\u001b[38;5;124m'\u001b[39m, \u001b[38;5;124m'\u001b[39m\u001b[38;5;124mGYR_UNCAL\u001b[39m\u001b[38;5;124m'\u001b[39m, \u001b[38;5;124m'\u001b[39m\u001b[38;5;124mRaw\u001b[39m\u001b[38;5;124m'\u001b[39m]\n\u001b[1;32m      8\u001b[0m log \u001b[38;5;241m=\u001b[39m LogReader(manufacturer\u001b[38;5;241m=\u001b[39m\u001b[38;5;124m\"\u001b[39m\u001b[38;5;124m\"\u001b[39m, device\u001b[38;5;241m=\u001b[39m\u001b[38;5;124m\"\u001b[39m\u001b[38;5;124m\"\u001b[39m, acronym\u001b[38;5;241m=\u001b[39mdevice, specifiedTags\u001b[38;5;241m=\u001b[39mtags, filepath\u001b[38;5;241m=\u001b[39m\u001b[38;5;124mf\u001b[39m\u001b[38;5;124m\"\u001b[39m\u001b[38;5;132;01m{\u001b[39;00mfolder\u001b[38;5;132;01m}\u001b[39;00m\u001b[38;5;124m/\u001b[39m\u001b[38;5;132;01m{\u001b[39;00mdevice\u001b[38;5;132;01m}\u001b[39;00m\u001b[38;5;124m/\u001b[39m\u001b[38;5;132;01m{\u001b[39;00mfile\u001b[38;5;132;01m}\u001b[39;00m\u001b[38;5;124m\"\u001b[39m, mode\u001b[38;5;241m=\u001b[39m\u001b[38;5;124m'\u001b[39m\u001b[38;5;124mold\u001b[39m\u001b[38;5;124m'\u001b[39m)\n",
      "\u001b[0;31mFileNotFoundError\u001b[0m: [Errno 2] No such file or directory: '/mnt/c/Users/vmangr/Documents/Datasets/AndroidDevices/dataset_GEOLOC_20240319/dataset/S1/A1/GPW'"
     ]
    }
   ],
   "source": [
    "# Load log files\n",
    "folder = \"/mnt/c/Users/vmangr/Documents/Datasets/AndroidDevices/dataset_GEOLOC_20240319/dataset/S1/A1\"\n",
    "device = 'GPW'\n",
    "file = [file for file in os.listdir(f\"{folder}/{device}\") if \"log_mimir\" in file][0]\n",
    "\n",
    "tags = ['Fix', 'GYR_UNCAL', 'Raw']\n",
    "\n",
    "log = LogReader(manufacturer=\"\", device=\"\", acronym=device, specifiedTags=tags, filepath=f\"{folder}/{device}/{file}\", mode='old')\n"
   ]
  },
  {
   "cell_type": "code",
   "execution_count": null,
   "metadata": {},
   "outputs": [
    {
     "data": {
      "text/html": [
       "<div>\n",
       "<style scoped>\n",
       "    .dataframe tbody tr th:only-of-type {\n",
       "        vertical-align: middle;\n",
       "    }\n",
       "\n",
       "    .dataframe tbody tr th {\n",
       "        vertical-align: top;\n",
       "    }\n",
       "\n",
       "    .dataframe thead th {\n",
       "        text-align: right;\n",
       "    }\n",
       "</style>\n",
       "<table border=\"1\" class=\"dataframe\">\n",
       "  <thead>\n",
       "    <tr style=\"text-align: right;\">\n",
       "      <th></th>\n",
       "      <th>index</th>\n",
       "      <th>elapsedRealtime</th>\n",
       "      <th>elapsedTime</th>\n",
       "      <th>elapsedTimeUncertainty</th>\n",
       "      <th>diff</th>\n",
       "    </tr>\n",
       "  </thead>\n",
       "  <tbody>\n",
       "    <tr>\n",
       "      <th>1643</th>\n",
       "      <td>1710324849732.000000</td>\n",
       "      <td>87167666539776.000000</td>\n",
       "      <td>87168641208577.000000</td>\n",
       "      <td>200000000.000000</td>\n",
       "      <td>-0.974669</td>\n",
       "    </tr>\n",
       "    <tr>\n",
       "      <th>1644</th>\n",
       "      <td>1710324849747.000000</td>\n",
       "      <td>87167668979276.000000</td>\n",
       "      <td>87168646164943.343750</td>\n",
       "      <td>200000000.000000</td>\n",
       "      <td>-0.977186</td>\n",
       "    </tr>\n",
       "    <tr>\n",
       "      <th>1645</th>\n",
       "      <td>1710324849748.000000</td>\n",
       "      <td>87167673854401.000000</td>\n",
       "      <td>87168651121309.671875</td>\n",
       "      <td>200000000.000000</td>\n",
       "      <td>-0.977267</td>\n",
       "    </tr>\n",
       "    <tr>\n",
       "      <th>1646</th>\n",
       "      <td>1710324849748.000000</td>\n",
       "      <td>87167678729526.000000</td>\n",
       "      <td>87168656077676.015625</td>\n",
       "      <td>200000000.000000</td>\n",
       "      <td>-0.977348</td>\n",
       "    </tr>\n",
       "    <tr>\n",
       "      <th>1647</th>\n",
       "      <td>1710324849748.000000</td>\n",
       "      <td>87167683604651.000000</td>\n",
       "      <td>87168661034042.359375</td>\n",
       "      <td>200000000.000000</td>\n",
       "      <td>-0.977429</td>\n",
       "    </tr>\n",
       "    <tr>\n",
       "      <th>...</th>\n",
       "      <td>...</td>\n",
       "      <td>...</td>\n",
       "      <td>...</td>\n",
       "      <td>...</td>\n",
       "      <td>...</td>\n",
       "    </tr>\n",
       "    <tr>\n",
       "      <th>133610</th>\n",
       "      <td>1710325490617.000000</td>\n",
       "      <td>87808544230990.000000</td>\n",
       "      <td>87807959402009.000000</td>\n",
       "      <td>200000000.000000</td>\n",
       "      <td>0.584829</td>\n",
       "    </tr>\n",
       "    <tr>\n",
       "      <th>133611</th>\n",
       "      <td>1710325490617.000000</td>\n",
       "      <td>87808549106240.000000</td>\n",
       "      <td>87807959402009.000000</td>\n",
       "      <td>200000000.000000</td>\n",
       "      <td>0.589704</td>\n",
       "    </tr>\n",
       "    <tr>\n",
       "      <th>133612</th>\n",
       "      <td>1710325490617.000000</td>\n",
       "      <td>87808553981490.000000</td>\n",
       "      <td>87807959402009.000000</td>\n",
       "      <td>200000000.000000</td>\n",
       "      <td>0.594579</td>\n",
       "    </tr>\n",
       "    <tr>\n",
       "      <th>133613</th>\n",
       "      <td>1710325490618.000000</td>\n",
       "      <td>87808558856740.000000</td>\n",
       "      <td>87807959402009.000000</td>\n",
       "      <td>200000000.000000</td>\n",
       "      <td>0.599455</td>\n",
       "    </tr>\n",
       "    <tr>\n",
       "      <th>133614</th>\n",
       "      <td>1710325490618.000000</td>\n",
       "      <td>87808563731990.000000</td>\n",
       "      <td>87807959402009.000000</td>\n",
       "      <td>200000000.000000</td>\n",
       "      <td>0.604330</td>\n",
       "    </tr>\n",
       "  </tbody>\n",
       "</table>\n",
       "<p>131972 rows × 5 columns</p>\n",
       "</div>"
      ],
      "text/plain": [
       "                      index       elapsedRealtime           elapsedTime  \\\n",
       "1643   1710324849732.000000 87167666539776.000000 87168641208577.000000   \n",
       "1644   1710324849747.000000 87167668979276.000000 87168646164943.343750   \n",
       "1645   1710324849748.000000 87167673854401.000000 87168651121309.671875   \n",
       "1646   1710324849748.000000 87167678729526.000000 87168656077676.015625   \n",
       "1647   1710324849748.000000 87167683604651.000000 87168661034042.359375   \n",
       "...                     ...                   ...                   ...   \n",
       "133610 1710325490617.000000 87808544230990.000000 87807959402009.000000   \n",
       "133611 1710325490617.000000 87808549106240.000000 87807959402009.000000   \n",
       "133612 1710325490617.000000 87808553981490.000000 87807959402009.000000   \n",
       "133613 1710325490618.000000 87808558856740.000000 87807959402009.000000   \n",
       "133614 1710325490618.000000 87808563731990.000000 87807959402009.000000   \n",
       "\n",
       "        elapsedTimeUncertainty      diff  \n",
       "1643          200000000.000000 -0.974669  \n",
       "1644          200000000.000000 -0.977186  \n",
       "1645          200000000.000000 -0.977267  \n",
       "1646          200000000.000000 -0.977348  \n",
       "1647          200000000.000000 -0.977429  \n",
       "...                        ...       ...  \n",
       "133610        200000000.000000  0.584829  \n",
       "133611        200000000.000000  0.589704  \n",
       "133612        200000000.000000  0.594579  \n",
       "133613        200000000.000000  0.599455  \n",
       "133614        200000000.000000  0.604330  \n",
       "\n",
       "[131972 rows x 5 columns]"
      ]
     },
     "execution_count": 4,
     "metadata": {},
     "output_type": "execute_result"
    }
   ],
   "source": [
    "df_time = log.fix.loc[log.fix[\"provider\"] == 'GPS']\n",
    "df_time = df_time.set_index('unixTime')\n",
    "df_time = df_time[['elapsedTime', 'elapsedTimeUncertainty']]\n",
    "\n",
    "df_motion = log.motion\n",
    "df_motion['timestamp'] = df_motion['timestamp']*1e3\n",
    "df_motion = df_motion.set_index('timestamp')\n",
    "df_motion = df_motion[['elapsedRealtime']]\n",
    "\n",
    "df_motion = df_motion.merge(df_time, how='outer', left_index=True, right_index=True)\n",
    "df_motion = df_motion.reset_index()\n",
    "df_motion_intep = df_motion.interpolate()\n",
    "merged_df_intep['diff'] = (merged_df_intep['elapsedRealtime'] - merged_df_intep['elapsedTime']) / 1e9\n",
    "merged_df_intep.dropna()\n",
    "# i = 8850\n",
    "# merged_df.iloc[i:i+25]"
   ]
  },
  {
   "cell_type": "code",
   "execution_count": null,
   "metadata": {},
   "outputs": [
    {
     "data": {
      "text/html": [
       "<div>\n",
       "<style scoped>\n",
       "    .dataframe tbody tr th:only-of-type {\n",
       "        vertical-align: middle;\n",
       "    }\n",
       "\n",
       "    .dataframe tbody tr th {\n",
       "        vertical-align: top;\n",
       "    }\n",
       "\n",
       "    .dataframe thead th {\n",
       "        text-align: right;\n",
       "    }\n",
       "</style>\n",
       "<table border=\"1\" class=\"dataframe\">\n",
       "  <thead>\n",
       "    <tr style=\"text-align: right;\">\n",
       "      <th></th>\n",
       "      <th>index</th>\n",
       "      <th>timestamp</th>\n",
       "      <th>unixTime</th>\n",
       "      <th>elapsedTimeUncertainty</th>\n",
       "      <th>diff</th>\n",
       "    </tr>\n",
       "  </thead>\n",
       "  <tbody>\n",
       "    <tr>\n",
       "      <th>1843</th>\n",
       "      <td>87168641208577.000000</td>\n",
       "      <td>1710324850703500.000000</td>\n",
       "      <td>1710324849732.000000</td>\n",
       "      <td>200000000.000000</td>\n",
       "      <td>-1708614525853.768066</td>\n",
       "    </tr>\n",
       "    <tr>\n",
       "      <th>1844</th>\n",
       "      <td>87168644595276.000000</td>\n",
       "      <td>1710324850722000.000000</td>\n",
       "      <td>1710324849736.713623</td>\n",
       "      <td>200000000.000000</td>\n",
       "      <td>-1708614525872.263184</td>\n",
       "    </tr>\n",
       "    <tr>\n",
       "      <th>1845</th>\n",
       "      <td>87168649474276.000000</td>\n",
       "      <td>1710324850722000.000000</td>\n",
       "      <td>1710324849741.427246</td>\n",
       "      <td>200000000.000000</td>\n",
       "      <td>-1708614525872.258545</td>\n",
       "    </tr>\n",
       "    <tr>\n",
       "      <th>1846</th>\n",
       "      <td>87168654353276.000000</td>\n",
       "      <td>1710324850722000.000000</td>\n",
       "      <td>1710324849746.140869</td>\n",
       "      <td>200000000.000000</td>\n",
       "      <td>-1708614525872.253662</td>\n",
       "    </tr>\n",
       "    <tr>\n",
       "      <th>1847</th>\n",
       "      <td>87168659232276.000000</td>\n",
       "      <td>1710324850722000.000000</td>\n",
       "      <td>1710324849750.854492</td>\n",
       "      <td>200000000.000000</td>\n",
       "      <td>-1708614525872.249268</td>\n",
       "    </tr>\n",
       "    <tr>\n",
       "      <th>...</th>\n",
       "      <td>...</td>\n",
       "      <td>...</td>\n",
       "      <td>...</td>\n",
       "      <td>...</td>\n",
       "      <td>...</td>\n",
       "    </tr>\n",
       "    <tr>\n",
       "      <th>133653</th>\n",
       "      <td>87808544230990.000000</td>\n",
       "      <td>1710325490617000.000000</td>\n",
       "      <td>1710325488999.000000</td>\n",
       "      <td>200000000.000000</td>\n",
       "      <td>-1708615165128.000977</td>\n",
       "    </tr>\n",
       "    <tr>\n",
       "      <th>133654</th>\n",
       "      <td>87808549106240.000000</td>\n",
       "      <td>1710325490617000.000000</td>\n",
       "      <td>1710325488999.000000</td>\n",
       "      <td>200000000.000000</td>\n",
       "      <td>-1708615165128.000977</td>\n",
       "    </tr>\n",
       "    <tr>\n",
       "      <th>133655</th>\n",
       "      <td>87808553981490.000000</td>\n",
       "      <td>1710325490617000.000000</td>\n",
       "      <td>1710325488999.000000</td>\n",
       "      <td>200000000.000000</td>\n",
       "      <td>-1708615165128.000977</td>\n",
       "    </tr>\n",
       "    <tr>\n",
       "      <th>133656</th>\n",
       "      <td>87808558856740.000000</td>\n",
       "      <td>1710325490618000.000000</td>\n",
       "      <td>1710325488999.000000</td>\n",
       "      <td>200000000.000000</td>\n",
       "      <td>-1708615165129.000977</td>\n",
       "    </tr>\n",
       "    <tr>\n",
       "      <th>133657</th>\n",
       "      <td>87808563731990.000000</td>\n",
       "      <td>1710325490618000.000000</td>\n",
       "      <td>1710325488999.000000</td>\n",
       "      <td>200000000.000000</td>\n",
       "      <td>-1708615165129.000977</td>\n",
       "    </tr>\n",
       "  </tbody>\n",
       "</table>\n",
       "<p>131815 rows × 5 columns</p>\n",
       "</div>"
      ],
      "text/plain": [
       "                       index               timestamp             unixTime  \\\n",
       "1843   87168641208577.000000 1710324850703500.000000 1710324849732.000000   \n",
       "1844   87168644595276.000000 1710324850722000.000000 1710324849736.713623   \n",
       "1845   87168649474276.000000 1710324850722000.000000 1710324849741.427246   \n",
       "1846   87168654353276.000000 1710324850722000.000000 1710324849746.140869   \n",
       "1847   87168659232276.000000 1710324850722000.000000 1710324849750.854492   \n",
       "...                      ...                     ...                  ...   \n",
       "133653 87808544230990.000000 1710325490617000.000000 1710325488999.000000   \n",
       "133654 87808549106240.000000 1710325490617000.000000 1710325488999.000000   \n",
       "133655 87808553981490.000000 1710325490617000.000000 1710325488999.000000   \n",
       "133656 87808558856740.000000 1710325490618000.000000 1710325488999.000000   \n",
       "133657 87808563731990.000000 1710325490618000.000000 1710325488999.000000   \n",
       "\n",
       "        elapsedTimeUncertainty                  diff  \n",
       "1843          200000000.000000 -1708614525853.768066  \n",
       "1844          200000000.000000 -1708614525872.263184  \n",
       "1845          200000000.000000 -1708614525872.258545  \n",
       "1846          200000000.000000 -1708614525872.253662  \n",
       "1847          200000000.000000 -1708614525872.249268  \n",
       "...                        ...                   ...  \n",
       "133653        200000000.000000 -1708615165128.000977  \n",
       "133654        200000000.000000 -1708615165128.000977  \n",
       "133655        200000000.000000 -1708615165128.000977  \n",
       "133656        200000000.000000 -1708615165129.000977  \n",
       "133657        200000000.000000 -1708615165129.000977  \n",
       "\n",
       "[131815 rows x 5 columns]"
      ]
     },
     "execution_count": 5,
     "metadata": {},
     "output_type": "execute_result"
    }
   ],
   "source": [
    "df_time = log.fix.loc[log.fix[\"provider\"] == 'GPS']\n",
    "df_time = df_time.set_index('elapsedTime')\n",
    "df_time = df_time[['unixTime', 'elapsedTimeUncertainty']]\n",
    "\n",
    "df_motion = log.motion\n",
    "df_motion['timestamp'] = df_motion['timestamp']*1e3\n",
    "df_motion = df_motion.set_index('elapsedRealtime')\n",
    "df_motion = df_motion[['timestamp']]\n",
    "\n",
    "merged_df = df_motion.merge(df_time, how='outer', left_index=True, right_index=True)\n",
    "merged_df\n",
    "merged_df = merged_df.reset_index()\n",
    "merged_df_intep = merged_df.interpolate()\n",
    "merged_df_intep['diff'] = (merged_df_intep['unixTime'] - merged_df_intep['timestamp']) / 1e3\n",
    "merged_df_intep.dropna()"
   ]
  },
  {
   "cell_type": "markdown",
   "metadata": {},
   "source": [
    "## Interpolate and re-align measurements"
   ]
  },
  {
   "cell_type": "code",
   "execution_count": 20,
   "metadata": {},
   "outputs": [],
   "source": [
    "def AlignAndIntepolate(_df_fix, _df_motion, columns, output_file, survey_name):\n",
    "    \"\"\"\n",
    "    Align IMU measurement to GPS TOW based on fix measurements and interpolate to regular steps.\n",
    "    \"\"\"\n",
    "\n",
    "    # Select only GPS provider positions, as they are guaranted to be align on GPS time\n",
    "    # as defined by Android developer documentation\n",
    "    df_time = _df_fix.loc[_df_fix[\"provider\"] == 'GPS']\n",
    "    if df_time.empty:\n",
    "        warnings.warn(f\"No position provided by GPS_PROVIDER found for {survey_name}. Aborting.\", stacklevel=2)\n",
    "        return -1\n",
    "\n",
    "    # Prepare time correction\n",
    "    df_time = df_time[['unixTime', 'elapsedTime', 'elapsedTimeUncertainty']]\n",
    "    df_time = df_time.rename(columns={'unixTime': 'timestamp_gps'})\n",
    "\n",
    "    # Drop columns that have low time uncertainty (if possible)\n",
    "    if df_time.drop(df_time[df_time['elapsedTimeUncertainty'] > 1e6].index).empty:\n",
    "        warnings.warn(f\"No position with valid time uncertainty found for {survey_name}.\", stacklevel=2)\n",
    "    else:\n",
    "        df_time = df_time.drop(df_time[df_time['elapsedTimeUncertainty'] > 1e6].index)\n",
    "    df_time = df_time.drop(['elapsedTimeUncertainty'], axis=1)\n",
    "    df_time = df_time.set_index('elapsedTime')\n",
    "\n",
    "    # Prepare motion sensors\n",
    "    df_motion = _df_motion[['elapsedRealtime', 'timestamp'] + columns]\n",
    "    df_motion = df_motion.rename(columns={'elapsedRealtime': 'elapsedTime'})\n",
    "    df_motion = df_motion.set_index('elapsedTime')\n",
    "\n",
    "    # Check if elaspsedRealTime are coherent\n",
    "    _diff = abs(df_motion.index[0] - df_time.index[0])/1e9\n",
    "    if _diff > 300:\n",
    "        warnings.warn(f\"Difference in monotonic clock > 30 seconds ({_diff}) for {survey_name}. Aborting.\", stacklevel=2)\n",
    "        return -1\n",
    "    else:\n",
    "        print(f\"Difference in monotonic clock is {_diff} sec for {survey_name}\", flush=True)\n",
    "\n",
    "    # Create a merged dataframe\n",
    "    merged_df = df_motion.merge(df_time, how='outer', left_index=True, right_index=True)\n",
    "\n",
    "    # Interpolate the GPS timestamp values \n",
    "    time_interpolation_fct = sp.interpolate.interp1d(df_time.index, df_time['timestamp_gps'], fill_value='extrapolate')\n",
    "    timestamp_gps = time_interpolation_fct(merged_df.index)\n",
    "    merged_df['timestamp_gps'] = timestamp_gps\n",
    "\n",
    "    # Interpolate to regular step\n",
    "    merged_df = merged_df.reset_index()\n",
    "    time_range = np.arange(\n",
    "            int(int(np.ceil(merged_df['timestamp_gps'].iloc[0]/1e3))*1e3), \n",
    "            int(int(np.floor(merged_df['timestamp_gps'].iloc[-1]/1e3))*1e3), 5)\n",
    "    mdict = {'timestamp_gps':time_range}\n",
    "    discard_column = ['elapsedTime', 'timestamp']\n",
    "    for column in merged_df:\n",
    "        if column in discard_column:\n",
    "            continue               \n",
    "        \n",
    "        val_interp_fct = sp.interpolate.interp1d(x=merged_df['timestamp_gps'], y=merged_df[column], kind='linear')\n",
    "        value_resampled = val_interp_fct(time_range)\n",
    "        mdict[column] = value_resampled\n",
    "\n",
    "    df_resampled = pd.DataFrame(mdict)\n",
    "\n",
    "    # Compute GPS TOW\n",
    "    tow = np.array([gps_time.GPSTime.from_datetime(datetime.fromtimestamp(time/1e3 - 2*3600 + 18)).time_of_week for time in df_resampled['timestamp_gps']])\n",
    "    df_resampled['TOW'] = tow.astype(int)\n",
    "    df_resampled['NANOS'] = np.round((tow - tow.astype(int))*1e9).astype(int)\n",
    "    df_resampled = df_resampled[['TOW', 'NANOS'] + columns]\n",
    "\n",
    "    # Interpolate again with pandas (weird fix because sometimes values are NaN after all that)\n",
    "    df_resampled = df_resampled.interpolate()\n",
    "\n",
    "    # Export to file\n",
    "    df_resampled.to_csv(output_file, index=False, float_format='{:.10f}'.format)\n",
    "\n",
    "    return 0\n",
    "\n",
    "# df = AlignAndIntepolate(log.fix, log.motion, ['x', 'y', 'z', 'x_bias', 'y_bias', 'z_bias'], 'test.csv')\n",
    "\n",
    "# df.iloc[4990:5010]\n"
   ]
  },
  {
   "cell_type": "code",
   "execution_count": 22,
   "metadata": {},
   "outputs": [
    {
     "name": "stdout",
     "output_type": "stream",
     "text": [
      "=== .archive ===\n",
      "=== Analysis note LIGHT PDR.xlsx ===\n",
      "=== notes.txt ===\n",
      "=== note_resampling.txt ===\n",
      "=== S1 ===\n",
      "--- A1 ---\n"
     ]
    },
    {
     "name": "stdout",
     "output_type": "stream",
     "text": [
      "Difference in monotonic clock is 1.077509458 sec for S1/A1/A52/ACC_UNCAL\n",
      "Difference in monotonic clock is 1.030656333 sec for S1/A1/A52/GYR_UNCAL\n",
      "Difference in monotonic clock is 1.073660499 sec for S1/A1/A52/MAG_UNCAL\n",
      "Difference in monotonic clock is 10.605946932 sec for S1/A1/GP7/ACC_UNCAL\n",
      "Difference in monotonic clock is 10.61010976 sec for S1/A1/GP7/GYR_UNCAL\n",
      "Difference in monotonic clock is 10.604672677 sec for S1/A1/GP7/MAG_UNCAL\n",
      "Difference in monotonic clock is 10.444632797 sec for S1/A1/GP7/PSR\n",
      "Difference in monotonic clock is 9.001557051 sec for S1/A1/GPW/ACC_UNCAL\n"
     ]
    },
    {
     "name": "stderr",
     "output_type": "stream",
     "text": [
      "/tmp/ipykernel_9105/1456734061.py:63: UserWarning: No position with valid time uncertainty found for S1/A1/GPW/ACC_UNCAL.\n",
      "  success = AlignAndIntepolate(df_fix, df_motion, ['x', 'y', 'z', 'x_bias', 'y_bias', 'z_bias'],\n"
     ]
    },
    {
     "name": "stdout",
     "output_type": "stream",
     "text": [
      "Difference in monotonic clock is 8.986954176 sec for S1/A1/GPW/GYR_UNCAL\n"
     ]
    },
    {
     "name": "stderr",
     "output_type": "stream",
     "text": [
      "/tmp/ipykernel_9105/1456734061.py:63: UserWarning: No position with valid time uncertainty found for S1/A1/GPW/GYR_UNCAL.\n",
      "  success = AlignAndIntepolate(df_fix, df_motion, ['x', 'y', 'z', 'x_bias', 'y_bias', 'z_bias'],\n"
     ]
    },
    {
     "name": "stdout",
     "output_type": "stream",
     "text": [
      "Difference in monotonic clock is 8.954346301 sec for S1/A1/GPW/MAG_UNCAL\n"
     ]
    },
    {
     "name": "stderr",
     "output_type": "stream",
     "text": [
      "/tmp/ipykernel_9105/1456734061.py:63: UserWarning: No position with valid time uncertainty found for S1/A1/GPW/MAG_UNCAL.\n",
      "  success = AlignAndIntepolate(df_fix, df_motion, ['x', 'y', 'z', 'x_bias', 'y_bias', 'z_bias'],\n"
     ]
    },
    {
     "name": "stdout",
     "output_type": "stream",
     "text": [
      "Difference in monotonic clock is 8.887029301 sec for S1/A1/GPW/PSR\n"
     ]
    },
    {
     "name": "stderr",
     "output_type": "stream",
     "text": [
      "/tmp/ipykernel_9105/1456734061.py:55: UserWarning: No position with valid time uncertainty found for S1/A1/GPW/PSR.\n",
      "  success = AlignAndIntepolate(df_fix, df_env, ['value'], output_file, survey_name)\n"
     ]
    },
    {
     "name": "stdout",
     "output_type": "stream",
     "text": [
      "--- A10 ---\n",
      "Difference in monotonic clock is 1.498810516 sec for S1/A10/A52/ACC_UNCAL\n",
      "Difference in monotonic clock is 1.44708437 sec for S1/A10/A52/GYR_UNCAL\n",
      "Difference in monotonic clock is 1.486131037 sec for S1/A10/A52/MAG_UNCAL\n",
      "Difference in monotonic clock is 13.186714423 sec for S1/A10/GP7/ACC_UNCAL\n",
      "Difference in monotonic clock is 13.186714423 sec for S1/A10/GP7/GYR_UNCAL\n",
      "Difference in monotonic clock is 13.179466874 sec for S1/A10/GP7/MAG_UNCAL\n",
      "Difference in monotonic clock is 13.027278271 sec for S1/A10/GP7/PSR\n",
      "Difference in monotonic clock is 7.973767398 sec for S1/A10/GPW/ACC_UNCAL\n"
     ]
    },
    {
     "name": "stderr",
     "output_type": "stream",
     "text": [
      "/tmp/ipykernel_9105/1456734061.py:63: UserWarning: No position with valid time uncertainty found for S1/A10/GPW/ACC_UNCAL.\n",
      "  success = AlignAndIntepolate(df_fix, df_motion, ['x', 'y', 'z', 'x_bias', 'y_bias', 'z_bias'],\n"
     ]
    },
    {
     "name": "stdout",
     "output_type": "stream",
     "text": [
      "Difference in monotonic clock is 7.973767398 sec for S1/A10/GPW/GYR_UNCAL\n"
     ]
    },
    {
     "name": "stderr",
     "output_type": "stream",
     "text": [
      "/tmp/ipykernel_9105/1456734061.py:63: UserWarning: No position with valid time uncertainty found for S1/A10/GPW/GYR_UNCAL.\n",
      "  success = AlignAndIntepolate(df_fix, df_motion, ['x', 'y', 'z', 'x_bias', 'y_bias', 'z_bias'],\n"
     ]
    },
    {
     "name": "stdout",
     "output_type": "stream",
     "text": [
      "Difference in monotonic clock is 7.937421398 sec for S1/A10/GPW/MAG_UNCAL\n"
     ]
    },
    {
     "name": "stderr",
     "output_type": "stream",
     "text": [
      "/tmp/ipykernel_9105/1456734061.py:63: UserWarning: No position with valid time uncertainty found for S1/A10/GPW/MAG_UNCAL.\n",
      "  success = AlignAndIntepolate(df_fix, df_motion, ['x', 'y', 'z', 'x_bias', 'y_bias', 'z_bias'],\n"
     ]
    },
    {
     "name": "stdout",
     "output_type": "stream",
     "text": [
      "Difference in monotonic clock is 7.857587398 sec for S1/A10/GPW/PSR\n"
     ]
    },
    {
     "name": "stderr",
     "output_type": "stream",
     "text": [
      "/tmp/ipykernel_9105/1456734061.py:55: UserWarning: No position with valid time uncertainty found for S1/A10/GPW/PSR.\n",
      "  success = AlignAndIntepolate(df_fix, df_env, ['value'], output_file, survey_name)\n"
     ]
    },
    {
     "name": "stdout",
     "output_type": "stream",
     "text": [
      "Difference in monotonic clock is 4.521575983 sec for S1/A10/SW6/GYR_UNCAL\n",
      "Difference in monotonic clock is 4.521575983 sec for S1/A10/SW6/MAG_UNCAL\n",
      "Difference in monotonic clock is 4.5115357 sec for S1/A10/SW6/ACC\n",
      "Difference in monotonic clock is 4.531677301 sec for S1/A10/SW6/PSR\n",
      "--- A2 ---\n",
      "Difference in monotonic clock is 1.068103531 sec for S1/A2/A52/ACC_UNCAL\n",
      "Difference in monotonic clock is 1.016377385 sec for S1/A2/A52/GYR_UNCAL\n",
      "Difference in monotonic clock is 1.04990426 sec for S1/A2/A52/MAG_UNCAL\n",
      "Difference in monotonic clock is 11.710488291 sec for S1/A2/GP7/ACC_UNCAL\n",
      "Difference in monotonic clock is 11.710488291 sec for S1/A2/GP7/GYR_UNCAL\n",
      "Difference in monotonic clock is 11.706854054 sec for S1/A2/GP7/MAG_UNCAL\n",
      "Difference in monotonic clock is 11.695766095 sec for S1/A2/GP7/PSR\n",
      "Difference in monotonic clock is 7.971915845 sec for S1/A2/GPW/ACC_UNCAL\n"
     ]
    },
    {
     "name": "stderr",
     "output_type": "stream",
     "text": [
      "/tmp/ipykernel_9105/1456734061.py:63: UserWarning: No position with valid time uncertainty found for S1/A2/GPW/ACC_UNCAL.\n",
      "  success = AlignAndIntepolate(df_fix, df_motion, ['x', 'y', 'z', 'x_bias', 'y_bias', 'z_bias'],\n"
     ]
    },
    {
     "name": "stdout",
     "output_type": "stream",
     "text": [
      "Difference in monotonic clock is 7.952399845 sec for S1/A2/GPW/GYR_UNCAL\n"
     ]
    },
    {
     "name": "stderr",
     "output_type": "stream",
     "text": [
      "/tmp/ipykernel_9105/1456734061.py:63: UserWarning: No position with valid time uncertainty found for S1/A2/GPW/GYR_UNCAL.\n",
      "  success = AlignAndIntepolate(df_fix, df_motion, ['x', 'y', 'z', 'x_bias', 'y_bias', 'z_bias'],\n"
     ]
    },
    {
     "name": "stdout",
     "output_type": "stream",
     "text": [
      "Difference in monotonic clock is 7.918097845 sec for S1/A2/GPW/MAG_UNCAL\n"
     ]
    },
    {
     "name": "stderr",
     "output_type": "stream",
     "text": [
      "/tmp/ipykernel_9105/1456734061.py:63: UserWarning: No position with valid time uncertainty found for S1/A2/GPW/MAG_UNCAL.\n",
      "  success = AlignAndIntepolate(df_fix, df_motion, ['x', 'y', 'z', 'x_bias', 'y_bias', 'z_bias'],\n"
     ]
    },
    {
     "name": "stdout",
     "output_type": "stream",
     "text": [
      "Difference in monotonic clock is 7.848395845 sec for S1/A2/GPW/PSR\n"
     ]
    },
    {
     "name": "stderr",
     "output_type": "stream",
     "text": [
      "/tmp/ipykernel_9105/1456734061.py:55: UserWarning: No position with valid time uncertainty found for S1/A2/GPW/PSR.\n",
      "  success = AlignAndIntepolate(df_fix, df_env, ['value'], output_file, survey_name)\n"
     ]
    },
    {
     "name": "stdout",
     "output_type": "stream",
     "text": [
      "--- A3 ---\n",
      "Difference in monotonic clock is 2.383439409 sec for S1/A3/A52/ACC_UNCAL\n",
      "Difference in monotonic clock is 2.331712378 sec for S1/A3/A52/GYR_UNCAL\n",
      "Difference in monotonic clock is 2.365852847 sec for S1/A3/A52/MAG_UNCAL\n",
      "Difference in monotonic clock is 16.796720547 sec for S1/A3/GP7/ACC_UNCAL\n",
      "Difference in monotonic clock is 16.792393164 sec for S1/A3/GP7/GYR_UNCAL\n",
      "Difference in monotonic clock is 16.788069291 sec for S1/A3/GP7/MAG_UNCAL\n",
      "Difference in monotonic clock is 16.762781327 sec for S1/A3/GP7/PSR\n",
      "Difference in monotonic clock is 8.053937584 sec for S1/A3/GPW/ACC_UNCAL\n"
     ]
    },
    {
     "name": "stderr",
     "output_type": "stream",
     "text": [
      "/tmp/ipykernel_9105/1456734061.py:63: UserWarning: No position with valid time uncertainty found for S1/A3/GPW/ACC_UNCAL.\n",
      "  success = AlignAndIntepolate(df_fix, df_motion, ['x', 'y', 'z', 'x_bias', 'y_bias', 'z_bias'],\n"
     ]
    },
    {
     "name": "stdout",
     "output_type": "stream",
     "text": [
      "Difference in monotonic clock is 8.044202334 sec for S1/A3/GPW/GYR_UNCAL\n"
     ]
    },
    {
     "name": "stderr",
     "output_type": "stream",
     "text": [
      "/tmp/ipykernel_9105/1456734061.py:63: UserWarning: No position with valid time uncertainty found for S1/A3/GPW/GYR_UNCAL.\n",
      "  success = AlignAndIntepolate(df_fix, df_motion, ['x', 'y', 'z', 'x_bias', 'y_bias', 'z_bias'],\n"
     ]
    },
    {
     "name": "stdout",
     "output_type": "stream",
     "text": [
      "Difference in monotonic clock is 8.017438834 sec for S1/A3/GPW/MAG_UNCAL\n"
     ]
    },
    {
     "name": "stderr",
     "output_type": "stream",
     "text": [
      "/tmp/ipykernel_9105/1456734061.py:63: UserWarning: No position with valid time uncertainty found for S1/A3/GPW/MAG_UNCAL.\n",
      "  success = AlignAndIntepolate(df_fix, df_motion, ['x', 'y', 'z', 'x_bias', 'y_bias', 'z_bias'],\n"
     ]
    },
    {
     "name": "stdout",
     "output_type": "stream",
     "text": [
      "Difference in monotonic clock is 7.943834834 sec for S1/A3/GPW/PSR\n"
     ]
    },
    {
     "name": "stderr",
     "output_type": "stream",
     "text": [
      "/tmp/ipykernel_9105/1456734061.py:55: UserWarning: No position with valid time uncertainty found for S1/A3/GPW/PSR.\n",
      "  success = AlignAndIntepolate(df_fix, df_env, ['value'], output_file, survey_name)\n"
     ]
    },
    {
     "name": "stdout",
     "output_type": "stream",
     "text": [
      "--- A4 ---\n",
      "Difference in monotonic clock is 2.120064678 sec for S1/A4/A52/ACC_UNCAL\n",
      "Difference in monotonic clock is 2.068334783 sec for S1/A4/A52/GYR_UNCAL\n",
      "Difference in monotonic clock is 2.095758949 sec for S1/A4/A52/MAG_UNCAL\n",
      "Difference in monotonic clock is 12.022733806 sec for S1/A4/GP7/ACC_UNCAL\n",
      "Difference in monotonic clock is 12.022733806 sec for S1/A4/GP7/GYR_UNCAL\n",
      "Difference in monotonic clock is 12.022510783 sec for S1/A4/GP7/MAG_UNCAL\n",
      "Difference in monotonic clock is 11.863895748 sec for S1/A4/GP7/PSR\n",
      "Difference in monotonic clock is 9.012800982 sec for S1/A4/GPW/ACC_UNCAL\n"
     ]
    },
    {
     "name": "stderr",
     "output_type": "stream",
     "text": [
      "/tmp/ipykernel_9105/1456734061.py:63: UserWarning: No position with valid time uncertainty found for S1/A4/GPW/ACC_UNCAL.\n",
      "  success = AlignAndIntepolate(df_fix, df_motion, ['x', 'y', 'z', 'x_bias', 'y_bias', 'z_bias'],\n"
     ]
    },
    {
     "name": "stdout",
     "output_type": "stream",
     "text": [
      "Difference in monotonic clock is 8.993345982 sec for S1/A4/GPW/GYR_UNCAL\n"
     ]
    },
    {
     "name": "stderr",
     "output_type": "stream",
     "text": [
      "/tmp/ipykernel_9105/1456734061.py:63: UserWarning: No position with valid time uncertainty found for S1/A4/GPW/GYR_UNCAL.\n",
      "  success = AlignAndIntepolate(df_fix, df_motion, ['x', 'y', 'z', 'x_bias', 'y_bias', 'z_bias'],\n"
     ]
    },
    {
     "name": "stdout",
     "output_type": "stream",
     "text": [
      "Difference in monotonic clock is 8.968290982 sec for S1/A4/GPW/MAG_UNCAL\n"
     ]
    },
    {
     "name": "stderr",
     "output_type": "stream",
     "text": [
      "/tmp/ipykernel_9105/1456734061.py:63: UserWarning: No position with valid time uncertainty found for S1/A4/GPW/MAG_UNCAL.\n",
      "  success = AlignAndIntepolate(df_fix, df_motion, ['x', 'y', 'z', 'x_bias', 'y_bias', 'z_bias'],\n"
     ]
    },
    {
     "name": "stdout",
     "output_type": "stream",
     "text": [
      "Difference in monotonic clock is 8.968968982 sec for S1/A4/GPW/PSR\n"
     ]
    },
    {
     "name": "stderr",
     "output_type": "stream",
     "text": [
      "/tmp/ipykernel_9105/1456734061.py:55: UserWarning: No position with valid time uncertainty found for S1/A4/GPW/PSR.\n",
      "  success = AlignAndIntepolate(df_fix, df_env, ['value'], output_file, survey_name)\n"
     ]
    },
    {
     "name": "stdout",
     "output_type": "stream",
     "text": [
      "--- A5 ---\n",
      "Difference in monotonic clock is 1.061846138 sec for S1/A5/A52/ACC_UNCAL\n",
      "Difference in monotonic clock is 1.005345826 sec for S1/A5/A52/GYR_UNCAL\n",
      "Difference in monotonic clock is 1.028203274 sec for S1/A5/A52/MAG_UNCAL\n",
      "Difference in monotonic clock is 14.280591905 sec for S1/A5/GP7/ACC_UNCAL\n",
      "Difference in monotonic clock is 14.284387016 sec for S1/A5/GP7/GYR_UNCAL\n",
      "Difference in monotonic clock is 14.280272418 sec for S1/A5/GP7/MAG_UNCAL\n",
      "Difference in monotonic clock is 14.122198781 sec for S1/A5/GP7/PSR\n",
      "Survey S1/A5/SW6/Fix - Missing log.fix\n",
      "Survey S1/A5/SW6/ACC_UNCAL - Missing log.fix\n",
      "Survey S1/A5/SW6/GYR_UNCAL - Missing log.fix\n",
      "Survey S1/A5/SW6/MAG_UNCAL - Missing log.fix\n",
      "Survey S1/A5/SW6/ACC - Missing log.fix\n",
      "Survey S1/A5/SW6/PSR - Missing log.fix\n",
      "--- A6 ---\n",
      "Difference in monotonic clock is 1.049873261 sec for S1/A6/A52/ACC_UNCAL\n",
      "Difference in monotonic clock is 1.003017688 sec for S1/A6/A52/GYR_UNCAL\n",
      "Difference in monotonic clock is 1.041762324 sec for S1/A6/A52/MAG_UNCAL\n",
      "Difference in monotonic clock is 13.531114374 sec for S1/A6/GP7/ACC_UNCAL\n",
      "Difference in monotonic clock is 13.531114374 sec for S1/A6/GP7/GYR_UNCAL\n",
      "Difference in monotonic clock is 13.527164737 sec for S1/A6/GP7/MAG_UNCAL\n",
      "Difference in monotonic clock is 13.368123179 sec for S1/A6/GP7/PSR\n",
      "Survey S1/A6/SW6/Fix - Missing log.fix\n",
      "Survey S1/A6/SW6/ACC_UNCAL - Missing log.fix\n",
      "Survey S1/A6/SW6/GYR_UNCAL - Missing log.fix\n",
      "Survey S1/A6/SW6/MAG_UNCAL - Missing log.fix\n",
      "Survey S1/A6/SW6/ACC - Missing log.fix\n",
      "Survey S1/A6/SW6/PSR - Missing log.fix\n",
      "--- A7 ---\n",
      "Difference in monotonic clock is 25.044304467 sec for S1/A7/A52/ACC_UNCAL\n",
      "Difference in monotonic clock is 24.99265681 sec for S1/A7/A52/GYR_UNCAL\n",
      "Difference in monotonic clock is 25.030791967 sec for S1/A7/A52/MAG_UNCAL\n",
      "Difference in monotonic clock is 11.478591479 sec for S1/A7/GP7/ACC_UNCAL\n",
      "Difference in monotonic clock is 11.482913197 sec for S1/A7/GP7/GYR_UNCAL\n",
      "Difference in monotonic clock is 11.47761931 sec for S1/A7/GP7/MAG_UNCAL\n",
      "Difference in monotonic clock is 11.319465341 sec for S1/A7/GP7/PSR\n",
      "Difference in monotonic clock is 10.955518274 sec for S1/A7/GPW/ACC_UNCAL\n"
     ]
    },
    {
     "name": "stderr",
     "output_type": "stream",
     "text": [
      "/tmp/ipykernel_9105/1456734061.py:63: UserWarning: No position with valid time uncertainty found for S1/A7/GPW/ACC_UNCAL.\n",
      "  success = AlignAndIntepolate(df_fix, df_motion, ['x', 'y', 'z', 'x_bias', 'y_bias', 'z_bias'],\n"
     ]
    },
    {
     "name": "stdout",
     "output_type": "stream",
     "text": [
      "Difference in monotonic clock is 10.945790774 sec for S1/A7/GPW/GYR_UNCAL\n"
     ]
    },
    {
     "name": "stderr",
     "output_type": "stream",
     "text": [
      "/tmp/ipykernel_9105/1456734061.py:63: UserWarning: No position with valid time uncertainty found for S1/A7/GPW/GYR_UNCAL.\n",
      "  success = AlignAndIntepolate(df_fix, df_motion, ['x', 'y', 'z', 'x_bias', 'y_bias', 'z_bias'],\n"
     ]
    },
    {
     "name": "stdout",
     "output_type": "stream",
     "text": [
      "Difference in monotonic clock is 10.902470774 sec for S1/A7/GPW/MAG_UNCAL\n"
     ]
    },
    {
     "name": "stderr",
     "output_type": "stream",
     "text": [
      "/tmp/ipykernel_9105/1456734061.py:63: UserWarning: No position with valid time uncertainty found for S1/A7/GPW/MAG_UNCAL.\n",
      "  success = AlignAndIntepolate(df_fix, df_motion, ['x', 'y', 'z', 'x_bias', 'y_bias', 'z_bias'],\n"
     ]
    },
    {
     "name": "stdout",
     "output_type": "stream",
     "text": [
      "Difference in monotonic clock is 10.865152774 sec for S1/A7/GPW/PSR\n"
     ]
    },
    {
     "name": "stderr",
     "output_type": "stream",
     "text": [
      "/tmp/ipykernel_9105/1456734061.py:55: UserWarning: No position with valid time uncertainty found for S1/A7/GPW/PSR.\n",
      "  success = AlignAndIntepolate(df_fix, df_env, ['value'], output_file, survey_name)\n"
     ]
    },
    {
     "name": "stdout",
     "output_type": "stream",
     "text": [
      "--- A8 ---\n"
     ]
    },
    {
     "name": "stderr",
     "output_type": "stream",
     "text": [
      "/tmp/ipykernel_9105/1456734061.py:63: UserWarning: Difference in monotonic clock > 30 seconds (131155.985895064) for S1/A7/SW6/GYR_UNCAL. Aborting.\n",
      "  success = AlignAndIntepolate(df_fix, df_motion, ['x', 'y', 'z', 'x_bias', 'y_bias', 'z_bias'],\n",
      "/tmp/ipykernel_9105/1456734061.py:63: UserWarning: Difference in monotonic clock > 30 seconds (131155.97585478) for S1/A7/SW6/MAG_UNCAL. Aborting.\n",
      "  success = AlignAndIntepolate(df_fix, df_motion, ['x', 'y', 'z', 'x_bias', 'y_bias', 'z_bias'],\n",
      "/tmp/ipykernel_9105/1456734061.py:59: UserWarning: Difference in monotonic clock > 30 seconds (131155.985895064) for S1/A7/SW6/ACC. Aborting.\n",
      "  success = AlignAndIntepolate(df_fix, df_motion, ['x', 'y', 'z'], output_file, survey_name)\n",
      "/tmp/ipykernel_9105/1456734061.py:55: UserWarning: Difference in monotonic clock > 30 seconds (131155.97585478) for S1/A7/SW6/PSR. Aborting.\n",
      "  success = AlignAndIntepolate(df_fix, df_env, ['value'], output_file, survey_name)\n"
     ]
    },
    {
     "name": "stdout",
     "output_type": "stream",
     "text": [
      "Difference in monotonic clock is 3.615648316 sec for S1/A8/A52/ACC_UNCAL\n",
      "Difference in monotonic clock is 3.563923369 sec for S1/A8/A52/GYR_UNCAL\n",
      "Difference in monotonic clock is 3.602253212 sec for S1/A8/A52/MAG_UNCAL\n",
      "Difference in monotonic clock is 10.16711202 sec for S1/A8/GP7/ACC_UNCAL\n",
      "Difference in monotonic clock is 10.171366598 sec for S1/A8/GP7/GYR_UNCAL\n",
      "Difference in monotonic clock is 10.167283122 sec for S1/A8/GP7/MAG_UNCAL\n",
      "Difference in monotonic clock is 10.149684618 sec for S1/A8/GP7/PSR\n",
      "Difference in monotonic clock is 6.964579738 sec for S1/A8/GPW/ACC_UNCAL\n"
     ]
    },
    {
     "name": "stderr",
     "output_type": "stream",
     "text": [
      "/tmp/ipykernel_9105/1456734061.py:63: UserWarning: No position with valid time uncertainty found for S1/A8/GPW/ACC_UNCAL.\n",
      "  success = AlignAndIntepolate(df_fix, df_motion, ['x', 'y', 'z', 'x_bias', 'y_bias', 'z_bias'],\n"
     ]
    },
    {
     "name": "stdout",
     "output_type": "stream",
     "text": [
      "Difference in monotonic clock is 6.954829238 sec for S1/A8/GPW/GYR_UNCAL\n"
     ]
    },
    {
     "name": "stderr",
     "output_type": "stream",
     "text": [
      "/tmp/ipykernel_9105/1456734061.py:63: UserWarning: No position with valid time uncertainty found for S1/A8/GPW/GYR_UNCAL.\n",
      "  success = AlignAndIntepolate(df_fix, df_motion, ['x', 'y', 'z', 'x_bias', 'y_bias', 'z_bias'],\n"
     ]
    },
    {
     "name": "stdout",
     "output_type": "stream",
     "text": [
      "Difference in monotonic clock is 6.920589238 sec for S1/A8/GPW/MAG_UNCAL\n"
     ]
    },
    {
     "name": "stderr",
     "output_type": "stream",
     "text": [
      "/tmp/ipykernel_9105/1456734061.py:63: UserWarning: No position with valid time uncertainty found for S1/A8/GPW/MAG_UNCAL.\n",
      "  success = AlignAndIntepolate(df_fix, df_motion, ['x', 'y', 'z', 'x_bias', 'y_bias', 'z_bias'],\n"
     ]
    },
    {
     "name": "stdout",
     "output_type": "stream",
     "text": [
      "Difference in monotonic clock is 6.839992238 sec for S1/A8/GPW/PSR\n"
     ]
    },
    {
     "name": "stderr",
     "output_type": "stream",
     "text": [
      "/tmp/ipykernel_9105/1456734061.py:55: UserWarning: No position with valid time uncertainty found for S1/A8/GPW/PSR.\n",
      "  success = AlignAndIntepolate(df_fix, df_env, ['value'], output_file, survey_name)\n"
     ]
    },
    {
     "name": "stdout",
     "output_type": "stream",
     "text": [
      "Difference in monotonic clock is 3.799488042 sec for S1/A8/SW6/GYR_UNCAL\n",
      "Difference in monotonic clock is 3.799488042 sec for S1/A8/SW6/MAG_UNCAL\n",
      "Difference in monotonic clock is 3.799488042 sec for S1/A8/SW6/ACC\n",
      "Difference in monotonic clock is 3.799488042 sec for S1/A8/SW6/PSR\n",
      "--- A9 ---\n",
      "Difference in monotonic clock is 1.077132861 sec for S1/A9/A52/ACC_UNCAL\n",
      "Difference in monotonic clock is 1.030277913 sec for S1/A9/A52/GYR_UNCAL\n",
      "Difference in monotonic clock is 1.073163695 sec for S1/A9/A52/MAG_UNCAL\n",
      "Difference in monotonic clock is 13.191731593 sec for S1/A9/GP7/ACC_UNCAL\n",
      "Difference in monotonic clock is 13.191731593 sec for S1/A9/GP7/GYR_UNCAL\n",
      "Difference in monotonic clock is 13.184386785 sec for S1/A9/GP7/MAG_UNCAL\n",
      "Difference in monotonic clock is 13.162720468 sec for S1/A9/GP7/PSR\n",
      "Difference in monotonic clock is 7.948855058 sec for S1/A9/GPW/ACC_UNCAL\n"
     ]
    },
    {
     "name": "stderr",
     "output_type": "stream",
     "text": [
      "/tmp/ipykernel_9105/1456734061.py:63: UserWarning: No position with valid time uncertainty found for S1/A9/GPW/ACC_UNCAL.\n",
      "  success = AlignAndIntepolate(df_fix, df_motion, ['x', 'y', 'z', 'x_bias', 'y_bias', 'z_bias'],\n"
     ]
    },
    {
     "name": "stdout",
     "output_type": "stream",
     "text": [
      "Difference in monotonic clock is 7.939097058 sec for S1/A9/GPW/GYR_UNCAL\n"
     ]
    },
    {
     "name": "stderr",
     "output_type": "stream",
     "text": [
      "/tmp/ipykernel_9105/1456734061.py:63: UserWarning: No position with valid time uncertainty found for S1/A9/GPW/GYR_UNCAL.\n",
      "  success = AlignAndIntepolate(df_fix, df_motion, ['x', 'y', 'z', 'x_bias', 'y_bias', 'z_bias'],\n"
     ]
    },
    {
     "name": "stdout",
     "output_type": "stream",
     "text": [
      "Difference in monotonic clock is 7.899455058 sec for S1/A9/GPW/MAG_UNCAL\n"
     ]
    },
    {
     "name": "stderr",
     "output_type": "stream",
     "text": [
      "/tmp/ipykernel_9105/1456734061.py:63: UserWarning: No position with valid time uncertainty found for S1/A9/GPW/MAG_UNCAL.\n",
      "  success = AlignAndIntepolate(df_fix, df_motion, ['x', 'y', 'z', 'x_bias', 'y_bias', 'z_bias'],\n"
     ]
    },
    {
     "name": "stdout",
     "output_type": "stream",
     "text": [
      "Difference in monotonic clock is 7.906234058 sec for S1/A9/GPW/PSR\n"
     ]
    },
    {
     "name": "stderr",
     "output_type": "stream",
     "text": [
      "/tmp/ipykernel_9105/1456734061.py:55: UserWarning: No position with valid time uncertainty found for S1/A9/GPW/PSR.\n",
      "  success = AlignAndIntepolate(df_fix, df_env, ['value'], output_file, survey_name)\n"
     ]
    },
    {
     "name": "stdout",
     "output_type": "stream",
     "text": [
      "Difference in monotonic clock is 7.607297839 sec for S1/A9/SW6/GYR_UNCAL\n",
      "Difference in monotonic clock is 7.607297839 sec for S1/A9/SW6/MAG_UNCAL\n",
      "Difference in monotonic clock is 7.607297839 sec for S1/A9/SW6/ACC\n",
      "Difference in monotonic clock is 7.607297839 sec for S1/A9/SW6/PSR\n",
      "--- notes.txt ---\n",
      "--- Novatel_reference_for_A7_to_A10 ---\n",
      "=== S2 ===\n",
      "--- A1 ---\n",
      "Difference in monotonic clock is 1.968077081 sec for S2/A1/A52/ACC_UNCAL\n",
      "Difference in monotonic clock is 1.916427602 sec for S2/A1/A52/GYR_UNCAL\n",
      "Difference in monotonic clock is 1.954739112 sec for S2/A1/A52/MAG_UNCAL\n",
      "Difference in monotonic clock is 15.387650383 sec for S2/A1/GP7/ACC_UNCAL\n",
      "Difference in monotonic clock is 15.387650383 sec for S2/A1/GP7/GYR_UNCAL\n",
      "Difference in monotonic clock is 15.384344772 sec for S2/A1/GP7/MAG_UNCAL\n",
      "Difference in monotonic clock is 15.227796185 sec for S2/A1/GP7/PSR\n",
      "Difference in monotonic clock is 7.973396172 sec for S2/A1/GPW/ACC_UNCAL\n"
     ]
    },
    {
     "name": "stderr",
     "output_type": "stream",
     "text": [
      "/tmp/ipykernel_9105/1456734061.py:63: UserWarning: No position with valid time uncertainty found for S2/A1/GPW/ACC_UNCAL.\n",
      "  success = AlignAndIntepolate(df_fix, df_motion, ['x', 'y', 'z', 'x_bias', 'y_bias', 'z_bias'],\n"
     ]
    },
    {
     "name": "stdout",
     "output_type": "stream",
     "text": [
      "Difference in monotonic clock is 7.968517172 sec for S2/A1/GPW/GYR_UNCAL\n"
     ]
    },
    {
     "name": "stderr",
     "output_type": "stream",
     "text": [
      "/tmp/ipykernel_9105/1456734061.py:63: UserWarning: No position with valid time uncertainty found for S2/A1/GPW/GYR_UNCAL.\n",
      "  success = AlignAndIntepolate(df_fix, df_motion, ['x', 'y', 'z', 'x_bias', 'y_bias', 'z_bias'],\n"
     ]
    },
    {
     "name": "stdout",
     "output_type": "stream",
     "text": [
      "Difference in monotonic clock is 7.937332172 sec for S2/A1/GPW/MAG_UNCAL\n"
     ]
    },
    {
     "name": "stderr",
     "output_type": "stream",
     "text": [
      "/tmp/ipykernel_9105/1456734061.py:63: UserWarning: No position with valid time uncertainty found for S2/A1/GPW/MAG_UNCAL.\n",
      "  success = AlignAndIntepolate(df_fix, df_motion, ['x', 'y', 'z', 'x_bias', 'y_bias', 'z_bias'],\n"
     ]
    },
    {
     "name": "stdout",
     "output_type": "stream",
     "text": [
      "Difference in monotonic clock is 7.848099172 sec for S2/A1/GPW/PSR\n"
     ]
    },
    {
     "name": "stderr",
     "output_type": "stream",
     "text": [
      "/tmp/ipykernel_9105/1456734061.py:55: UserWarning: No position with valid time uncertainty found for S2/A1/GPW/PSR.\n",
      "  success = AlignAndIntepolate(df_fix, df_env, ['value'], output_file, survey_name)\n"
     ]
    },
    {
     "name": "stdout",
     "output_type": "stream",
     "text": [
      "--- A2 ---\n",
      "Difference in monotonic clock is 1.074233384 sec for S2/A2/A52/ACC_UNCAL\n",
      "Difference in monotonic clock is 1.027381092 sec for S2/A2/A52/GYR_UNCAL\n",
      "Difference in monotonic clock is 1.066144009 sec for S2/A2/A52/MAG_UNCAL\n",
      "Difference in monotonic clock is 11.237222876 sec for S2/A2/GP7/ACC_UNCAL\n",
      "Difference in monotonic clock is 11.232983497 sec for S2/A2/GP7/GYR_UNCAL\n",
      "Difference in monotonic clock is 11.229119767 sec for S2/A2/GP7/MAG_UNCAL\n",
      "Difference in monotonic clock is 11.21446513 sec for S2/A2/GP7/PSR\n",
      "Difference in monotonic clock is 7.973396172 sec for S2/A2/GPW/ACC_UNCAL\n"
     ]
    },
    {
     "name": "stderr",
     "output_type": "stream",
     "text": [
      "/tmp/ipykernel_9105/1456734061.py:63: UserWarning: No position with valid time uncertainty found for S2/A2/GPW/ACC_UNCAL.\n",
      "  success = AlignAndIntepolate(df_fix, df_motion, ['x', 'y', 'z', 'x_bias', 'y_bias', 'z_bias'],\n"
     ]
    },
    {
     "name": "stdout",
     "output_type": "stream",
     "text": [
      "Difference in monotonic clock is 7.968517172 sec for S2/A2/GPW/GYR_UNCAL\n"
     ]
    },
    {
     "name": "stderr",
     "output_type": "stream",
     "text": [
      "/tmp/ipykernel_9105/1456734061.py:63: UserWarning: No position with valid time uncertainty found for S2/A2/GPW/GYR_UNCAL.\n",
      "  success = AlignAndIntepolate(df_fix, df_motion, ['x', 'y', 'z', 'x_bias', 'y_bias', 'z_bias'],\n"
     ]
    },
    {
     "name": "stdout",
     "output_type": "stream",
     "text": [
      "Difference in monotonic clock is 7.937332172 sec for S2/A2/GPW/MAG_UNCAL\n"
     ]
    },
    {
     "name": "stderr",
     "output_type": "stream",
     "text": [
      "/tmp/ipykernel_9105/1456734061.py:63: UserWarning: No position with valid time uncertainty found for S2/A2/GPW/MAG_UNCAL.\n",
      "  success = AlignAndIntepolate(df_fix, df_motion, ['x', 'y', 'z', 'x_bias', 'y_bias', 'z_bias'],\n"
     ]
    },
    {
     "name": "stdout",
     "output_type": "stream",
     "text": [
      "Difference in monotonic clock is 7.848099172 sec for S2/A2/GPW/PSR\n"
     ]
    },
    {
     "name": "stderr",
     "output_type": "stream",
     "text": [
      "/tmp/ipykernel_9105/1456734061.py:55: UserWarning: No position with valid time uncertainty found for S2/A2/GPW/PSR.\n",
      "  success = AlignAndIntepolate(df_fix, df_env, ['value'], output_file, survey_name)\n"
     ]
    },
    {
     "name": "stdout",
     "output_type": "stream",
     "text": [
      "--- A3 ---\n",
      "Difference in monotonic clock is 3.2934588 sec for S2/A3/A52/ACC_UNCAL\n",
      "Difference in monotonic clock is 3.232166457 sec for S2/A3/A52/GYR_UNCAL\n",
      "Difference in monotonic clock is 3.266127602 sec for S2/A3/A52/MAG_UNCAL\n",
      "Difference in monotonic clock is 10.1573533 sec for S2/A3/GP7/ACC_UNCAL\n",
      "Difference in monotonic clock is 10.161512173 sec for S2/A3/GP7/GYR_UNCAL\n",
      "Difference in monotonic clock is 10.15751415 sec for S2/A3/GP7/MAG_UNCAL\n",
      "Difference in monotonic clock is 10.138838365 sec for S2/A3/GP7/PSR\n",
      "Survey S2/A3/SW6/Fix - Missing log.fix\n",
      "Survey S2/A3/SW6/ACC_UNCAL - Missing log.fix\n",
      "Survey S2/A3/SW6/GYR_UNCAL - Missing log.fix\n",
      "Survey S2/A3/SW6/MAG_UNCAL - Missing log.fix\n",
      "Survey S2/A3/SW6/ACC - Missing log.fix\n",
      "Survey S2/A3/SW6/PSR - Missing log.fix\n",
      "--- A4 ---\n",
      "Difference in monotonic clock is 1.085564678 sec for S2/A4/A52/ACC_UNCAL\n",
      "Difference in monotonic clock is 1.038708376 sec for S2/A4/A52/GYR_UNCAL\n",
      "Difference in monotonic clock is 1.076878063 sec for S2/A4/A52/MAG_UNCAL\n",
      "Difference in monotonic clock is 11.372550478 sec for S2/A4/GP7/ACC_UNCAL\n",
      "Difference in monotonic clock is 11.372550478 sec for S2/A4/GP7/GYR_UNCAL\n",
      "Difference in monotonic clock is 11.368569928 sec for S2/A4/GP7/MAG_UNCAL\n",
      "Difference in monotonic clock is 11.334861268 sec for S2/A4/GP7/PSR\n",
      "Survey S2/A4/SW6/Fix - Missing log.fix\n",
      "Survey S2/A4/SW6/ACC_UNCAL - Missing log.fix\n",
      "Survey S2/A4/SW6/GYR_UNCAL - Missing log.fix\n",
      "Survey S2/A4/SW6/MAG_UNCAL - Missing log.fix\n",
      "Survey S2/A4/SW6/ACC - Missing log.fix\n",
      "Survey S2/A4/SW6/PSR - Missing log.fix\n",
      "--- notes.txt ---\n",
      "=== S3 ===\n",
      "--- A1 ---\n",
      "Difference in monotonic clock is 1.095302546 sec for S3/A1/A52/ACC_UNCAL\n",
      "Difference in monotonic clock is 1.110815411 sec for S3/A1/A52/GYR_UNCAL\n",
      "Difference in monotonic clock is 1.077525359 sec for S3/A1/A52/MAG_UNCAL\n",
      "Difference in monotonic clock is 15.929980869 sec for S3/A1/GP7/ACC_UNCAL\n",
      "Difference in monotonic clock is 15.929980869 sec for S3/A1/GP7/GYR_UNCAL\n",
      "Difference in monotonic clock is 15.895210247 sec for S3/A1/GP7/MAG_UNCAL\n",
      "Difference in monotonic clock is 15.845562806 sec for S3/A1/GP7/PSR\n",
      "Difference in monotonic clock is 5.946449167 sec for S3/A1/GPW/ACC_UNCAL\n"
     ]
    },
    {
     "name": "stderr",
     "output_type": "stream",
     "text": [
      "/tmp/ipykernel_9105/1456734061.py:63: UserWarning: No position with valid time uncertainty found for S3/A1/GPW/ACC_UNCAL.\n",
      "  success = AlignAndIntepolate(df_fix, df_motion, ['x', 'y', 'z', 'x_bias', 'y_bias', 'z_bias'],\n"
     ]
    },
    {
     "name": "stdout",
     "output_type": "stream",
     "text": [
      "Difference in monotonic clock is 5.946449167 sec for S3/A1/GPW/GYR_UNCAL\n"
     ]
    },
    {
     "name": "stderr",
     "output_type": "stream",
     "text": [
      "/tmp/ipykernel_9105/1456734061.py:63: UserWarning: No position with valid time uncertainty found for S3/A1/GPW/GYR_UNCAL.\n",
      "  success = AlignAndIntepolate(df_fix, df_motion, ['x', 'y', 'z', 'x_bias', 'y_bias', 'z_bias'],\n"
     ]
    },
    {
     "name": "stdout",
     "output_type": "stream",
     "text": [
      "Difference in monotonic clock is 5.910988167 sec for S3/A1/GPW/MAG_UNCAL\n"
     ]
    },
    {
     "name": "stderr",
     "output_type": "stream",
     "text": [
      "/tmp/ipykernel_9105/1456734061.py:63: UserWarning: No position with valid time uncertainty found for S3/A1/GPW/MAG_UNCAL.\n",
      "  success = AlignAndIntepolate(df_fix, df_motion, ['x', 'y', 'z', 'x_bias', 'y_bias', 'z_bias'],\n"
     ]
    },
    {
     "name": "stdout",
     "output_type": "stream",
     "text": [
      "Difference in monotonic clock is 5.833906167 sec for S3/A1/GPW/PSR\n"
     ]
    },
    {
     "name": "stderr",
     "output_type": "stream",
     "text": [
      "/tmp/ipykernel_9105/1456734061.py:55: UserWarning: No position with valid time uncertainty found for S3/A1/GPW/PSR.\n",
      "  success = AlignAndIntepolate(df_fix, df_env, ['value'], output_file, survey_name)\n"
     ]
    },
    {
     "name": "stdout",
     "output_type": "stream",
     "text": [
      "--- A2 ---\n",
      "Difference in monotonic clock is 3.477688842 sec for S3/A2/A52/ACC_UNCAL\n",
      "Difference in monotonic clock is 3.426037696 sec for S3/A2/A52/GYR_UNCAL\n",
      "Difference in monotonic clock is 3.459627019 sec for S3/A2/A52/MAG_UNCAL\n",
      "Difference in monotonic clock is 8.706350392 sec for S3/A2/GP7/ACC_UNCAL\n",
      "Difference in monotonic clock is 8.706350392 sec for S3/A2/GP7/GYR_UNCAL\n",
      "Difference in monotonic clock is 8.690796125 sec for S3/A2/GP7/MAG_UNCAL\n",
      "Difference in monotonic clock is 8.662278891 sec for S3/A2/GP7/PSR\n",
      "Difference in monotonic clock is 3.935770827 sec for S3/A2/GPW/ACC_UNCAL\n"
     ]
    },
    {
     "name": "stderr",
     "output_type": "stream",
     "text": [
      "/tmp/ipykernel_9105/1456734061.py:63: UserWarning: No position with valid time uncertainty found for S3/A2/GPW/ACC_UNCAL.\n",
      "  success = AlignAndIntepolate(df_fix, df_motion, ['x', 'y', 'z', 'x_bias', 'y_bias', 'z_bias'],\n"
     ]
    },
    {
     "name": "stdout",
     "output_type": "stream",
     "text": [
      "Difference in monotonic clock is 3.916300827 sec for S3/A2/GPW/GYR_UNCAL\n"
     ]
    },
    {
     "name": "stderr",
     "output_type": "stream",
     "text": [
      "/tmp/ipykernel_9105/1456734061.py:63: UserWarning: No position with valid time uncertainty found for S3/A2/GPW/GYR_UNCAL.\n",
      "  success = AlignAndIntepolate(df_fix, df_motion, ['x', 'y', 'z', 'x_bias', 'y_bias', 'z_bias'],\n"
     ]
    },
    {
     "name": "stdout",
     "output_type": "stream",
     "text": [
      "Difference in monotonic clock is 3.895731827 sec for S3/A2/GPW/MAG_UNCAL\n"
     ]
    },
    {
     "name": "stderr",
     "output_type": "stream",
     "text": [
      "/tmp/ipykernel_9105/1456734061.py:63: UserWarning: No position with valid time uncertainty found for S3/A2/GPW/MAG_UNCAL.\n",
      "  success = AlignAndIntepolate(df_fix, df_motion, ['x', 'y', 'z', 'x_bias', 'y_bias', 'z_bias'],\n"
     ]
    },
    {
     "name": "stdout",
     "output_type": "stream",
     "text": [
      "Difference in monotonic clock is 3.813852827 sec for S3/A2/GPW/PSR\n"
     ]
    },
    {
     "name": "stderr",
     "output_type": "stream",
     "text": [
      "/tmp/ipykernel_9105/1456734061.py:55: UserWarning: No position with valid time uncertainty found for S3/A2/GPW/PSR.\n",
      "  success = AlignAndIntepolate(df_fix, df_env, ['value'], output_file, survey_name)\n"
     ]
    },
    {
     "name": "stdout",
     "output_type": "stream",
     "text": [
      "Difference in monotonic clock is 11.111464349 sec for S3/A2/SW6/GYR_UNCAL\n",
      "Difference in monotonic clock is 11.111464349 sec for S3/A2/SW6/MAG_UNCAL\n",
      "Difference in monotonic clock is 11.111464349 sec for S3/A2/SW6/ACC\n",
      "Difference in monotonic clock is 11.091322747 sec for S3/A2/SW6/PSR\n",
      "--- A3 ---\n",
      "Difference in monotonic clock is 1.391268622 sec for S3/A3/A52/ACC_UNCAL\n",
      "Difference in monotonic clock is 1.339538727 sec for S3/A3/A52/GYR_UNCAL\n",
      "Difference in monotonic clock is 1.382016695 sec for S3/A3/A52/MAG_UNCAL\n",
      "Difference in monotonic clock is 13.205463288 sec for S3/A3/GP7/ACC_UNCAL\n",
      "Difference in monotonic clock is 13.273253867 sec for S3/A3/GP7/GYR_UNCAL\n",
      "Difference in monotonic clock is 13.26599293 sec for S3/A3/GP7/MAG_UNCAL\n",
      "Difference in monotonic clock is 13.265737877 sec for S3/A3/GP7/PSR\n",
      "Difference in monotonic clock is 2.942881506 sec for S3/A3/GPW/ACC_UNCAL\n"
     ]
    },
    {
     "name": "stderr",
     "output_type": "stream",
     "text": [
      "/tmp/ipykernel_9105/1456734061.py:63: UserWarning: No position with valid time uncertainty found for S3/A3/GPW/ACC_UNCAL.\n",
      "  success = AlignAndIntepolate(df_fix, df_motion, ['x', 'y', 'z', 'x_bias', 'y_bias', 'z_bias'],\n"
     ]
    },
    {
     "name": "stdout",
     "output_type": "stream",
     "text": [
      "Difference in monotonic clock is 2.933124576 sec for S3/A3/GPW/GYR_UNCAL\n"
     ]
    },
    {
     "name": "stderr",
     "output_type": "stream",
     "text": [
      "/tmp/ipykernel_9105/1456734061.py:63: UserWarning: No position with valid time uncertainty found for S3/A3/GPW/GYR_UNCAL.\n",
      "  success = AlignAndIntepolate(df_fix, df_motion, ['x', 'y', 'z', 'x_bias', 'y_bias', 'z_bias'],\n"
     ]
    },
    {
     "name": "stdout",
     "output_type": "stream",
     "text": [
      "Difference in monotonic clock is 2.890767579 sec for S3/A3/GPW/MAG_UNCAL\n"
     ]
    },
    {
     "name": "stderr",
     "output_type": "stream",
     "text": [
      "/tmp/ipykernel_9105/1456734061.py:63: UserWarning: No position with valid time uncertainty found for S3/A3/GPW/MAG_UNCAL.\n",
      "  success = AlignAndIntepolate(df_fix, df_motion, ['x', 'y', 'z', 'x_bias', 'y_bias', 'z_bias'],\n"
     ]
    },
    {
     "name": "stdout",
     "output_type": "stream",
     "text": [
      "Difference in monotonic clock is 2.820834703 sec for S3/A3/GPW/PSR\n"
     ]
    },
    {
     "name": "stderr",
     "output_type": "stream",
     "text": [
      "/tmp/ipykernel_9105/1456734061.py:55: UserWarning: No position with valid time uncertainty found for S3/A3/GPW/PSR.\n",
      "  success = AlignAndIntepolate(df_fix, df_env, ['value'], output_file, survey_name)\n"
     ]
    },
    {
     "name": "stdout",
     "output_type": "stream",
     "text": [
      "Difference in monotonic clock is 2.387780085 sec for S3/A3/SW6/GYR_UNCAL\n",
      "Difference in monotonic clock is 2.387780085 sec for S3/A3/SW6/MAG_UNCAL\n",
      "Difference in monotonic clock is 2.387780085 sec for S3/A3/SW6/ACC\n",
      "Difference in monotonic clock is 2.387780085 sec for S3/A3/SW6/PSR\n",
      "--- A4 ---\n",
      "Difference in monotonic clock is 1.078109364 sec for S3/A4/A52/ACC_UNCAL\n",
      "Difference in monotonic clock is 1.021608635 sec for S3/A4/A52/GYR_UNCAL\n",
      "Difference in monotonic clock is 1.04617275 sec for S3/A4/A52/MAG_UNCAL\n",
      "Difference in monotonic clock is 12.053615547 sec for S3/A4/GP7/ACC_UNCAL\n",
      "Difference in monotonic clock is 12.053615547 sec for S3/A4/GP7/GYR_UNCAL\n",
      "Difference in monotonic clock is 12.036190907 sec for S3/A4/GP7/MAG_UNCAL\n",
      "Difference in monotonic clock is 12.040978187 sec for S3/A4/GP7/PSR\n",
      "Difference in monotonic clock is 6.965260752 sec for S3/A4/GPW/ACC_UNCAL\n"
     ]
    },
    {
     "name": "stderr",
     "output_type": "stream",
     "text": [
      "/tmp/ipykernel_9105/1456734061.py:63: UserWarning: No position with valid time uncertainty found for S3/A4/GPW/ACC_UNCAL.\n",
      "  success = AlignAndIntepolate(df_fix, df_motion, ['x', 'y', 'z', 'x_bias', 'y_bias', 'z_bias'],\n"
     ]
    },
    {
     "name": "stdout",
     "output_type": "stream",
     "text": [
      "Difference in monotonic clock is 6.955533252 sec for S3/A4/GPW/GYR_UNCAL\n"
     ]
    },
    {
     "name": "stderr",
     "output_type": "stream",
     "text": [
      "/tmp/ipykernel_9105/1456734061.py:63: UserWarning: No position with valid time uncertainty found for S3/A4/GPW/GYR_UNCAL.\n",
      "  success = AlignAndIntepolate(df_fix, df_motion, ['x', 'y', 'z', 'x_bias', 'y_bias', 'z_bias'],\n"
     ]
    },
    {
     "name": "stdout",
     "output_type": "stream",
     "text": [
      "Difference in monotonic clock is 6.910947252 sec for S3/A4/GPW/MAG_UNCAL\n"
     ]
    },
    {
     "name": "stderr",
     "output_type": "stream",
     "text": [
      "/tmp/ipykernel_9105/1456734061.py:63: UserWarning: No position with valid time uncertainty found for S3/A4/GPW/MAG_UNCAL.\n",
      "  success = AlignAndIntepolate(df_fix, df_motion, ['x', 'y', 'z', 'x_bias', 'y_bias', 'z_bias'],\n"
     ]
    },
    {
     "name": "stdout",
     "output_type": "stream",
     "text": [
      "Difference in monotonic clock is 6.878390252 sec for S3/A4/GPW/PSR\n"
     ]
    },
    {
     "name": "stderr",
     "output_type": "stream",
     "text": [
      "/tmp/ipykernel_9105/1456734061.py:55: UserWarning: No position with valid time uncertainty found for S3/A4/GPW/PSR.\n",
      "  success = AlignAndIntepolate(df_fix, df_env, ['value'], output_file, survey_name)\n"
     ]
    },
    {
     "name": "stdout",
     "output_type": "stream",
     "text": [
      "Difference in monotonic clock is 4.026824659 sec for S3/A4/SW6/GYR_UNCAL\n",
      "Difference in monotonic clock is 4.026824659 sec for S3/A4/SW6/MAG_UNCAL\n",
      "Difference in monotonic clock is 4.036834425 sec for S3/A4/SW6/ACC\n",
      "Difference in monotonic clock is 4.016753859 sec for S3/A4/SW6/PSR\n",
      "--- A5 ---\n",
      "--- A6 ---\n",
      "Difference in monotonic clock is 1.45375405 sec for S3/A6/A52/ACC_UNCAL\n",
      "Difference in monotonic clock is 1.43706379 sec for S3/A6/A52/GYR_UNCAL\n",
      "Difference in monotonic clock is 1.409851133 sec for S3/A6/A52/MAG_UNCAL\n",
      "Difference in monotonic clock is 13.184737834 sec for S3/A6/GP7/ACC_UNCAL\n",
      "Difference in monotonic clock is 13.252532455 sec for S3/A6/GP7/GYR_UNCAL\n",
      "Difference in monotonic clock is 13.239709466 sec for S3/A6/GP7/MAG_UNCAL\n",
      "Difference in monotonic clock is 13.163735115 sec for S3/A6/GP7/PSR\n",
      "Difference in monotonic clock is 6.06878193 sec for S3/A6/GPW/ACC_UNCAL\n"
     ]
    },
    {
     "name": "stderr",
     "output_type": "stream",
     "text": [
      "/tmp/ipykernel_9105/1456734061.py:63: UserWarning: No position with valid time uncertainty found for S3/A6/GPW/ACC_UNCAL.\n",
      "  success = AlignAndIntepolate(df_fix, df_motion, ['x', 'y', 'z', 'x_bias', 'y_bias', 'z_bias'],\n"
     ]
    },
    {
     "name": "stdout",
     "output_type": "stream",
     "text": [
      "Difference in monotonic clock is 6.049314567 sec for S3/A6/GPW/GYR_UNCAL\n"
     ]
    },
    {
     "name": "stderr",
     "output_type": "stream",
     "text": [
      "/tmp/ipykernel_9105/1456734061.py:63: UserWarning: No position with valid time uncertainty found for S3/A6/GPW/GYR_UNCAL.\n",
      "  success = AlignAndIntepolate(df_fix, df_motion, ['x', 'y', 'z', 'x_bias', 'y_bias', 'z_bias'],\n"
     ]
    },
    {
     "name": "stdout",
     "output_type": "stream",
     "text": [
      "Difference in monotonic clock is 6.015139197 sec for S3/A6/GPW/MAG_UNCAL\n"
     ]
    },
    {
     "name": "stderr",
     "output_type": "stream",
     "text": [
      "/tmp/ipykernel_9105/1456734061.py:63: UserWarning: No position with valid time uncertainty found for S3/A6/GPW/MAG_UNCAL.\n",
      "  success = AlignAndIntepolate(df_fix, df_motion, ['x', 'y', 'z', 'x_bias', 'y_bias', 'z_bias'],\n"
     ]
    },
    {
     "name": "stdout",
     "output_type": "stream",
     "text": [
      "Difference in monotonic clock is 5.948472229 sec for S3/A6/GPW/PSR\n"
     ]
    },
    {
     "name": "stderr",
     "output_type": "stream",
     "text": [
      "/tmp/ipykernel_9105/1456734061.py:55: UserWarning: No position with valid time uncertainty found for S3/A6/GPW/PSR.\n",
      "  success = AlignAndIntepolate(df_fix, df_env, ['value'], output_file, survey_name)\n"
     ]
    },
    {
     "name": "stdout",
     "output_type": "stream",
     "text": [
      "Difference in monotonic clock is 3.390903832 sec for S3/A6/SW6/GYR_UNCAL\n",
      "Difference in monotonic clock is 3.390903832 sec for S3/A6/SW6/MAG_UNCAL\n",
      "Difference in monotonic clock is 3.390903832 sec for S3/A6/SW6/ACC\n",
      "Difference in monotonic clock is 3.390903832 sec for S3/A6/SW6/PSR\n",
      "--- notes.txt ---\n",
      "=== S4 ===\n",
      "--- A1 ---\n",
      "Difference in monotonic clock is 2.343970193 sec for S4/A1/A52/ACC_UNCAL\n",
      "Difference in monotonic clock is 2.317683683 sec for S4/A1/A52/GYR_UNCAL\n",
      "Difference in monotonic clock is 2.293077224 sec for S4/A1/A52/MAG_UNCAL\n",
      "Difference in monotonic clock is 12.498254911 sec for S4/A1/GP7/ACC_UNCAL\n",
      "Difference in monotonic clock is 12.498254911 sec for S4/A1/GP7/GYR_UNCAL\n",
      "Difference in monotonic clock is 12.417666775 sec for S4/A1/GP7/MAG_UNCAL\n",
      "Difference in monotonic clock is 12.487653567 sec for S4/A1/GP7/PSR\n",
      "Difference in monotonic clock is 8.960980164 sec for S4/A1/GPW/ACC_UNCAL\n"
     ]
    },
    {
     "name": "stderr",
     "output_type": "stream",
     "text": [
      "/tmp/ipykernel_9105/1456734061.py:63: UserWarning: No position with valid time uncertainty found for S4/A1/GPW/ACC_UNCAL.\n",
      "  success = AlignAndIntepolate(df_fix, df_motion, ['x', 'y', 'z', 'x_bias', 'y_bias', 'z_bias'],\n"
     ]
    },
    {
     "name": "stdout",
     "output_type": "stream",
     "text": [
      "Difference in monotonic clock is 8.951222164 sec for S4/A1/GPW/GYR_UNCAL\n"
     ]
    },
    {
     "name": "stderr",
     "output_type": "stream",
     "text": [
      "/tmp/ipykernel_9105/1456734061.py:63: UserWarning: No position with valid time uncertainty found for S4/A1/GPW/GYR_UNCAL.\n",
      "  success = AlignAndIntepolate(df_fix, df_motion, ['x', 'y', 'z', 'x_bias', 'y_bias', 'z_bias'],\n"
     ]
    },
    {
     "name": "stdout",
     "output_type": "stream",
     "text": [
      "Difference in monotonic clock is 8.909047164 sec for S4/A1/GPW/MAG_UNCAL\n"
     ]
    },
    {
     "name": "stderr",
     "output_type": "stream",
     "text": [
      "/tmp/ipykernel_9105/1456734061.py:63: UserWarning: No position with valid time uncertainty found for S4/A1/GPW/MAG_UNCAL.\n",
      "  success = AlignAndIntepolate(df_fix, df_motion, ['x', 'y', 'z', 'x_bias', 'y_bias', 'z_bias'],\n"
     ]
    },
    {
     "name": "stdout",
     "output_type": "stream",
     "text": [
      "Difference in monotonic clock is 8.914242164 sec for S4/A1/GPW/PSR\n"
     ]
    },
    {
     "name": "stderr",
     "output_type": "stream",
     "text": [
      "/tmp/ipykernel_9105/1456734061.py:55: UserWarning: No position with valid time uncertainty found for S4/A1/GPW/PSR.\n",
      "  success = AlignAndIntepolate(df_fix, df_env, ['value'], output_file, survey_name)\n"
     ]
    },
    {
     "name": "stdout",
     "output_type": "stream",
     "text": [
      "Difference in monotonic clock is 8.806929461 sec for S4/A1/SW6/GYR_UNCAL\n",
      "Difference in monotonic clock is 8.79685866 sec for S4/A1/SW6/MAG_UNCAL\n",
      "Difference in monotonic clock is 8.806929461 sec for S4/A1/SW6/ACC\n",
      "Difference in monotonic clock is 8.79685866 sec for S4/A1/SW6/PSR\n",
      "--- A2 ---\n",
      "Difference in monotonic clock is 1.027025763 sec for S4/A2/A52/ACC_UNCAL\n",
      "Difference in monotonic clock is 1.000737794 sec for S4/A2/A52/GYR_UNCAL\n",
      "Difference in monotonic clock is 0.975242325 sec for S4/A2/A52/MAG_UNCAL\n",
      "Difference in monotonic clock is 14.964303749 sec for S4/A2/GP7/ACC_UNCAL\n",
      "Difference in monotonic clock is 15.040501132 sec for S4/A2/GP7/GYR_UNCAL\n",
      "Difference in monotonic clock is 14.942596274 sec for S4/A2/GP7/MAG_UNCAL\n",
      "Difference in monotonic clock is 14.996119074 sec for S4/A2/GP7/PSR\n",
      "Difference in monotonic clock is 9.929041868 sec for S4/A2/GPW/ACC_UNCAL\n"
     ]
    },
    {
     "name": "stderr",
     "output_type": "stream",
     "text": [
      "/tmp/ipykernel_9105/1456734061.py:63: UserWarning: No position with valid time uncertainty found for S4/A2/GPW/ACC_UNCAL.\n",
      "  success = AlignAndIntepolate(df_fix, df_motion, ['x', 'y', 'z', 'x_bias', 'y_bias', 'z_bias'],\n"
     ]
    },
    {
     "name": "stdout",
     "output_type": "stream",
     "text": [
      "Difference in monotonic clock is 9.919306868 sec for S4/A2/GPW/GYR_UNCAL\n"
     ]
    },
    {
     "name": "stderr",
     "output_type": "stream",
     "text": [
      "/tmp/ipykernel_9105/1456734061.py:63: UserWarning: No position with valid time uncertainty found for S4/A2/GPW/GYR_UNCAL.\n",
      "  success = AlignAndIntepolate(df_fix, df_motion, ['x', 'y', 'z', 'x_bias', 'y_bias', 'z_bias'],\n"
     ]
    },
    {
     "name": "stdout",
     "output_type": "stream",
     "text": [
      "Difference in monotonic clock is 9.883173868 sec for S4/A2/GPW/MAG_UNCAL\n"
     ]
    },
    {
     "name": "stderr",
     "output_type": "stream",
     "text": [
      "/tmp/ipykernel_9105/1456734061.py:63: UserWarning: No position with valid time uncertainty found for S4/A2/GPW/MAG_UNCAL.\n",
      "  success = AlignAndIntepolate(df_fix, df_motion, ['x', 'y', 'z', 'x_bias', 'y_bias', 'z_bias'],\n"
     ]
    },
    {
     "name": "stdout",
     "output_type": "stream",
     "text": [
      "Difference in monotonic clock is 9.810480868 sec for S4/A2/GPW/PSR\n"
     ]
    },
    {
     "name": "stderr",
     "output_type": "stream",
     "text": [
      "/tmp/ipykernel_9105/1456734061.py:55: UserWarning: No position with valid time uncertainty found for S4/A2/GPW/PSR.\n",
      "  success = AlignAndIntepolate(df_fix, df_env, ['value'], output_file, survey_name)\n"
     ]
    },
    {
     "name": "stdout",
     "output_type": "stream",
     "text": [
      "Difference in monotonic clock is 5.813769238 sec for S4/A2/SW6/GYR_UNCAL\n",
      "Difference in monotonic clock is 5.803728955 sec for S4/A2/SW6/MAG_UNCAL\n",
      "Difference in monotonic clock is 5.813769238 sec for S4/A2/SW6/ACC\n",
      "Difference in monotonic clock is 5.803728955 sec for S4/A2/SW6/PSR\n",
      "--- notes.txt ---\n",
      "=== S5 ===\n",
      "--- A1 ---\n",
      "Difference in monotonic clock is 3.491027485 sec for S5/A1/A52/ACC_UNCAL\n",
      "Difference in monotonic clock is 3.434518214 sec for S5/A1/A52/GYR_UNCAL\n",
      "Difference in monotonic clock is 3.473343683 sec for S5/A1/A52/MAG_UNCAL\n",
      "Difference in monotonic clock is 10.137753794 sec for S5/A1/GP7/ACC_UNCAL\n",
      "Difference in monotonic clock is 10.20556063 sec for S5/A1/GP7/GYR_UNCAL\n",
      "Difference in monotonic clock is 10.200721038 sec for S5/A1/GP7/MAG_UNCAL\n",
      "Difference in monotonic clock is 10.048621203 sec for S5/A1/GP7/PSR\n",
      "Difference in monotonic clock is 4.988652396 sec for S5/A1/GPW/ACC_UNCAL\n"
     ]
    },
    {
     "name": "stderr",
     "output_type": "stream",
     "text": [
      "/tmp/ipykernel_9105/1456734061.py:63: UserWarning: No position with valid time uncertainty found for S5/A1/GPW/ACC_UNCAL.\n",
      "  success = AlignAndIntepolate(df_fix, df_motion, ['x', 'y', 'z', 'x_bias', 'y_bias', 'z_bias'],\n"
     ]
    },
    {
     "name": "stdout",
     "output_type": "stream",
     "text": [
      "Difference in monotonic clock is 4.978917146 sec for S5/A1/GPW/GYR_UNCAL\n"
     ]
    },
    {
     "name": "stderr",
     "output_type": "stream",
     "text": [
      "/tmp/ipykernel_9105/1456734061.py:63: UserWarning: No position with valid time uncertainty found for S5/A1/GPW/GYR_UNCAL.\n",
      "  success = AlignAndIntepolate(df_fix, df_motion, ['x', 'y', 'z', 'x_bias', 'y_bias', 'z_bias'],\n"
     ]
    },
    {
     "name": "stdout",
     "output_type": "stream",
     "text": [
      "Difference in monotonic clock is 4.937473646 sec for S5/A1/GPW/MAG_UNCAL\n"
     ]
    },
    {
     "name": "stderr",
     "output_type": "stream",
     "text": [
      "/tmp/ipykernel_9105/1456734061.py:63: UserWarning: No position with valid time uncertainty found for S5/A1/GPW/MAG_UNCAL.\n",
      "  success = AlignAndIntepolate(df_fix, df_motion, ['x', 'y', 'z', 'x_bias', 'y_bias', 'z_bias'],\n"
     ]
    },
    {
     "name": "stdout",
     "output_type": "stream",
     "text": [
      "Difference in monotonic clock is 4.899270646 sec for S5/A1/GPW/PSR\n"
     ]
    },
    {
     "name": "stderr",
     "output_type": "stream",
     "text": [
      "/tmp/ipykernel_9105/1456734061.py:55: UserWarning: No position with valid time uncertainty found for S5/A1/GPW/PSR.\n",
      "  success = AlignAndIntepolate(df_fix, df_env, ['value'], output_file, survey_name)\n"
     ]
    },
    {
     "name": "stdout",
     "output_type": "stream",
     "text": [
      "--- A2 ---\n"
     ]
    },
    {
     "name": "stderr",
     "output_type": "stream",
     "text": [
      "/tmp/ipykernel_9105/1456734061.py:63: UserWarning: Difference in monotonic clock > 30 seconds (131076.555844321) for S5/A1/SW6/GYR_UNCAL. Aborting.\n",
      "  success = AlignAndIntepolate(df_fix, df_motion, ['x', 'y', 'z', 'x_bias', 'y_bias', 'z_bias'],\n",
      "/tmp/ipykernel_9105/1456734061.py:63: UserWarning: Difference in monotonic clock > 30 seconds (131076.54577352) for S5/A1/SW6/MAG_UNCAL. Aborting.\n",
      "  success = AlignAndIntepolate(df_fix, df_motion, ['x', 'y', 'z', 'x_bias', 'y_bias', 'z_bias'],\n",
      "/tmp/ipykernel_9105/1456734061.py:59: UserWarning: Difference in monotonic clock > 30 seconds (131076.555844321) for S5/A1/SW6/ACC. Aborting.\n",
      "  success = AlignAndIntepolate(df_fix, df_motion, ['x', 'y', 'z'], output_file, survey_name)\n",
      "/tmp/ipykernel_9105/1456734061.py:55: UserWarning: Difference in monotonic clock > 30 seconds (131076.54577352) for S5/A1/SW6/PSR. Aborting.\n",
      "  success = AlignAndIntepolate(df_fix, df_env, ['value'], output_file, survey_name)\n"
     ]
    },
    {
     "name": "stdout",
     "output_type": "stream",
     "text": [
      "Difference in monotonic clock is 1.103328209 sec for S5/A2/A52/ACC_UNCAL\n",
      "Difference in monotonic clock is 1.046820917 sec for S5/A2/A52/GYR_UNCAL\n",
      "Difference in monotonic clock is 1.085572532 sec for S5/A2/A52/MAG_UNCAL\n",
      "Difference in monotonic clock is 10.215440348 sec for S5/A2/GP7/ACC_UNCAL\n",
      "Difference in monotonic clock is 10.215440348 sec for S5/A2/GP7/GYR_UNCAL\n",
      "Difference in monotonic clock is 10.220293285 sec for S5/A2/GP7/MAG_UNCAL\n",
      "Difference in monotonic clock is 10.054514942 sec for S5/A2/GP7/PSR\n",
      "Difference in monotonic clock is 5.975136141 sec for S5/A2/GPW/ACC_UNCAL\n"
     ]
    },
    {
     "name": "stderr",
     "output_type": "stream",
     "text": [
      "/tmp/ipykernel_9105/1456734061.py:63: UserWarning: No position with valid time uncertainty found for S5/A2/GPW/ACC_UNCAL.\n",
      "  success = AlignAndIntepolate(df_fix, df_motion, ['x', 'y', 'z', 'x_bias', 'y_bias', 'z_bias'],\n"
     ]
    },
    {
     "name": "stdout",
     "output_type": "stream",
     "text": [
      "Difference in monotonic clock is 5.955665641 sec for S5/A2/GPW/GYR_UNCAL\n"
     ]
    },
    {
     "name": "stderr",
     "output_type": "stream",
     "text": [
      "/tmp/ipykernel_9105/1456734061.py:63: UserWarning: No position with valid time uncertainty found for S5/A2/GPW/GYR_UNCAL.\n",
      "  success = AlignAndIntepolate(df_fix, df_motion, ['x', 'y', 'z', 'x_bias', 'y_bias', 'z_bias'],\n"
     ]
    },
    {
     "name": "stdout",
     "output_type": "stream",
     "text": [
      "Difference in monotonic clock is 5.921516141 sec for S5/A2/GPW/MAG_UNCAL\n"
     ]
    },
    {
     "name": "stderr",
     "output_type": "stream",
     "text": [
      "/tmp/ipykernel_9105/1456734061.py:63: UserWarning: No position with valid time uncertainty found for S5/A2/GPW/MAG_UNCAL.\n",
      "  success = AlignAndIntepolate(df_fix, df_motion, ['x', 'y', 'z', 'x_bias', 'y_bias', 'z_bias'],\n"
     ]
    },
    {
     "name": "stdout",
     "output_type": "stream",
     "text": [
      "Difference in monotonic clock is 5.850960141 sec for S5/A2/GPW/PSR\n"
     ]
    },
    {
     "name": "stderr",
     "output_type": "stream",
     "text": [
      "/tmp/ipykernel_9105/1456734061.py:55: UserWarning: No position with valid time uncertainty found for S5/A2/GPW/PSR.\n",
      "  success = AlignAndIntepolate(df_fix, df_env, ['value'], output_file, survey_name)\n"
     ]
    },
    {
     "name": "stdout",
     "output_type": "stream",
     "text": [
      "Difference in monotonic clock is 0.846855884 sec for S5/A2/SW6/GYR_UNCAL\n",
      "Difference in monotonic clock is 0.856957202 sec for S5/A2/SW6/MAG_UNCAL\n",
      "Difference in monotonic clock is 0.846855884 sec for S5/A2/SW6/ACC\n",
      "Difference in monotonic clock is 0.866966967 sec for S5/A2/SW6/PSR\n",
      "--- A3 ---\n",
      "Difference in monotonic clock is 3.009461545 sec for S5/A3/A52/ACC_UNCAL\n",
      "Difference in monotonic clock is 2.957814982 sec for S5/A3/A52/GYR_UNCAL\n",
      "Difference in monotonic clock is 3.000090347 sec for S5/A3/A52/MAG_UNCAL\n",
      "Difference in monotonic clock is 10.524832628 sec for S5/A3/GP7/ACC_UNCAL\n",
      "Difference in monotonic clock is 10.507885524 sec for S5/A3/GP7/GYR_UNCAL\n",
      "Difference in monotonic clock is 10.499757837 sec for S5/A3/GP7/MAG_UNCAL\n",
      "Difference in monotonic clock is 10.356356185 sec for S5/A3/GP7/PSR\n",
      "Difference in monotonic clock is 6.009344227 sec for S5/A3/GPW/ACC_UNCAL\n"
     ]
    },
    {
     "name": "stderr",
     "output_type": "stream",
     "text": [
      "/tmp/ipykernel_9105/1456734061.py:63: UserWarning: No position with valid time uncertainty found for S5/A3/GPW/ACC_UNCAL.\n",
      "  success = AlignAndIntepolate(df_fix, df_motion, ['x', 'y', 'z', 'x_bias', 'y_bias', 'z_bias'],\n"
     ]
    },
    {
     "name": "stdout",
     "output_type": "stream",
     "text": [
      "Difference in monotonic clock is 5.999582529 sec for S5/A3/GPW/GYR_UNCAL\n"
     ]
    },
    {
     "name": "stderr",
     "output_type": "stream",
     "text": [
      "/tmp/ipykernel_9105/1456734061.py:63: UserWarning: No position with valid time uncertainty found for S5/A3/GPW/GYR_UNCAL.\n",
      "  success = AlignAndIntepolate(df_fix, df_motion, ['x', 'y', 'z', 'x_bias', 'y_bias', 'z_bias'],\n"
     ]
    },
    {
     "name": "stdout",
     "output_type": "stream",
     "text": [
      "Difference in monotonic clock is 5.957131445 sec for S5/A3/GPW/MAG_UNCAL\n"
     ]
    },
    {
     "name": "stderr",
     "output_type": "stream",
     "text": [
      "/tmp/ipykernel_9105/1456734061.py:63: UserWarning: No position with valid time uncertainty found for S5/A3/GPW/MAG_UNCAL.\n",
      "  success = AlignAndIntepolate(df_fix, df_motion, ['x', 'y', 'z', 'x_bias', 'y_bias', 'z_bias'],\n"
     ]
    },
    {
     "name": "stdout",
     "output_type": "stream",
     "text": [
      "Difference in monotonic clock is 5.891956752 sec for S5/A3/GPW/PSR\n"
     ]
    },
    {
     "name": "stderr",
     "output_type": "stream",
     "text": [
      "/tmp/ipykernel_9105/1456734061.py:55: UserWarning: No position with valid time uncertainty found for S5/A3/GPW/PSR.\n",
      "  success = AlignAndIntepolate(df_fix, df_env, ['value'], output_file, survey_name)\n"
     ]
    },
    {
     "name": "stdout",
     "output_type": "stream",
     "text": [
      "Difference in monotonic clock is 0.466290647 sec for S5/A3/SW6/GYR_UNCAL\n",
      "Difference in monotonic clock is 0.466290647 sec for S5/A3/SW6/MAG_UNCAL\n",
      "Difference in monotonic clock is 0.476361448 sec for S5/A3/SW6/ACC\n",
      "Difference in monotonic clock is 0.456250364 sec for S5/A3/SW6/PSR\n",
      "--- A4 ---\n",
      "Difference in monotonic clock is 1.081637218 sec for S5/A4/A52/ACC_UNCAL\n",
      "Difference in monotonic clock is 1.029991437 sec for S5/A4/A52/GYR_UNCAL\n",
      "Difference in monotonic clock is 1.070415864 sec for S5/A4/A52/MAG_UNCAL\n",
      "Difference in monotonic clock is 11.329192448 sec for S5/A4/GP7/ACC_UNCAL\n",
      "Difference in monotonic clock is 11.329192448 sec for S5/A4/GP7/GYR_UNCAL\n",
      "Difference in monotonic clock is 11.322349333 sec for S5/A4/GP7/MAG_UNCAL\n",
      "Difference in monotonic clock is 11.306880839 sec for S5/A4/GP7/PSR\n",
      "Difference in monotonic clock is 1.920453669 sec for S5/A4/GPW/ACC_UNCAL\n"
     ]
    },
    {
     "name": "stderr",
     "output_type": "stream",
     "text": [
      "/tmp/ipykernel_9105/1456734061.py:63: UserWarning: No position with valid time uncertainty found for S5/A4/GPW/ACC_UNCAL.\n",
      "  success = AlignAndIntepolate(df_fix, df_motion, ['x', 'y', 'z', 'x_bias', 'y_bias', 'z_bias'],\n"
     ]
    },
    {
     "name": "stdout",
     "output_type": "stream",
     "text": [
      "Difference in monotonic clock is 1.910718669 sec for S5/A4/GPW/GYR_UNCAL\n"
     ]
    },
    {
     "name": "stderr",
     "output_type": "stream",
     "text": [
      "/tmp/ipykernel_9105/1456734061.py:63: UserWarning: No position with valid time uncertainty found for S5/A4/GPW/GYR_UNCAL.\n",
      "  success = AlignAndIntepolate(df_fix, df_motion, ['x', 'y', 'z', 'x_bias', 'y_bias', 'z_bias'],\n"
     ]
    },
    {
     "name": "stdout",
     "output_type": "stream",
     "text": [
      "Difference in monotonic clock is 1.879529669 sec for S5/A4/GPW/MAG_UNCAL\n"
     ]
    },
    {
     "name": "stderr",
     "output_type": "stream",
     "text": [
      "/tmp/ipykernel_9105/1456734061.py:63: UserWarning: No position with valid time uncertainty found for S5/A4/GPW/MAG_UNCAL.\n",
      "  success = AlignAndIntepolate(df_fix, df_motion, ['x', 'y', 'z', 'x_bias', 'y_bias', 'z_bias'],\n"
     ]
    },
    {
     "name": "stdout",
     "output_type": "stream",
     "text": [
      "Difference in monotonic clock is 1.795453669 sec for S5/A4/GPW/PSR\n"
     ]
    },
    {
     "name": "stderr",
     "output_type": "stream",
     "text": [
      "/tmp/ipykernel_9105/1456734061.py:55: UserWarning: No position with valid time uncertainty found for S5/A4/GPW/PSR.\n",
      "  success = AlignAndIntepolate(df_fix, df_env, ['value'], output_file, survey_name)\n"
     ]
    },
    {
     "name": "stdout",
     "output_type": "stream",
     "text": [
      "Difference in monotonic clock is 2.873703547 sec for S5/A4/SW6/GYR_UNCAL\n",
      "Difference in monotonic clock is 2.873703547 sec for S5/A4/SW6/MAG_UNCAL\n",
      "Difference in monotonic clock is 2.873703547 sec for S5/A4/SW6/ACC\n",
      "Difference in monotonic clock is 2.883774347 sec for S5/A4/SW6/PSR\n",
      "--- A5 ---\n",
      "Difference in monotonic clock is 3.863547655 sec for S5/A5/A52/ACC_UNCAL\n",
      "Difference in monotonic clock is 3.816698593 sec for S5/A5/A52/GYR_UNCAL\n",
      "Difference in monotonic clock is 3.845972134 sec for S5/A5/A52/MAG_UNCAL\n",
      "Difference in monotonic clock is 11.035215448 sec for S5/A5/GP7/ACC_UNCAL\n",
      "Difference in monotonic clock is 11.035215448 sec for S5/A5/GP7/GYR_UNCAL\n",
      "Difference in monotonic clock is 11.031025981 sec for S5/A5/GP7/MAG_UNCAL\n",
      "Difference in monotonic clock is 10.969311665 sec for S5/A5/GP7/PSR\n",
      "Difference in monotonic clock is 6.983841367 sec for S5/A5/GPW/ACC_UNCAL\n"
     ]
    },
    {
     "name": "stderr",
     "output_type": "stream",
     "text": [
      "/tmp/ipykernel_9105/1456734061.py:63: UserWarning: No position with valid time uncertainty found for S5/A5/GPW/ACC_UNCAL.\n",
      "  success = AlignAndIntepolate(df_fix, df_motion, ['x', 'y', 'z', 'x_bias', 'y_bias', 'z_bias'],\n"
     ]
    },
    {
     "name": "stdout",
     "output_type": "stream",
     "text": [
      "Difference in monotonic clock is 6.974113867 sec for S5/A5/GPW/GYR_UNCAL\n"
     ]
    },
    {
     "name": "stderr",
     "output_type": "stream",
     "text": [
      "/tmp/ipykernel_9105/1456734061.py:63: UserWarning: No position with valid time uncertainty found for S5/A5/GPW/GYR_UNCAL.\n",
      "  success = AlignAndIntepolate(df_fix, df_motion, ['x', 'y', 'z', 'x_bias', 'y_bias', 'z_bias'],\n"
     ]
    },
    {
     "name": "stdout",
     "output_type": "stream",
     "text": [
      "Difference in monotonic clock is 6.942542867 sec for S5/A5/GPW/MAG_UNCAL\n"
     ]
    },
    {
     "name": "stderr",
     "output_type": "stream",
     "text": [
      "/tmp/ipykernel_9105/1456734061.py:63: UserWarning: No position with valid time uncertainty found for S5/A5/GPW/MAG_UNCAL.\n",
      "  success = AlignAndIntepolate(df_fix, df_motion, ['x', 'y', 'z', 'x_bias', 'y_bias', 'z_bias'],\n"
     ]
    },
    {
     "name": "stdout",
     "output_type": "stream",
     "text": [
      "Difference in monotonic clock is 6.863380867 sec for S5/A5/GPW/PSR\n"
     ]
    },
    {
     "name": "stderr",
     "output_type": "stream",
     "text": [
      "/tmp/ipykernel_9105/1456734061.py:55: UserWarning: No position with valid time uncertainty found for S5/A5/GPW/PSR.\n",
      "  success = AlignAndIntepolate(df_fix, df_env, ['value'], output_file, survey_name)\n"
     ]
    },
    {
     "name": "stdout",
     "output_type": "stream",
     "text": [
      "Difference in monotonic clock is 0.139987582 sec for S5/A5/SW6/GYR_UNCAL\n",
      "Difference in monotonic clock is 0.149997347 sec for S5/A5/SW6/MAG_UNCAL\n",
      "Difference in monotonic clock is 0.139987582 sec for S5/A5/SW6/ACC\n",
      "Difference in monotonic clock is 0.149997347 sec for S5/A5/SW6/PSR\n",
      "--- A6 ---\n",
      "Difference in monotonic clock is 2.300947552 sec for S5/A6/A52/ACC_UNCAL\n",
      "Difference in monotonic clock is 2.249228698 sec for S5/A6/A52/GYR_UNCAL\n",
      "Difference in monotonic clock is 2.285357291 sec for S5/A6/A52/MAG_UNCAL\n",
      "Difference in monotonic clock is 14.627257534 sec for S5/A6/GP7/ACC_UNCAL\n",
      "Difference in monotonic clock is 14.639065836 sec for S5/A6/GP7/GYR_UNCAL\n",
      "Difference in monotonic clock is 14.631802466 sec for S5/A6/GP7/MAG_UNCAL\n",
      "Difference in monotonic clock is 14.590881311 sec for S5/A6/GP7/PSR\n",
      "Difference in monotonic clock is 8.955223365 sec for S5/A6/GPW/ACC_UNCAL\n"
     ]
    },
    {
     "name": "stderr",
     "output_type": "stream",
     "text": [
      "/tmp/ipykernel_9105/1456734061.py:63: UserWarning: No position with valid time uncertainty found for S5/A6/GPW/ACC_UNCAL.\n",
      "  success = AlignAndIntepolate(df_fix, df_motion, ['x', 'y', 'z', 'x_bias', 'y_bias', 'z_bias'],\n"
     ]
    },
    {
     "name": "stdout",
     "output_type": "stream",
     "text": [
      "Difference in monotonic clock is 8.935752865 sec for S5/A6/GPW/GYR_UNCAL\n"
     ]
    },
    {
     "name": "stderr",
     "output_type": "stream",
     "text": [
      "/tmp/ipykernel_9105/1456734061.py:63: UserWarning: No position with valid time uncertainty found for S5/A6/GPW/GYR_UNCAL.\n",
      "  success = AlignAndIntepolate(df_fix, df_motion, ['x', 'y', 'z', 'x_bias', 'y_bias', 'z_bias'],\n"
     ]
    },
    {
     "name": "stdout",
     "output_type": "stream",
     "text": [
      "Difference in monotonic clock is 8.909538865 sec for S5/A6/GPW/MAG_UNCAL\n"
     ]
    },
    {
     "name": "stderr",
     "output_type": "stream",
     "text": [
      "/tmp/ipykernel_9105/1456734061.py:63: UserWarning: No position with valid time uncertainty found for S5/A6/GPW/MAG_UNCAL.\n",
      "  success = AlignAndIntepolate(df_fix, df_motion, ['x', 'y', 'z', 'x_bias', 'y_bias', 'z_bias'],\n"
     ]
    },
    {
     "name": "stdout",
     "output_type": "stream",
     "text": [
      "Difference in monotonic clock is 8.738602865 sec for S5/A6/GPW/PSR\n"
     ]
    },
    {
     "name": "stderr",
     "output_type": "stream",
     "text": [
      "/tmp/ipykernel_9105/1456734061.py:55: UserWarning: No position with valid time uncertainty found for S5/A6/GPW/PSR.\n",
      "  success = AlignAndIntepolate(df_fix, df_env, ['value'], output_file, survey_name)\n"
     ]
    },
    {
     "name": "stdout",
     "output_type": "stream",
     "text": [
      "Difference in monotonic clock is 0.615772288 sec for S5/A6/SW6/GYR_UNCAL\n",
      "Difference in monotonic clock is 0.605701487 sec for S5/A6/SW6/MAG_UNCAL\n",
      "Difference in monotonic clock is 0.615772288 sec for S5/A6/SW6/ACC\n",
      "Difference in monotonic clock is 0.605701487 sec for S5/A6/SW6/PSR\n",
      "--- notes.txt ---\n"
     ]
    }
   ],
   "source": [
    "# Apply interpolation to all files\n",
    "\n",
    "tags = ['Fix', 'ACC_UNCAL', 'GYR_UNCAL', 'MAG_UNCAL', 'ACC', 'PSR']\n",
    "\n",
    "#dataset_folder = \"/mnt/c/Users/vmangr/OneDrive - TUNI.fi/Shared/GEOLOC/dataset/\"\n",
    "dataset_folder = \"/mnt/c/Users/Antoine/OneDrive - TUNI.fi/Shared/GEOLOC/dataset/\"\n",
    "survey_list = os.listdir(dataset_folder)\n",
    "\n",
    "exclude_survey = ['.archive'] # 'S1', 'S2', 'S3', 'S4', 'S5'\n",
    "exclude_acquisition = ['Novatel_reference_for_A7_to_A10'] # 'A1', 'A2', 'A3', 'A4', 'A5', 'A6', 'A7', 'A9', 'A10'\n",
    "exclude_device = ['UA', 'U1', 'AWINDA'] #'A52', 'GP7', 'GPW' 'GP7', 'GPW', 'SW6',\n",
    "\n",
    "for survey in survey_list:\n",
    "    print(f'=== {survey} ===', flush=True)\n",
    "    survey_folder = f\"{dataset_folder}{survey}/\"\n",
    "    if not os.path.isdir(f\"{survey_folder}\") or survey in exclude_survey:\n",
    "        continue\n",
    "    acq_list = os.listdir(survey_folder)\n",
    "    for acq in acq_list:\n",
    "        print(f'--- {acq} ---', flush=True)\n",
    "        device_folder = f\"{survey_folder}{acq}/\"\n",
    "        if not os.path.isdir(f\"{device_folder}\") or acq in exclude_acquisition:\n",
    "            continue\n",
    "        device_list = os.listdir(device_folder)\n",
    "        for device in device_list:\n",
    "            log_folder = f\"{device_folder}{device}/\"\n",
    "            if device in exclude_device:\n",
    "                continue\n",
    "            file_list = os.listdir(log_folder)\n",
    "            if not file_list:\n",
    "                continue\n",
    "            file_list = os.listdir(log_folder)\n",
    "            for file in file_list:\n",
    "                if \"log_mimir\" in file:\n",
    "                    log = file\n",
    "                    break\n",
    "            logfile = f\"{log_folder}{log}\"\n",
    "            log = LogReader(\n",
    "                    manufacturer=\"\", device=\"\", acronym=device, specifiedTags=tags, \n",
    "                    filepath=f\"{logfile}\", mode='old')\n",
    "            for tag in tags:\n",
    "                success = -2\n",
    "                output_file = f\"{log_folder}{tag}_resampled.csv\"\n",
    "                survey_name = f\"{survey}/{acq}/{device}/{tag}\"\n",
    "                try:\n",
    "                    df_fix = log.fix\n",
    "                except AttributeError:\n",
    "                    print(f\"Survey {survey_name} - Missing log.fix\", flush=True)\n",
    "                    continue\n",
    "                if tag == 'Fix':\n",
    "                    continue\n",
    "                elif tag == 'PSR':\n",
    "                    if not log.env.empty:\n",
    "                        df_env = log.env.loc[log.env['sensor'] == tag]\n",
    "                        success = AlignAndIntepolate(df_fix, df_env, ['value'], output_file, survey_name)\n",
    "                elif tag in ['ACC', 'GYR', 'MAG']: \n",
    "                    df_motion = log.motion.loc[log.motion['sensor'] == tag]\n",
    "                    if not df_motion.empty:\n",
    "                        success = AlignAndIntepolate(df_fix, df_motion, ['x', 'y', 'z'], output_file, survey_name)\n",
    "                elif tag in ['ACC_UNCAL', 'GYR_UNCAL', 'MAG_UNCAL']:\n",
    "                    df_motion = log.motion.loc[log.motion['sensor'] == tag]\n",
    "                    if not df_motion.empty:\n",
    "                        success = AlignAndIntepolate(df_fix, df_motion, ['x', 'y', 'z', 'x_bias', 'y_bias', 'z_bias'], \n",
    "                                           output_file, survey_name)\n",
    "                else:\n",
    "                    warnings.warn(f\"Invalid tag {tag}\")\n",
    "                # if success == 0:\n",
    "                #     print(f\"Survey {survey_name} - Done\", flush=True)\n",
    "                # elif success == -1:\n",
    "                #     print(f\"Survey {survey_name} - Aborted\", flush=True)\n",
    "                # elif success == -2:\n",
    "                #     print(f\"Survey {survey_name} - Not processed\", flush=True)"
   ]
  },
  {
   "cell_type": "markdown",
   "metadata": {},
   "source": [
    "## IMU ONLY"
   ]
  },
  {
   "cell_type": "code",
   "execution_count": null,
   "metadata": {},
   "outputs": [],
   "source": [
    "log_folder = \"/mnt/c/Users/Antoine/OneDrive - TUNI.fi/Shared/GEOLOC/calibration/20240306/GP7\"\n",
    "logfile = f\"{log_folder}/log_mimir_20240306090603.txt\"\n",
    "tags = ['Fix', 'ACC_UNCAL', 'GYR_UNCAL', 'MAG_UNCAL', 'ACC', 'PSR']\n",
    "log = LogReader(manufacturer=\"\", device=\"\", acronym=\"\", specifiedTags=tags, filepath=f\"{logfile}\", mode='old')"
   ]
  },
  {
   "cell_type": "code",
   "execution_count": 2,
   "metadata": {},
   "outputs": [],
   "source": [
    "def AlignAndIntepolate_IMUOnly(_df_motion, columns, output_file):\n",
    "    \"\"\"\n",
    "    Align IMU measurement to GPS TOW based on fix measurements and interpolate to regular steps.\n",
    "    \"\"\"\n",
    "    \n",
    "    # Prepare motion sensors\n",
    "    df_motion = _df_motion[['elapsedRealtime', 'timestamp'] + columns]\n",
    "    df_motion = df_motion.rename(columns={'elapsedRealtime': 'elapsedTime'})\n",
    "\n",
    "    # Interpolate to regular step\n",
    "    time_range = np.arange(\n",
    "            int(int(np.ceil(df_motion['elapsedTime'].iloc[0]/1e6))*1e6), \n",
    "            int(int(np.floor(df_motion['elapsedTime'].iloc[-1]/1e6))*1e6), 5000000)\n",
    "    mdict = {'elapsedTime':time_range}\n",
    "    discard_column = ['elapsedTime', 'timestamp']\n",
    "    for column in df_motion:\n",
    "        if column in discard_column:\n",
    "            continue               \n",
    "        \n",
    "        val_interp_fct = sp.interpolate.interp1d(x=df_motion['elapsedTime'], y=df_motion[column], kind='linear')\n",
    "        value_resampled = val_interp_fct(time_range)\n",
    "        mdict[column] = value_resampled\n",
    "\n",
    "    df_resampled = pd.DataFrame(mdict)\n",
    "\n",
    "    # Change to relative time\n",
    "    df_resampled['elapsedTime'] = df_resampled['elapsedTime'] - df_resampled['elapsedTime'].iloc[0]\n",
    "\n",
    "    # Export to file\n",
    "    df_resampled.to_csv(output_file, index=False, float_format='{:.10f}'.format)\n",
    "\n",
    "    del df_resampled\n",
    "\n",
    "    return\n"
   ]
  },
  {
   "cell_type": "code",
   "execution_count": 4,
   "metadata": {},
   "outputs": [
    {
     "name": "stdout",
     "output_type": "stream",
     "text": [
      "Survey ACC - Not processed\n"
     ]
    }
   ],
   "source": [
    "device_folder = \"/mnt/c/Users/Antoine/OneDrive - TUNI.fi/Shared/GEOLOC/calibration/20240418/\"\n",
    "tags = ['ACC_UNCAL', 'GYR_UNCAL', 'MAG_UNCAL', 'ACC']\n",
    "device_list = ['GPW']\n",
    "exclude_device = []\n",
    "for device in device_list:\n",
    "    if device in exclude_device:\n",
    "        continue\n",
    "    log_folder = f\"{device_folder}{device}/\"\n",
    "    file_list = os.listdir(log_folder)\n",
    "    if not file_list:\n",
    "        continue\n",
    "    file_list = os.listdir(log_folder)\n",
    "    for file in file_list:\n",
    "        if \"log_mimir\" in file:\n",
    "            log = file\n",
    "            break\n",
    "    logfile = f\"{log_folder}{log}\"\n",
    "    log = LogReader(manufacturer=\"\", device=\"\", acronym=\"\", specifiedTags=tags, filepath=f\"{logfile}\", mode='old')\n",
    "    for tag in tags:\n",
    "        success = -2\n",
    "        output_file = f\"{log_folder}/{tag}_resampled.csv\"\n",
    "        if tag == 'Fix':\n",
    "            continue\n",
    "        elif tag == 'PSR':\n",
    "            if not log.env.empty:\n",
    "                df_env = log.env.loc[log.env['sensor'] == tag]\n",
    "                success = AlignAndIntepolate_IMUOnly(df_env, ['value'], output_file)\n",
    "        elif tag in ['ACC', 'GYR', 'MAG']: \n",
    "            df_motion = log.motion.loc[log.motion['sensor'] == tag]\n",
    "            if not df_motion.empty:\n",
    "                success = AlignAndIntepolate_IMUOnly(df_motion, ['x', 'y', 'z'], output_file)\n",
    "        elif tag in ['ACC_UNCAL', 'GYR_UNCAL', 'MAG_UNCAL']:\n",
    "            df_motion = log.motion.loc[log.motion['sensor'] == tag]\n",
    "            if not df_motion.empty:\n",
    "                success = AlignAndIntepolate_IMUOnly(df_motion, ['x', 'y', 'z', 'x_bias', 'y_bias', 'z_bias'], output_file)\n",
    "        else:\n",
    "            warnings.warn(f\"Invalid tag {tag}\")\n",
    "        if success == 0:\n",
    "            print(f\"Survey {tag} - Done\", flush=True)\n",
    "        elif success == -1:\n",
    "            print(f\"Survey {tag} - Aborted\", flush=True)\n",
    "        elif success == -2:\n",
    "            print(f\"Survey {tag} - Not processed\", flush=True)"
   ]
  },
  {
   "cell_type": "code",
   "execution_count": 3,
   "metadata": {},
   "outputs": [
    {
     "name": "stdout",
     "output_type": "stream",
     "text": [
      "GPW done\n",
      "GPW done\n",
      "GPW done\n",
      "GPW done\n"
     ]
    }
   ],
   "source": [
    "# To divide log file\n",
    "import os\n",
    "device_folder = \"/mnt/c/Users/Antoine/OneDrive - TUNI.fi/Shared/GEOLOC/calibration/20240418/\"\n",
    "device_list = ['GPW']\n",
    "tags = ['ACC_UNCAL', 'GYR_UNCAL', 'MAG_UNCAL', 'ACC']\n",
    "exclude_device = []\n",
    "for device in device_list:\n",
    "    if device in exclude_device:\n",
    "        continue\n",
    "    log_folder = f\"{device_folder}{device}/\"\n",
    "    file_list = os.listdir(log_folder)\n",
    "    if not file_list:\n",
    "        continue\n",
    "    for file in file_list:\n",
    "        if \".csv\" in file:\n",
    "            os.remove(f\"{log_folder}{file}\")\n",
    "    log = os.listdir(log_folder)\n",
    "    if \"log_mimir\" not in log[0]:\n",
    "        continue\n",
    "    logfile = f\"{log_folder}{log[0]}\"\n",
    "    for tag in tags:\n",
    "        tagfile = f\"{log_folder}{tag}.csv\"\n",
    "        #command = f\"awk -F , '$1 == \\\"ACC_UNCAL\\\" {{print $2\\\",\\\"$4\\\",\\\"$5\\\",\\\"$6}}' {input_folder}{mfile} > {output_folder}{mfile[:-4]}_ACC_UNCAL.txt\"\n",
    "        #command = f\"awk -F , '$1 == \\\"{tag}\\\" {{print}}' \\\"{logfile}\\\" > \\\"{tagfile}\\\"\"\n",
    "        command = f\"awk -F , '$1 == \\\"{tag}\\\" {{ print >> \\\"{tagfile}\\\"}}' \\\"{logfile}\\\"\"\n",
    "        os.system(f'{command}')\n",
    "        print(f\"{device} done\")"
   ]
  },
  {
   "cell_type": "markdown",
   "metadata": {},
   "source": [
    "# MISC"
   ]
  },
  {
   "cell_type": "code",
   "execution_count": null,
   "metadata": {},
   "outputs": [
    {
     "data": {
      "text/plain": [
       "<Axes: >"
      ]
     },
     "execution_count": 73,
     "metadata": {},
     "output_type": "execute_result"
    },
    {
     "data": {
      "image/png": "[encoded data removed]",
      "text/plain": [
       "<Figure size 640x480 with 1 Axes>"
      ]
     },
     "metadata": {},
     "output_type": "display_data"
    }
   ],
   "source": [
    "elapse = ((log.motion['elapsedRealtime'] - log.motion['elapsedRealtime'][0]) / 1e9)\n",
    "timestamp = (log.motion['timestamp'] - log.motion['timestamp'][0])\n",
    "(elapse - timestamp).plot()"
   ]
  },
  {
   "cell_type": "code",
   "execution_count": null,
   "metadata": {},
   "outputs": [
    {
     "data": {
      "text/plain": [
       "<Axes: xlabel='datetime'>"
      ]
     },
     "execution_count": 88,
     "metadata": {},
     "output_type": "execute_result"
    },
    {
     "data": {
      "image/png": "[encoded data removed]",
      "text/plain": [
       "<Figure size 640x480 with 1 Axes>"
      ]
     },
     "metadata": {},
     "output_type": "display_data"
    }
   ],
   "source": [
    "df_fix = log.fix.loc[log.fix[\"provider\"] == 'GPS']\n",
    "\n",
    "elapse = (df_fix['elapsedTime'] - df_fix['elapsedTime'][0]) / 1e9\n",
    "timestamp = (df_fix['unixTime'] - df_fix['unixTime'][0]) / 1e3\n",
    "(elapse - timestamp).iloc[:].plot()"
   ]
  },
  {
   "cell_type": "code",
   "execution_count": null,
   "metadata": {},
   "outputs": [
    {
     "ename": "NameError",
     "evalue": "name 'time_df' is not defined",
     "output_type": "error",
     "traceback": [
      "\u001b[0;31m---------------------------------------------------------------------------\u001b[0m",
      "\u001b[0;31mNameError\u001b[0m                                 Traceback (most recent call last)",
      "Cell \u001b[0;32mIn[9], line 4\u001b[0m\n\u001b[1;32m      2\u001b[0m df_motion \u001b[38;5;241m=\u001b[39m log\u001b[38;5;241m.\u001b[39mmotion[[\u001b[38;5;124m'\u001b[39m\u001b[38;5;124mtimestamp\u001b[39m\u001b[38;5;124m'\u001b[39m, \u001b[38;5;124m'\u001b[39m\u001b[38;5;124mx\u001b[39m\u001b[38;5;124m'\u001b[39m, \u001b[38;5;124m'\u001b[39m\u001b[38;5;124my\u001b[39m\u001b[38;5;124m'\u001b[39m, \u001b[38;5;124m'\u001b[39m\u001b[38;5;124mz\u001b[39m\u001b[38;5;124m'\u001b[39m, \u001b[38;5;124m'\u001b[39m\u001b[38;5;124mx_uncal\u001b[39m\u001b[38;5;124m'\u001b[39m, \u001b[38;5;124m'\u001b[39m\u001b[38;5;124my_uncal\u001b[39m\u001b[38;5;124m'\u001b[39m, \u001b[38;5;124m'\u001b[39m\u001b[38;5;124mz_uncal\u001b[39m\u001b[38;5;124m'\u001b[39m]]\u001b[38;5;241m.\u001b[39mcopy()\n\u001b[1;32m      3\u001b[0m df_motion[\u001b[38;5;124m'\u001b[39m\u001b[38;5;124mtimestamp_corrected\u001b[39m\u001b[38;5;124m'\u001b[39m] \u001b[38;5;241m=\u001b[39m df_motion[\u001b[38;5;124m'\u001b[39m\u001b[38;5;124mtimestamp\u001b[39m\u001b[38;5;124m'\u001b[39m]  \n\u001b[0;32m----> 4\u001b[0m df_time \u001b[38;5;241m=\u001b[39m \u001b[43mtime_df\u001b[49m[[\u001b[38;5;124m'\u001b[39m\u001b[38;5;124msystem_unix\u001b[39m\u001b[38;5;124m'\u001b[39m, \u001b[38;5;124m'\u001b[39m\u001b[38;5;124mtime_correction\u001b[39m\u001b[38;5;124m'\u001b[39m]]\n\u001b[1;32m      5\u001b[0m df_time \u001b[38;5;241m=\u001b[39m df_time\u001b[38;5;241m.\u001b[39mrename(columns\u001b[38;5;241m=\u001b[39m{\u001b[38;5;124m'\u001b[39m\u001b[38;5;124msystem_unix\u001b[39m\u001b[38;5;124m'\u001b[39m: \u001b[38;5;124m'\u001b[39m\u001b[38;5;124mtimestamp\u001b[39m\u001b[38;5;124m'\u001b[39m})\n\u001b[1;32m      7\u001b[0m \u001b[38;5;66;03m# Ensure timestamps are set as index in both DataFrames\u001b[39;00m\n",
      "\u001b[0;31mNameError\u001b[0m: name 'time_df' is not defined"
     ]
    }
   ],
   "source": [
    "# Correct the time values\n",
    "df_motion = log.motion[['timestamp', 'x', 'y', 'z', 'x_uncal', 'y_uncal', 'z_uncal']].copy()\n",
    "df_motion['timestamp_corrected'] = df_motion['timestamp']  \n",
    "df_time = time_df[['system_unix', 'time_correction']]\n",
    "df_time = df_time.rename(columns={'system_unix': 'timestamp'})\n",
    "\n",
    "# Ensure timestamps are set as index in both DataFrames\n",
    "df_motion = df_motion.set_index('timestamp')\n",
    "df_time = df_time.set_index('timestamp')\n",
    "\n",
    "# Create a merged dataframe\n",
    "merged_df = df_motion.merge(df_time, how='outer', left_index=True, right_index=True)\n",
    "\n",
    "# Interpolate the correction values to all the dataframe\n",
    "merged_df['time_correction'] = merged_df['time_correction'].interpolate('index')\n",
    "\n",
    "# Remove first rows because we don't know the clock error yet. Check if too many rows remove (more than 30 seconds)\n",
    "if(merged_df.index[0] - merged_df.dropna().index[0]) > 30:\n",
    "    raise Warning(\"Many row dropped during interpolation.\")\n",
    "merged_df.dropna(inplace=True)\n",
    "\n",
    "# Apply time correction to timestamps\n",
    "merged_df['timestamp_corrected'] += merged_df['time_correction']\n",
    "\n",
    "# Convert to datetime index\n",
    "index = (merged_df.index*1e9).astype(int)\n",
    "merged_df.index = pd.to_datetime(index, origin='unix', unit='ns')\n",
    "\n",
    "merged_df.index"
   ]
  },
  {
   "cell_type": "code",
   "execution_count": null,
   "metadata": {},
   "outputs": [
    {
     "data": {
      "text/html": [
       "<div>\n",
       "<style scoped>\n",
       "    .dataframe tbody tr th:only-of-type {\n",
       "        vertical-align: middle;\n",
       "    }\n",
       "\n",
       "    .dataframe tbody tr th {\n",
       "        vertical-align: top;\n",
       "    }\n",
       "\n",
       "    .dataframe thead th {\n",
       "        text-align: right;\n",
       "    }\n",
       "</style>\n",
       "<table border=\"1\" class=\"dataframe\">\n",
       "  <thead>\n",
       "    <tr style=\"text-align: right;\">\n",
       "      <th></th>\n",
       "      <th>timestamp_gps</th>\n",
       "      <th>elapsedTime</th>\n",
       "      <th>elapsedTimeUncertainty</th>\n",
       "    </tr>\n",
       "    <tr>\n",
       "      <th>datetime</th>\n",
       "      <th></th>\n",
       "      <th></th>\n",
       "      <th></th>\n",
       "    </tr>\n",
       "  </thead>\n",
       "  <tbody>\n",
       "    <tr>\n",
       "      <th>2024-03-14 09:47:26.266</th>\n",
       "      <td>1710409646266.000000</td>\n",
       "      <td>154065635305518.000000</td>\n",
       "      <td>200000000.000000</td>\n",
       "    </tr>\n",
       "    <tr>\n",
       "      <th>2024-03-14 09:47:27.266</th>\n",
       "      <td>1710409647266.000000</td>\n",
       "      <td>154066628053402.000000</td>\n",
       "      <td>200000000.000000</td>\n",
       "    </tr>\n",
       "    <tr>\n",
       "      <th>2024-03-14 09:47:28.259</th>\n",
       "      <td>1710409648259.000000</td>\n",
       "      <td>154067682841773.000000</td>\n",
       "      <td>200000000.000000</td>\n",
       "    </tr>\n",
       "    <tr>\n",
       "      <th>2024-03-14 09:47:29.259</th>\n",
       "      <td>1710409649259.000000</td>\n",
       "      <td>154068652262672.000000</td>\n",
       "      <td>200000000.000000</td>\n",
       "    </tr>\n",
       "    <tr>\n",
       "      <th>2024-03-14 09:47:30.259</th>\n",
       "      <td>1710409650259.000000</td>\n",
       "      <td>154069657133075.000000</td>\n",
       "      <td>200000000.000000</td>\n",
       "    </tr>\n",
       "    <tr>\n",
       "      <th>...</th>\n",
       "      <td>...</td>\n",
       "      <td>...</td>\n",
       "      <td>...</td>\n",
       "    </tr>\n",
       "    <tr>\n",
       "      <th>2024-03-14 09:57:37.999</th>\n",
       "      <td>1710410257999.000000</td>\n",
       "      <td>154677312642000.000000</td>\n",
       "      <td>100000.000000</td>\n",
       "    </tr>\n",
       "    <tr>\n",
       "      <th>2024-03-14 09:57:38.999</th>\n",
       "      <td>1710410258999.000000</td>\n",
       "      <td>154678312318000.000000</td>\n",
       "      <td>100000.000000</td>\n",
       "    </tr>\n",
       "    <tr>\n",
       "      <th>2024-03-14 09:57:39.999</th>\n",
       "      <td>1710410259999.000000</td>\n",
       "      <td>154679312348000.000000</td>\n",
       "      <td>100000.000000</td>\n",
       "    </tr>\n",
       "    <tr>\n",
       "      <th>2024-03-14 09:57:40.999</th>\n",
       "      <td>1710410260999.000000</td>\n",
       "      <td>154680312308000.000000</td>\n",
       "      <td>100000.000000</td>\n",
       "    </tr>\n",
       "    <tr>\n",
       "      <th>2024-03-14 09:57:41.999</th>\n",
       "      <td>1710410261999.000000</td>\n",
       "      <td>154681312375000.000000</td>\n",
       "      <td>100000.000000</td>\n",
       "    </tr>\n",
       "  </tbody>\n",
       "</table>\n",
       "<p>616 rows × 3 columns</p>\n",
       "</div>"
      ],
      "text/plain": [
       "                               timestamp_gps            elapsedTime  \\\n",
       "datetime                                                              \n",
       "2024-03-14 09:47:26.266 1710409646266.000000 154065635305518.000000   \n",
       "2024-03-14 09:47:27.266 1710409647266.000000 154066628053402.000000   \n",
       "2024-03-14 09:47:28.259 1710409648259.000000 154067682841773.000000   \n",
       "2024-03-14 09:47:29.259 1710409649259.000000 154068652262672.000000   \n",
       "2024-03-14 09:47:30.259 1710409650259.000000 154069657133075.000000   \n",
       "...                                      ...                    ...   \n",
       "2024-03-14 09:57:37.999 1710410257999.000000 154677312642000.000000   \n",
       "2024-03-14 09:57:38.999 1710410258999.000000 154678312318000.000000   \n",
       "2024-03-14 09:57:39.999 1710410259999.000000 154679312348000.000000   \n",
       "2024-03-14 09:57:40.999 1710410260999.000000 154680312308000.000000   \n",
       "2024-03-14 09:57:41.999 1710410261999.000000 154681312375000.000000   \n",
       "\n",
       "                         elapsedTimeUncertainty  \n",
       "datetime                                         \n",
       "2024-03-14 09:47:26.266        200000000.000000  \n",
       "2024-03-14 09:47:27.266        200000000.000000  \n",
       "2024-03-14 09:47:28.259        200000000.000000  \n",
       "2024-03-14 09:47:29.259        200000000.000000  \n",
       "2024-03-14 09:47:30.259        200000000.000000  \n",
       "...                                         ...  \n",
       "2024-03-14 09:57:37.999           100000.000000  \n",
       "2024-03-14 09:57:38.999           100000.000000  \n",
       "2024-03-14 09:57:39.999           100000.000000  \n",
       "2024-03-14 09:57:40.999           100000.000000  \n",
       "2024-03-14 09:57:41.999           100000.000000  \n",
       "\n",
       "[616 rows x 3 columns]"
      ]
     },
     "execution_count": 8,
     "metadata": {},
     "output_type": "execute_result"
    }
   ],
   "source": [
    "import gps_time\n",
    "import numpy as np\n",
    "import pandas as pd\n",
    "from datetime import datetime\n",
    "\n",
    "# Load log files\n",
    "folder = \"/mnt/c/Users/vmangr/Documents/Datasets/AndroidDevices/dataset_GEOLOC_20240319/dataset/S3/A2\"\n",
    "device = 'GP7'\n",
    "file = [file for file in os.listdir(f\"{folder}/{device}\") if \"log_mimir\" in file][0]\n",
    "\n",
    "tags = ['Fix', 'GYR_UNCAL', 'Raw']\n",
    "\n",
    "log = LogReader(manufacturer=\"\", device=\"\", acronym=device, specifiedTags=tags, filepath=f\"{folder}/{device}/{file}\", mode='old')\n",
    "\n",
    "\n",
    "df_fix = log.fix.loc[log.fix[\"provider\"] == 'GPS']\n",
    "df_fix = df_fix[['unixTime', 'elapsedTime', 'elapsedTimeUncertainty']]\n",
    "df_fix = df_fix.rename(columns={'unixTime': 'timestamp_gps'})\n",
    "df_fix"
   ]
  },
  {
   "cell_type": "code",
   "execution_count": null,
   "metadata": {},
   "outputs": [],
   "source": [
    "\n",
    "df = log.raw\n",
    "\n",
    "# Select only GPS satellites\n",
    "df = df.drop(df[df['ConstellationType'] != 1].index)\n",
    "\n",
    "# Select only with suitable TOW\n",
    "df = df.drop(df[df['State'] & 2^3 == 0].index)\n",
    "\n",
    "# Only keep the first value of GPS time written (closest to the Unix time)\n",
    "df = df.drop_duplicates(['TimeNanos'], keep='first')\n",
    "\n",
    "# Find received time\n",
    "week = 2305\n",
    "WEEK_NANOS = 604800000000000\n",
    "fullbiasnanos = df['FullBiasNanos'][0]\n",
    "biasnanos = df['BiasNanos'][0]\n",
    "t_rx_gps = (df['TimeNanos'] - (fullbiasnanos + biasnanos)).to_numpy()\n",
    "t_rx_gps = t_rx_gps % WEEK_NANOS / 1e9\n",
    "t_rx_time = [gps_time.GPSTime(week_number=week, time_of_week=time).to_datetime() for time in t_rx_gps]\n",
    "t_rx_unix = [time.timestamp() for time in t_rx_time]\n",
    "\n",
    "system_unix = df['timestamp'].to_numpy()\n",
    "system_time = [datetime.fromtimestamp(time) for time in system_unix]\n",
    "\n",
    "time_correction = -(system_unix - t_rx_unix + 18 - 2 * 3600) \n",
    "\n",
    "time_df = pd.DataFrame({'system_unix': system_unix, \n",
    "                        'system_time': system_time,\n",
    "                        'gps_unix': t_rx_unix, \n",
    "                        'gps_time': t_rx_time,\n",
    "                        'time_correction': time_correction,\n",
    "                        'elapsedTime': df['ChipsetElapsedRealtimeNanos']})\n",
    "df_fix\n",
    "#time_df['time_correction'].plot()"
   ]
  },
  {
   "cell_type": "code",
   "execution_count": null,
   "metadata": {},
   "outputs": [
    {
     "data": {
      "text/html": [
       "<div>\n",
       "<style scoped>\n",
       "    .dataframe tbody tr th:only-of-type {\n",
       "        vertical-align: middle;\n",
       "    }\n",
       "\n",
       "    .dataframe tbody tr th {\n",
       "        vertical-align: top;\n",
       "    }\n",
       "\n",
       "    .dataframe thead th {\n",
       "        text-align: right;\n",
       "    }\n",
       "</style>\n",
       "<table border=\"1\" class=\"dataframe\">\n",
       "  <thead>\n",
       "    <tr style=\"text-align: right;\">\n",
       "      <th></th>\n",
       "      <th>datetime</th>\n",
       "      <th>timestamp_gps</th>\n",
       "      <th>elapsedTime</th>\n",
       "    </tr>\n",
       "  </thead>\n",
       "  <tbody>\n",
       "    <tr>\n",
       "      <th>10</th>\n",
       "      <td>2024-03-14 09:47:21</td>\n",
       "      <td>1710409641000.000000</td>\n",
       "      <td>171960689837940.000000</td>\n",
       "    </tr>\n",
       "    <tr>\n",
       "      <th>11</th>\n",
       "      <td>2024-03-14 09:47:22</td>\n",
       "      <td>1710409642000.000000</td>\n",
       "      <td>171961693083502.000000</td>\n",
       "    </tr>\n",
       "    <tr>\n",
       "      <th>12</th>\n",
       "      <td>2024-03-14 09:47:23</td>\n",
       "      <td>1710409643000.000000</td>\n",
       "      <td>171962692677179.000000</td>\n",
       "    </tr>\n",
       "    <tr>\n",
       "      <th>13</th>\n",
       "      <td>2024-03-14 09:47:24</td>\n",
       "      <td>1710409644000.000000</td>\n",
       "      <td>171963675651008.000000</td>\n",
       "    </tr>\n",
       "    <tr>\n",
       "      <th>14</th>\n",
       "      <td>2024-03-14 09:47:25</td>\n",
       "      <td>1710409645000.000000</td>\n",
       "      <td>171964684347455.000000</td>\n",
       "    </tr>\n",
       "    <tr>\n",
       "      <th>15</th>\n",
       "      <td>2024-03-14 09:47:26</td>\n",
       "      <td>1710409646000.000000</td>\n",
       "      <td>171965699268403.000000</td>\n",
       "    </tr>\n",
       "    <tr>\n",
       "      <th>16</th>\n",
       "      <td>2024-03-14 09:47:27</td>\n",
       "      <td>1710409647000.000000</td>\n",
       "      <td>171966687100079.000000</td>\n",
       "    </tr>\n",
       "    <tr>\n",
       "      <th>17</th>\n",
       "      <td>2024-03-14 09:47:28</td>\n",
       "      <td>1710409648000.000000</td>\n",
       "      <td>171967693623141.000000</td>\n",
       "    </tr>\n",
       "    <tr>\n",
       "      <th>18</th>\n",
       "      <td>2024-03-14 09:47:29</td>\n",
       "      <td>1710409649000.000000</td>\n",
       "      <td>171968692102972.000000</td>\n",
       "    </tr>\n",
       "    <tr>\n",
       "      <th>19</th>\n",
       "      <td>2024-03-14 09:47:30</td>\n",
       "      <td>1710409650000.000000</td>\n",
       "      <td>171969695449841.000000</td>\n",
       "    </tr>\n",
       "    <tr>\n",
       "      <th>20</th>\n",
       "      <td>2024-03-14 09:47:31</td>\n",
       "      <td>1710409651000.000000</td>\n",
       "      <td>171970691463749.000000</td>\n",
       "    </tr>\n",
       "    <tr>\n",
       "      <th>21</th>\n",
       "      <td>2024-03-14 09:47:32</td>\n",
       "      <td>1710409652000.000000</td>\n",
       "      <td>171971692127310.000000</td>\n",
       "    </tr>\n",
       "    <tr>\n",
       "      <th>22</th>\n",
       "      <td>2024-03-14 09:47:33</td>\n",
       "      <td>1710409653000.000000</td>\n",
       "      <td>171972697775642.000000</td>\n",
       "    </tr>\n",
       "    <tr>\n",
       "      <th>23</th>\n",
       "      <td>2024-03-14 09:47:34</td>\n",
       "      <td>1710409654000.000000</td>\n",
       "      <td>171973697105126.000000</td>\n",
       "    </tr>\n",
       "    <tr>\n",
       "      <th>24</th>\n",
       "      <td>2024-03-14 09:47:35</td>\n",
       "      <td>1710409655000.000000</td>\n",
       "      <td>171974693373572.000000</td>\n",
       "    </tr>\n",
       "    <tr>\n",
       "      <th>25</th>\n",
       "      <td>2024-03-14 09:47:36</td>\n",
       "      <td>1710409656000.000000</td>\n",
       "      <td>171975697508096.000000</td>\n",
       "    </tr>\n",
       "    <tr>\n",
       "      <th>26</th>\n",
       "      <td>2024-03-14 09:47:37</td>\n",
       "      <td>1710409657000.000000</td>\n",
       "      <td>171976719635044.000000</td>\n",
       "    </tr>\n",
       "    <tr>\n",
       "      <th>27</th>\n",
       "      <td>2024-03-14 09:47:38</td>\n",
       "      <td>1710409658000.000000</td>\n",
       "      <td>171977727980183.000000</td>\n",
       "    </tr>\n",
       "    <tr>\n",
       "      <th>28</th>\n",
       "      <td>2024-03-14 09:47:39</td>\n",
       "      <td>1710409659000.000000</td>\n",
       "      <td>171978718626282.000000</td>\n",
       "    </tr>\n",
       "    <tr>\n",
       "      <th>29</th>\n",
       "      <td>2024-03-14 09:47:40</td>\n",
       "      <td>1710409660000.000000</td>\n",
       "      <td>171979729643768.000000</td>\n",
       "    </tr>\n",
       "  </tbody>\n",
       "</table>\n",
       "</div>"
      ],
      "text/plain": [
       "              datetime        timestamp_gps            elapsedTime\n",
       "10 2024-03-14 09:47:21 1710409641000.000000 171960689837940.000000\n",
       "11 2024-03-14 09:47:22 1710409642000.000000 171961693083502.000000\n",
       "12 2024-03-14 09:47:23 1710409643000.000000 171962692677179.000000\n",
       "13 2024-03-14 09:47:24 1710409644000.000000 171963675651008.000000\n",
       "14 2024-03-14 09:47:25 1710409645000.000000 171964684347455.000000\n",
       "15 2024-03-14 09:47:26 1710409646000.000000 171965699268403.000000\n",
       "16 2024-03-14 09:47:27 1710409647000.000000 171966687100079.000000\n",
       "17 2024-03-14 09:47:28 1710409648000.000000 171967693623141.000000\n",
       "18 2024-03-14 09:47:29 1710409649000.000000 171968692102972.000000\n",
       "19 2024-03-14 09:47:30 1710409650000.000000 171969695449841.000000\n",
       "20 2024-03-14 09:47:31 1710409651000.000000 171970691463749.000000\n",
       "21 2024-03-14 09:47:32 1710409652000.000000 171971692127310.000000\n",
       "22 2024-03-14 09:47:33 1710409653000.000000 171972697775642.000000\n",
       "23 2024-03-14 09:47:34 1710409654000.000000 171973697105126.000000\n",
       "24 2024-03-14 09:47:35 1710409655000.000000 171974693373572.000000\n",
       "25 2024-03-14 09:47:36 1710409656000.000000 171975697508096.000000\n",
       "26 2024-03-14 09:47:37 1710409657000.000000 171976719635044.000000\n",
       "27 2024-03-14 09:47:38 1710409658000.000000 171977727980183.000000\n",
       "28 2024-03-14 09:47:39 1710409659000.000000 171978718626282.000000\n",
       "29 2024-03-14 09:47:40 1710409660000.000000 171979729643768.000000"
      ]
     },
     "execution_count": 51,
     "metadata": {},
     "output_type": "execute_result"
    }
   ],
   "source": [
    "df_fix.reset_index().iloc[10:30]"
   ]
  },
  {
   "cell_type": "code",
   "execution_count": null,
   "metadata": {},
   "outputs": [
    {
     "ename": "KeyError",
     "evalue": "'unixTime'",
     "output_type": "error",
     "traceback": [
      "\u001b[0;31m---------------------------------------------------------------------------\u001b[0m",
      "\u001b[0;31mKeyError\u001b[0m                                  Traceback (most recent call last)",
      "File \u001b[0;32m~/miniconda3/envs/mimir_env/lib/python3.11/site-packages/pandas/core/indexes/base.py:3802\u001b[0m, in \u001b[0;36mIndex.get_loc\u001b[0;34m(self, key, method, tolerance)\u001b[0m\n\u001b[1;32m   3801\u001b[0m \u001b[38;5;28;01mtry\u001b[39;00m:\n\u001b[0;32m-> 3802\u001b[0m     \u001b[38;5;28;01mreturn\u001b[39;00m \u001b[38;5;28;43mself\u001b[39;49m\u001b[38;5;241;43m.\u001b[39;49m\u001b[43m_engine\u001b[49m\u001b[38;5;241;43m.\u001b[39;49m\u001b[43mget_loc\u001b[49m\u001b[43m(\u001b[49m\u001b[43mcasted_key\u001b[49m\u001b[43m)\u001b[49m\n\u001b[1;32m   3803\u001b[0m \u001b[38;5;28;01mexcept\u001b[39;00m \u001b[38;5;167;01mKeyError\u001b[39;00m \u001b[38;5;28;01mas\u001b[39;00m err:\n",
      "File \u001b[0;32m~/miniconda3/envs/mimir_env/lib/python3.11/site-packages/pandas/_libs/index.pyx:138\u001b[0m, in \u001b[0;36mpandas._libs.index.IndexEngine.get_loc\u001b[0;34m()\u001b[0m\n",
      "File \u001b[0;32m~/miniconda3/envs/mimir_env/lib/python3.11/site-packages/pandas/_libs/index.pyx:165\u001b[0m, in \u001b[0;36mpandas._libs.index.IndexEngine.get_loc\u001b[0;34m()\u001b[0m\n",
      "File \u001b[0;32mpandas/_libs/hashtable_class_helper.pxi:5745\u001b[0m, in \u001b[0;36mpandas._libs.hashtable.PyObjectHashTable.get_item\u001b[0;34m()\u001b[0m\n",
      "File \u001b[0;32mpandas/_libs/hashtable_class_helper.pxi:5753\u001b[0m, in \u001b[0;36mpandas._libs.hashtable.PyObjectHashTable.get_item\u001b[0;34m()\u001b[0m\n",
      "\u001b[0;31mKeyError\u001b[0m: 'unixTime'",
      "\nThe above exception was the direct cause of the following exception:\n",
      "\u001b[0;31mKeyError\u001b[0m                                  Traceback (most recent call last)",
      "Cell \u001b[0;32mIn[252], line 5\u001b[0m\n\u001b[1;32m      1\u001b[0m df_fix \u001b[38;5;241m=\u001b[39m log\u001b[38;5;241m.\u001b[39mfix\u001b[38;5;241m.\u001b[39mloc[log\u001b[38;5;241m.\u001b[39mfix[\u001b[38;5;124m\"\u001b[39m\u001b[38;5;124mprovider\u001b[39m\u001b[38;5;124m\"\u001b[39m] \u001b[38;5;241m==\u001b[39m \u001b[38;5;124m'\u001b[39m\u001b[38;5;124mGPS\u001b[39m\u001b[38;5;124m'\u001b[39m]\n\u001b[1;32m      3\u001b[0m \u001b[38;5;66;03m#time_df = time_df.set_index('system_time')\u001b[39;00m\n\u001b[0;32m----> 5\u001b[0m \u001b[43mdf\u001b[49m\u001b[43m[\u001b[49m\u001b[38;5;124;43m'\u001b[39;49m\u001b[38;5;124;43munixTime\u001b[39;49m\u001b[38;5;124;43m'\u001b[39;49m\u001b[43m]\u001b[49m\u001b[38;5;66;03m# - time_df['gps_unix']\u001b[39;00m\n",
      "File \u001b[0;32m~/miniconda3/envs/mimir_env/lib/python3.11/site-packages/pandas/core/frame.py:3807\u001b[0m, in \u001b[0;36mDataFrame.__getitem__\u001b[0;34m(self, key)\u001b[0m\n\u001b[1;32m   3805\u001b[0m \u001b[38;5;28;01mif\u001b[39;00m \u001b[38;5;28mself\u001b[39m\u001b[38;5;241m.\u001b[39mcolumns\u001b[38;5;241m.\u001b[39mnlevels \u001b[38;5;241m>\u001b[39m \u001b[38;5;241m1\u001b[39m:\n\u001b[1;32m   3806\u001b[0m     \u001b[38;5;28;01mreturn\u001b[39;00m \u001b[38;5;28mself\u001b[39m\u001b[38;5;241m.\u001b[39m_getitem_multilevel(key)\n\u001b[0;32m-> 3807\u001b[0m indexer \u001b[38;5;241m=\u001b[39m \u001b[38;5;28;43mself\u001b[39;49m\u001b[38;5;241;43m.\u001b[39;49m\u001b[43mcolumns\u001b[49m\u001b[38;5;241;43m.\u001b[39;49m\u001b[43mget_loc\u001b[49m\u001b[43m(\u001b[49m\u001b[43mkey\u001b[49m\u001b[43m)\u001b[49m\n\u001b[1;32m   3808\u001b[0m \u001b[38;5;28;01mif\u001b[39;00m is_integer(indexer):\n\u001b[1;32m   3809\u001b[0m     indexer \u001b[38;5;241m=\u001b[39m [indexer]\n",
      "File \u001b[0;32m~/miniconda3/envs/mimir_env/lib/python3.11/site-packages/pandas/core/indexes/base.py:3804\u001b[0m, in \u001b[0;36mIndex.get_loc\u001b[0;34m(self, key, method, tolerance)\u001b[0m\n\u001b[1;32m   3802\u001b[0m     \u001b[38;5;28;01mreturn\u001b[39;00m \u001b[38;5;28mself\u001b[39m\u001b[38;5;241m.\u001b[39m_engine\u001b[38;5;241m.\u001b[39mget_loc(casted_key)\n\u001b[1;32m   3803\u001b[0m \u001b[38;5;28;01mexcept\u001b[39;00m \u001b[38;5;167;01mKeyError\u001b[39;00m \u001b[38;5;28;01mas\u001b[39;00m err:\n\u001b[0;32m-> 3804\u001b[0m     \u001b[38;5;28;01mraise\u001b[39;00m \u001b[38;5;167;01mKeyError\u001b[39;00m(key) \u001b[38;5;28;01mfrom\u001b[39;00m \u001b[38;5;21;01merr\u001b[39;00m\n\u001b[1;32m   3805\u001b[0m \u001b[38;5;28;01mexcept\u001b[39;00m \u001b[38;5;167;01mTypeError\u001b[39;00m:\n\u001b[1;32m   3806\u001b[0m     \u001b[38;5;66;03m# If we have a listlike key, _check_indexing_error will raise\u001b[39;00m\n\u001b[1;32m   3807\u001b[0m     \u001b[38;5;66;03m#  InvalidIndexError. Otherwise we fall through and re-raise\u001b[39;00m\n\u001b[1;32m   3808\u001b[0m     \u001b[38;5;66;03m#  the TypeError.\u001b[39;00m\n\u001b[1;32m   3809\u001b[0m     \u001b[38;5;28mself\u001b[39m\u001b[38;5;241m.\u001b[39m_check_indexing_error(key)\n",
      "\u001b[0;31mKeyError\u001b[0m: 'unixTime'"
     ]
    }
   ],
   "source": [
    "df_fix = log.fix.loc[log.fix[\"provider\"] == 'GPS']\n",
    "\n",
    "#time_df = time_df.set_index('system_time')\n",
    "\n",
    "df['unixTime']# - time_df['gps_unix']"
   ]
  },
  {
   "cell_type": "code",
   "execution_count": null,
   "metadata": {},
   "outputs": [
    {
     "data": {
      "text/plain": [
       "<Axes: >"
      ]
     },
     "execution_count": 40,
     "metadata": {},
     "output_type": "execute_result"
    },
    {
     "data": {
      "image/png": "[encoded data removed]",
      "text/plain": [
       "<Figure size 640x480 with 1 Axes>"
      ]
     },
     "metadata": {},
     "output_type": "display_data"
    }
   ],
   "source": [
    "df = log.fix[log.fix[\"provider\"] == 'GPS']\n",
    "df = df.reset_index()\n",
    "unixtime = df['unixTime'].diff()\n",
    "elapsedTime = df['elapsedTime'].diff()/1e6\n",
    "(unixtime  - elapsedTime).plot(ylim=(-10, 10))"
   ]
  },
  {
   "cell_type": "code",
   "execution_count": null,
   "metadata": {},
   "outputs": [
    {
     "ename": "KeyError",
     "evalue": "'ChipsetElapsedRealtimeNanos'",
     "output_type": "error",
     "traceback": [
      "\u001b[0;31m---------------------------------------------------------------------------\u001b[0m",
      "\u001b[0;31mKeyError\u001b[0m                                  Traceback (most recent call last)",
      "File \u001b[0;32m~/miniconda3/envs/mimir_env/lib/python3.11/site-packages/pandas/core/indexes/base.py:3802\u001b[0m, in \u001b[0;36mIndex.get_loc\u001b[0;34m(self, key, method, tolerance)\u001b[0m\n\u001b[1;32m   3801\u001b[0m \u001b[38;5;28;01mtry\u001b[39;00m:\n\u001b[0;32m-> 3802\u001b[0m     \u001b[38;5;28;01mreturn\u001b[39;00m \u001b[38;5;28;43mself\u001b[39;49m\u001b[38;5;241;43m.\u001b[39;49m\u001b[43m_engine\u001b[49m\u001b[38;5;241;43m.\u001b[39;49m\u001b[43mget_loc\u001b[49m\u001b[43m(\u001b[49m\u001b[43mcasted_key\u001b[49m\u001b[43m)\u001b[49m\n\u001b[1;32m   3803\u001b[0m \u001b[38;5;28;01mexcept\u001b[39;00m \u001b[38;5;167;01mKeyError\u001b[39;00m \u001b[38;5;28;01mas\u001b[39;00m err:\n",
      "File \u001b[0;32m~/miniconda3/envs/mimir_env/lib/python3.11/site-packages/pandas/_libs/index.pyx:138\u001b[0m, in \u001b[0;36mpandas._libs.index.IndexEngine.get_loc\u001b[0;34m()\u001b[0m\n",
      "File \u001b[0;32m~/miniconda3/envs/mimir_env/lib/python3.11/site-packages/pandas/_libs/index.pyx:165\u001b[0m, in \u001b[0;36mpandas._libs.index.IndexEngine.get_loc\u001b[0;34m()\u001b[0m\n",
      "File \u001b[0;32mpandas/_libs/hashtable_class_helper.pxi:5745\u001b[0m, in \u001b[0;36mpandas._libs.hashtable.PyObjectHashTable.get_item\u001b[0;34m()\u001b[0m\n",
      "File \u001b[0;32mpandas/_libs/hashtable_class_helper.pxi:5753\u001b[0m, in \u001b[0;36mpandas._libs.hashtable.PyObjectHashTable.get_item\u001b[0;34m()\u001b[0m\n",
      "\u001b[0;31mKeyError\u001b[0m: 'ChipsetElapsedRealtimeNanos'",
      "\nThe above exception was the direct cause of the following exception:\n",
      "\u001b[0;31mKeyError\u001b[0m                                  Traceback (most recent call last)",
      "Cell \u001b[0;32mIn[41], line 12\u001b[0m\n\u001b[1;32m      9\u001b[0m unixtime \u001b[38;5;241m=\u001b[39m df[\u001b[38;5;124m'\u001b[39m\u001b[38;5;124mtimestamp\u001b[39m\u001b[38;5;124m'\u001b[39m]\u001b[38;5;241m.\u001b[39mdiff() \u001b[38;5;241m-\u001b[39m \u001b[38;5;241m1\u001b[39m\n\u001b[1;32m     10\u001b[0m unixtime\u001b[38;5;241m.\u001b[39mplot()\n\u001b[0;32m---> 12\u001b[0m chispsetTime \u001b[38;5;241m=\u001b[39m \u001b[43mdf\u001b[49m\u001b[43m[\u001b[49m\u001b[38;5;124;43m'\u001b[39;49m\u001b[38;5;124;43mChipsetElapsedRealtimeNanos\u001b[39;49m\u001b[38;5;124;43m'\u001b[39;49m\u001b[43m]\u001b[49m\u001b[38;5;241m.\u001b[39mdiff() \u001b[38;5;241m/\u001b[39m \u001b[38;5;241m1e9\u001b[39m \u001b[38;5;241m-\u001b[39m \u001b[38;5;241m1\u001b[39m\n\u001b[1;32m     13\u001b[0m chispsetTime\u001b[38;5;241m.\u001b[39mplot() \n\u001b[1;32m     15\u001b[0m timeNanos \u001b[38;5;241m=\u001b[39m df[\u001b[38;5;124m'\u001b[39m\u001b[38;5;124mTimeNanos\u001b[39m\u001b[38;5;124m'\u001b[39m] \u001b[38;5;241m-\u001b[39m (df[\u001b[38;5;124m'\u001b[39m\u001b[38;5;124mFullBiasNanos\u001b[39m\u001b[38;5;124m'\u001b[39m] \u001b[38;5;241m+\u001b[39m df[\u001b[38;5;124m'\u001b[39m\u001b[38;5;124mBiasNanos\u001b[39m\u001b[38;5;124m'\u001b[39m])\n",
      "File \u001b[0;32m~/miniconda3/envs/mimir_env/lib/python3.11/site-packages/pandas/core/frame.py:3807\u001b[0m, in \u001b[0;36mDataFrame.__getitem__\u001b[0;34m(self, key)\u001b[0m\n\u001b[1;32m   3805\u001b[0m \u001b[38;5;28;01mif\u001b[39;00m \u001b[38;5;28mself\u001b[39m\u001b[38;5;241m.\u001b[39mcolumns\u001b[38;5;241m.\u001b[39mnlevels \u001b[38;5;241m>\u001b[39m \u001b[38;5;241m1\u001b[39m:\n\u001b[1;32m   3806\u001b[0m     \u001b[38;5;28;01mreturn\u001b[39;00m \u001b[38;5;28mself\u001b[39m\u001b[38;5;241m.\u001b[39m_getitem_multilevel(key)\n\u001b[0;32m-> 3807\u001b[0m indexer \u001b[38;5;241m=\u001b[39m \u001b[38;5;28;43mself\u001b[39;49m\u001b[38;5;241;43m.\u001b[39;49m\u001b[43mcolumns\u001b[49m\u001b[38;5;241;43m.\u001b[39;49m\u001b[43mget_loc\u001b[49m\u001b[43m(\u001b[49m\u001b[43mkey\u001b[49m\u001b[43m)\u001b[49m\n\u001b[1;32m   3808\u001b[0m \u001b[38;5;28;01mif\u001b[39;00m is_integer(indexer):\n\u001b[1;32m   3809\u001b[0m     indexer \u001b[38;5;241m=\u001b[39m [indexer]\n",
      "File \u001b[0;32m~/miniconda3/envs/mimir_env/lib/python3.11/site-packages/pandas/core/indexes/base.py:3804\u001b[0m, in \u001b[0;36mIndex.get_loc\u001b[0;34m(self, key, method, tolerance)\u001b[0m\n\u001b[1;32m   3802\u001b[0m     \u001b[38;5;28;01mreturn\u001b[39;00m \u001b[38;5;28mself\u001b[39m\u001b[38;5;241m.\u001b[39m_engine\u001b[38;5;241m.\u001b[39mget_loc(casted_key)\n\u001b[1;32m   3803\u001b[0m \u001b[38;5;28;01mexcept\u001b[39;00m \u001b[38;5;167;01mKeyError\u001b[39;00m \u001b[38;5;28;01mas\u001b[39;00m err:\n\u001b[0;32m-> 3804\u001b[0m     \u001b[38;5;28;01mraise\u001b[39;00m \u001b[38;5;167;01mKeyError\u001b[39;00m(key) \u001b[38;5;28;01mfrom\u001b[39;00m \u001b[38;5;21;01merr\u001b[39;00m\n\u001b[1;32m   3805\u001b[0m \u001b[38;5;28;01mexcept\u001b[39;00m \u001b[38;5;167;01mTypeError\u001b[39;00m:\n\u001b[1;32m   3806\u001b[0m     \u001b[38;5;66;03m# If we have a listlike key, _check_indexing_error will raise\u001b[39;00m\n\u001b[1;32m   3807\u001b[0m     \u001b[38;5;66;03m#  InvalidIndexError. Otherwise we fall through and re-raise\u001b[39;00m\n\u001b[1;32m   3808\u001b[0m     \u001b[38;5;66;03m#  the TypeError.\u001b[39;00m\n\u001b[1;32m   3809\u001b[0m     \u001b[38;5;28mself\u001b[39m\u001b[38;5;241m.\u001b[39m_check_indexing_error(key)\n",
      "\u001b[0;31mKeyError\u001b[0m: 'ChipsetElapsedRealtimeNanos'"
     ]
    },
    {
     "data": {
      "image/png": "[encoded data removed]",
      "text/plain": [
       "<Figure size 640x480 with 1 Axes>"
      ]
     },
     "metadata": {},
     "output_type": "display_data"
    }
   ],
   "source": [
    "df = log.raw\n",
    "\n",
    "# Keep only one GNSS time \n",
    "df = df.drop_duplicates(['TimeNanos'], keep='first')\n",
    "\n",
    "# Removes rows with GNSS bias clock error\n",
    "df = df.drop(df[df['BiasUncertaintyNanos'] > 100].index)\n",
    "\n",
    "unixtime = df['timestamp'].diff() - 1\n",
    "unixtime.plot()\n",
    "\n",
    "chispsetTime = df['ChipsetElapsedRealtimeNanos'].diff() / 1e9 - 1\n",
    "chispsetTime.plot() \n",
    "\n",
    "timeNanos = df['TimeNanos'] - (df['FullBiasNanos'] + df['BiasNanos'])\n",
    "timeNanos = timeNanos.diff()/1e9 - 1\n",
    "timeNanos.plot(ylim=(-0.25, 0.25))"
   ]
  }
 ],
 "metadata": {
  "kernelspec": {
   "display_name": "mimir_env",
   "language": "python",
   "name": "python3"
  },
  "language_info": {
   "codemirror_mode": {
    "name": "ipython",
    "version": 3
   },
   "file_extension": ".py",
   "mimetype": "text/x-python",
   "name": "python",
   "nbconvert_exporter": "python",
   "pygments_lexer": "ipython3",
   "version": "3.11.4"
  }
 },
 "nbformat": 4,
 "nbformat_minor": 2
}
