{
 "cells": [
  {
   "cell_type": "code",
   "execution_count": 18,
   "metadata": {},
   "outputs": [
    {
     "data": {
      "text/plain": [
       "array([[              nan,               nan,               nan, ...,\n",
       "                      nan,               nan,               nan],\n",
       "       [              nan,               nan,               nan, ...,\n",
       "                      nan,               nan,               nan],\n",
       "       [              nan,               nan,               nan, ...,\n",
       "                      nan,               nan,               nan],\n",
       "       ...,\n",
       "       [              nan,               nan, 27245841.65730489, ...,\n",
       "                      nan,               nan,               nan],\n",
       "       [              nan,               nan, 27245855.28808877, ...,\n",
       "                      nan,               nan,               nan],\n",
       "       [              nan,               nan, 27245868.56965889, ...,\n",
       "                      nan,               nan,               nan]])"
      ]
     },
     "execution_count": 18,
     "metadata": {},
     "output_type": "execute_result"
    }
   ],
   "source": [
    "import scipy.io\n",
    "import numpy as np \n",
    "mat = scipy.io.loadmat('GNSS.mat')\n",
    "np.squeeze(mat['GNSS']['num_sat_gps'][0][0])\n",
    "np.squeeze(mat['GNSS']['range_1'][0][0])"
   ]
  }
 ],
 "metadata": {
  "kernelspec": {
   "display_name": "mimir_env",
   "language": "python",
   "name": "python3"
  },
  "language_info": {
   "codemirror_mode": {
    "name": "ipython",
    "version": 3
   },
   "file_extension": ".py",
   "mimetype": "text/x-python",
   "name": "python",
   "nbconvert_exporter": "python",
   "pygments_lexer": "ipython3",
   "version": "3.11.4"
  }
 },
 "nbformat": 4,
 "nbformat_minor": 2
}
